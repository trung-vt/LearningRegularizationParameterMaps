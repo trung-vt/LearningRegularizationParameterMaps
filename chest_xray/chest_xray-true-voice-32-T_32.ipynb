{
 "cells": [
  {
   "cell_type": "markdown",
   "metadata": {},
   "source": [
    "### Imports"
   ]
  },
  {
   "cell_type": "code",
   "execution_count": 1,
   "metadata": {},
   "outputs": [],
   "source": [
    "first_time_importing_torch = True"
   ]
  },
  {
   "cell_type": "code",
   "execution_count": 2,
   "metadata": {},
   "outputs": [
    {
     "name": "stdout",
     "output_type": "stream",
     "text": [
      "Importing torch ...\n",
      "Importing torch took 12.667601823806763 seconds\n"
     ]
    }
   ],
   "source": [
    "import os\n",
    "\n",
    "# NOTE: Importing torch the first time will always take a long time!\n",
    "import time\n",
    "# NOTE: Importing torch the first time will always take a long time!\n",
    "if first_time_importing_torch:\n",
    "    print(f\"Importing torch ...\")\n",
    "    import_torch_start_time = time.time() \n",
    "import torch\n",
    "if first_time_importing_torch:\n",
    "    import_torch_end_time = time.time()\n",
    "    print(f\"Importing torch took {import_torch_end_time - import_torch_start_time} seconds\")\n",
    "    first_time_importing_torch = False\n",
    "\n",
    "import torch.nn as nn\n",
    "from torch.utils.data import WeightedRandomSampler\n",
    "import torch.nn.functional as F\n",
    "from torch.utils.data import Dataset\n",
    "\n",
    "# from torchmetrics.image import StructuralSimilarityIndexMeasure, PeakSignalNoiseRatio\n",
    "\n",
    "from skimage.metrics import structural_similarity\n",
    "# from skimage.metrics import peak_signal_noise_ratio\n",
    "\n",
    "from functools import partial\n",
    "\n",
    "import numpy as np\n",
    "import matplotlib.pyplot as plt\n",
    "import datetime\n",
    "\n",
    "from PIL import Image\n",
    "\n",
    "# Optional\n",
    "from tqdm import tqdm # progress bar\n",
    "\n",
    "import wandb # Optional, for logging\n",
    "\n",
    "import json\n",
    "import yaml"
   ]
  },
  {
   "cell_type": "code",
   "execution_count": 3,
   "metadata": {},
   "outputs": [
    {
     "name": "stdout",
     "output_type": "stream",
     "text": [
      "/mnt/c/Users/t/Documents/GIT/DISSERTATION/LearningRegularizationParameterMaps/venv/bin/python\n",
      "Torch version: 2.3.0+cu121\n",
      "Path: /mnt/c/Users/t/Documents/GIT/DISSERTATION/LearningRegularizationParameterMaps/chest_xray\n"
     ]
    }
   ],
   "source": [
    "!which python\n",
    "print(f\"Torch version: {torch.__version__}\")\n",
    "print(f\"Path: {os.getcwd()}\")"
   ]
  },
  {
   "cell_type": "code",
   "execution_count": 4,
   "metadata": {},
   "outputs": [],
   "source": [
    "# Suppress warnings\n",
    "import warnings\n",
    "warnings.filterwarnings(\"ignore\")"
   ]
  },
  {
   "cell_type": "code",
   "execution_count": 5,
   "metadata": {},
   "outputs": [],
   "source": [
    "# DISABLING_TESTS = False\n",
    "DISABLING_TESTS = True   # Disable tests for less output"
   ]
  },
  {
   "cell_type": "markdown",
   "metadata": {},
   "source": [
    "### Use GPU"
   ]
  },
  {
   "cell_type": "code",
   "execution_count": 6,
   "metadata": {},
   "outputs": [
    {
     "name": "stdout",
     "output_type": "stream",
     "text": [
      "Using NVIDIA GeForce RTX 4090\n"
     ]
    }
   ],
   "source": [
    "if torch.cuda.is_available():\n",
    "    DEVICE = torch.device(\"cuda\")\n",
    "    print(f\"Using {torch.cuda.get_device_name(0)}\")\n",
    "elif torch.backends.mps.is_available():\n",
    "    DEVICE = torch.device(\"mps\")\n",
    "    print(f\"Using {torch.backends.mps.get_device_name(0)} with MPS\")\n",
    "else:\n",
    "    DEVICE = torch.device(\"cpu\")\n",
    "    print(\"Using CPU\")\n",
    "\n",
    "torch.set_default_device(DEVICE)"
   ]
  },
  {
   "cell_type": "markdown",
   "metadata": {},
   "source": [
    "### CONFIG"
   ]
  },
  {
   "cell_type": "code",
   "execution_count": 7,
   "metadata": {},
   "outputs": [],
   "source": [
    "SIDD_DATA_PATH = \"../data/dyn_img_static/tmp/SIDD_Small_sRGB_Only/Data\""
   ]
  },
  {
   "cell_type": "code",
   "execution_count": 8,
   "metadata": {},
   "outputs": [],
   "source": [
    "CHEST_XRAY_BASE_DATA_PATH = \"../data/chest_xray\""
   ]
  },
  {
   "cell_type": "code",
   "execution_count": 9,
   "metadata": {},
   "outputs": [
    {
     "name": "stdout",
     "output_type": "stream",
     "text": [
      "{'project': 'chest_xray', 'dataset': '../data/chest_xray', 'train_data_path': '../data/chest_xray/train/NORMAL', 'val_data_path': '../data/chest_xray/val/NORMAL', 'test_data_path': '../data/chest_xray/test/NORMAL', 'train_num_samples': 200, 'val_num_samples': 8, 'test_num_samples': 1, 'resize_square': 256, 'min_sigma': 0.1, 'max_sigma': 0.5, 'batch_size': 1, 'random_seed': 42, 'architecture': 'UNET-PDHG', 'in_channels': 1, 'out_channels': 2, 'init_filters': 32, 'n_blocks': 3, 'activation': 'LeakyReLU', 'downsampling_kernel': (2, 2, 1), 'downsampling_mode': 'max', 'upsampling_kernel': (2, 2, 1), 'upsampling_mode': 'linear_interpolation', 'optimizer': 'Adam', 'learning_rate': 0.0001, 'loss_function': 'MSELoss', 'up_bound': 0, 'T': 32, 'epochs': 10000, 'device': 'cuda:0', 'wandb_mode': 'online', 'save_epoch_wandb': 20, 'save_epoch_local': 2, 'save_dir': 'tmp_2'}\n"
     ]
    }
   ],
   "source": [
    "def get_config():\n",
    "    CHEST_XRAY_BASE_DATA_PATH = \"../data/chest_xray\"\n",
    "    return {\n",
    "        \"project\": \"chest_xray\",\n",
    "        \"dataset\": CHEST_XRAY_BASE_DATA_PATH,\n",
    "        \"train_data_path\": f\"{CHEST_XRAY_BASE_DATA_PATH}/train/NORMAL\",\n",
    "        \"val_data_path\": f\"{CHEST_XRAY_BASE_DATA_PATH}/val/NORMAL\",\n",
    "        \"test_data_path\": f\"{CHEST_XRAY_BASE_DATA_PATH}/test/NORMAL\",\n",
    "        \"train_num_samples\": 200,\n",
    "        \"val_num_samples\": 8,\n",
    "        \"test_num_samples\": 1,\n",
    "\n",
    "        # \"patch\": 512,\n",
    "        # \"stride\": 512,\n",
    "        \"resize_square\": 256,\n",
    "        \"min_sigma\": 0.1,\n",
    "        \"max_sigma\": 0.5,\n",
    "        \"batch_size\": 1,\n",
    "        \"random_seed\": 42,\n",
    "\n",
    "        \"architecture\": \"UNET-PDHG\",\n",
    "        \"in_channels\": 1,\n",
    "        \"out_channels\": 2,\n",
    "        \"init_filters\": 32,\n",
    "        \"n_blocks\": 3,\n",
    "        \"activation\": \"LeakyReLU\",\n",
    "        \"downsampling_kernel\": (2, 2, 1),\n",
    "        \"downsampling_mode\": \"max\",\n",
    "        \"upsampling_kernel\": (2, 2, 1),\n",
    "        \"upsampling_mode\": \"linear_interpolation\",\n",
    "\n",
    "        \"optimizer\": \"Adam\",\n",
    "        \"learning_rate\": 1e-4,\n",
    "        \"loss_function\": \"MSELoss\",\n",
    "\n",
    "        # \"up_bound\": 0.5,\n",
    "        \"up_bound\": 0,\n",
    "        \"T\": 32,\n",
    "\n",
    "        \"epochs\": 10_000,\n",
    "        \"device\": \"cuda:0\",\n",
    "\n",
    "        \"wandb_mode\": \"online\",\n",
    "        \"save_epoch_wandb\": 20,\n",
    "        \"save_epoch_local\": 2,\n",
    "        \"save_dir\": \"tmp_2\",\n",
    "    }\n",
    "\n",
    "print(get_config())"
   ]
  },
  {
   "cell_type": "markdown",
   "metadata": {},
   "source": [
    "------\n",
    "\n",
    "### Import the image and transform the data"
   ]
  },
  {
   "cell_type": "markdown",
   "metadata": {},
   "source": [
    "#### Download the data"
   ]
  },
  {
   "cell_type": "code",
   "execution_count": 10,
   "metadata": {},
   "outputs": [],
   "source": [
    "# # REMEMBER TO COMMENT THIS OUT IF THE DATA HAS BEEN DOWNLOADED!\n",
    "# !wget https://competitions.codalab.org/my/datasets/download/a26784fe-cf33-48c2-b61f-94b299dbc0f2\n",
    "# !unzip \"a26784fe-cf33-48c2-b61f-94b299dbc0f2\" -d ."
   ]
  },
  {
   "cell_type": "markdown",
   "metadata": {},
   "source": [
    "#### Load SIDD images"
   ]
  },
  {
   "cell_type": "code",
   "execution_count": 11,
   "metadata": {},
   "outputs": [],
   "source": [
    "def get_npy_file(sample_path: str, scale_factor: float) -> np.ndarray:\t\t\t\n",
    "    scale_factor_str = str(scale_factor).replace('.','_')\n",
    "    xf = np.load(os.path.join(sample_path, f\"xf_scale_factor{scale_factor_str}.npy\"))\n",
    "    xf = torch.tensor(xf, dtype=torch.float)\n",
    "    xf = xf.unsqueeze(0) / 255\n",
    "    return xf"
   ]
  },
  {
   "cell_type": "code",
   "execution_count": 12,
   "metadata": {},
   "outputs": [],
   "source": [
    "# TODO: CHANGE THIS TO YOUR PATH\n",
    "# NOTE: Windows uses \\\\ instead of /\n",
    "def load_images_SIDD(ids: list, take_npy_files: bool) -> list:\n",
    "    data_path = SIDD_DATA_PATH\n",
    "    k = 0\n",
    "\n",
    "    images = []\n",
    "\n",
    "    for folder in os.listdir(data_path):\n",
    "        img_id = folder[:4]\t# The first 4 characters of folder name is the image id (0001, 0002, ..., 0200)\n",
    "        if img_id not in ids:\n",
    "            continue\n",
    "        k += 1\n",
    "        print(f'loading image id {img_id}, {k}/{len(ids)}')\n",
    "\n",
    "        files_path = os.path.join(data_path, folder)\n",
    "\n",
    "        # if take_npy_files:\n",
    "        #     xf = get_npy_file(files_path, scale_factor)\n",
    "        #     images.append(xf)\n",
    "        #     continue\n",
    "\n",
    "        # Use only the ground truth images\n",
    "        file = \"GT_SRGB_010.PNG\"  # GT = Ground Truth\n",
    "\n",
    "        image = Image.open(os.path.join(files_path, file))\n",
    "        assert image.mode == 'RGB', f\"Image mode is not RGB: {image.mode}\" # For now, expect RGB images\n",
    "\n",
    "        images.append(image)\n",
    "\n",
    "    return images"
   ]
  },
  {
   "cell_type": "code",
   "execution_count": 13,
   "metadata": {},
   "outputs": [],
   "source": [
    "def test_load_images_SIDD():\n",
    "    if DISABLING_TESTS: return\n",
    "    for img in load_images_SIDD([\"0065\"], False):\n",
    "        print(img.size)\n",
    "        plt.imshow(img)\n",
    "\n",
    "test_load_images_SIDD()"
   ]
  },
  {
   "cell_type": "markdown",
   "metadata": {},
   "source": [
    "#### Load Chest X-ray images"
   ]
  },
  {
   "cell_type": "code",
   "execution_count": 14,
   "metadata": {},
   "outputs": [],
   "source": [
    "# TODO: CHANGE THIS TO YOUR PATH\n",
    "# NOTE: Windows uses \\\\ instead of /\n",
    "def load_images_chest_xray(data_path: str, ids: list) -> list:\n",
    "    files = os.listdir(data_path)\n",
    "    jpeg_files = [f for f in files if f.endswith(\".jpeg\")]\n",
    "\n",
    "    images = []\n",
    "    for id in tqdm(ids):\n",
    "        if id >= len(jpeg_files): continue\n",
    "        # print(f\"Loading image {id} from {data_path}\")\n",
    "        image = Image.open(os.path.join(data_path, jpeg_files[id]))\n",
    "        images.append(image)\n",
    "    \n",
    "    return images"
   ]
  },
  {
   "cell_type": "code",
   "execution_count": 15,
   "metadata": {},
   "outputs": [],
   "source": [
    "def test_load_images_chest_xray(stage=\"train\", label=\"NORMAL\"):\n",
    "    if DISABLING_TESTS: return\n",
    "    for img in load_images_chest_xray(f\"{CHEST_XRAY_BASE_DATA_PATH}/{stage}/{label}\", [0]):\n",
    "        print(img.size)\n",
    "        plt.imshow(img, cmap='gray')\n",
    "    plt.show();\n",
    "\n",
    "test_load_images_chest_xray()"
   ]
  },
  {
   "cell_type": "markdown",
   "metadata": {},
   "source": [
    "------\n",
    "\n",
    "#### Convert image to grayscale"
   ]
  },
  {
   "cell_type": "code",
   "execution_count": 16,
   "metadata": {},
   "outputs": [],
   "source": [
    "def convert_to_grayscale(image: Image) -> Image:\n",
    "    return image.convert('L')"
   ]
  },
  {
   "cell_type": "code",
   "execution_count": 17,
   "metadata": {},
   "outputs": [],
   "source": [
    "def test_convert_to_grayscale():\n",
    "    if DISABLING_TESTS: return\n",
    "    # for img in load_images_SIDD([\"0065\"], False):\n",
    "    for img in load_images_chest_xray(f\"{CHEST_XRAY_BASE_DATA_PATH}/train/NORMAL\", [0]):\n",
    "        img = convert_to_grayscale(img)\n",
    "        plt.imshow(img, cmap='gray') # cmap='gray' for proper display in black and white. It does not convert the image to grayscale.\n",
    "\n",
    "test_convert_to_grayscale()"
   ]
  },
  {
   "cell_type": "markdown",
   "metadata": {},
   "source": [
    "#### Transform image"
   ]
  },
  {
   "cell_type": "code",
   "execution_count": 18,
   "metadata": {},
   "outputs": [],
   "source": [
    "def crop_to_square(image: Image) -> Image:\n",
    "    width, height = image.size\n",
    "    new_size = min(width, height)\n",
    "    left = (width - new_size) / 2\n",
    "    top = (height - new_size) / 2\n",
    "    right = (width + new_size) / 2\n",
    "    bottom = (height + new_size) / 2\n",
    "    return image.crop((left, top, right, bottom))"
   ]
  },
  {
   "cell_type": "code",
   "execution_count": 19,
   "metadata": {},
   "outputs": [],
   "source": [
    "def test_crop_to_square():\n",
    "    if DISABLING_TESTS: return\n",
    "    # for img in load_images_SIDD([\"0083\"], False):\n",
    "    for img in load_images_chest_xray(f\"{CHEST_XRAY_BASE_DATA_PATH}/train/NORMAL\", [0]):\n",
    "        plt.imshow(img, cmap='gray')\n",
    "        plt.show();\n",
    "        img = crop_to_square(img)\n",
    "        plt.imshow(img, cmap='gray')\n",
    "        plt.show();\n",
    "\n",
    "test_crop_to_square()"
   ]
  },
  {
   "cell_type": "code",
   "execution_count": 20,
   "metadata": {},
   "outputs": [],
   "source": [
    "def crop_to_square_and_resize(image: Image, side_len: int) -> Image:\n",
    "    image = crop_to_square(image)\n",
    "    return image.resize(size=(side_len, side_len))"
   ]
  },
  {
   "cell_type": "code",
   "execution_count": 21,
   "metadata": {},
   "outputs": [],
   "source": [
    "def test_crop_to_square_and_resize():\n",
    "    if DISABLING_TESTS: return\n",
    "    # for img in load_images_SIDD([\"0083\"], False):\n",
    "    for img in load_images_chest_xray(f\"{CHEST_XRAY_BASE_DATA_PATH}/train/NORMAL\", [0]):\n",
    "        plt.imshow(img, cmap='gray')\n",
    "        plt.show();\n",
    "        img = crop_to_square_and_resize(img, 120)\n",
    "        print(img.size)\n",
    "        plt.imshow(img, cmap='gray') # cmap='gray' for proper display in black and white. It does not convert the image to grayscale.\n",
    "        plt.show();\n",
    "\n",
    "test_crop_to_square_and_resize()"
   ]
  },
  {
   "cell_type": "markdown",
   "metadata": {},
   "source": [
    "#### Convert to numpy array"
   ]
  },
  {
   "cell_type": "code",
   "execution_count": 22,
   "metadata": {},
   "outputs": [],
   "source": [
    "def convert_to_numpy(image):\n",
    "    image_data = np.asarray(image)\n",
    "    return image_data"
   ]
  },
  {
   "cell_type": "code",
   "execution_count": 23,
   "metadata": {},
   "outputs": [],
   "source": [
    "def test_convert_to_numpy():\n",
    "    if DISABLING_TESTS: return\n",
    "    # for img in load_images_SIDD([\"0083\"], False):\n",
    "    for img in load_images_chest_xray(f\"{CHEST_XRAY_BASE_DATA_PATH}/train/NORMAL\", [0]):\n",
    "        img = convert_to_grayscale(img)\n",
    "        print(f\"Before conversion: {type(img)}\")\n",
    "        image_data = convert_to_numpy(img)\n",
    "        print(f\"After conversion: {type(image_data)}\")\n",
    "        # plt.imshow still works with numpy array\n",
    "        plt.imshow(image_data, cmap='gray')\n",
    "\n",
    "test_convert_to_numpy()"
   ]
  },
  {
   "cell_type": "markdown",
   "metadata": {},
   "source": [
    "#### Convert to tensor\n",
    "\n",
    "For efficient computation on GPU"
   ]
  },
  {
   "cell_type": "code",
   "execution_count": 24,
   "metadata": {},
   "outputs": [],
   "source": [
    "def convert_to_tensor_4D(image_numpy):\n",
    "    # xf = []\n",
    "    # xf.append(image_numpy)\n",
    "    # xf = np.stack(xf, axis=-1)\n",
    "    # xf = torch.tensor(xf, dtype=torch.float)\n",
    "    xf = torch.tensor(image_numpy, dtype=torch.float)\n",
    "    xf = xf.unsqueeze(0)\n",
    "    xf = xf.unsqueeze(-1)\n",
    "    xf = xf / 255 # Normalise from [0, 255] to [0, 1]\n",
    "    return xf"
   ]
  },
  {
   "cell_type": "code",
   "execution_count": 25,
   "metadata": {},
   "outputs": [],
   "source": [
    "def test_convert_to_tensor():\n",
    "    if DISABLING_TESTS: return\n",
    "    # for image in load_images_SIDD([\"0083\"], False):\n",
    "    for image in load_images_chest_xray(f\"{CHEST_XRAY_BASE_DATA_PATH}/train/NORMAL\", [0]):\n",
    "        image = convert_to_grayscale(image)\n",
    "        image_numpy = convert_to_numpy(image)\n",
    "        image_tensor_4D = convert_to_tensor_4D(image_numpy)\n",
    "        print(image_tensor_4D.size())\n",
    "        plt.imshow(image_tensor_4D.squeeze(0).to(\"cpu\"), cmap='gray')\n",
    "\n",
    "\n",
    "test_convert_to_tensor()"
   ]
  },
  {
   "cell_type": "markdown",
   "metadata": {},
   "source": [
    "#### Add synthetic noise\n",
    "\n",
    "<!-- artificial Gaussian noise\n",
    "\n",
    "Noise can occur in reality.\n",
    "\n",
    "It is difficult to obtain a pair of clean and noisy images of one exact same scene.\n",
    "\n",
    "For training, it is common to add synthetic noise to an image that is considered clean and then try to reconstruct it.\n",
    "\n",
    "There are many types of noise and different ways to add noise. We can add salt-and-pepper noise. (?)We can add more noise in some parts and less in others. We can use a combination of noise-adding strategies to build more robust models.\n",
    "\n",
    "For our purpose, we will focus on Gaussian noise. This is sufficient for most cases. \n",
    "\n",
    "(?) We will add noise with the same probability for each pixel (not using the strategies of focusing on certain regions) -->"
   ]
  },
  {
   "cell_type": "code",
   "execution_count": 26,
   "metadata": {},
   "outputs": [],
   "source": [
    "def get_variable_noise(sigma_min, sigma_max):\n",
    "    return sigma_min + torch.rand(1) * (sigma_max - sigma_min)\n",
    "\n",
    "def add_noise(xf: torch.tensor, sigma) -> torch.tensor:\n",
    "    std = torch.std(xf)\n",
    "    mu = torch.mean(xf)\n",
    "\n",
    "    x_centred = (xf  - mu) / std\n",
    "\n",
    "    x_centred += sigma * torch.randn(xf.shape, dtype = xf.dtype)\n",
    "\n",
    "    xnoise = std * x_centred + mu\n",
    "\n",
    "    del std, mu, x_centred\n",
    "\n",
    "    return xnoise"
   ]
  },
  {
   "cell_type": "code",
   "execution_count": 27,
   "metadata": {},
   "outputs": [],
   "source": [
    "def test_add_noise():\n",
    "    if DISABLING_TESTS: return\n",
    "    # for rgb_image in load_images_SIDD([\"0083\"], False):\n",
    "    for rgb_image in load_images_chest_xray(f\"{CHEST_XRAY_BASE_DATA_PATH}/train/NORMAL\", [0]):\n",
    "        grayscale_image = convert_to_grayscale(rgb_image)\n",
    "        grayscale_image = crop_to_square_and_resize(grayscale_image, 120)\n",
    "        print(f\"grayscale_image.size: {grayscale_image.size}\")\n",
    "        image_numpy = convert_to_numpy(grayscale_image)\n",
    "        image_tensor_4D = convert_to_tensor_4D(image_numpy)\n",
    "        constant_noise_img = add_noise(image_tensor_4D, sigma=0.1)\n",
    "        variable_noise_img = add_noise(image_tensor_4D, get_variable_noise(\n",
    "            sigma_min=0.1, sigma_max=0.2))\n",
    "        plt.imshow(grayscale_image, cmap='gray')\n",
    "        plt.show();\n",
    "        plt.imshow(constant_noise_img.squeeze(0).to(\"cpu\"), cmap='gray')\n",
    "        plt.show();\n",
    "        plt.imshow(variable_noise_img.squeeze(0).to(\"cpu\"), cmap='gray')\n",
    "        plt.show();\n",
    "\n",
    "    with torch.no_grad():\n",
    "        torch.cuda.empty_cache()\n",
    "        \n",
    "test_add_noise()"
   ]
  },
  {
   "cell_type": "markdown",
   "metadata": {},
   "source": [
    "------\n",
    "\n",
    "### Calculate PSNR\n",
    "\n",
    "PSNR is a common metrics for noisy image.\n",
    "\n",
    "Compare before and after adding synthetic noise"
   ]
  },
  {
   "cell_type": "code",
   "execution_count": 28,
   "metadata": {},
   "outputs": [],
   "source": [
    "def PSNR(original, compressed): \n",
    "    mse = torch.mean((original - compressed) ** 2) \n",
    "    if(mse == 0): # MSE is zero means no noise is present in the signal. \n",
    "                  # Therefore PSNR have no importance. \n",
    "        return 100\n",
    "    # max_pixel = 255.0\n",
    "    max_pixel = 1.0\n",
    "    psnr = 20 * torch.log10(max_pixel / torch.sqrt(mse)) \n",
    "\n",
    "    del mse\n",
    "\n",
    "    return psnr"
   ]
  },
  {
   "cell_type": "code",
   "execution_count": 29,
   "metadata": {},
   "outputs": [],
   "source": [
    "def test_PSNR():\n",
    "    if DISABLING_TESTS: return\n",
    "    # for rgb_image in load_images_SIDD([\"0083\"], False):\n",
    "    for rgb_image in load_images_chest_xray(f\"{CHEST_XRAY_BASE_DATA_PATH}/train/NORMAL\", [0]):\n",
    "        grayscale_image = convert_to_grayscale(rgb_image)\n",
    "        grayscale_image = crop_to_square_and_resize(grayscale_image, 120)\n",
    "        image_numpy = convert_to_numpy(grayscale_image)\n",
    "        image_tensor_4D = convert_to_tensor_4D(image_numpy)\n",
    "\n",
    "        print(f\"PSNR of original image: {PSNR(image_tensor_4D, image_tensor_4D)} dB\")\n",
    "        plt.imshow(image_tensor_4D.squeeze(0).to(\"cpu\"), cmap='gray')\n",
    "        plt.show();\n",
    "\n",
    "        noisy_image_tensor_4D = add_noise(image_tensor_4D, sigma=0.5)\n",
    "        print(f\"PSNR of constant noise image: {PSNR(noisy_image_tensor_4D, image_tensor_4D):.2f} dB\")\n",
    "        plt.imshow(noisy_image_tensor_4D.squeeze(0).to(\"cpu\"), cmap='gray')\n",
    "        plt.show();\n",
    "\n",
    "\n",
    "test_PSNR()"
   ]
  },
  {
   "cell_type": "markdown",
   "metadata": {},
   "source": [
    "---\n",
    "\n",
    "### Calculate SSIM"
   ]
  },
  {
   "cell_type": "code",
   "execution_count": 30,
   "metadata": {},
   "outputs": [],
   "source": [
    "def SSIM(tensor_2D_a: torch.Tensor, tensor_2D_b: torch.Tensor, data_range: float=1) -> float:\n",
    "    return structural_similarity(\n",
    "        tensor_2D_a.to(\"cpu\").detach().numpy(), \n",
    "        tensor_2D_b.to(\"cpu\").detach().numpy(),\n",
    "        data_range=data_range)"
   ]
  },
  {
   "cell_type": "code",
   "execution_count": 31,
   "metadata": {},
   "outputs": [],
   "source": [
    "def test_SSIM(sigma=0.5):\n",
    "    if DISABLING_TESTS: return\n",
    "    # for rgb_image in load_images_SIDD([\"0083\"], False):\n",
    "    for rgb_image in load_images_chest_xray(f\"{CHEST_XRAY_BASE_DATA_PATH}/train/NORMAL\", [0]):\n",
    "        grayscale_image = convert_to_grayscale(rgb_image)\n",
    "        grayscale_image = crop_to_square_and_resize(grayscale_image, 120)\n",
    "        image_numpy = convert_to_numpy(grayscale_image)\n",
    "        image_tensor_4D = convert_to_tensor_4D(image_numpy)\n",
    "\n",
    "        image_tensor_2D = image_tensor_4D.squeeze(0).squeeze(-1)\n",
    "        print(f\"image_tensor_2D: {image_tensor_2D.size()}\")\n",
    "        print(f\"SSIM of original image: {SSIM(image_tensor_2D, image_tensor_2D)}\")\n",
    "        plt.imshow(image_tensor_2D.cpu(), cmap='gray')\n",
    "        plt.show();\n",
    "\n",
    "        noisy_image_tensor_2D = add_noise(image_tensor_2D, sigma=sigma)\n",
    "        print(f\"noisy_image_tensor_2D: {noisy_image_tensor_2D.size()}\")\n",
    "        print(f\"SSIM of noisy image (sigma={sigma}): {SSIM(noisy_image_tensor_2D, image_tensor_2D):.2f}\")\n",
    "        plt.imshow(noisy_image_tensor_2D.cpu(), cmap='gray')\n",
    "        plt.show();\n",
    "\n",
    "    with torch.no_grad():\n",
    "        torch.cuda.empty_cache()\n",
    "\n",
    "test_SSIM()"
   ]
  },
  {
   "cell_type": "markdown",
   "metadata": {},
   "source": [
    "------\n",
    "\n",
    "### Reconstruct an image with PDHG"
   ]
  },
  {
   "cell_type": "markdown",
   "metadata": {},
   "source": [
    "#### Calculate the gradient\n",
    "\n",
    "<!-- The gradient is a Laplacian ?\n",
    "\n",
    "There are $x$ gradient and $y$ gradient -->"
   ]
  },
  {
   "cell_type": "code",
   "execution_count": 32,
   "metadata": {},
   "outputs": [],
   "source": [
    "# Code taken from https://www.github.com/koflera/LearningRegularizationParameterMaps\n",
    "\n",
    "class GradOperators(torch.nn.Module):\n",
    "    @staticmethod\n",
    "    def diff_kernel(ndim, mode):\n",
    "        if mode == \"doublecentral\":\n",
    "            kern = torch.tensor((-1, 0, 1))\n",
    "        elif mode == \"central\":\n",
    "            kern = torch.tensor((-1, 0, 1)) / 2\n",
    "        elif mode == \"forward\":\n",
    "            kern = torch.tensor((0, -1, 1))\n",
    "        elif mode == \"backward\":\n",
    "            kern = torch.tensor((-1, 1, 0))\n",
    "        else:\n",
    "            raise ValueError(f\"mode should be one of (central, forward, backward, doublecentral), not {mode}\")\n",
    "        kernel = torch.zeros(ndim, 1, *(ndim * (3,)))\n",
    "        for i in range(ndim):\n",
    "            idx = tuple([i, 0, *(i * (1,)), slice(None), *((ndim - i - 1) * (1,))])\n",
    "            kernel[idx] = kern\n",
    "        return kernel\n",
    "\n",
    "    def __init__(self, dim:int=2, mode:str=\"doublecentral\", padmode:str = \"circular\"):\n",
    "        \"\"\"\n",
    "        An Operator for finite Differences / Gradients\n",
    "        Implements the forward as apply_G and the adjoint as apply_GH.\n",
    "        \n",
    "        Args:\n",
    "            dim (int, optional): Dimension. Defaults to 2.\n",
    "            mode (str, optional): one of doublecentral, central, forward or backward. Defaults to \"doublecentral\".\n",
    "            padmode (str, optional): one of constant, replicate, circular or refelct. Defaults to \"circular\".\n",
    "        \"\"\"\n",
    "        super().__init__()\n",
    "        self.register_buffer(\"kernel\", self.diff_kernel(dim, mode), persistent=False)\n",
    "        self._dim = dim\n",
    "        self._conv = (torch.nn.functional.conv1d, torch.nn.functional.conv2d, torch.nn.functional.conv3d)[dim - 1]\n",
    "        self._convT = (torch.nn.functional.conv_transpose1d, torch.nn.functional.conv_transpose2d, torch.nn.functional.conv_transpose3d)[dim - 1]\n",
    "        self._pad = partial(torch.nn.functional.pad, pad=2 * dim * (1,), mode=padmode)\n",
    "        if mode == 'central':\n",
    "            self._norm = (self.dim) ** (1 / 2)\n",
    "        else:\n",
    "            self._norm = (self.dim * 4) ** (1 / 2)\n",
    "\n",
    "    @property\n",
    "    def dim(self):\n",
    "        return self._dim\n",
    "    \n",
    "    def apply_G(self, x):\n",
    "        \"\"\"\n",
    "        Forward\n",
    "        \"\"\"\n",
    "        if x.is_complex():\n",
    "            xr = torch.view_as_real(x).moveaxis(-1, 0)\n",
    "        else:\n",
    "            xr = x\n",
    "        xr = xr.reshape(-1, 1, *x.shape[-self.dim :])\n",
    "        xp = self._pad(xr)\n",
    "        y = self._conv(xp, weight=self.kernel, bias=None, padding=0)\n",
    "        if x.is_complex():\n",
    "            y = y.reshape(2, *x.shape[: -self.dim], self.dim, *x.shape[-self.dim :])\n",
    "            y = torch.view_as_complex(y.moveaxis(0, -1).contiguous())\n",
    "        else:\n",
    "            y = y.reshape(*x.shape[0 : -self.dim], self.dim, *x.shape[-self.dim :])\n",
    "\n",
    "        del x, xr, xp\n",
    "\n",
    "        return y\n",
    "\n",
    "    def apply_GH(self, x):\n",
    "        \"\"\"\n",
    "        Adjoint\n",
    "        \"\"\"\n",
    "        if x.is_complex():\n",
    "            xr = torch.view_as_real(x).moveaxis(-1, 0)\n",
    "        else:\n",
    "            xr = x\n",
    "        xr = xr.reshape(-1, self.dim, *x.shape[-self.dim :])\n",
    "        xp = self._pad(xr)\n",
    "        y = self._convT(xp, weight=self.kernel, bias=None, padding=2)\n",
    "        if x.is_complex():\n",
    "            y = y.reshape(2, *x.shape[: -self.dim - 1], *x.shape[-self.dim :])\n",
    "            y = torch.view_as_complex(y.moveaxis(0, -1).contiguous())\n",
    "        else:\n",
    "            y = y.reshape(*x.shape[: -self.dim - 1], *x.shape[-self.dim :])\n",
    "\n",
    "        del x, xr, xp\n",
    "\n",
    "        return y\n",
    "    \n",
    "    def apply_GHG(self, x):\n",
    "        if x.is_complex():\n",
    "            xr = torch.view_as_real(x).moveaxis(-1, 0)\n",
    "        else:\n",
    "            xr = x\n",
    "        xr = xr.reshape(-1, 1, *x.shape[-self.dim :])\n",
    "        xp = self._pad(xr)\n",
    "        tmp = self._conv(xp, weight=self.kernel, bias=None, padding=0)\n",
    "        tmp = self._pad(tmp)\n",
    "        y = self._convT(tmp, weight=self.kernel, bias=None, padding=2)\n",
    "        if x.is_complex():\n",
    "            y = y.reshape(2, *x.shape)\n",
    "            y = torch.view_as_complex(y.moveaxis(0, -1).contiguous())\n",
    "        else:\n",
    "            y = y.reshape(*x.shape)\n",
    "\n",
    "        del x, xr, xp, tmp\n",
    "\n",
    "        return y\n",
    "\n",
    "    def forward(self, x, direction=1):\n",
    "        if direction>0:\n",
    "            return self.apply_G(x)\n",
    "        elif direction<0:\n",
    "            return self.apply_GH(x)\n",
    "        else:\n",
    "            return self.apply_GHG(x)\n",
    "\n",
    "    @property\n",
    "    def normGHG(self):\n",
    "        return self._norm"
   ]
  },
  {
   "cell_type": "markdown",
   "metadata": {},
   "source": [
    "#### Helper function for PDHG: Clip act"
   ]
  },
  {
   "cell_type": "code",
   "execution_count": 33,
   "metadata": {},
   "outputs": [],
   "source": [
    "# Code taken from https://www.github.com/koflera/LearningRegularizationParameterMaps\n",
    "\n",
    "class ClipAct(nn.Module):\n",
    "    def forward(self, x, threshold):\n",
    "        return clipact(x, threshold)\n",
    "\n",
    "\n",
    "def clipact(x, threshold):\n",
    "    is_complex = x.is_complex()\n",
    "    if is_complex:\n",
    "        x = torch.view_as_real(x)\n",
    "        threshold = threshold.unsqueeze(-1)\n",
    "    x = torch.clamp(x, -threshold, threshold)\n",
    "    if is_complex:\n",
    "        x = torch.view_as_complex(x)\n",
    "    return x"
   ]
  },
  {
   "cell_type": "markdown",
   "metadata": {},
   "source": [
    "#### Only PDHG"
   ]
  },
  {
   "cell_type": "markdown",
   "metadata": {},
   "source": [
    "For some reason, running PDHG with T large (many iterations in PDGH) will make GPU memory full?"
   ]
  },
  {
   "cell_type": "code",
   "execution_count": 34,
   "metadata": {},
   "outputs": [],
   "source": [
    "# Code taken from https://www.github.com/koflera/LearningRegularizationParameterMaps\n",
    "\n",
    "def reconstruct_with_PDHG(\n",
    "        x_dynamic_image_tensor_5D, lambda_reg, T, \n",
    "        # lambda_reg_container=None,\n",
    "):\n",
    "    \"\"\"\n",
    "    Reconstructs the image using the PDHG algorithm.\n",
    "\n",
    "    Parameters:\n",
    "        dynamic_image_tensor_5D: The (noisy) (dynamic) image tensor.\n",
    "        Size of the tensor: (`patches`, `channels`, `Nx`, `Ny`, `Nt`) where\n",
    "        \n",
    "        - `patches`: number of patches\n",
    "        - `channels`: number of (colour) channels\n",
    "        - `Nx`: number of pixels in x\n",
    "        - `Ny`: number of pixels in y\n",
    "        - `Nt`: number of time steps (frames)\n",
    "\n",
    "        lambda_reg: The regularization parameter. Can be a scalar or a tensor of suitable size.\n",
    "        T: Number of iterations.\n",
    "\n",
    "    Returns:\n",
    "        The reconstructed image tensor.\n",
    "    \"\"\"\n",
    "\n",
    "    dim = 3\n",
    "    patches, channels, Nx, Ny, Nt = x_dynamic_image_tensor_5D.shape\n",
    "    \n",
    "    assert channels == 1, \"Only grayscale images are supported.\"\n",
    "\n",
    "    device = x_dynamic_image_tensor_5D.device\n",
    "\n",
    "    # starting values\n",
    "    xbar = x_dynamic_image_tensor_5D.clone()\n",
    "    x0 = x_dynamic_image_tensor_5D.clone()\n",
    "    xnoisy = x_dynamic_image_tensor_5D.clone()\n",
    "\n",
    "    # dual variable\n",
    "    p = x_dynamic_image_tensor_5D.clone()\n",
    "    q = torch.zeros(patches, dim, Nx, Ny, Nt, dtype=x_dynamic_image_tensor_5D.dtype).to(device)\n",
    "\n",
    "    # operator norms\n",
    "    op_norm_AHA = torch.sqrt(torch.tensor(1.0))\n",
    "    op_norm_GHG = torch.sqrt(torch.tensor(12.0))\n",
    "    # operator norm of K = [A, \\nabla]\n",
    "    # https://iopscience.iop.org/article/10.1088/0031-9155/57/10/3065/pdf,\n",
    "    # see page 3083\n",
    "    L = torch.sqrt(op_norm_AHA**2 + op_norm_GHG**2)\n",
    "\n",
    "    tau = nn.Parameter(\n",
    "        torch.tensor(10.0), requires_grad=True\n",
    "    )  # starting value approximately  1/L\n",
    "    sigma = nn.Parameter(\n",
    "        torch.tensor(10.0), requires_grad=True\n",
    "    )  # starting value approximately  1/L\n",
    "\n",
    "    # theta should be in \\in [0,1]\n",
    "    theta = nn.Parameter(\n",
    "        torch.tensor(10.0), requires_grad=True\n",
    "    )  # starting value approximately  1\n",
    "\n",
    "    # sigma, tau, theta\n",
    "    sigma = (1 / L) * torch.sigmoid(sigma)  # \\in (0,1/L)\n",
    "    tau = (1 / L) * torch.sigmoid(tau)  # \\in (0,1/L)\n",
    "    theta = torch.sigmoid(theta)  # \\in (0,1)\n",
    "\n",
    "    GradOps = GradOperators(\n",
    "        dim=dim, \n",
    "        mode=\"forward\", padmode=\"circular\")\n",
    "    clip_act = ClipAct()\n",
    "    # Algorithm 2 - Unrolled PDHG algorithm (page 18)\n",
    "    # TODO: In the paper, L is one of the inputs but not used anywhere in the pseudo code???\n",
    "    for kT in range(T):\n",
    "        # update p\n",
    "        p =  (p + sigma * (xbar - xnoisy) ) / (1. + sigma)\n",
    "        # update q\n",
    "        q = clip_act(q + sigma * GradOps.apply_G(xbar), lambda_reg)\n",
    "\n",
    "        x1 = x0 - tau * p - tau * GradOps.apply_GH(q)\n",
    "\n",
    "        if kT != T - 1:\n",
    "            # update xbar\n",
    "            xbar = x1 + theta * (x1 - x0)\n",
    "            x0 = x1\n",
    "        with torch.no_grad():\n",
    "            torch.cuda.empty_cache()\n",
    "\n",
    "    del x_dynamic_image_tensor_5D\n",
    "    del xbar, x0, xnoisy\n",
    "    del p, q\n",
    "    del op_norm_AHA, op_norm_GHG, L\n",
    "    del tau, sigma, theta\n",
    "    del GradOps\n",
    "    del clip_act\n",
    "\n",
    "    with torch.no_grad():\n",
    "        torch.cuda.empty_cache()\n",
    "\n",
    "    # if lambda_reg_container is not None:\n",
    "    #     assert isinstance(lambda_reg_container, list), f\"lambda_reg_container should be a list, not {type(lambda_reg_container)}\"\n",
    "    #     lambda_reg_container.append(lambda_reg) # For comparison\n",
    "\n",
    "    return x1"
   ]
  },
  {
   "cell_type": "code",
   "execution_count": 35,
   "metadata": {},
   "outputs": [],
   "source": [
    "def test_reconstruct_with_PDHG():\n",
    "    if DISABLING_TESTS: return\n",
    "    # for rgb_image in load_images_SIDD([\"0083\"], False):\n",
    "    for rgb_image in load_images_chest_xray(f\"{CHEST_XRAY_BASE_DATA_PATH}/train/NORMAL\", [0]):\n",
    "        grayscale_image = convert_to_grayscale(rgb_image)\n",
    "        grayscale_image = crop_to_square_and_resize(grayscale_image, 512)\n",
    "        image_numpy = convert_to_numpy(grayscale_image)\n",
    "\n",
    "        image_tensor_4D = convert_to_tensor_4D(image_numpy)\n",
    "        print(f\"Image tensor size: {image_tensor_4D.size()}\")\n",
    "        assert len(image_tensor_4D.size()) == 4, \"The image should be 4D\"\n",
    "        plt.imshow(image_tensor_4D.squeeze(0).to(\"cpu\"), cmap='gray')\n",
    "        plt.show();\n",
    "\n",
    "        TEST_SIGMA = 0.5  # Relatively high noise\n",
    "        noisy_image_tensor_4D = add_noise(image_tensor_4D, sigma=TEST_SIGMA)\n",
    "        print(f\"PSNR of constant noise image: {PSNR(image_tensor_4D, noisy_image_tensor_4D):.2f} dB\")\n",
    "        print(f\"SSIM of constant noise image: {SSIM(image_tensor_4D.squeeze(0).squeeze(-1), noisy_image_tensor_4D.squeeze(0).squeeze(-1)):.2f}\")\n",
    "        plt.imshow(noisy_image_tensor_4D.squeeze(0).to(\"cpu\"), cmap='gray')\n",
    "        plt.show();\n",
    "\n",
    "        TEST_LAMBDA = 0.04\n",
    "        pdhg_input_tensor_5D = noisy_image_tensor_4D.unsqueeze(0)\n",
    "        print(f\"PDHG input size: {pdhg_input_tensor_5D.size()}\")\n",
    "        assert len(pdhg_input_tensor_5D.size()) == 5, \"The input for PDHG should be 5D\"\n",
    "        denoised_image_tensor_5D = reconstruct_with_PDHG(\n",
    "            pdhg_input_tensor_5D, \n",
    "            lambda_reg=TEST_LAMBDA, \n",
    "            T=128)\n",
    "        \n",
    "        denoised_image_tensor_5D = torch.clamp(denoised_image_tensor_5D, 0, 1) # Clip the values to 0 and 1\n",
    "        psnr_value_denoised = PSNR(image_tensor_4D, denoised_image_tensor_5D.squeeze(0))\n",
    "        print(f\"PSNR of reconstructed image: {psnr_value_denoised:.2f} dB\")\n",
    "        denoised_image_numpy_3D = denoised_image_tensor_5D.squeeze(0).squeeze(0).to(\"cpu\").detach().numpy()\n",
    "        plt.imshow(denoised_image_numpy_3D, cmap='gray')\n",
    "        plt.show();\n",
    "\n",
    "    with torch.no_grad():\n",
    "        torch.cuda.empty_cache()\n",
    "\n",
    "    print(\"\"\"\n",
    "In this example, a lot of noise has been applied to the original image. The PDHG algorithm tries to reconstruct the image from the noisy image. It did remove some noise and improved the PSNR value. However, the quality has been degraded significantly. We will see whether we can improve this by learning a set of parameters map.\n",
    "\"\"\")\n",
    "    \n",
    "    # The lambda parameter is the regularization parameter. The higher the lambda, the more the regularization. The T parameter is the number of iterations. The higher the T, the more the iterations. The PSNR value is the Peak Signal to Noise Ratio. The higher the PSNR, the better the reconstruction.\n",
    "\n",
    "test_reconstruct_with_PDHG()"
   ]
  },
  {
   "cell_type": "markdown",
   "metadata": {},
   "source": [
    "------\n",
    "\n",
    "### Full Architecture\n",
    "\n",
    "<!-- UNET to PDHG\n",
    "\n",
    "The whole architecture can be seen as unsupervised: The data only contains (clean) images.\n",
    "\n",
    "The whole model: Input is an image. Output is also an image.\n",
    "\n",
    "The UNET actually only outputs the regularisation parameter map. -->"
   ]
  },
  {
   "cell_type": "code",
   "execution_count": 36,
   "metadata": {},
   "outputs": [],
   "source": [
    "# Code taken from https://www.github.com/koflera/LearningRegularizationParameterMaps\n",
    "\n",
    "class DynamicImageStaticPrimalDualNN(nn.Module):\n",
    "    def __init__(\n",
    "        self,\n",
    "        T=128,\n",
    "        cnn_block=None,\n",
    "        mode=\"lambda_cnn\",\n",
    "        up_bound=0,\n",
    "        phase=\"training\",\n",
    "    ):\n",
    "        # print(f\"Running: {DynamicImageStaticPrimalDualNN.__name__}\")\n",
    "        super(DynamicImageStaticPrimalDualNN, self).__init__()\n",
    "\n",
    "        # gradient operators and clipping function\n",
    "        dim = 3\n",
    "        self.GradOps = GradOperators(dim, mode=\"forward\", padmode=\"circular\")\n",
    "\n",
    "        # operator norms\n",
    "        self.op_norm_AHA = torch.sqrt(torch.tensor(1.0))\n",
    "        self.op_norm_GHG = torch.sqrt(torch.tensor(12.0))\n",
    "        # operator norm of K = [A, \\nabla]\n",
    "        # https://iopscience.iop.org/article/10.1088/0031-9155/57/10/3065/pdf,\n",
    "        # see page 3083\n",
    "        self.L = torch.sqrt(self.op_norm_AHA**2 + self.op_norm_GHG**2)\n",
    "\n",
    "        # function for projecting\n",
    "        self.ClipAct = ClipAct()\n",
    "\n",
    "        if mode == \"lambda_xyt\":\n",
    "            # one single lambda for x,y and t\n",
    "            self.lambda_reg = nn.Parameter(torch.tensor([-1.5]), requires_grad=True)\n",
    "\n",
    "        elif mode == \"lambda_xy_t\":\n",
    "            # one (shared) lambda for x,y and one lambda for t\n",
    "            self.lambda_reg = nn.Parameter(\n",
    "                torch.tensor([-4.5, -1.5]), requires_grad=True\n",
    "            )\n",
    "\n",
    "        elif mode == \"lambda_cnn\":\n",
    "            # the CNN-block to estimate the lambda regularization map\n",
    "            # must be a CNN yielding a two-channeld output, i.e.\n",
    "            # one map for lambda_cnn_xy and one map for lambda_cnn_t\n",
    "            self.cnn = cnn_block    # NOTE: This is actually the UNET!!! (At least in this project)\n",
    "            self.up_bound = torch.tensor(up_bound)\n",
    "\n",
    "        # number of terations\n",
    "        self.T = T\n",
    "        self.mode = mode\n",
    "\n",
    "        # constants depending on the operators\n",
    "        self.tau = nn.Parameter(\n",
    "            torch.tensor(10.0), requires_grad=True\n",
    "        )  # starting value approximately  1/L\n",
    "        self.sigma = nn.Parameter(\n",
    "            torch.tensor(10.0), requires_grad=True\n",
    "        )  # starting value approximately  1/L\n",
    "\n",
    "        # theta should be in \\in [0,1]\n",
    "        self.theta = nn.Parameter(\n",
    "            torch.tensor(10.0), requires_grad=True\n",
    "        )  # starting value approximately  1\n",
    "\n",
    "        # distinguish between training and test phase;\n",
    "        # during training, the input is padded using \"reflect\" padding, because\n",
    "        # patches are used by reducing the number of temporal points;\n",
    "        # while testing, \"reflect\" padding is used in x,y- direction, while\n",
    "        # circular padding is used in t-direction\n",
    "        self.phase = phase\n",
    "\n",
    "    def get_lambda_cnn(self, x):\n",
    "        # padding\n",
    "        # arbitrarily chosen, maybe better to choose it depending on the\n",
    "        # receptive field of the CNN or so;\n",
    "        # seems to be important in order not to create \"holes\" in the\n",
    "        # lambda_maps in t-direction\n",
    "        npad_xy = 4\n",
    "        # npad_t = 8\n",
    "        npad_t = 0 # TODO: Time dimension should not be necessary for single image input.\n",
    "        # I changed the npad_t to 0 so that I can run on single image input without change the 3D type config. It seems that the number of frames must be greater than npad_t?\n",
    "\n",
    "        pad = (npad_t, npad_t, npad_xy, npad_xy, npad_xy, npad_xy)\n",
    "\n",
    "        if self.phase == \"training\":\n",
    "            x = F.pad(x, pad, mode=\"reflect\")\n",
    "\n",
    "        elif self.phase == \"testing\":\n",
    "            pad_refl = (0, 0, npad_xy, npad_xy, npad_xy, npad_xy)\n",
    "            pad_circ = (npad_t, npad_t, 0, 0, 0, 0)\n",
    "\n",
    "            x = F.pad(x, pad_refl, mode=\"reflect\")\n",
    "            x = F.pad(x, pad_circ, mode=\"circular\")\n",
    "\n",
    "        # estimate parameter map\n",
    "        lambda_cnn = self.cnn(x) # NOTE: The cnn is actually the UNET block!!! (At least in this project)\n",
    "\n",
    "        # crop\n",
    "        neg_pad = tuple([-pad[k] for k in range(len(pad))])\n",
    "        lambda_cnn = F.pad(lambda_cnn, neg_pad)\n",
    "\n",
    "        # double spatial map and stack\n",
    "        lambda_cnn = torch.cat((lambda_cnn[:, 0, ...].unsqueeze(1), lambda_cnn), dim=1)\n",
    "\n",
    "        # constrain map to be striclty positive; further, bound it from below\n",
    "        if self.up_bound > 0:\n",
    "            # constrain map to be striclty positive; further, bound it from below\n",
    "            lambda_cnn = self.up_bound * self.op_norm_AHA * torch.sigmoid(lambda_cnn)\n",
    "        else:\n",
    "            lambda_cnn = 0.1 * self.op_norm_AHA * F.softplus(lambda_cnn)\n",
    "\n",
    "        del pad\n",
    "        del x\n",
    "        del neg_pad\n",
    "\n",
    "        return lambda_cnn\n",
    "\n",
    "    def forward(\n",
    "            self, x, lambda_map=None, \n",
    "            # lambda_reg_container=None,\n",
    "    ):\n",
    "        if lambda_map is None:\n",
    "            # estimate lambda reg from the image\n",
    "            lambda_reg = self.get_lambda_cnn(x)\n",
    "        else:\n",
    "            lambda_reg = lambda_map\n",
    "\n",
    "        # if lambda_reg_container is not None:\n",
    "        #     assert type(lambda_reg_container) == list, f\"lambda_reg_container should be a list, not {type(lambda_reg_container)}\"\n",
    "        #     lambda_reg_container.append(lambda_reg) # For comparison\n",
    "\n",
    "        x.to(DEVICE)\n",
    "        x1 = reconstruct_with_PDHG(x, lambda_reg, self.T)\n",
    "\n",
    "        del lambda_reg\n",
    "        del x\n",
    "\n",
    "        return x1"
   ]
  },
  {
   "cell_type": "markdown",
   "metadata": {},
   "source": [
    "------\n",
    "\n",
    "### Data loading class"
   ]
  },
  {
   "cell_type": "code",
   "execution_count": 37,
   "metadata": {},
   "outputs": [],
   "source": [
    "# Code taken from https://www.github.com/koflera/LearningRegularizationParameterMaps\n",
    "\n",
    "class DynamicImageStaticDenoisingDataset(Dataset):\n",
    "\t\n",
    "\tdef __init__(\n",
    "\t\tself, \n",
    "\t\tdata_path: str, \n",
    "\t\tids: list,\n",
    "\t\t# scale_factor = 0.5, \n",
    "\t\t# patches_size = None,\n",
    "\t\t# strides= None,\n",
    "\t\tresize_square = 120,\n",
    "\t\tsigma = (0.1, 0.5),  \n",
    "\t\tdevice: str = \"cuda\"\n",
    "\t):\n",
    "\t\tself.device = device\n",
    "\t\t# self.scale_factor = scale_factor\n",
    "\t\tself.resize_square = resize_square\n",
    "\n",
    "\t\txray_images = load_images_chest_xray(data_path, ids)\n",
    "\n",
    "\t\txf_list = []\n",
    "\t\tfor image in xray_images:\n",
    "\t\t\timage = crop_to_square_and_resize(image, self.resize_square)\n",
    "\t\t\timage = image.convert('L') #convert to grey_scale\n",
    "\t\t\timage_data = np.asarray(image)\n",
    "\t\t\txf = torch.tensor(image_data, dtype=torch.float)\n",
    "\t\t\t# Assume image is in [0, 255] range\n",
    "\t\t\txf = xf / 255\n",
    "\t\t\tassert len(xf.size()) == 2, f\"Expected 2D tensor, got {xf.size()}\"\n",
    "\t\t\txf = xf.unsqueeze(0) # Add channel dimension\n",
    "\t\t\txf = xf.unsqueeze(-1) # Add time dimension. TODO: For legacy dynamic image code only. Will remove later.\n",
    "\t\t\txf_list.append(xf)\n",
    "\t\txf = torch.stack(xf_list, dim=0) # will have shape (mb, 1, Nx, Ny, Nt), where mb denotes the number of patches\n",
    "\t\tassert len(xf.size()) == 5, f\"Expected 5D tensor, got {xf.size()}\"\n",
    "\t\tassert xf.size(1) == 1, f\"Expected 1 channel, got {xf.size(1)}\"\n",
    "\t\tassert xf.size(2) == self.resize_square, f\"Expected width (Nx) of {self.resize_square}, got {xf.size(-3)}\"\n",
    "\t\tassert xf.size(3) == self.resize_square, f\"Expected height (Ny) of {self.resize_square}, got {xf.size(-2)}\"\n",
    "\t\tassert xf.size(4) == 1, f\"Expected 1 time step, got {xf.size(-1)}\"\n",
    "\n",
    "\t\t#create temporal TV vector to detect which patches contain the most motion\n",
    "\t\txf_patches_tv = (xf[...,1:] - xf[...,:-1]).pow(2).sum(dim=[1,2,3,4]) #contains the TV for all patches\n",
    "\t\t\n",
    "\t\t#normalize to 1 to have a probability vector\n",
    "\t\txf_patches_tv /= torch.sum(xf_patches_tv)\n",
    "\t\t\n",
    "\t\t#sort TV in descending order --> xfp_tv_ids[0] is the index of the patch with the most motion\n",
    "\t\tself.samples_weights = xf_patches_tv\n",
    "\n",
    "\t\t# # TODO: Investigate\n",
    "\t\t# # Change the values in samples_weights to be a range of integers from 0 to len(samples_weights)\n",
    "\t\t# # Unless I do this, when I run on a set of identical images, it will give me an error:\n",
    "\t\t# # RuntimeError: invalid multinomial distribution (encountering probability entry < 0)\n",
    "\t\t# self.samples_weights = torch.arange(len(self.samples_weights))\n",
    "\t\t\n",
    "\t\tself.xf = xf\n",
    "\t\tself.len = xf.shape[0]\n",
    "\t\t\n",
    "\t\tself.sigma_min = sigma[0]\n",
    "\t\tself.sigma_max = sigma[1]\n",
    "\t\t\n",
    "\t\t\t\n",
    "\tdef __getitem__(self, index):\n",
    "\n",
    "\t\tsigma = self.sigma_min + torch.rand(1) * ( self.sigma_max - self.sigma_min )\n",
    "\n",
    "\t\tx_noise = add_noise(self.xf[index], sigma)\n",
    "\n",
    "\t\tdel sigma\n",
    "\n",
    "\t\treturn (\n",
    "\t\t\tx_noise.to(device=self.device),\n",
    "   \t\t\tself.xf[index].to(device=self.device)\n",
    "        )\n",
    "\t\t\n",
    "\tdef __len__(self):\n",
    "\t\treturn self.len"
   ]
  },
  {
   "cell_type": "markdown",
   "metadata": {},
   "source": [
    "------\n",
    "\n",
    "### UNET\n",
    "\n",
    "The specific UNET architecture we use has the following parts:\n",
    "\n",
    "...\n",
    "\n",
    "We use Leaky RELU instead of RELU or Sigmoid."
   ]
  },
  {
   "cell_type": "code",
   "execution_count": 38,
   "metadata": {},
   "outputs": [],
   "source": [
    "# Used https://github.com/milesial/Pytorch-UNet/blob/master/unet/unet_parts.py as a reference\n",
    "\n",
    "class DoubleConv(nn.Module):\n",
    "    def __init__(\n",
    "            self, in_channels: int, out_channels: int, n_dimensions=3, activation=\"LeakyReLU\"):\n",
    "        super(DoubleConv, self).__init__()\n",
    "\n",
    "        def get_conv(in_channels, out_channels):\n",
    "            # 1-dimensional convolution is not supported\n",
    "            if n_dimensions == 3:\n",
    "                return nn.Conv3d(in_channels, out_channels, kernel_size=(3, 3, 1), padding=(1, 1, 0))\n",
    "            elif n_dimensions == 2:\n",
    "                return nn.Conv2d(in_channels, out_channels, kernel_size=(3, 3), padding=(1, 1))\n",
    "            else:\n",
    "                raise ValueError(f\"Unsupported number of dimensions: {n_dimensions}\")\n",
    "\n",
    "        def get_activation():\n",
    "            if activation == \"LeakyReLU\":\n",
    "                return nn.LeakyReLU(negative_slope=0.01, inplace=True)\n",
    "            elif activation == \"ReLU\":\n",
    "                return nn.ReLU(inplace=True)\n",
    "            else:\n",
    "                raise ValueError(f\"Unsupported activation function: {activation}\")\n",
    "\n",
    "        self.conv_block = nn.Sequential(\n",
    "            get_conv(in_channels, out_channels), get_activation(),\n",
    "            get_conv(out_channels, out_channels), get_activation())\n",
    "\n",
    "    def forward(self, x: torch.Tensor):\n",
    "        return self.conv_block(x)\n",
    "        \n",
    "\n",
    "class EncodeBlock3d(nn.Module):\n",
    "    def __init__(\n",
    "            self, in_channels: int, n_dimensions=3,\n",
    "            activation=\"LeakyReLU\",\n",
    "            downsampling_kernel=(2, 2, 1), downsampling_mode=\"max\"):\n",
    "        super(EncodeBlock3d, self).__init__()\n",
    "\n",
    "        len = downsampling_kernel[0] # Assume kernel has shape (len, len, 1)\n",
    "        assert downsampling_kernel == (len, len, 1), f\"Expected a flat square kernel like {(len, len, 1)}, got {downsampling_kernel}\"\n",
    "        stride = (2, 2, 1) # Stride 2x2 to halve each side \n",
    "        padding = ((len-1)//2, (len-1)//2, 0) # Padding (len-1) // 2 to exactly halve each side \n",
    "        if downsampling_mode == \"max\":\n",
    "            self.pool = nn.MaxPool3d(\n",
    "                kernel_size=downsampling_kernel, stride=stride, padding=padding)\n",
    "        elif downsampling_mode == \"avg\":\n",
    "            self.pool = nn.AvgPool3d(\n",
    "                kernel_size=downsampling_kernel, stride=stride, padding=padding)\n",
    "        else:\n",
    "            raise ValueError(f\"Unknown pooling method: {downsampling_mode}\")\n",
    "\n",
    "        self.double_conv = DoubleConv(in_channels, in_channels * 2, n_dimensions, activation=activation)\n",
    "\n",
    "    def forward(self, x: torch.Tensor):\n",
    "        x = self.pool(x)\n",
    "        x = self.double_conv(x)\n",
    "        return x\n",
    "\n",
    "\n",
    "\n",
    "class DecodeBlock3d(nn.Module):\n",
    "    def __init__(\n",
    "            self, in_channels: int, n_dimensions=3, \n",
    "            activation=\"LeakyReLU\",\n",
    "            upsampling_kernel=(2, 2, 1), upsampling_mode=\"linear_interpolation\"):\n",
    "        super(DecodeBlock3d, self).__init__()\n",
    "\n",
    "        if upsampling_mode == \"linear_interpolation\":\n",
    "            self.upsampling = nn.Sequential(\n",
    "                nn.Upsample(\n",
    "                    scale_factor=(2, 2, 1), # Assume the shape is (Nx, Ny, 1) where Nx is the image width and Ny is the image height.\n",
    "                    mode='trilinear', align_corners=True), # What difference does it make in the end if align_corners is True or False? Preserving symmetry?\n",
    "                # 1x1x1 convolution to reduce the number of channels while keeping the size the same\n",
    "                nn.Conv3d(\n",
    "                    in_channels, in_channels // 2, \n",
    "                    kernel_size=(1, 1, 1), stride=(1, 1, 1), padding=(0, 0, 0))\n",
    "            )\n",
    "        elif upsampling_mode == \"transposed_convolution\":  \n",
    "            len = upsampling_kernel[0] # Assume kernel has shape (len, len, 1)\n",
    "            assert upsampling_kernel == (len, len, 1), f\"Expected a flat square kernel like {(len, len, 1)}, got {upsampling_kernel}\"\n",
    "            stride = (2, 2, 1) # Stride 2x2 to double each side \n",
    "            padding = ((len-1)//2, (len-1)//2, 0) # Padding (len-1) // 2 to exactly double each side    \n",
    "            self.upsampling = nn.ConvTranspose3d(\n",
    "                in_channels, in_channels // 2, \n",
    "                kernel_size=upsampling_kernel, stride=stride, padding=padding, \n",
    "                output_padding=padding # TODO: Should this be the same as padding?\n",
    "            )\n",
    "        else:\n",
    "            raise ValueError(f\"Unsupported upsampling method: {upsampling_mode}\")\n",
    "        \n",
    "        self.double_conv = DoubleConv(in_channels, in_channels // 2, n_dimensions, activation=activation)\n",
    "\n",
    "    def forward(self, x: torch.Tensor, x_encoder_output: torch.Tensor):\n",
    "        x = self.upsampling(x)\n",
    "        x = torch.cat([x_encoder_output, x], dim=1)   # skip-connection. No cropping since we ensure that the size is the same.\n",
    "        x = self.double_conv(x)\n",
    "        return x\n",
    "\n",
    "\n",
    "\n",
    "class UNet3d(nn.Module):\n",
    "    def __init__(\n",
    "            self, in_channels=1, out_channels=2, init_filters=32, n_blocks=3,\n",
    "            activation=\"LeakyReLU\",\n",
    "            downsampling_kernel=(2, 2, 1), downsampling_mode=\"max\",\n",
    "            upsampling_kernel=(2, 2, 1), upsampling_mode=\"linear_interpolation\",\n",
    "    ):\n",
    "        \"\"\"\n",
    "        Assume that input is 5D tensor of shape (batch_size, channels, Nx, Ny, Nt)\n",
    "        where Nx is the image width and Ny is the image height.\n",
    "        Assume that batch_size = 1, channels = 1, Nx = Ny (square image), Nt = 1 (static image).\n",
    "        NOTE: The convention used in pytorch documentation is (batch_size, channels, Nt, Ny, Nx).\n",
    "        \"channels\" is equivalent to the number of filters or features.\n",
    "\n",
    "        Our paper (figure 2):\n",
    "            - in_channels = 1\n",
    "            - out_channels = 2\n",
    "            - init_filters = 32\n",
    "            - n_blocks = 3\n",
    "            - pooling: max pooling 2x2\n",
    "            - pool padding = 1\n",
    "                - 1 padding will keep the size of the \"image\" the same after each convolution. The skip-connection will NOT crop the encoder's output.\n",
    "            - upsampling kernel: 2x2 ?\n",
    "            - up_mode: linear interpolation\n",
    "\n",
    "        U-Net paper (2015, Olaf Ronneberger https://arxiv.org/abs/1505.04597):\n",
    "            - in_channels = 1\n",
    "            - out_channels = 2\n",
    "            - init_filters = 64\n",
    "            - n_blocks = 4\n",
    "            - pooling: max pooling 2x2\n",
    "            - pool padding = 0\n",
    "                - 0 padding will reduce the size of the \"image\" by 2 in each dimension after each convolution. The skip-connection will have to crop the encoder's output to match the decoder's input.\n",
    "            - upsampling kernel: 2x2\n",
    "            - up_mode: ? (linear interpolation or transposed convolution)\n",
    "        \"\"\"\n",
    "        super(UNet3d, self).__init__()\n",
    "        \n",
    "        self.c0x0 = DoubleConv( # TODO: Find a better name\n",
    "            in_channels=in_channels, \n",
    "            out_channels=init_filters,\n",
    "            activation=activation\n",
    "        )\n",
    "        self.encoder = nn.ModuleList([\n",
    "            EncodeBlock3d(\n",
    "                in_channels=init_filters * 2**i,\n",
    "                activation=activation,\n",
    "                downsampling_kernel=downsampling_kernel,\n",
    "                downsampling_mode=downsampling_mode\n",
    "            ) for i in range(n_blocks)\n",
    "        ])\n",
    "        self.decoder = nn.ModuleList([\n",
    "            DecodeBlock3d(\n",
    "                in_channels=init_filters * 2**(n_blocks-i),\n",
    "                activation=activation, \n",
    "                upsampling_kernel=upsampling_kernel,\n",
    "                upsampling_mode=upsampling_mode\n",
    "            ) for i in range(n_blocks)\n",
    "        ])\n",
    "        # 1x1x1 convo\n",
    "        self.c1x1 = nn.Conv3d( # TODO: Find a better name\n",
    "            in_channels=init_filters,\n",
    "            out_channels=out_channels,\n",
    "            kernel_size=(1, 1, 1), stride=(1, 1, 1), padding=(0, 0, 0)\n",
    "        )\n",
    "\n",
    "    def forward(self, x: torch.Tensor):\n",
    "        # Assume that x is 5D tensor of shape (batch_size, channels, Nx, Ny, Nt)\n",
    "        # where Nx is the image width and Ny is the image height.\n",
    "        # Aslo assume that batch_size = 1, channels = 1, Nx = Ny (square image), Nt = 1 (static image).\n",
    "        # NOTE: The convention used in pytorch documentation is (batch_size, channels, Nt, Ny, Nx).\n",
    "        assert len(x.size()) == 5, f\"Expected 5D tensor, got {x.size()}\"\n",
    "        batch_size, channels, Nx, Ny, Nt = x.size()\n",
    "        assert channels == 1, f\"Expected 1 channel, got {channels}\" # TODO: Allow multiple channels (colour images)\n",
    "        assert Nx == Ny, f\"Expected square image, got ({Nx}, {Ny})\" # TODO: Allow non-square images\n",
    "        assert Nt == 1, f\"Expected 1 time step, got {Nt}\" # TODO: Allow multiple time steps (dynamic images, video)\n",
    "        assert batch_size == 1, f\"Expected batch size 1, got {batch_size}\" # TODO: Might train with larger batch size\n",
    "\n",
    "        n_blocks = len(self.encoder)\n",
    "        assert Nx >= 2**n_blocks, f\"Expected width (Nx) of at least {2**n_blocks}, got {Nx}\"\n",
    "        assert Ny >= 2**n_blocks, f\"Expected height (Ny) of at least {2**n_blocks}, got {Ny}\"\n",
    "\n",
    "        x = self.c0x0(x)\n",
    "\n",
    "        encoder_outputs = []\n",
    "        for i, enc_block in enumerate(self.encoder):\n",
    "            encoder_outputs.append(x)\n",
    "            x = enc_block(x)\n",
    "        for i, dec_block in enumerate(self.decoder):\n",
    "            x = dec_block(x, encoder_outputs[-i-1]) # skip-connection inside\n",
    "            \n",
    "        x = self.c1x1(x)\n",
    "\n",
    "        for enc_output in encoder_outputs:\n",
    "            del enc_output\n",
    "        del encoder_outputs\n",
    "\n",
    "        return x"
   ]
  },
  {
   "cell_type": "code",
   "execution_count": 39,
   "metadata": {},
   "outputs": [],
   "source": [
    "def assert_and_clear_cuda(expected, actual):\n",
    "    try:\n",
    "        assert expected == actual\n",
    "    except AssertionError:\n",
    "        print(f\"!!! ERROR !!! Expected: {expected}, got {actual}\")\n",
    "        with torch.no_grad():\n",
    "            torch.cuda.empty_cache()\n",
    "    \n",
    "\n",
    "def test_unet_3d():  \n",
    "    if DISABLING_TESTS: return  \n",
    "    input_tensor = torch.randn(1, 1, 512, 512, 1)  # batch size of 1, 1 channel, 512x512x1 volume\n",
    "    \n",
    "    config = get_config()\n",
    "\n",
    "    # Example usage\n",
    "    model = UNet3d(\n",
    "        init_filters=32,\n",
    "        n_blocks=config[\"n_blocks\"],\n",
    "        activation=\"ReLU\",\n",
    "        downsampling_kernel=(2, 2, 1),\n",
    "        downsampling_mode=config[\"downsampling_mode\"],\n",
    "        upsampling_kernel=(2, 2, 1),\n",
    "        upsampling_mode=config[\"upsampling_mode\"],\n",
    "    )\n",
    "    output = model(input_tensor)\n",
    "    print(f\"UNet output shape: {output.shape}\")\n",
    "    assert_and_clear_cuda((1, 2, 512, 512, 1), output.shape)\n",
    "\n",
    "\n",
    "    conv_3d = nn.Conv3d(1, 64, kernel_size=3, stride=1, padding=1)\n",
    "    conv_3d_output = conv_3d(input_tensor)\n",
    "    print(f\"Conv3d output shape: {conv_3d_output.shape}\")\n",
    "    assert_and_clear_cuda((1, 64, 512, 512, 1), conv_3d_output.shape)\n",
    "\n",
    "\n",
    "    double_conv_3d = DoubleConv(64, 128)\n",
    "    double_conv_output = double_conv_3d(conv_3d_output)\n",
    "    print(f\"{DoubleConv.__name__} output shape: {double_conv_output.shape}\")\n",
    "    assert_and_clear_cuda((1, 128, 512, 512, 1), double_conv_output.shape)\n",
    "\n",
    "\n",
    "    max_3d = nn.MaxPool3d((3, 3, 1), stride=(2, 2, 1), padding=(1, 1, 0))\n",
    "    max_3d_output_1 = max_3d(input_tensor)\n",
    "    print(f\"MaxPool3d output 1 shape: {max_3d_output_1.shape}\")\n",
    "    assert_and_clear_cuda((1, 1, 256, 256, 1), max_3d_output_1.shape)\n",
    "\n",
    "    max_3d_input = torch.randn(1, 128, 512, 512, 1)\n",
    "    max_3d_output_2 = max_3d(max_3d_input)\n",
    "    print(f\"MaxPool3d output 2 shape: {max_3d_output_2.shape}\")\n",
    "    assert_and_clear_cuda((1, 128, 256, 256, 1), max_3d_output_2.shape)\n",
    "\n",
    "    conv_transpose_3d = nn.ConvTranspose3d(\n",
    "        1024, 512, \n",
    "        kernel_size=(3, 3, 1), \n",
    "        stride=(2, 2, 1), \n",
    "        padding=(1, 1, 0), \n",
    "        output_padding=(1, 1, 0)\n",
    "    )\n",
    "    conv_transpose_3d_input = torch.randn(1, 1024, 32, 32, 1)\n",
    "    conv_transpose_3d_output = conv_transpose_3d(conv_transpose_3d_input)\n",
    "    print(f\"ConvTranspose3d output shape: {conv_transpose_3d_output.shape}\")\n",
    "    assert_and_clear_cuda((1, 512, 64, 64, 1), conv_transpose_3d_output.shape)\n",
    "\n",
    "\n",
    "    up_sample = nn.Upsample(\n",
    "        scale_factor=(2, 2, 1), \n",
    "        mode='trilinear', align_corners=True) # What difference does it make if align_corners is True or False?\n",
    "    up_sample_output = up_sample(input_tensor)\n",
    "    print(f\"Upsample output shape: {up_sample_output.shape}\")\n",
    "    assert_and_clear_cuda((1, 1, 1024, 1024, 1), up_sample_output.shape)\n",
    "                    \n",
    "\n",
    "    # # print(f\"\\n{model}\")\n",
    "\n",
    "    with torch.no_grad():\n",
    "        torch.cuda.empty_cache()\n",
    "\n",
    "    # # Delete the model and the output tensor\n",
    "    # del model\n",
    "    # del output\n",
    "    # torch.cuda.empty_cache()\n",
    "\n",
    "test_unet_3d()\n",
    "with torch.no_grad():\n",
    "    torch.cuda.empty_cache()"
   ]
  },
  {
   "cell_type": "code",
   "execution_count": 40,
   "metadata": {},
   "outputs": [],
   "source": [
    "with torch.no_grad():\n",
    "    torch.cuda.empty_cache()"
   ]
  },
  {
   "cell_type": "markdown",
   "metadata": {},
   "source": [
    "------\n",
    "\n",
    "### Create data loader"
   ]
  },
  {
   "cell_type": "code",
   "execution_count": 41,
   "metadata": {},
   "outputs": [],
   "source": [
    "# Code adapted from ...\n",
    "\n",
    "def get_datasets(config):\n",
    "    min_sigma = config[\"min_sigma\"]\n",
    "    max_sigma = config[\"max_sigma\"]\n",
    "    resize_square = config[\"resize_square\"]\n",
    "    device = config[\"device\"]\n",
    "\n",
    "    train_num_samples = config[\"train_num_samples\"]\n",
    "    train_ids = list(range(0, train_num_samples))\n",
    "    dataset_train = DynamicImageStaticDenoisingDataset(\n",
    "        data_path=config[\"train_data_path\"],\n",
    "        ids=train_ids,\n",
    "        sigma=(min_sigma, max_sigma),\n",
    "        resize_square=resize_square,\n",
    "        # strides=[120, 120, 1],\n",
    "        # patches_size=[120, 120, 1],\n",
    "        # strides=[256, 256, 1], # stride < patch will allow overlapping patches, maybe good to blend the patches?\n",
    "        # strides=[512, 512, 1],\n",
    "        # patches_size=[512, 512, 1],\n",
    "        device=device\n",
    "    )\n",
    "\n",
    "    val_num_samples = config[\"val_num_samples\"]\n",
    "    val_ids = list(range(0, val_num_samples))\n",
    "    dataset_valid = DynamicImageStaticDenoisingDataset(\n",
    "        data_path=config[\"val_data_path\"],\n",
    "        ids=val_ids,\n",
    "        sigma=(min_sigma, max_sigma),\n",
    "        resize_square=resize_square,\n",
    "        # strides=[120, 120, 1],\n",
    "        # patches_size=[120, 120, 1],\n",
    "        # strides=[256, 256, 1], # stride < patch will allow overlapping patches, maybe good to blend the patches?\n",
    "        # strides=[512, 512, 1],\n",
    "        # patches_size=[512, 512, 1],\n",
    "        device=device\n",
    "    )\n",
    "\n",
    "    test_num_samples = config[\"test_num_samples\"]\n",
    "    test_ids = list(range(0, test_num_samples))\n",
    "    dataset_test = DynamicImageStaticDenoisingDataset(\n",
    "        data_path=config[\"test_data_path\"],\n",
    "        ids=test_ids,\n",
    "        sigma=(min_sigma, max_sigma),\n",
    "        resize_square=resize_square,\n",
    "        # strides=[120, 120, 1],\n",
    "        # patches_size=[120, 120, 1],\n",
    "        # strides=[256, 256, 1], # stride < patch will allow overlapping patches, maybe good to blend the patches?\n",
    "        # strides=[512, 512, 1],\n",
    "        # patches_size=[512, 512, 1],\n",
    "        device=device\n",
    "    )\n",
    "\n",
    "    print(f\"Number of training samples: {len(dataset_train)}\")\n",
    "    print(f\"Number of validation samples: {len(dataset_valid)}\")\n",
    "    print(f\"Number of test samples: {len(dataset_test)}\")\n",
    "\n",
    "    return dataset_train, dataset_valid, dataset_test\n",
    "\n",
    "\n",
    "\n",
    "def get_dataloaders(config):\n",
    "\n",
    "    dataset_train, dataset_valid, dataset_test = get_datasets(config)\n",
    "    batch_size = config[\"batch_size\"]\n",
    "    device = config[\"device\"]\n",
    "    random_seed = config[\"random_seed\"]\n",
    "\n",
    "    # Create training dataloader\n",
    "    # train_sampler = WeightedRandomSampler(dataset_train.samples_weights, len(dataset_train.samples_weights))\n",
    "    dataloader_train = torch.utils.data.DataLoader(\n",
    "        dataset_train, batch_size=batch_size, \n",
    "        # sampler=train_sampler,\n",
    "        generator=torch.Generator(device=device).manual_seed(random_seed),\n",
    "        shuffle=True,\n",
    "    )\n",
    "\n",
    "    # Create validation dataloader \n",
    "    # val_sampler = WeightedRandomSampler(dataset_valid.samples_weights, len(dataset_valid.samples_weights))\n",
    "    dataloader_valid = torch.utils.data.DataLoader(\n",
    "        dataset_valid, batch_size=batch_size, \n",
    "        # sampler=val_sampler,\n",
    "        generator=torch.Generator(device=device).manual_seed(random_seed),\n",
    "        shuffle=False,\n",
    "    )\n",
    "\n",
    "    # Create test dataloader\n",
    "    test_sampler = WeightedRandomSampler(dataset_test.samples_weights, len(dataset_test.samples_weights))\n",
    "    dataloader_test = torch.utils.data.DataLoader(\n",
    "        dataset_test, batch_size=batch_size, \n",
    "        # sampler=test_sampler,\n",
    "        generator=torch.Generator(device=device).manual_seed(random_seed),\n",
    "        shuffle=False,\n",
    "    )\n",
    "\n",
    "    return (\n",
    "        dataloader_train, \n",
    "        dataloader_valid, \n",
    "        dataloader_test,\n",
    "    )"
   ]
  },
  {
   "cell_type": "markdown",
   "metadata": {},
   "source": [
    "#### Test data loader"
   ]
  },
  {
   "cell_type": "code",
   "execution_count": 42,
   "metadata": {},
   "outputs": [],
   "source": [
    "def test_dataloader():\n",
    "    if DISABLING_TESTS: return\n",
    "    dataloader_train, dataloader_valid, dataloader_test = get_dataloaders(get_config())\n",
    "    for i, (x, y) in enumerate(dataloader_train):\n",
    "        print(f\"Batch {i+1}\")\n",
    "        print(f\"x size: {x.size()}\")\n",
    "        print(f\"y size: {y.size()}\")\n",
    "        plt.subplot(1, 2, 1)\n",
    "        plt.imshow(x.squeeze(0).squeeze(0).squeeze(-1).to(\"cpu\"), cmap='gray')\n",
    "        plt.axis('off')\n",
    "        plt.subplot(1, 2, 2)\n",
    "        plt.imshow(y.squeeze(0).squeeze(0).squeeze(-1).to(\"cpu\"), cmap='gray')\n",
    "        plt.axis('off')\n",
    "        plt.show();\n",
    "        if i == 5:\n",
    "            break\n",
    "\n",
    "    del dataloader_train\n",
    "    del dataloader_valid\n",
    "    del dataloader_test\n",
    "\n",
    "test_dataloader()"
   ]
  },
  {
   "cell_type": "markdown",
   "metadata": {},
   "source": [
    "------\n",
    "\n",
    "### Training"
   ]
  },
  {
   "cell_type": "markdown",
   "metadata": {},
   "source": [
    "#### Code for one epoch"
   ]
  },
  {
   "cell_type": "code",
   "execution_count": 43,
   "metadata": {},
   "outputs": [],
   "source": [
    "# Code taken from https://www.github.com/koflera/LearningRegularizationParameterMaps\n",
    "\n",
    "# def train_iteration(optimizer, model, loss_func, sample):\n",
    "#     optimizer.zero_grad(set_to_none=True)  # Zero your gradients for every batch!\n",
    "#     noisy_image, clean_image = sample\n",
    "#     denoised_image = model(noisy_image)\n",
    "#     loss = loss_func(denoised_image, clean_image)\n",
    "#     loss.backward()\n",
    "    \n",
    "#     if loss.item() != loss.item():\n",
    "#         raise ValueError(\"NaN returned by loss function...\")\n",
    "\n",
    "#     optimizer.step()\n",
    "\n",
    "#     denoised_image = denoised_image.squeeze(0).squeeze(0).squeeze(-1)\n",
    "#     clean_image = clean_image.squeeze(0).squeeze(0).squeeze(-1)\n",
    "\n",
    "#     psnr = PSNR(denoised_image, clean_image)\n",
    "#     ssim = SSIM(denoised_image, clean_image)\n",
    "\n",
    "#     return loss.item(), psnr, ssim\n",
    "\n",
    "\n",
    "def train_epoch(model, data_loader, optimizer, loss_func) -> float:\n",
    "    running_loss = 0.\n",
    "    running_psnr = 0.\n",
    "    running_ssim = 0.\n",
    "    num_batches = len(data_loader)\n",
    "    # for sample in tqdm(data_loader): # tqdm helps show a nice progress bar\n",
    "    for sample in data_loader:\n",
    "        # loss, psnr, ssim = train_iteration(optimizer, model, loss_func, sample)\n",
    "\n",
    "        optimizer.zero_grad(set_to_none=True)  # Zero your gradients for every batch! TODO: Why?\n",
    "        noisy_image_5d, clean_image_5d = sample\n",
    "        denoised_image_5d = model(noisy_image_5d)\n",
    "        loss = loss_func(denoised_image_5d, clean_image_5d)\n",
    "\n",
    "        loss.backward()\n",
    "        if loss.item() != loss.item():\n",
    "            raise ValueError(\"NaN returned by loss function...\")\n",
    "        optimizer.step()\n",
    "\n",
    "        denoised_image_2d = denoised_image_5d.squeeze(0).squeeze(0).squeeze(-1)\n",
    "        clean_image_2d = clean_image_5d.squeeze(0).squeeze(0).squeeze(-1)\n",
    "        psnr = PSNR(denoised_image_2d, clean_image_2d)\n",
    "        ssim = SSIM(denoised_image_2d, clean_image_2d)\n",
    "\n",
    "        running_loss += loss.item()\n",
    "        running_psnr += psnr\n",
    "        running_ssim += ssim\n",
    "\n",
    "        # Free up memory\n",
    "        del loss \n",
    "        del denoised_image_5d # Delete output of model\n",
    "        del denoised_image_2d # Delete auxiliary variable\n",
    "        del clean_image_2d # Delete auxiliary variable\n",
    "        del noisy_image_5d # Noisy image is generated each time so can delete it\n",
    "        del clean_image_5d # TODO: Is this a copy that I can delete or a reference to the original?\n",
    "\n",
    "    avg_loss = running_loss / num_batches\n",
    "    avg_psnr = running_psnr / num_batches\n",
    "    avg_ssim = running_ssim / num_batches\n",
    "\n",
    "    del running_loss\n",
    "    del running_psnr\n",
    "    del running_ssim\n",
    "    del num_batches\n",
    "\n",
    "    return avg_loss, avg_psnr, avg_ssim\n",
    "\n",
    "\n",
    "# def validate_iteration(model, loss_func, sample):\n",
    "#     noisy_image, clean_image = sample\n",
    "#     denoised_image = model(noisy_image)\n",
    "#     loss = loss_func(denoised_image, clean_image)\n",
    "#     denoised_image = denoised_image.squeeze(0).squeeze(0).squeeze(-1)\n",
    "#     clean_image = clean_image.squeeze(0).squeeze(0).squeeze(-1)\n",
    "\n",
    "#     psnr = PSNR(denoised_image, clean_image)\n",
    "#     ssim = SSIM(denoised_image, clean_image)\n",
    "\n",
    "#     return loss.item(), psnr, ssim\n",
    "\n",
    "\n",
    "def validate_epoch(model, data_loader, loss_func) -> float:\n",
    "    running_loss = 0.\n",
    "    running_psnr = 0.\n",
    "    running_ssim = 0.\n",
    "    num_batches = len(data_loader)\n",
    "    # for sample in tqdm(data_loader): # tqdm helps show a nice progress bar\n",
    "    for sample in data_loader:\n",
    "        # loss, psnr, ssim = validate_iteration(model, loss_func, sample)\n",
    "\n",
    "        noisy_image_5d, clean_image_5d = sample\n",
    "        denoised_image_5d = model(noisy_image_5d)\n",
    "        loss = loss_func(denoised_image_5d, clean_image_5d)\n",
    "\n",
    "        denoised_image_2d = denoised_image_5d.squeeze(0).squeeze(0).squeeze(-1)\n",
    "        clean_image_2d = clean_image_5d.squeeze(0).squeeze(0).squeeze(-1)\n",
    "        psnr = PSNR(denoised_image_2d, clean_image_2d)\n",
    "        ssim = SSIM(denoised_image_2d, clean_image_2d)\n",
    "\n",
    "        running_loss += loss.item()\n",
    "        running_psnr += psnr\n",
    "        running_ssim += ssim\n",
    "\n",
    "        # Free up memory\n",
    "        del loss \n",
    "        del denoised_image_5d # Delete output of model\n",
    "        del denoised_image_2d # Delete auxiliary variable\n",
    "        del clean_image_2d # Delete auxiliary variable\n",
    "        del noisy_image_5d # Noisy image is generated each time so can delete it\n",
    "        del clean_image_5d # TODO: Is this a copy that I can delete or a reference to the original?\n",
    "\n",
    "    avg_loss = running_loss / num_batches\n",
    "    avg_psnr = running_psnr / num_batches\n",
    "    avg_ssim = running_ssim / num_batches\n",
    "\n",
    "    del running_loss\n",
    "    del running_psnr\n",
    "    del running_ssim\n",
    "    del num_batches\n",
    "\n",
    "    return avg_loss, avg_psnr, avg_ssim\n"
   ]
  },
  {
   "cell_type": "markdown",
   "metadata": {},
   "source": [
    "#### Prep for training"
   ]
  },
  {
   "cell_type": "code",
   "execution_count": 44,
   "metadata": {},
   "outputs": [],
   "source": [
    "with torch.no_grad():\n",
    "    torch.cuda.empty_cache()"
   ]
  },
  {
   "cell_type": "code",
   "execution_count": 45,
   "metadata": {},
   "outputs": [],
   "source": [
    "def save_image(image_tensor_2D, image_name, folder_name):\n",
    "    image_tensor_2D = torch.clamp(image_tensor_2D, 0, 1) # Clip the values to 0 and 1\n",
    "    image_numpy = image_tensor_2D.to(\"cpu\").detach().numpy()\n",
    "    image_numpy_256 = image_numpy * 255\n",
    "    image_numpy_256_uint8 = image_numpy_256.astype(np.uint8)\n",
    "    image_to_save = Image.fromarray(image_numpy_256_uint8)  # TODO: Is there a shorter way to do this, similar to .convert(\"L\")?\n",
    "    image_to_save.save(f\"{folder_name}/{image_name}.png\")"
   ]
  },
  {
   "cell_type": "code",
   "execution_count": 46,
   "metadata": {},
   "outputs": [],
   "source": [
    "def make_testcase():\n",
    "    CHEST_XRAY_BASE_DATA_PATH = \"../data/chest_xray\"\n",
    "    image = Image.open(f\"{CHEST_XRAY_BASE_DATA_PATH}/train/NORMAL/IM-0115-0001.jpeg\")\n",
    "    image = crop_to_square_and_resize(image, 512)\n",
    "\n",
    "    folder_name = \"testcases_tmp\"\n",
    "\n",
    "    image_name = \"chest_xray_clean\"\n",
    "    image.save(f\"{folder_name}/{image_name}.png\") \n",
    "\n",
    "    # Add noise to the image\n",
    "    noisy_image_tensor_4D = add_noise(convert_to_tensor_4D(convert_to_numpy(image)), sigma=0.5)\n",
    "    noisy_image_tensor_2D = noisy_image_tensor_4D.squeeze(0).squeeze(-1)\n",
    "    noisy_image_name = \"chest_xray_noisy\"\n",
    "    save_image(noisy_image_tensor_2D, \"chest_xray_noisy\", folder_name)\n",
    "\n",
    "    # Read the saved images\n",
    "    clean_image = Image.open(f\"{folder_name}/{image_name}.png\")\n",
    "    noisy_image = Image.open(f\"{folder_name}/{noisy_image_name}.png\")\n",
    "    \n",
    "\n",
    "    plt.subplot(1, 2, 1)\n",
    "    plt.imshow(clean_image, cmap='gray')\n",
    "    plt.axis('off')\n",
    "    plt.title(\"Clean Image\")\n",
    "    plt.subplot(1, 2, 2)\n",
    "    plt.imshow(noisy_image, cmap='gray')\n",
    "    plt.axis('off')\n",
    "    plt.title(\"Noisy Image\")\n",
    "    plt.show();\n",
    "\n",
    "# make_testcase()"
   ]
  },
  {
   "cell_type": "markdown",
   "metadata": {},
   "source": [
    "#### Optional: Use wandb to log the training process"
   ]
  },
  {
   "cell_type": "code",
   "execution_count": 47,
   "metadata": {},
   "outputs": [],
   "source": [
    "# Optional: Use wandb to log the training process\n",
    "# !wandb login\n",
    "def init_wandb(config):\n",
    "    project_name = config[\"project\"]\n",
    "    os.environ['WANDB_NOTEBOOK_NAME'] = project_name\n",
    "    os.environ['WANDB_MODE'] = config[\"wandb_mode\"] # https://docs.wandb.ai/quickstart\n",
    "    wandb.login()\n",
    "    # start a new wandb run to track this script\n",
    "    wandb.init(\n",
    "        # set the wandb project where this run will be logged\n",
    "        project=project_name,\n",
    "\n",
    "        # track hyperparameters and run metadata\n",
    "        config=get_config(),\n",
    "    )"
   ]
  },
  {
   "cell_type": "code",
   "execution_count": 48,
   "metadata": {},
   "outputs": [],
   "source": [
    "# def temp_log_to_files():\n",
    "#     model_states_dir = \"tmp_2/model-chest_xray-2024_06_06_05_51_27\"\n",
    "#     config = get_config()\n",
    "#     with open(f\"{model_states_dir}/config.json\", \"w\") as f:\n",
    "#         json.dump(config, f, indent=4)\n",
    "#     with open(f\"{model_states_dir}/config.yaml\", \"w\") as f:\n",
    "#         yaml.dump(config, f)\n",
    "#     with open(f\"{model_states_dir}/config.txt\", \"w\") as f:\n",
    "#         f.write(str(config))\n",
    "\n",
    "# def test_temp_log_to_files():\n",
    "#     temp_log_to_files()\n",
    "\n",
    "# test_temp_log_to_files()"
   ]
  },
  {
   "cell_type": "markdown",
   "metadata": {},
   "source": [
    "#### Start training"
   ]
  },
  {
   "cell_type": "code",
   "execution_count": 49,
   "metadata": {},
   "outputs": [],
   "source": [
    "# Code adapted from https://www.github.com/koflera/LearningRegularizationParameterMaps\n",
    "\n",
    "def start_training(config, pretrained_model_path=None, is_state_dict=False, start_epoch=0):\n",
    "    \n",
    "    dataloader_train, dataloader_valid, dataloader_test = get_dataloaders(config)\n",
    "\n",
    "    del dataloader_test # Not used for now\n",
    "\n",
    "    if pretrained_model_path is None or is_state_dict:\n",
    "        # Define CNN block\n",
    "        unet = UNet3d(\n",
    "            in_channels=config[\"in_channels\"],\n",
    "            out_channels=config[\"out_channels\"],\n",
    "            init_filters=config[\"init_filters\"],\n",
    "            n_blocks=config[\"n_blocks\"],\n",
    "            activation=config[\"activation\"],\n",
    "            downsampling_kernel=config[\"downsampling_kernel\"],\n",
    "            downsampling_mode=config[\"downsampling_mode\"],\n",
    "            upsampling_kernel=config[\"upsampling_kernel\"],\n",
    "            upsampling_mode=config[\"upsampling_mode\"],\n",
    "        ).to(DEVICE)\n",
    "\n",
    "        # Construct primal-dual operator with nn\n",
    "        pdhg = DynamicImageStaticPrimalDualNN(\n",
    "            cnn_block=unet, \n",
    "            T=config[\"T\"],\n",
    "            phase=\"training\",\n",
    "            up_bound=config[\"up_bound\"],\n",
    "        ).to(DEVICE)\n",
    "        if is_state_dict:\n",
    "            pdhg.load_state_dict(torch.load(f\"{model_states_dir}/{pretrained_model_path}.pt\"))\n",
    "    else:\n",
    "        pdhg = torch.load(f\"{model_states_dir}/{pretrained_model_path}.pt\")\n",
    "\n",
    "    pdhg.train(True)\n",
    "\n",
    "    # TODO: Sometimes, creating the optimizer gives this error:\n",
    "    #   AttributeError: partially initialized module 'torch._dynamo' has no attribute 'trace_rules' (most likely due to a circular import)\n",
    "    optimizer = torch.optim.Adam(pdhg.parameters(), lr=config[\"learning_rate\"])\n",
    "    loss_function = torch.nn.MSELoss()\n",
    "\n",
    "    num_epochs = config[\"epochs\"]\n",
    "\n",
    "    save_epoch_local = config[\"save_epoch_local\"]\n",
    "    save_epoch_wandb = config[\"save_epoch_wandb\"]\n",
    "\n",
    "    time = datetime.datetime.now().strftime(\"%Y_%m_%d_%H_%M_%S\")\n",
    "    project = config[\"project\"]\n",
    "    model_name = f\"model-{project}-{time}\"\n",
    "\n",
    "    # Prepare to save the model\n",
    "    save_dir = config[\"save_dir\"]\n",
    "    model_states_dir = f\"{save_dir}/{model_name}\"\n",
    "\n",
    "    os.makedirs(model_states_dir, exist_ok=True)\n",
    "\n",
    "    def log_to_files():\n",
    "        with open(f\"{model_states_dir}/config.json\", \"w\") as f:\n",
    "            json.dump(config, f, indent=4)\n",
    "        with open(f\"{model_states_dir}/config.yaml\", \"w\") as f:\n",
    "            yaml.dump(config, f)\n",
    "        with open(f\"{model_states_dir}/config.txt\", \"w\") as f:\n",
    "            f.write(str(config))\n",
    "        with open(f\"{model_states_dir}/unet.txt\", \"w\") as f:\n",
    "            f.write(str(unet))\n",
    "        with open(f\"{model_states_dir}/pdhg_net.txt\", \"w\") as f:\n",
    "            f.write(str(pdhg))\n",
    "\n",
    "        def log_data(dataloader, stage):\n",
    "            dataset = dataloader.dataset\n",
    "            with open(f\"{model_states_dir}/dataloader_{stage}.txt\", \"w\") as f:\n",
    "                f.write(f\"Batch size: {dataloader.batch_size}\\n\\n\")\n",
    "                f.write(f\"Number of batches: {len(dataloader)}\\n\\n\")\n",
    "                f.write(f\"Number of samples: {len(dataset)}\\n\\n\")\n",
    "                f.write(f\"Samples weights:\\n{str(dataset.samples_weights)}\\n\\n\")\n",
    "                f.write(f\"Sample 0 size:\\n{str(len(dataset[0]))}  {str(dataset[0][0].size())}\\n\\n\")\n",
    "                f.write(f\"Sample 0:\\n{str(dataset[0])}\\n\\n\")\n",
    "        log_data(dataloader_train, \"train\")\n",
    "        log_data(dataloader_valid, \"val\")\n",
    "        # log_data(dataloader_test, \"test\")\n",
    "\n",
    "    log_to_files()\n",
    "\n",
    "    # noisy_image_path = \"./testcases/chest_xray_noisy.png\"\n",
    "    # clean_image_path = \"./testcases/chest_xray_clean.png\"\n",
    "\n",
    "    # def get_image(image_path):\n",
    "    #     image = Image.open(image_path)\n",
    "    #     image = image.convert(\"L\")\n",
    "    #     image_data = np.asarray(image)\n",
    "    #     image_data = convert_to_tensor_4D(image_data)\n",
    "    #     image_data = image_data.unsqueeze(0).to(DEVICE)\n",
    "    #     return image_data\n",
    "\n",
    "    # noisy_image_data = get_image(noisy_image_path)\n",
    "    # clean_image_data = get_image(clean_image_path)\n",
    "\n",
    "    # dataset_train = MyDataset(noisy_image_path, clean_image_path)\n",
    "    # dataset_valid = MyDataset(noisy_image_path, clean_image_path)\n",
    "\n",
    "    # dataloader_train = torch.utils.data.DataLoader(\n",
    "    #     dataset_train, batch_size=1, \n",
    "    #     generator=torch.Generator(device=DEVICE),\n",
    "    #     shuffle=True)\n",
    "    # dataloader_valid = torch.utils.data.DataLoader(\n",
    "    #     dataset_valid, batch_size=1, \n",
    "    #     generator=torch.Generator(device=DEVICE),\n",
    "    #     shuffle=False)\n",
    "\n",
    "\n",
    "    init_wandb(config)\n",
    "\n",
    "    # for epoch in range(start_epoch, num_epochs):\n",
    "    for epoch in tqdm(range(start_epoch, num_epochs)):\n",
    "\n",
    "        # Model training\n",
    "        pdhg.train(True)\n",
    "        training_loss, training_psnr, training_ssim = train_epoch(pdhg, dataloader_train, optimizer, loss_function)\n",
    "        # training_loss, training_psnr, training_ssim = train_iteration(optimizer, pdhg, loss_function, sample=(noisy_image_data, clean_image_data))\n",
    "        # print(f\"Epoch {epoch+1} - TRAINING LOSS: {training_loss} - TRAINING PSNR: {training_psnr} - TRAINING SSIM: {training_ssim}\")\n",
    "\n",
    "        # Optional: Use wandb to log training progress\n",
    "        wandb.log({\"training_loss\": training_loss})\n",
    "        wandb.log({\"training PSNR\": training_psnr})\n",
    "        wandb.log({\"training SSIM\": training_ssim})\n",
    "\n",
    "        del training_loss\n",
    "        del training_psnr\n",
    "        del training_ssim\n",
    "\n",
    "        pdhg.train(False)\n",
    "        with torch.no_grad():\n",
    "            torch.cuda.empty_cache()\n",
    "\n",
    "            # Model validation\n",
    "            validation_loss, validation_psnr, validation_ssim = validate_epoch(pdhg, dataloader_valid, loss_function)\n",
    "            # validation_loss, validation_psnr, validation_ssim = validate_iteration(pdhg, loss_function, sample=(noisy_image_data, clean_image_data))\n",
    "            # print(f\"Epoch {epoch+1} - VALIDATION LOSS: {validation_loss} - VALIDATION PSNR: {validation_psnr} - VALIDATION SSIM: {validation_ssim}\")\n",
    "            time = datetime.datetime.now().strftime(\"%Y_%m_%d_%H_%M_%S\")\n",
    "\n",
    "            # Optional: Use wandb to log training progress\n",
    "            wandb.log({\"validation_loss\": validation_loss})\n",
    "            wandb.log({\"validation PSNR\": validation_psnr})\n",
    "            wandb.log({\"validation SSIM\": validation_ssim})\n",
    "\n",
    "            torch.cuda.empty_cache()\n",
    "\n",
    "\n",
    "        if (epoch+1) % save_epoch_local == 0:\n",
    "            current_model_name = f\"model_epoch_{epoch+1}\"\n",
    "            torch.save(pdhg, f\"{model_states_dir}/{current_model_name}.pt\")\n",
    "            \n",
    "            print(f\"Epoch {epoch+1} - VALIDATION LOSS: {validation_loss} - VALIDATION PSNR: {validation_psnr} - VALIDATION SSIM: {validation_ssim}\")\n",
    "\n",
    "        if (epoch+1) % save_epoch_wandb == 0:\n",
    "            wandb.log_model(f\"{model_states_dir}/{current_model_name}.pt\", name=f\"model_epoch_{epoch+1}\")\n",
    "            \n",
    "        del validation_loss\n",
    "        del validation_psnr\n",
    "        del validation_ssim\n",
    "\n",
    "        torch.cuda.empty_cache()\n",
    "\n",
    "\n",
    "    # Save the entire model\n",
    "    torch.save(pdhg, f\"{model_states_dir}/final_model.pt\")\n",
    "    \n",
    "    wandb.log_model(f\"{model_states_dir}/final_model.pt\", name=f\"final_model\")\n",
    "    wandb.finish()\n",
    "    \n",
    "    with torch.no_grad():\n",
    "        torch.cuda.empty_cache()\n",
    "\n",
    "    return pdhg"
   ]
  },
  {
   "cell_type": "code",
   "execution_count": 50,
   "metadata": {},
   "outputs": [
    {
     "name": "stderr",
     "output_type": "stream",
     "text": [
      "100%|██████████| 200/200 [00:00<00:00, 463.12it/s]\n",
      "100%|██████████| 8/8 [00:00<00:00, 417.64it/s]\n",
      "100%|██████████| 1/1 [00:00<00:00, 155.29it/s]\n"
     ]
    },
    {
     "name": "stdout",
     "output_type": "stream",
     "text": [
      "Number of training samples: 200\n",
      "Number of validation samples: 8\n",
      "Number of test samples: 1\n"
     ]
    },
    {
     "name": "stderr",
     "output_type": "stream",
     "text": [
      "\u001b[34m\u001b[1mwandb\u001b[0m: \u001b[33mWARNING\u001b[0m WANDB_NOTEBOOK_NAME should be a path to a notebook file, couldn't find chest_xray.\n",
      "\u001b[34m\u001b[1mwandb\u001b[0m: Currently logged in as: \u001b[33mtrung-vuthanh24\u001b[0m (\u001b[33mwof\u001b[0m). Use \u001b[1m`wandb login --relogin`\u001b[0m to force relogin\n"
     ]
    },
    {
     "data": {
      "text/html": [
       "wandb version 0.17.1 is available!  To upgrade, please run:\n",
       " $ pip install wandb --upgrade"
      ],
      "text/plain": [
       "<IPython.core.display.HTML object>"
      ]
     },
     "metadata": {},
     "output_type": "display_data"
    },
    {
     "data": {
      "text/html": [
       "Tracking run with wandb version 0.17.0"
      ],
      "text/plain": [
       "<IPython.core.display.HTML object>"
      ]
     },
     "metadata": {},
     "output_type": "display_data"
    },
    {
     "data": {
      "text/html": [
       "Run data is saved locally in <code>/mnt/c/Users/t/Documents/GIT/DISSERTATION/LearningRegularizationParameterMaps/chest_xray/wandb/run-20240614_080642-3n664b15</code>"
      ],
      "text/plain": [
       "<IPython.core.display.HTML object>"
      ]
     },
     "metadata": {},
     "output_type": "display_data"
    },
    {
     "data": {
      "text/html": [
       "Syncing run <strong><a href='https://wandb.ai/wof/chest_xray/runs/3n664b15' target=\"_blank\">fresh-frost-37</a></strong> to <a href='https://wandb.ai/wof/chest_xray' target=\"_blank\">Weights & Biases</a> (<a href='https://wandb.me/run' target=\"_blank\">docs</a>)<br/>"
      ],
      "text/plain": [
       "<IPython.core.display.HTML object>"
      ]
     },
     "metadata": {},
     "output_type": "display_data"
    },
    {
     "data": {
      "text/html": [
       " View project at <a href='https://wandb.ai/wof/chest_xray' target=\"_blank\">https://wandb.ai/wof/chest_xray</a>"
      ],
      "text/plain": [
       "<IPython.core.display.HTML object>"
      ]
     },
     "metadata": {},
     "output_type": "display_data"
    },
    {
     "data": {
      "text/html": [
       " View run at <a href='https://wandb.ai/wof/chest_xray/runs/3n664b15' target=\"_blank\">https://wandb.ai/wof/chest_xray/runs/3n664b15</a>"
      ],
      "text/plain": [
       "<IPython.core.display.HTML object>"
      ]
     },
     "metadata": {},
     "output_type": "display_data"
    },
    {
     "name": "stderr",
     "output_type": "stream",
     "text": [
      "  0%|          | 2/10000 [00:40<55:32:42, 20.00s/it]"
     ]
    },
    {
     "name": "stdout",
     "output_type": "stream",
     "text": [
      "Epoch 2 - VALIDATION LOSS: 0.0005337911716196686 - VALIDATION PSNR: 33.25592041015625 - VALIDATION SSIM: 0.8637917966583818\n"
     ]
    },
    {
     "name": "stderr",
     "output_type": "stream",
     "text": [
      "  0%|          | 4/10000 [01:19<55:15:55, 19.90s/it]"
     ]
    },
    {
     "name": "stdout",
     "output_type": "stream",
     "text": [
      "Epoch 4 - VALIDATION LOSS: 0.0006188004554132931 - VALIDATION PSNR: 32.393150329589844 - VALIDATION SSIM: 0.8470730924285576\n"
     ]
    },
    {
     "name": "stderr",
     "output_type": "stream",
     "text": [
      "  0%|          | 6/10000 [01:58<53:52:18, 19.41s/it]"
     ]
    },
    {
     "name": "stdout",
     "output_type": "stream",
     "text": [
      "Epoch 6 - VALIDATION LOSS: 0.0005608688552456442 - VALIDATION PSNR: 32.62690734863281 - VALIDATION SSIM: 0.8582268024659977\n"
     ]
    },
    {
     "name": "stderr",
     "output_type": "stream",
     "text": [
      "  0%|          | 8/10000 [02:36<53:48:06, 19.38s/it]"
     ]
    },
    {
     "name": "stdout",
     "output_type": "stream",
     "text": [
      "Epoch 8 - VALIDATION LOSS: 0.0006297846084635239 - VALIDATION PSNR: 32.40673065185547 - VALIDATION SSIM: 0.847045889957711\n"
     ]
    },
    {
     "name": "stderr",
     "output_type": "stream",
     "text": [
      "  0%|          | 10/10000 [03:13<51:59:52, 18.74s/it]"
     ]
    },
    {
     "name": "stdout",
     "output_type": "stream",
     "text": [
      "Epoch 10 - VALIDATION LOSS: 0.0006073434014979284 - VALIDATION PSNR: 32.76813507080078 - VALIDATION SSIM: 0.8457245917158573\n"
     ]
    },
    {
     "name": "stderr",
     "output_type": "stream",
     "text": [
      "  0%|          | 12/10000 [03:49<50:35:03, 18.23s/it]"
     ]
    },
    {
     "name": "stdout",
     "output_type": "stream",
     "text": [
      "Epoch 12 - VALIDATION LOSS: 0.0005587493833445478 - VALIDATION PSNR: 32.866764068603516 - VALIDATION SSIM: 0.8653332739253342\n"
     ]
    },
    {
     "name": "stderr",
     "output_type": "stream",
     "text": [
      "  0%|          | 14/10000 [04:25<50:21:21, 18.15s/it]"
     ]
    },
    {
     "name": "stdout",
     "output_type": "stream",
     "text": [
      "Epoch 14 - VALIDATION LOSS: 0.0005414497500169091 - VALIDATION PSNR: 33.30046081542969 - VALIDATION SSIM: 0.8677880385039002\n"
     ]
    },
    {
     "name": "stderr",
     "output_type": "stream",
     "text": [
      "  0%|          | 16/10000 [05:01<50:22:03, 18.16s/it]"
     ]
    },
    {
     "name": "stdout",
     "output_type": "stream",
     "text": [
      "Epoch 16 - VALIDATION LOSS: 0.00038511711136379745 - VALIDATION PSNR: 34.73097610473633 - VALIDATION SSIM: 0.9047115647949279\n"
     ]
    },
    {
     "name": "stderr",
     "output_type": "stream",
     "text": [
      "  0%|          | 18/10000 [05:39<51:12:20, 18.47s/it]"
     ]
    },
    {
     "name": "stdout",
     "output_type": "stream",
     "text": [
      "Epoch 18 - VALIDATION LOSS: 0.0003485238084977027 - VALIDATION PSNR: 35.00579833984375 - VALIDATION SSIM: 0.911307546658665\n"
     ]
    },
    {
     "name": "stderr",
     "output_type": "stream",
     "text": [
      "  0%|          | 19/10000 [05:57<51:30:27, 18.58s/it]"
     ]
    },
    {
     "name": "stdout",
     "output_type": "stream",
     "text": [
      "Epoch 20 - VALIDATION LOSS: 0.00036750297840626445 - VALIDATION PSNR: 34.804840087890625 - VALIDATION SSIM: 0.9062030729459226\n"
     ]
    },
    {
     "name": "stderr",
     "output_type": "stream",
     "text": [
      "  0%|          | 22/10000 [06:55<52:34:46, 18.97s/it]"
     ]
    },
    {
     "name": "stdout",
     "output_type": "stream",
     "text": [
      "Epoch 22 - VALIDATION LOSS: 0.00042413236224092543 - VALIDATION PSNR: 34.339759826660156 - VALIDATION SSIM: 0.8981792823985629\n"
     ]
    },
    {
     "name": "stderr",
     "output_type": "stream",
     "text": [
      "  0%|          | 24/10000 [07:31<50:52:39, 18.36s/it]"
     ]
    },
    {
     "name": "stdout",
     "output_type": "stream",
     "text": [
      "Epoch 24 - VALIDATION LOSS: 0.0005160814016562654 - VALIDATION PSNR: 33.62154006958008 - VALIDATION SSIM: 0.8797710040418224\n"
     ]
    },
    {
     "name": "stderr",
     "output_type": "stream",
     "text": [
      "  0%|          | 26/10000 [08:07<50:46:06, 18.32s/it]"
     ]
    },
    {
     "name": "stdout",
     "output_type": "stream",
     "text": [
      "Epoch 26 - VALIDATION LOSS: 0.00035915549597120844 - VALIDATION PSNR: 34.99225616455078 - VALIDATION SSIM: 0.9089326167777181\n"
     ]
    },
    {
     "name": "stderr",
     "output_type": "stream",
     "text": [
      "  0%|          | 28/10000 [08:42<49:36:26, 17.91s/it]"
     ]
    },
    {
     "name": "stdout",
     "output_type": "stream",
     "text": [
      "Epoch 28 - VALIDATION LOSS: 0.00048430046808789484 - VALIDATION PSNR: 33.52058792114258 - VALIDATION SSIM: 0.8855980309815705\n"
     ]
    },
    {
     "name": "stderr",
     "output_type": "stream",
     "text": [
      "  0%|          | 30/10000 [09:18<49:20:38, 17.82s/it]"
     ]
    },
    {
     "name": "stdout",
     "output_type": "stream",
     "text": [
      "Epoch 30 - VALIDATION LOSS: 0.00035405843118496705 - VALIDATION PSNR: 35.1383171081543 - VALIDATION SSIM: 0.9101697022253274\n"
     ]
    },
    {
     "name": "stderr",
     "output_type": "stream",
     "text": [
      "  0%|          | 32/10000 [09:56<51:27:40, 18.59s/it]"
     ]
    },
    {
     "name": "stdout",
     "output_type": "stream",
     "text": [
      "Epoch 32 - VALIDATION LOSS: 0.0004354392240202287 - VALIDATION PSNR: 34.61616134643555 - VALIDATION SSIM: 0.8984765746686025\n"
     ]
    },
    {
     "name": "stderr",
     "output_type": "stream",
     "text": [
      "  0%|          | 34/10000 [10:34<51:46:36, 18.70s/it]"
     ]
    },
    {
     "name": "stdout",
     "output_type": "stream",
     "text": [
      "Epoch 34 - VALIDATION LOSS: 0.0003794905696850037 - VALIDATION PSNR: 34.645050048828125 - VALIDATION SSIM: 0.9051580933540464\n"
     ]
    },
    {
     "name": "stderr",
     "output_type": "stream",
     "text": [
      "  0%|          | 36/10000 [11:12<52:18:05, 18.90s/it]"
     ]
    },
    {
     "name": "stdout",
     "output_type": "stream",
     "text": [
      "Epoch 36 - VALIDATION LOSS: 0.00044607295421883464 - VALIDATION PSNR: 33.880191802978516 - VALIDATION SSIM: 0.8915414908654988\n"
     ]
    },
    {
     "name": "stderr",
     "output_type": "stream",
     "text": [
      "  0%|          | 38/10000 [11:51<53:16:42, 19.25s/it]"
     ]
    },
    {
     "name": "stdout",
     "output_type": "stream",
     "text": [
      "Epoch 38 - VALIDATION LOSS: 0.00044494309440779034 - VALIDATION PSNR: 34.283546447753906 - VALIDATION SSIM: 0.8946939294553696\n"
     ]
    },
    {
     "name": "stderr",
     "output_type": "stream",
     "text": [
      "  0%|          | 39/10000 [12:09<52:01:35, 18.80s/it]"
     ]
    },
    {
     "name": "stdout",
     "output_type": "stream",
     "text": [
      "Epoch 40 - VALIDATION LOSS: 0.0003831708527286537 - VALIDATION PSNR: 34.52073287963867 - VALIDATION SSIM: 0.9029667439672053\n"
     ]
    },
    {
     "name": "stderr",
     "output_type": "stream",
     "text": [
      "  0%|          | 42/10000 [13:03<50:08:51, 18.13s/it]"
     ]
    },
    {
     "name": "stdout",
     "output_type": "stream",
     "text": [
      "Epoch 42 - VALIDATION LOSS: 0.00045877947377448436 - VALIDATION PSNR: 34.274166107177734 - VALIDATION SSIM: 0.8936510386990867\n"
     ]
    },
    {
     "name": "stderr",
     "output_type": "stream",
     "text": [
      "  0%|          | 44/10000 [13:39<50:04:41, 18.11s/it]"
     ]
    },
    {
     "name": "stdout",
     "output_type": "stream",
     "text": [
      "Epoch 44 - VALIDATION LOSS: 0.0003557711734174518 - VALIDATION PSNR: 35.06344223022461 - VALIDATION SSIM: 0.9097012020985484\n"
     ]
    },
    {
     "name": "stderr",
     "output_type": "stream",
     "text": [
      "  0%|          | 46/10000 [14:13<48:53:47, 17.68s/it]"
     ]
    },
    {
     "name": "stdout",
     "output_type": "stream",
     "text": [
      "Epoch 46 - VALIDATION LOSS: 0.0004956100437993882 - VALIDATION PSNR: 33.94580841064453 - VALIDATION SSIM: 0.8880706543949546\n"
     ]
    },
    {
     "name": "stderr",
     "output_type": "stream",
     "text": [
      "  0%|          | 48/10000 [14:50<49:37:45, 17.95s/it]"
     ]
    },
    {
     "name": "stdout",
     "output_type": "stream",
     "text": [
      "Epoch 48 - VALIDATION LOSS: 0.0004947287707182113 - VALIDATION PSNR: 33.62420654296875 - VALIDATION SSIM: 0.885769245142445\n"
     ]
    },
    {
     "name": "stderr",
     "output_type": "stream",
     "text": [
      "  0%|          | 50/10000 [15:28<51:31:58, 18.65s/it]"
     ]
    },
    {
     "name": "stdout",
     "output_type": "stream",
     "text": [
      "Epoch 50 - VALIDATION LOSS: 0.0003657285615190631 - VALIDATION PSNR: 34.68974685668945 - VALIDATION SSIM: 0.9067859762126506\n"
     ]
    },
    {
     "name": "stderr",
     "output_type": "stream",
     "text": [
      "  1%|          | 52/10000 [16:06<51:51:53, 18.77s/it]"
     ]
    },
    {
     "name": "stdout",
     "output_type": "stream",
     "text": [
      "Epoch 52 - VALIDATION LOSS: 0.00040481049472873565 - VALIDATION PSNR: 34.59914016723633 - VALIDATION SSIM: 0.9009148245960698\n"
     ]
    },
    {
     "name": "stderr",
     "output_type": "stream",
     "text": [
      "  1%|          | 54/10000 [16:44<52:17:14, 18.93s/it]"
     ]
    },
    {
     "name": "stdout",
     "output_type": "stream",
     "text": [
      "Epoch 54 - VALIDATION LOSS: 0.0004812572333321441 - VALIDATION PSNR: 33.62393569946289 - VALIDATION SSIM: 0.887865701654777\n"
     ]
    },
    {
     "name": "stderr",
     "output_type": "stream",
     "text": [
      "  1%|          | 56/10000 [17:22<52:31:57, 19.02s/it]"
     ]
    },
    {
     "name": "stdout",
     "output_type": "stream",
     "text": [
      "Epoch 56 - VALIDATION LOSS: 0.00024103845771605847 - VALIDATION PSNR: 36.80950927734375 - VALIDATION SSIM: 0.9347020663517415\n"
     ]
    },
    {
     "name": "stderr",
     "output_type": "stream",
     "text": [
      "  1%|          | 58/10000 [17:58<50:42:14, 18.36s/it]"
     ]
    },
    {
     "name": "stdout",
     "output_type": "stream",
     "text": [
      "Epoch 58 - VALIDATION LOSS: 0.00041912169399438426 - VALIDATION PSNR: 34.46189498901367 - VALIDATION SSIM: 0.9001917083780803\n"
     ]
    },
    {
     "name": "stderr",
     "output_type": "stream",
     "text": [
      "  1%|          | 59/10000 [18:16<51:04:03, 18.49s/it]"
     ]
    },
    {
     "name": "stdout",
     "output_type": "stream",
     "text": [
      "Epoch 60 - VALIDATION LOSS: 0.0003655401433206862 - VALIDATION PSNR: 35.019744873046875 - VALIDATION SSIM: 0.9073586358333541\n"
     ]
    },
    {
     "name": "stderr",
     "output_type": "stream",
     "text": [
      "  1%|          | 62/10000 [19:10<49:54:48, 18.08s/it]"
     ]
    },
    {
     "name": "stdout",
     "output_type": "stream",
     "text": [
      "Epoch 62 - VALIDATION LOSS: 0.00037217719000182115 - VALIDATION PSNR: 34.945865631103516 - VALIDATION SSIM: 0.9091028731197118\n"
     ]
    },
    {
     "name": "stderr",
     "output_type": "stream",
     "text": [
      "  1%|          | 64/10000 [19:45<49:27:08, 17.92s/it]"
     ]
    },
    {
     "name": "stdout",
     "output_type": "stream",
     "text": [
      "Epoch 64 - VALIDATION LOSS: 0.00041127765507553704 - VALIDATION PSNR: 34.52686309814453 - VALIDATION SSIM: 0.9006754116249349\n"
     ]
    },
    {
     "name": "stderr",
     "output_type": "stream",
     "text": [
      "  1%|          | 66/10000 [20:23<50:48:32, 18.41s/it]"
     ]
    },
    {
     "name": "stdout",
     "output_type": "stream",
     "text": [
      "Epoch 66 - VALIDATION LOSS: 0.0005093264917377383 - VALIDATION PSNR: 33.245262145996094 - VALIDATION SSIM: 0.8825863060724884\n"
     ]
    },
    {
     "name": "stderr",
     "output_type": "stream",
     "text": [
      "  1%|          | 68/10000 [21:02<52:00:38, 18.85s/it]"
     ]
    },
    {
     "name": "stdout",
     "output_type": "stream",
     "text": [
      "Epoch 68 - VALIDATION LOSS: 0.000462711468571797 - VALIDATION PSNR: 33.94691467285156 - VALIDATION SSIM: 0.8918025607592465\n"
     ]
    },
    {
     "name": "stderr",
     "output_type": "stream",
     "text": [
      "  1%|          | 70/10000 [21:39<51:51:21, 18.80s/it]"
     ]
    },
    {
     "name": "stdout",
     "output_type": "stream",
     "text": [
      "Epoch 70 - VALIDATION LOSS: 0.00038226626202231273 - VALIDATION PSNR: 34.26234817504883 - VALIDATION SSIM: 0.9038158648881912\n"
     ]
    },
    {
     "name": "stderr",
     "output_type": "stream",
     "text": [
      "  1%|          | 72/10000 [22:17<51:58:31, 18.85s/it]"
     ]
    },
    {
     "name": "stdout",
     "output_type": "stream",
     "text": [
      "Epoch 72 - VALIDATION LOSS: 0.00030220811731851427 - VALIDATION PSNR: 35.59181594848633 - VALIDATION SSIM: 0.9205853622742504\n"
     ]
    },
    {
     "name": "stderr",
     "output_type": "stream",
     "text": [
      "  1%|          | 74/10000 [22:53<51:04:02, 18.52s/it]"
     ]
    },
    {
     "name": "stdout",
     "output_type": "stream",
     "text": [
      "Epoch 74 - VALIDATION LOSS: 0.000308896487695165 - VALIDATION PSNR: 35.61579895019531 - VALIDATION SSIM: 0.9211789764832854\n"
     ]
    },
    {
     "name": "stderr",
     "output_type": "stream",
     "text": [
      "  1%|          | 76/10000 [23:28<49:46:31, 18.06s/it]"
     ]
    },
    {
     "name": "stdout",
     "output_type": "stream",
     "text": [
      "Epoch 76 - VALIDATION LOSS: 0.00038435793430835474 - VALIDATION PSNR: 34.714378356933594 - VALIDATION SSIM: 0.9058014127893447\n"
     ]
    },
    {
     "name": "stderr",
     "output_type": "stream",
     "text": [
      "  1%|          | 78/10000 [24:04<49:19:09, 17.89s/it]"
     ]
    },
    {
     "name": "stdout",
     "output_type": "stream",
     "text": [
      "Epoch 78 - VALIDATION LOSS: 0.0003168923140037805 - VALIDATION PSNR: 35.67283248901367 - VALIDATION SSIM: 0.920119484755069\n"
     ]
    },
    {
     "name": "stderr",
     "output_type": "stream",
     "text": [
      "  1%|          | 79/10000 [24:22<49:09:15, 17.84s/it]"
     ]
    },
    {
     "name": "stdout",
     "output_type": "stream",
     "text": [
      "Epoch 80 - VALIDATION LOSS: 0.000383300179237267 - VALIDATION PSNR: 34.35585021972656 - VALIDATION SSIM: 0.9055621486208141\n"
     ]
    },
    {
     "name": "stderr",
     "output_type": "stream",
     "text": [
      "  1%|          | 82/10000 [25:17<50:04:38, 18.18s/it]"
     ]
    },
    {
     "name": "stdout",
     "output_type": "stream",
     "text": [
      "Epoch 82 - VALIDATION LOSS: 0.000343597816026886 - VALIDATION PSNR: 35.11604690551758 - VALIDATION SSIM: 0.9140873885532618\n"
     ]
    },
    {
     "name": "stderr",
     "output_type": "stream",
     "text": [
      "  1%|          | 84/10000 [25:55<51:00:18, 18.52s/it]"
     ]
    },
    {
     "name": "stdout",
     "output_type": "stream",
     "text": [
      "Epoch 84 - VALIDATION LOSS: 0.00037593694651150145 - VALIDATION PSNR: 35.08203125 - VALIDATION SSIM: 0.9095571884518862\n"
     ]
    },
    {
     "name": "stderr",
     "output_type": "stream",
     "text": [
      "  1%|          | 86/10000 [26:33<52:19:45, 19.00s/it]"
     ]
    },
    {
     "name": "stdout",
     "output_type": "stream",
     "text": [
      "Epoch 86 - VALIDATION LOSS: 0.00036812580674450146 - VALIDATION PSNR: 34.8921012878418 - VALIDATION SSIM: 0.9096167356215622\n"
     ]
    },
    {
     "name": "stderr",
     "output_type": "stream",
     "text": [
      "  1%|          | 88/10000 [27:11<51:48:40, 18.82s/it]"
     ]
    },
    {
     "name": "stdout",
     "output_type": "stream",
     "text": [
      "Epoch 88 - VALIDATION LOSS: 0.00033373426595062483 - VALIDATION PSNR: 34.941463470458984 - VALIDATION SSIM: 0.9147839504392632\n"
     ]
    },
    {
     "name": "stderr",
     "output_type": "stream",
     "text": [
      "  1%|          | 90/10000 [27:48<51:27:27, 18.69s/it]"
     ]
    },
    {
     "name": "stdout",
     "output_type": "stream",
     "text": [
      "Epoch 90 - VALIDATION LOSS: 0.0003710055525516509 - VALIDATION PSNR: 34.8843879699707 - VALIDATION SSIM: 0.9089961323911846\n"
     ]
    },
    {
     "name": "stderr",
     "output_type": "stream",
     "text": [
      "  1%|          | 92/10000 [28:24<50:38:01, 18.40s/it]"
     ]
    },
    {
     "name": "stdout",
     "output_type": "stream",
     "text": [
      "Epoch 92 - VALIDATION LOSS: 0.0003361190847499529 - VALIDATION PSNR: 35.684356689453125 - VALIDATION SSIM: 0.9167548853789568\n"
     ]
    },
    {
     "name": "stderr",
     "output_type": "stream",
     "text": [
      "  1%|          | 94/10000 [28:58<48:55:56, 17.78s/it]"
     ]
    },
    {
     "name": "stdout",
     "output_type": "stream",
     "text": [
      "Epoch 94 - VALIDATION LOSS: 0.00040981877464218996 - VALIDATION PSNR: 34.28026580810547 - VALIDATION SSIM: 0.9010640168492496\n"
     ]
    },
    {
     "name": "stderr",
     "output_type": "stream",
     "text": [
      "  1%|          | 96/10000 [29:34<49:00:13, 17.81s/it]"
     ]
    },
    {
     "name": "stdout",
     "output_type": "stream",
     "text": [
      "Epoch 96 - VALIDATION LOSS: 0.00040403987622994464 - VALIDATION PSNR: 34.34602355957031 - VALIDATION SSIM: 0.9026853945113719\n"
     ]
    },
    {
     "name": "stderr",
     "output_type": "stream",
     "text": [
      "  1%|          | 98/10000 [30:11<49:49:51, 18.12s/it]"
     ]
    },
    {
     "name": "stdout",
     "output_type": "stream",
     "text": [
      "Epoch 98 - VALIDATION LOSS: 0.00039419740460289177 - VALIDATION PSNR: 34.44121551513672 - VALIDATION SSIM: 0.9040610105167329\n"
     ]
    },
    {
     "name": "stderr",
     "output_type": "stream",
     "text": [
      "  1%|          | 99/10000 [30:29<49:56:33, 18.16s/it]"
     ]
    },
    {
     "name": "stdout",
     "output_type": "stream",
     "text": [
      "Epoch 100 - VALIDATION LOSS: 0.00031784101884113625 - VALIDATION PSNR: 35.82589340209961 - VALIDATION SSIM: 0.921952734335035\n"
     ]
    },
    {
     "name": "stderr",
     "output_type": "stream",
     "text": [
      "  1%|          | 102/10000 [31:24<49:40:11, 18.07s/it]"
     ]
    },
    {
     "name": "stdout",
     "output_type": "stream",
     "text": [
      "Epoch 102 - VALIDATION LOSS: 0.0003174252742610406 - VALIDATION PSNR: 35.7916259765625 - VALIDATION SSIM: 0.9214291687936373\n"
     ]
    },
    {
     "name": "stderr",
     "output_type": "stream",
     "text": [
      "  1%|          | 104/10000 [32:00<49:48:08, 18.12s/it]"
     ]
    },
    {
     "name": "stdout",
     "output_type": "stream",
     "text": [
      "Epoch 104 - VALIDATION LOSS: 0.00030329846413224004 - VALIDATION PSNR: 35.938018798828125 - VALIDATION SSIM: 0.9237366516738831\n"
     ]
    },
    {
     "name": "stderr",
     "output_type": "stream",
     "text": [
      "  1%|          | 106/10000 [32:35<48:50:36, 17.77s/it]"
     ]
    },
    {
     "name": "stdout",
     "output_type": "stream",
     "text": [
      "Epoch 106 - VALIDATION LOSS: 0.0003862880275846692 - VALIDATION PSNR: 34.91584396362305 - VALIDATION SSIM: 0.9075328625344429\n"
     ]
    },
    {
     "name": "stderr",
     "output_type": "stream",
     "text": [
      "  1%|          | 108/10000 [33:08<47:16:13, 17.20s/it]"
     ]
    },
    {
     "name": "stdout",
     "output_type": "stream",
     "text": [
      "Epoch 108 - VALIDATION LOSS: 0.0003719098385772668 - VALIDATION PSNR: 34.781002044677734 - VALIDATION SSIM: 0.9094046278164238\n"
     ]
    },
    {
     "name": "stderr",
     "output_type": "stream",
     "text": [
      "  1%|          | 110/10000 [33:42<46:41:18, 16.99s/it]"
     ]
    },
    {
     "name": "stdout",
     "output_type": "stream",
     "text": [
      "Epoch 110 - VALIDATION LOSS: 0.00033429344330215827 - VALIDATION PSNR: 35.07535934448242 - VALIDATION SSIM: 0.915883181497082\n"
     ]
    },
    {
     "name": "stderr",
     "output_type": "stream",
     "text": [
      "  1%|          | 112/10000 [34:14<45:36:22, 16.60s/it]"
     ]
    },
    {
     "name": "stdout",
     "output_type": "stream",
     "text": [
      "Epoch 112 - VALIDATION LOSS: 0.0003547899395925924 - VALIDATION PSNR: 35.04517364501953 - VALIDATION SSIM: 0.9120600361294728\n"
     ]
    },
    {
     "name": "stderr",
     "output_type": "stream",
     "text": [
      "  1%|          | 114/10000 [34:47<45:25:26, 16.54s/it]"
     ]
    },
    {
     "name": "stdout",
     "output_type": "stream",
     "text": [
      "Epoch 114 - VALIDATION LOSS: 0.0003179907762387302 - VALIDATION PSNR: 35.47224426269531 - VALIDATION SSIM: 0.9201470393557623\n"
     ]
    },
    {
     "name": "stderr",
     "output_type": "stream",
     "text": [
      "  1%|          | 116/10000 [35:22<46:42:11, 17.01s/it]"
     ]
    },
    {
     "name": "stdout",
     "output_type": "stream",
     "text": [
      "Epoch 116 - VALIDATION LOSS: 0.0003206657847840688 - VALIDATION PSNR: 35.46527862548828 - VALIDATION SSIM: 0.9195511262610965\n"
     ]
    },
    {
     "name": "stderr",
     "output_type": "stream",
     "text": [
      "  1%|          | 118/10000 [35:57<47:32:15, 17.32s/it]"
     ]
    },
    {
     "name": "stdout",
     "output_type": "stream",
     "text": [
      "Epoch 118 - VALIDATION LOSS: 0.00044793392953579314 - VALIDATION PSNR: 34.013065338134766 - VALIDATION SSIM: 0.8969455846978389\n"
     ]
    },
    {
     "name": "stderr",
     "output_type": "stream",
     "text": [
      "  1%|          | 119/10000 [36:16<48:38:04, 17.72s/it]"
     ]
    },
    {
     "name": "stdout",
     "output_type": "stream",
     "text": [
      "Epoch 120 - VALIDATION LOSS: 0.00033937536500161514 - VALIDATION PSNR: 35.27125549316406 - VALIDATION SSIM: 0.9163051330547631\n"
     ]
    },
    {
     "name": "stderr",
     "output_type": "stream",
     "text": [
      "  1%|          | 122/10000 [37:10<49:14:27, 17.95s/it]"
     ]
    },
    {
     "name": "stdout",
     "output_type": "stream",
     "text": [
      "Epoch 122 - VALIDATION LOSS: 0.0003183608550898498 - VALIDATION PSNR: 35.471282958984375 - VALIDATION SSIM: 0.9203088462225943\n"
     ]
    },
    {
     "name": "stderr",
     "output_type": "stream",
     "text": [
      "  1%|          | 124/10000 [37:45<48:33:18, 17.70s/it]"
     ]
    },
    {
     "name": "stdout",
     "output_type": "stream",
     "text": [
      "Epoch 124 - VALIDATION LOSS: 0.00039069690137694124 - VALIDATION PSNR: 34.791717529296875 - VALIDATION SSIM: 0.9086710911669135\n"
     ]
    },
    {
     "name": "stderr",
     "output_type": "stream",
     "text": [
      "  1%|▏         | 126/10000 [38:19<47:27:09, 17.30s/it]"
     ]
    },
    {
     "name": "stdout",
     "output_type": "stream",
     "text": [
      "Epoch 126 - VALIDATION LOSS: 0.0003741822965821484 - VALIDATION PSNR: 34.9251708984375 - VALIDATION SSIM: 0.9089386659788526\n"
     ]
    },
    {
     "name": "stderr",
     "output_type": "stream",
     "text": [
      "  1%|▏         | 128/10000 [38:52<46:44:04, 17.04s/it]"
     ]
    },
    {
     "name": "stdout",
     "output_type": "stream",
     "text": [
      "Epoch 128 - VALIDATION LOSS: 0.0002899927030739491 - VALIDATION PSNR: 35.7183837890625 - VALIDATION SSIM: 0.9243800183192195\n"
     ]
    },
    {
     "name": "stderr",
     "output_type": "stream",
     "text": [
      "  1%|▏         | 130/10000 [39:25<45:49:24, 16.71s/it]"
     ]
    },
    {
     "name": "stdout",
     "output_type": "stream",
     "text": [
      "Epoch 130 - VALIDATION LOSS: 0.00032541829932597466 - VALIDATION PSNR: 35.165016174316406 - VALIDATION SSIM: 0.9183502483646573\n"
     ]
    },
    {
     "name": "stderr",
     "output_type": "stream",
     "text": [
      "  1%|▏         | 132/10000 [39:58<45:42:11, 16.67s/it]"
     ]
    },
    {
     "name": "stdout",
     "output_type": "stream",
     "text": [
      "Epoch 132 - VALIDATION LOSS: 0.0003204602635378251 - VALIDATION PSNR: 35.485591888427734 - VALIDATION SSIM: 0.920490620159924\n"
     ]
    },
    {
     "name": "stderr",
     "output_type": "stream",
     "text": [
      "  1%|▏         | 134/10000 [40:32<45:56:17, 16.76s/it]"
     ]
    },
    {
     "name": "stdout",
     "output_type": "stream",
     "text": [
      "Epoch 134 - VALIDATION LOSS: 0.00030841765146760736 - VALIDATION PSNR: 35.352760314941406 - VALIDATION SSIM: 0.9208639970683977\n"
     ]
    },
    {
     "name": "stderr",
     "output_type": "stream",
     "text": [
      "  1%|▏         | 136/10000 [41:07<47:14:15, 17.24s/it]"
     ]
    },
    {
     "name": "stdout",
     "output_type": "stream",
     "text": [
      "Epoch 136 - VALIDATION LOSS: 0.00034775480162352324 - VALIDATION PSNR: 34.962833404541016 - VALIDATION SSIM: 0.9140266246611178\n"
     ]
    },
    {
     "name": "stderr",
     "output_type": "stream",
     "text": [
      "  1%|▏         | 138/10000 [41:43<48:13:21, 17.60s/it]"
     ]
    },
    {
     "name": "stdout",
     "output_type": "stream",
     "text": [
      "Epoch 138 - VALIDATION LOSS: 0.0003166801488987403 - VALIDATION PSNR: 35.85215759277344 - VALIDATION SSIM: 0.9224813489048183\n"
     ]
    },
    {
     "name": "stderr",
     "output_type": "stream",
     "text": [
      "  1%|▏         | 139/10000 [42:01<48:19:54, 17.64s/it]"
     ]
    },
    {
     "name": "stdout",
     "output_type": "stream",
     "text": [
      "Epoch 140 - VALIDATION LOSS: 0.0003755785401153844 - VALIDATION PSNR: 34.5440559387207 - VALIDATION SSIM: 0.9089287124212608\n"
     ]
    },
    {
     "name": "stderr",
     "output_type": "stream",
     "text": [
      "  1%|▏         | 142/10000 [42:55<48:49:34, 17.83s/it]"
     ]
    },
    {
     "name": "stdout",
     "output_type": "stream",
     "text": [
      "Epoch 142 - VALIDATION LOSS: 0.00041767936272663064 - VALIDATION PSNR: 34.14377975463867 - VALIDATION SSIM: 0.9016999743575752\n"
     ]
    },
    {
     "name": "stderr",
     "output_type": "stream",
     "text": [
      "  1%|▏         | 144/10000 [43:30<47:42:18, 17.42s/it]"
     ]
    },
    {
     "name": "stdout",
     "output_type": "stream",
     "text": [
      "Epoch 144 - VALIDATION LOSS: 0.0003305306254333118 - VALIDATION PSNR: 35.26150131225586 - VALIDATION SSIM: 0.9186716140639712\n"
     ]
    },
    {
     "name": "stderr",
     "output_type": "stream",
     "text": [
      "  1%|▏         | 146/10000 [44:03<46:38:37, 17.04s/it]"
     ]
    },
    {
     "name": "stdout",
     "output_type": "stream",
     "text": [
      "Epoch 146 - VALIDATION LOSS: 0.0003555463908924139 - VALIDATION PSNR: 34.87929916381836 - VALIDATION SSIM: 0.9131933210390208\n"
     ]
    },
    {
     "name": "stderr",
     "output_type": "stream",
     "text": [
      "  1%|▏         | 148/10000 [44:35<45:25:19, 16.60s/it]"
     ]
    },
    {
     "name": "stdout",
     "output_type": "stream",
     "text": [
      "Epoch 148 - VALIDATION LOSS: 0.0002434764001009171 - VALIDATION PSNR: 36.678436279296875 - VALIDATION SSIM: 0.9361689356743348\n"
     ]
    },
    {
     "name": "stderr",
     "output_type": "stream",
     "text": [
      "  2%|▏         | 150/10000 [45:08<45:09:17, 16.50s/it]"
     ]
    },
    {
     "name": "stdout",
     "output_type": "stream",
     "text": [
      "Epoch 150 - VALIDATION LOSS: 0.00034095131741196383 - VALIDATION PSNR: 35.17832565307617 - VALIDATION SSIM: 0.9158186833771168\n"
     ]
    },
    {
     "name": "stderr",
     "output_type": "stream",
     "text": [
      "  2%|▏         | 152/10000 [45:42<46:12:07, 16.89s/it]"
     ]
    },
    {
     "name": "stdout",
     "output_type": "stream",
     "text": [
      "Epoch 152 - VALIDATION LOSS: 0.0003608776823966764 - VALIDATION PSNR: 34.73795700073242 - VALIDATION SSIM: 0.9116243375364541\n"
     ]
    },
    {
     "name": "stderr",
     "output_type": "stream",
     "text": [
      "  2%|▏         | 154/10000 [46:17<47:07:08, 17.23s/it]"
     ]
    },
    {
     "name": "stdout",
     "output_type": "stream",
     "text": [
      "Epoch 154 - VALIDATION LOSS: 0.0003286433893663343 - VALIDATION PSNR: 34.98988723754883 - VALIDATION SSIM: 0.9158297414619923\n"
     ]
    },
    {
     "name": "stderr",
     "output_type": "stream",
     "text": [
      "  2%|▏         | 156/10000 [46:53<47:53:47, 17.52s/it]"
     ]
    },
    {
     "name": "stdout",
     "output_type": "stream",
     "text": [
      "Epoch 156 - VALIDATION LOSS: 0.0003056921195820905 - VALIDATION PSNR: 35.45600891113281 - VALIDATION SSIM: 0.9215980075950622\n"
     ]
    },
    {
     "name": "stderr",
     "output_type": "stream",
     "text": [
      "  2%|▏         | 158/10000 [47:29<48:43:52, 17.82s/it]"
     ]
    },
    {
     "name": "stdout",
     "output_type": "stream",
     "text": [
      "Epoch 158 - VALIDATION LOSS: 0.0003684536750370171 - VALIDATION PSNR: 34.74973678588867 - VALIDATION SSIM: 0.9109012447995992\n"
     ]
    },
    {
     "name": "stderr",
     "output_type": "stream",
     "text": [
      "  2%|▏         | 159/10000 [47:47<48:17:00, 17.66s/it]"
     ]
    },
    {
     "name": "stdout",
     "output_type": "stream",
     "text": [
      "Epoch 160 - VALIDATION LOSS: 0.00040931844341685064 - VALIDATION PSNR: 34.425537109375 - VALIDATION SSIM: 0.9036398959785438\n"
     ]
    },
    {
     "name": "stderr",
     "output_type": "stream",
     "text": [
      "  2%|▏         | 162/10000 [48:39<47:10:09, 17.26s/it]"
     ]
    },
    {
     "name": "stdout",
     "output_type": "stream",
     "text": [
      "Epoch 162 - VALIDATION LOSS: 0.0003596056230890099 - VALIDATION PSNR: 34.706851959228516 - VALIDATION SSIM: 0.9118646034667194\n"
     ]
    },
    {
     "name": "stderr",
     "output_type": "stream",
     "text": [
      "  2%|▏         | 164/10000 [49:12<46:23:29, 16.98s/it]"
     ]
    },
    {
     "name": "stdout",
     "output_type": "stream",
     "text": [
      "Epoch 164 - VALIDATION LOSS: 0.0003286172686784994 - VALIDATION PSNR: 35.143672943115234 - VALIDATION SSIM: 0.9175992826439291\n"
     ]
    },
    {
     "name": "stderr",
     "output_type": "stream",
     "text": [
      "  2%|▏         | 166/10000 [49:44<45:16:56, 16.58s/it]"
     ]
    },
    {
     "name": "stdout",
     "output_type": "stream",
     "text": [
      "Epoch 166 - VALIDATION LOSS: 0.000316999581627897 - VALIDATION PSNR: 35.496482849121094 - VALIDATION SSIM: 0.920070281990461\n"
     ]
    },
    {
     "name": "stderr",
     "output_type": "stream",
     "text": [
      "  2%|▏         | 168/10000 [50:17<44:57:55, 16.46s/it]"
     ]
    },
    {
     "name": "stdout",
     "output_type": "stream",
     "text": [
      "Epoch 168 - VALIDATION LOSS: 0.0003803057115874253 - VALIDATION PSNR: 34.664485931396484 - VALIDATION SSIM: 0.9101341208775341\n"
     ]
    },
    {
     "name": "stderr",
     "output_type": "stream",
     "text": [
      "  2%|▏         | 170/10000 [50:51<45:19:27, 16.60s/it]"
     ]
    },
    {
     "name": "stdout",
     "output_type": "stream",
     "text": [
      "Epoch 170 - VALIDATION LOSS: 0.00027719973149942234 - VALIDATION PSNR: 35.905181884765625 - VALIDATION SSIM: 0.9294714626882672\n"
     ]
    },
    {
     "name": "stderr",
     "output_type": "stream",
     "text": [
      "  2%|▏         | 172/10000 [51:26<46:40:55, 17.10s/it]"
     ]
    },
    {
     "name": "stdout",
     "output_type": "stream",
     "text": [
      "Epoch 172 - VALIDATION LOSS: 0.0002462852880853461 - VALIDATION PSNR: 36.471214294433594 - VALIDATION SSIM: 0.9352854164551496\n"
     ]
    },
    {
     "name": "stderr",
     "output_type": "stream",
     "text": [
      "  2%|▏         | 174/10000 [52:01<47:37:45, 17.45s/it]"
     ]
    },
    {
     "name": "stdout",
     "output_type": "stream",
     "text": [
      "Epoch 174 - VALIDATION LOSS: 0.000296746951789828 - VALIDATION PSNR: 36.23800277709961 - VALIDATION SSIM: 0.926782986366842\n"
     ]
    },
    {
     "name": "stderr",
     "output_type": "stream",
     "text": [
      "  2%|▏         | 176/10000 [52:37<48:27:11, 17.76s/it]"
     ]
    },
    {
     "name": "stdout",
     "output_type": "stream",
     "text": [
      "Epoch 176 - VALIDATION LOSS: 0.0002468437232892029 - VALIDATION PSNR: 36.38983917236328 - VALIDATION SSIM: 0.9339628649598359\n"
     ]
    },
    {
     "name": "stderr",
     "output_type": "stream",
     "text": [
      "  2%|▏         | 178/10000 [53:12<48:10:49, 17.66s/it]"
     ]
    },
    {
     "name": "stdout",
     "output_type": "stream",
     "text": [
      "Epoch 178 - VALIDATION LOSS: 0.00027476627292344347 - VALIDATION PSNR: 35.96552276611328 - VALIDATION SSIM: 0.9290977700797916\n"
     ]
    },
    {
     "name": "stderr",
     "output_type": "stream",
     "text": [
      "  2%|▏         | 179/10000 [53:31<48:45:11, 17.87s/it]"
     ]
    },
    {
     "name": "stdout",
     "output_type": "stream",
     "text": [
      "Epoch 180 - VALIDATION LOSS: 0.00028714174004562665 - VALIDATION PSNR: 35.65884780883789 - VALIDATION SSIM: 0.9259560334960818\n"
     ]
    },
    {
     "name": "stderr",
     "output_type": "stream",
     "text": [
      "  2%|▏         | 182/10000 [54:20<46:26:47, 17.03s/it]"
     ]
    },
    {
     "name": "stdout",
     "output_type": "stream",
     "text": [
      "Epoch 182 - VALIDATION LOSS: 0.0003150812208332354 - VALIDATION PSNR: 35.34605407714844 - VALIDATION SSIM: 0.9204353968352824\n"
     ]
    },
    {
     "name": "stderr",
     "output_type": "stream",
     "text": [
      "  2%|▏         | 184/10000 [54:53<45:28:45, 16.68s/it]"
     ]
    },
    {
     "name": "stdout",
     "output_type": "stream",
     "text": [
      "Epoch 184 - VALIDATION LOSS: 0.0002865059050236596 - VALIDATION PSNR: 36.69597244262695 - VALIDATION SSIM: 0.9296469401087463\n"
     ]
    },
    {
     "name": "stderr",
     "output_type": "stream",
     "text": [
      "  2%|▏         | 186/10000 [55:26<45:04:47, 16.54s/it]"
     ]
    },
    {
     "name": "stdout",
     "output_type": "stream",
     "text": [
      "Epoch 186 - VALIDATION LOSS: 0.0003461522064753808 - VALIDATION PSNR: 34.81208038330078 - VALIDATION SSIM: 0.9144347986201344\n"
     ]
    },
    {
     "name": "stderr",
     "output_type": "stream",
     "text": [
      "  2%|▏         | 188/10000 [56:01<46:38:20, 17.11s/it]"
     ]
    },
    {
     "name": "stdout",
     "output_type": "stream",
     "text": [
      "Epoch 188 - VALIDATION LOSS: 0.0002745091314864112 - VALIDATION PSNR: 36.030242919921875 - VALIDATION SSIM: 0.9295207487428485\n"
     ]
    },
    {
     "name": "stderr",
     "output_type": "stream",
     "text": [
      "  2%|▏         | 190/10000 [56:36<47:08:04, 17.30s/it]"
     ]
    },
    {
     "name": "stdout",
     "output_type": "stream",
     "text": [
      "Epoch 190 - VALIDATION LOSS: 0.0003243229239160428 - VALIDATION PSNR: 35.071754455566406 - VALIDATION SSIM: 0.9186884519832431\n"
     ]
    },
    {
     "name": "stderr",
     "output_type": "stream",
     "text": [
      "  2%|▏         | 192/10000 [57:11<47:26:46, 17.42s/it]"
     ]
    },
    {
     "name": "stdout",
     "output_type": "stream",
     "text": [
      "Epoch 192 - VALIDATION LOSS: 0.0003138365973427426 - VALIDATION PSNR: 35.55430603027344 - VALIDATION SSIM: 0.9214822232316536\n"
     ]
    },
    {
     "name": "stderr",
     "output_type": "stream",
     "text": [
      "  2%|▏         | 194/10000 [57:47<48:12:57, 17.70s/it]"
     ]
    },
    {
     "name": "stdout",
     "output_type": "stream",
     "text": [
      "Epoch 194 - VALIDATION LOSS: 0.00034412570494168904 - VALIDATION PSNR: 35.01254653930664 - VALIDATION SSIM: 0.9164048025240302\n"
     ]
    },
    {
     "name": "stderr",
     "output_type": "stream",
     "text": [
      "  2%|▏         | 196/10000 [58:21<47:03:15, 17.28s/it]"
     ]
    },
    {
     "name": "stdout",
     "output_type": "stream",
     "text": [
      "Epoch 196 - VALIDATION LOSS: 0.0003722545388882281 - VALIDATION PSNR: 34.926239013671875 - VALIDATION SSIM: 0.9108202841806115\n"
     ]
    },
    {
     "name": "stderr",
     "output_type": "stream",
     "text": [
      "  2%|▏         | 198/10000 [58:53<45:37:54, 16.76s/it]"
     ]
    },
    {
     "name": "stdout",
     "output_type": "stream",
     "text": [
      "Epoch 198 - VALIDATION LOSS: 0.00038770987703173887 - VALIDATION PSNR: 34.47758865356445 - VALIDATION SSIM: 0.9076869910408557\n"
     ]
    },
    {
     "name": "stderr",
     "output_type": "stream",
     "text": [
      "  2%|▏         | 199/10000 [59:10<45:12:10, 16.60s/it]"
     ]
    },
    {
     "name": "stdout",
     "output_type": "stream",
     "text": [
      "Epoch 200 - VALIDATION LOSS: 0.00033051120954041835 - VALIDATION PSNR: 34.937103271484375 - VALIDATION SSIM: 0.9172232771083936\n"
     ]
    },
    {
     "name": "stderr",
     "output_type": "stream",
     "text": [
      "  2%|▏         | 202/10000 [1:00:00<45:09:04, 16.59s/it]"
     ]
    },
    {
     "name": "stdout",
     "output_type": "stream",
     "text": [
      "Epoch 202 - VALIDATION LOSS: 0.00033496068499516696 - VALIDATION PSNR: 35.43010711669922 - VALIDATION SSIM: 0.9186457630568148\n"
     ]
    },
    {
     "name": "stderr",
     "output_type": "stream",
     "text": [
      "  2%|▏         | 204/10000 [1:00:33<45:34:15, 16.75s/it]"
     ]
    },
    {
     "name": "stdout",
     "output_type": "stream",
     "text": [
      "Epoch 204 - VALIDATION LOSS: 0.00036768498011952033 - VALIDATION PSNR: 35.269649505615234 - VALIDATION SSIM: 0.9142496431823075\n"
     ]
    },
    {
     "name": "stderr",
     "output_type": "stream",
     "text": [
      "  2%|▏         | 206/10000 [1:01:10<47:30:29, 17.46s/it]"
     ]
    },
    {
     "name": "stdout",
     "output_type": "stream",
     "text": [
      "Epoch 206 - VALIDATION LOSS: 0.0003774685064854566 - VALIDATION PSNR: 34.9101448059082 - VALIDATION SSIM: 0.9103708265801815\n"
     ]
    },
    {
     "name": "stderr",
     "output_type": "stream",
     "text": [
      "  2%|▏         | 208/10000 [1:01:45<47:40:53, 17.53s/it]"
     ]
    },
    {
     "name": "stdout",
     "output_type": "stream",
     "text": [
      "Epoch 208 - VALIDATION LOSS: 0.0002022034304900444 - VALIDATION PSNR: 37.43022155761719 - VALIDATION SSIM: 0.9454407451228365\n"
     ]
    },
    {
     "name": "stderr",
     "output_type": "stream",
     "text": [
      "  2%|▏         | 210/10000 [1:02:20<47:49:27, 17.59s/it]"
     ]
    },
    {
     "name": "stdout",
     "output_type": "stream",
     "text": [
      "Epoch 210 - VALIDATION LOSS: 0.00025932690186891705 - VALIDATION PSNR: 36.293331146240234 - VALIDATION SSIM: 0.932199030319184\n"
     ]
    },
    {
     "name": "stderr",
     "output_type": "stream",
     "text": [
      "  2%|▏         | 212/10000 [1:02:56<48:14:16, 17.74s/it]"
     ]
    },
    {
     "name": "stdout",
     "output_type": "stream",
     "text": [
      "Epoch 212 - VALIDATION LOSS: 0.00038892818702152 - VALIDATION PSNR: 34.270023345947266 - VALIDATION SSIM: 0.9054694956664742\n"
     ]
    },
    {
     "name": "stderr",
     "output_type": "stream",
     "text": [
      "  2%|▏         | 214/10000 [1:03:29<46:20:30, 17.05s/it]"
     ]
    },
    {
     "name": "stdout",
     "output_type": "stream",
     "text": [
      "Epoch 214 - VALIDATION LOSS: 0.0003136257573714829 - VALIDATION PSNR: 36.02952575683594 - VALIDATION SSIM: 0.9239658312131539\n"
     ]
    },
    {
     "name": "stderr",
     "output_type": "stream",
     "text": [
      "  2%|▏         | 216/10000 [1:04:01<45:21:59, 16.69s/it]"
     ]
    },
    {
     "name": "stdout",
     "output_type": "stream",
     "text": [
      "Epoch 216 - VALIDATION LOSS: 0.0003260771009081509 - VALIDATION PSNR: 35.11030578613281 - VALIDATION SSIM: 0.9193361381968707\n"
     ]
    },
    {
     "name": "stderr",
     "output_type": "stream",
     "text": [
      "  2%|▏         | 218/10000 [1:04:35<45:26:38, 16.72s/it]"
     ]
    },
    {
     "name": "stdout",
     "output_type": "stream",
     "text": [
      "Epoch 218 - VALIDATION LOSS: 0.00038682645572407637 - VALIDATION PSNR: 35.04222869873047 - VALIDATION SSIM: 0.9102298391019851\n"
     ]
    },
    {
     "name": "stderr",
     "output_type": "stream",
     "text": [
      "  2%|▏         | 219/10000 [1:04:51<44:50:03, 16.50s/it]"
     ]
    },
    {
     "name": "stdout",
     "output_type": "stream",
     "text": [
      "Epoch 220 - VALIDATION LOSS: 0.0003982886337325908 - VALIDATION PSNR: 34.907188415527344 - VALIDATION SSIM: 0.9074671460260566\n"
     ]
    },
    {
     "name": "stderr",
     "output_type": "stream",
     "text": [
      "  2%|▏         | 222/10000 [1:05:42<45:45:48, 16.85s/it]"
     ]
    },
    {
     "name": "stdout",
     "output_type": "stream",
     "text": [
      "Epoch 222 - VALIDATION LOSS: 0.00028898480832140194 - VALIDATION PSNR: 36.270809173583984 - VALIDATION SSIM: 0.9275027850116639\n"
     ]
    },
    {
     "name": "stderr",
     "output_type": "stream",
     "text": [
      "  2%|▏         | 224/10000 [1:06:18<47:22:29, 17.45s/it]"
     ]
    },
    {
     "name": "stdout",
     "output_type": "stream",
     "text": [
      "Epoch 224 - VALIDATION LOSS: 0.0003424629303481197 - VALIDATION PSNR: 34.95568084716797 - VALIDATION SSIM: 0.9160287413505911\n"
     ]
    },
    {
     "name": "stderr",
     "output_type": "stream",
     "text": [
      "  2%|▏         | 226/10000 [1:06:53<47:27:03, 17.48s/it]"
     ]
    },
    {
     "name": "stdout",
     "output_type": "stream",
     "text": [
      "Epoch 226 - VALIDATION LOSS: 0.0003217196717741899 - VALIDATION PSNR: 35.40890121459961 - VALIDATION SSIM: 0.9205178484659196\n"
     ]
    },
    {
     "name": "stderr",
     "output_type": "stream",
     "text": [
      "  2%|▏         | 228/10000 [1:07:28<47:40:58, 17.57s/it]"
     ]
    },
    {
     "name": "stdout",
     "output_type": "stream",
     "text": [
      "Epoch 228 - VALIDATION LOSS: 0.00033442759013269097 - VALIDATION PSNR: 34.960205078125 - VALIDATION SSIM: 0.9166274735373408\n"
     ]
    },
    {
     "name": "stderr",
     "output_type": "stream",
     "text": [
      "  2%|▏         | 230/10000 [1:08:02<46:37:23, 17.18s/it]"
     ]
    },
    {
     "name": "stdout",
     "output_type": "stream",
     "text": [
      "Epoch 230 - VALIDATION LOSS: 0.00028542615291371476 - VALIDATION PSNR: 35.81913375854492 - VALIDATION SSIM: 0.9267917928452492\n"
     ]
    },
    {
     "name": "stderr",
     "output_type": "stream",
     "text": [
      "  2%|▏         | 232/10000 [1:08:34<45:14:47, 16.68s/it]"
     ]
    },
    {
     "name": "stdout",
     "output_type": "stream",
     "text": [
      "Epoch 232 - VALIDATION LOSS: 0.00039598813236807473 - VALIDATION PSNR: 34.5640754699707 - VALIDATION SSIM: 0.9063194594113622\n"
     ]
    },
    {
     "name": "stderr",
     "output_type": "stream",
     "text": [
      "  2%|▏         | 234/10000 [1:09:07<44:42:16, 16.48s/it]"
     ]
    },
    {
     "name": "stdout",
     "output_type": "stream",
     "text": [
      "Epoch 234 - VALIDATION LOSS: 0.00037732807140855584 - VALIDATION PSNR: 34.46879959106445 - VALIDATION SSIM: 0.908571511066787\n"
     ]
    },
    {
     "name": "stderr",
     "output_type": "stream",
     "text": [
      "  2%|▏         | 236/10000 [1:09:41<45:25:50, 16.75s/it]"
     ]
    },
    {
     "name": "stdout",
     "output_type": "stream",
     "text": [
      "Epoch 236 - VALIDATION LOSS: 0.00034157871778006665 - VALIDATION PSNR: 34.829490661621094 - VALIDATION SSIM: 0.915730697648108\n"
     ]
    },
    {
     "name": "stderr",
     "output_type": "stream",
     "text": [
      "  2%|▏         | 238/10000 [1:10:15<45:56:01, 16.94s/it]"
     ]
    },
    {
     "name": "stdout",
     "output_type": "stream",
     "text": [
      "Epoch 238 - VALIDATION LOSS: 0.0003100245230598375 - VALIDATION PSNR: 35.55946350097656 - VALIDATION SSIM: 0.9232394961560965\n"
     ]
    },
    {
     "name": "stderr",
     "output_type": "stream",
     "text": [
      "  2%|▏         | 239/10000 [1:10:33<47:02:18, 17.35s/it]"
     ]
    },
    {
     "name": "stdout",
     "output_type": "stream",
     "text": [
      "Epoch 240 - VALIDATION LOSS: 0.0002909210088546388 - VALIDATION PSNR: 35.75909423828125 - VALIDATION SSIM: 0.9258755239219069\n"
     ]
    },
    {
     "name": "stderr",
     "output_type": "stream",
     "text": [
      "  2%|▏         | 242/10000 [1:11:27<48:18:01, 17.82s/it]"
     ]
    },
    {
     "name": "stdout",
     "output_type": "stream",
     "text": [
      "Epoch 242 - VALIDATION LOSS: 0.0003533853523549624 - VALIDATION PSNR: 35.11390686035156 - VALIDATION SSIM: 0.9153037133620112\n"
     ]
    },
    {
     "name": "stderr",
     "output_type": "stream",
     "text": [
      "  2%|▏         | 244/10000 [1:12:02<47:52:33, 17.67s/it]"
     ]
    },
    {
     "name": "stdout",
     "output_type": "stream",
     "text": [
      "Epoch 244 - VALIDATION LOSS: 0.00032857112091733143 - VALIDATION PSNR: 35.63827896118164 - VALIDATION SSIM: 0.9200545385240763\n"
     ]
    },
    {
     "name": "stderr",
     "output_type": "stream",
     "text": [
      "  2%|▏         | 246/10000 [1:12:37<47:41:04, 17.60s/it]"
     ]
    },
    {
     "name": "stdout",
     "output_type": "stream",
     "text": [
      "Epoch 246 - VALIDATION LOSS: 0.0003652254708867986 - VALIDATION PSNR: 34.668113708496094 - VALIDATION SSIM: 0.9109502591154952\n"
     ]
    },
    {
     "name": "stderr",
     "output_type": "stream",
     "text": [
      "  2%|▏         | 248/10000 [1:13:11<46:36:24, 17.21s/it]"
     ]
    },
    {
     "name": "stdout",
     "output_type": "stream",
     "text": [
      "Epoch 248 - VALIDATION LOSS: 0.0003371563125256216 - VALIDATION PSNR: 35.02565002441406 - VALIDATION SSIM: 0.9173020038762391\n"
     ]
    },
    {
     "name": "stderr",
     "output_type": "stream",
     "text": [
      "  2%|▎         | 250/10000 [1:13:43<45:17:01, 16.72s/it]"
     ]
    },
    {
     "name": "stdout",
     "output_type": "stream",
     "text": [
      "Epoch 250 - VALIDATION LOSS: 0.0003766810732486192 - VALIDATION PSNR: 34.48522186279297 - VALIDATION SSIM: 0.9092714767386914\n"
     ]
    },
    {
     "name": "stderr",
     "output_type": "stream",
     "text": [
      "  3%|▎         | 252/10000 [1:14:16<45:00:57, 16.62s/it]"
     ]
    },
    {
     "name": "stdout",
     "output_type": "stream",
     "text": [
      "Epoch 252 - VALIDATION LOSS: 0.00031104380832402967 - VALIDATION PSNR: 35.78483200073242 - VALIDATION SSIM: 0.9227666776710748\n"
     ]
    },
    {
     "name": "stderr",
     "output_type": "stream",
     "text": [
      "  3%|▎         | 254/10000 [1:14:50<45:31:26, 16.82s/it]"
     ]
    },
    {
     "name": "stdout",
     "output_type": "stream",
     "text": [
      "Epoch 254 - VALIDATION LOSS: 0.00033268285551457666 - VALIDATION PSNR: 35.47246170043945 - VALIDATION SSIM: 0.9194783233874589\n"
     ]
    },
    {
     "name": "stderr",
     "output_type": "stream",
     "text": [
      "  3%|▎         | 256/10000 [1:15:25<46:32:21, 17.19s/it]"
     ]
    },
    {
     "name": "stdout",
     "output_type": "stream",
     "text": [
      "Epoch 256 - VALIDATION LOSS: 0.000359700065018842 - VALIDATION PSNR: 34.75468444824219 - VALIDATION SSIM: 0.9130812347245217\n"
     ]
    },
    {
     "name": "stderr",
     "output_type": "stream",
     "text": [
      "  3%|▎         | 258/10000 [1:16:04<49:28:07, 18.28s/it]"
     ]
    },
    {
     "name": "stdout",
     "output_type": "stream",
     "text": [
      "Epoch 258 - VALIDATION LOSS: 0.00035913235478801653 - VALIDATION PSNR: 34.9342041015625 - VALIDATION SSIM: 0.9133262061788291\n"
     ]
    },
    {
     "name": "stderr",
     "output_type": "stream",
     "text": [
      "  3%|▎         | 259/10000 [1:16:24<50:48:19, 18.78s/it]"
     ]
    },
    {
     "name": "stdout",
     "output_type": "stream",
     "text": [
      "Epoch 260 - VALIDATION LOSS: 0.00035901336377719417 - VALIDATION PSNR: 34.87294387817383 - VALIDATION SSIM: 0.9127670949794054\n"
     ]
    },
    {
     "name": "stderr",
     "output_type": "stream",
     "text": [
      "  3%|▎         | 262/10000 [1:17:21<51:14:53, 18.95s/it]"
     ]
    },
    {
     "name": "stdout",
     "output_type": "stream",
     "text": [
      "Epoch 262 - VALIDATION LOSS: 0.0003383022176421946 - VALIDATION PSNR: 35.618587493896484 - VALIDATION SSIM: 0.9186635882871002\n"
     ]
    },
    {
     "name": "stderr",
     "output_type": "stream",
     "text": [
      "  3%|▎         | 264/10000 [1:17:59<50:49:12, 18.79s/it]"
     ]
    },
    {
     "name": "stdout",
     "output_type": "stream",
     "text": [
      "Epoch 264 - VALIDATION LOSS: 0.00018728212126006838 - VALIDATION PSNR: 37.58437728881836 - VALIDATION SSIM: 0.9479994165786206\n"
     ]
    },
    {
     "name": "stderr",
     "output_type": "stream",
     "text": [
      "  3%|▎         | 266/10000 [1:18:38<51:47:03, 19.15s/it]"
     ]
    },
    {
     "name": "stdout",
     "output_type": "stream",
     "text": [
      "Epoch 266 - VALIDATION LOSS: 0.00027746182786358986 - VALIDATION PSNR: 36.51372528076172 - VALIDATION SSIM: 0.9310733730192184\n"
     ]
    },
    {
     "name": "stderr",
     "output_type": "stream",
     "text": [
      "  3%|▎         | 268/10000 [1:19:14<50:20:13, 18.62s/it]"
     ]
    },
    {
     "name": "stdout",
     "output_type": "stream",
     "text": [
      "Epoch 268 - VALIDATION LOSS: 0.0003371623533894308 - VALIDATION PSNR: 35.09027099609375 - VALIDATION SSIM: 0.9163835130063537\n"
     ]
    },
    {
     "name": "stderr",
     "output_type": "stream",
     "text": [
      "  3%|▎         | 270/10000 [1:19:52<50:41:13, 18.75s/it]"
     ]
    },
    {
     "name": "stdout",
     "output_type": "stream",
     "text": [
      "Epoch 270 - VALIDATION LOSS: 0.0003984123541158624 - VALIDATION PSNR: 34.304176330566406 - VALIDATION SSIM: 0.9057975540611\n"
     ]
    },
    {
     "name": "stderr",
     "output_type": "stream",
     "text": [
      "  3%|▎         | 272/10000 [1:20:31<51:54:36, 19.21s/it]"
     ]
    },
    {
     "name": "stdout",
     "output_type": "stream",
     "text": [
      "Epoch 272 - VALIDATION LOSS: 0.00024325333833985496 - VALIDATION PSNR: 36.57297897338867 - VALIDATION SSIM: 0.9363132143251598\n"
     ]
    },
    {
     "name": "stderr",
     "output_type": "stream",
     "text": [
      "  3%|▎         | 274/10000 [1:21:10<52:16:22, 19.35s/it]"
     ]
    },
    {
     "name": "stdout",
     "output_type": "stream",
     "text": [
      "Epoch 274 - VALIDATION LOSS: 0.0003033070534002036 - VALIDATION PSNR: 35.22190475463867 - VALIDATION SSIM: 0.9225957726527154\n"
     ]
    },
    {
     "name": "stderr",
     "output_type": "stream",
     "text": [
      "  3%|▎         | 276/10000 [1:21:50<52:34:42, 19.47s/it]"
     ]
    },
    {
     "name": "stdout",
     "output_type": "stream",
     "text": [
      "Epoch 276 - VALIDATION LOSS: 0.0003737550141522661 - VALIDATION PSNR: 34.48344421386719 - VALIDATION SSIM: 0.9092349714515507\n"
     ]
    },
    {
     "name": "stderr",
     "output_type": "stream",
     "text": [
      "  3%|▎         | 278/10000 [1:22:29<52:49:31, 19.56s/it]"
     ]
    },
    {
     "name": "stdout",
     "output_type": "stream",
     "text": [
      "Epoch 278 - VALIDATION LOSS: 0.00029375910980888875 - VALIDATION PSNR: 36.25825119018555 - VALIDATION SSIM: 0.9278906554232836\n"
     ]
    },
    {
     "name": "stderr",
     "output_type": "stream",
     "text": [
      "  3%|▎         | 279/10000 [1:22:47<51:29:01, 19.07s/it]"
     ]
    },
    {
     "name": "stdout",
     "output_type": "stream",
     "text": [
      "Epoch 280 - VALIDATION LOSS: 0.0003633382439147681 - VALIDATION PSNR: 34.97400665283203 - VALIDATION SSIM: 0.9131527099005282\n"
     ]
    },
    {
     "name": "stderr",
     "output_type": "stream",
     "text": [
      "  3%|▎         | 282/10000 [1:23:44<51:21:38, 19.03s/it]"
     ]
    },
    {
     "name": "stdout",
     "output_type": "stream",
     "text": [
      "Epoch 282 - VALIDATION LOSS: 0.00031061622939887457 - VALIDATION PSNR: 35.32854080200195 - VALIDATION SSIM: 0.9221634296879992\n"
     ]
    },
    {
     "name": "stderr",
     "output_type": "stream",
     "text": [
      "  3%|▎         | 284/10000 [1:24:22<51:38:21, 19.13s/it]"
     ]
    },
    {
     "name": "stdout",
     "output_type": "stream",
     "text": [
      "Epoch 284 - VALIDATION LOSS: 0.0003643508825916797 - VALIDATION PSNR: 34.82809829711914 - VALIDATION SSIM: 0.9124760261112751\n"
     ]
    },
    {
     "name": "stderr",
     "output_type": "stream",
     "text": [
      "  3%|▎         | 286/10000 [1:24:59<50:54:23, 18.87s/it]"
     ]
    },
    {
     "name": "stdout",
     "output_type": "stream",
     "text": [
      "Epoch 286 - VALIDATION LOSS: 0.0003200578385076369 - VALIDATION PSNR: 35.85050964355469 - VALIDATION SSIM: 0.9230260799855142\n"
     ]
    },
    {
     "name": "stderr",
     "output_type": "stream",
     "text": [
      "  3%|▎         | 288/10000 [1:25:37<50:36:24, 18.76s/it]"
     ]
    },
    {
     "name": "stdout",
     "output_type": "stream",
     "text": [
      "Epoch 288 - VALIDATION LOSS: 0.0002942457667813869 - VALIDATION PSNR: 35.763370513916016 - VALIDATION SSIM: 0.9255958278088867\n"
     ]
    },
    {
     "name": "stderr",
     "output_type": "stream",
     "text": [
      "  3%|▎         | 290/10000 [1:26:15<50:46:40, 18.83s/it]"
     ]
    },
    {
     "name": "stdout",
     "output_type": "stream",
     "text": [
      "Epoch 290 - VALIDATION LOSS: 0.00031272075648303144 - VALIDATION PSNR: 35.741844177246094 - VALIDATION SSIM: 0.9239560410974622\n"
     ]
    },
    {
     "name": "stderr",
     "output_type": "stream",
     "text": [
      "  3%|▎         | 292/10000 [1:26:50<48:55:06, 18.14s/it]"
     ]
    },
    {
     "name": "stdout",
     "output_type": "stream",
     "text": [
      "Epoch 292 - VALIDATION LOSS: 0.0003339414488436887 - VALIDATION PSNR: 35.09510040283203 - VALIDATION SSIM: 0.9190202354905009\n"
     ]
    },
    {
     "name": "stderr",
     "output_type": "stream",
     "text": [
      "  3%|▎         | 294/10000 [1:27:25<48:16:17, 17.90s/it]"
     ]
    },
    {
     "name": "stdout",
     "output_type": "stream",
     "text": [
      "Epoch 294 - VALIDATION LOSS: 0.0002847675550583517 - VALIDATION PSNR: 35.5817756652832 - VALIDATION SSIM: 0.9256803497333825\n"
     ]
    },
    {
     "name": "stderr",
     "output_type": "stream",
     "text": [
      "  3%|▎         | 296/10000 [1:28:02<49:02:56, 18.20s/it]"
     ]
    },
    {
     "name": "stdout",
     "output_type": "stream",
     "text": [
      "Epoch 296 - VALIDATION LOSS: 0.0002863536738004768 - VALIDATION PSNR: 35.88279724121094 - VALIDATION SSIM: 0.9278739576612711\n"
     ]
    },
    {
     "name": "stderr",
     "output_type": "stream",
     "text": [
      "  3%|▎         | 298/10000 [1:28:40<50:08:38, 18.61s/it]"
     ]
    },
    {
     "name": "stdout",
     "output_type": "stream",
     "text": [
      "Epoch 298 - VALIDATION LOSS: 0.00030754617455386324 - VALIDATION PSNR: 35.703311920166016 - VALIDATION SSIM: 0.9244947276645303\n"
     ]
    },
    {
     "name": "stderr",
     "output_type": "stream",
     "text": [
      "  3%|▎         | 299/10000 [1:28:59<50:55:19, 18.90s/it]"
     ]
    },
    {
     "name": "stdout",
     "output_type": "stream",
     "text": [
      "Epoch 300 - VALIDATION LOSS: 0.00024323326215380803 - VALIDATION PSNR: 36.55955123901367 - VALIDATION SSIM: 0.9351838717362284\n"
     ]
    },
    {
     "name": "stderr",
     "output_type": "stream",
     "text": [
      "  3%|▎         | 302/10000 [1:29:56<51:02:15, 18.95s/it]"
     ]
    },
    {
     "name": "stdout",
     "output_type": "stream",
     "text": [
      "Epoch 302 - VALIDATION LOSS: 0.0002908976239268668 - VALIDATION PSNR: 35.766719818115234 - VALIDATION SSIM: 0.926105525872916\n"
     ]
    },
    {
     "name": "stderr",
     "output_type": "stream",
     "text": [
      "  3%|▎         | 304/10000 [1:30:31<48:50:11, 18.13s/it]"
     ]
    },
    {
     "name": "stdout",
     "output_type": "stream",
     "text": [
      "Epoch 304 - VALIDATION LOSS: 0.00030903139759175247 - VALIDATION PSNR: 35.50296401977539 - VALIDATION SSIM: 0.921792383703852\n"
     ]
    },
    {
     "name": "stderr",
     "output_type": "stream",
     "text": [
      "  3%|▎         | 306/10000 [1:31:06<48:01:16, 17.83s/it]"
     ]
    },
    {
     "name": "stdout",
     "output_type": "stream",
     "text": [
      "Epoch 306 - VALIDATION LOSS: 0.00037034837805549614 - VALIDATION PSNR: 34.95549774169922 - VALIDATION SSIM: 0.9123230570835098\n"
     ]
    },
    {
     "name": "stderr",
     "output_type": "stream",
     "text": [
      "  3%|▎         | 308/10000 [1:31:43<49:27:20, 18.37s/it]"
     ]
    },
    {
     "name": "stdout",
     "output_type": "stream",
     "text": [
      "Epoch 308 - VALIDATION LOSS: 0.00038920750193938147 - VALIDATION PSNR: 34.674556732177734 - VALIDATION SSIM: 0.908890046402216\n"
     ]
    },
    {
     "name": "stderr",
     "output_type": "stream",
     "text": [
      "  3%|▎         | 310/10000 [1:32:20<49:44:11, 18.48s/it]"
     ]
    },
    {
     "name": "stdout",
     "output_type": "stream",
     "text": [
      "Epoch 310 - VALIDATION LOSS: 0.00035028519414481707 - VALIDATION PSNR: 35.37513732910156 - VALIDATION SSIM: 0.9158284057612718\n"
     ]
    },
    {
     "name": "stderr",
     "output_type": "stream",
     "text": [
      "  3%|▎         | 312/10000 [1:32:58<50:03:40, 18.60s/it]"
     ]
    },
    {
     "name": "stdout",
     "output_type": "stream",
     "text": [
      "Epoch 312 - VALIDATION LOSS: 0.00030827811497147195 - VALIDATION PSNR: 35.512481689453125 - VALIDATION SSIM: 0.9220936325420439\n"
     ]
    },
    {
     "name": "stderr",
     "output_type": "stream",
     "text": [
      "  3%|▎         | 314/10000 [1:33:36<50:39:38, 18.83s/it]"
     ]
    },
    {
     "name": "stdout",
     "output_type": "stream",
     "text": [
      "Epoch 314 - VALIDATION LOSS: 0.0002574295449448982 - VALIDATION PSNR: 36.87429428100586 - VALIDATION SSIM: 0.9351559630663693\n"
     ]
    },
    {
     "name": "stderr",
     "output_type": "stream",
     "text": [
      "  3%|▎         | 316/10000 [1:34:12<49:30:27, 18.40s/it]"
     ]
    },
    {
     "name": "stdout",
     "output_type": "stream",
     "text": [
      "Epoch 316 - VALIDATION LOSS: 0.0002904337270592805 - VALIDATION PSNR: 36.29186248779297 - VALIDATION SSIM: 0.9282103251348436\n"
     ]
    },
    {
     "name": "stderr",
     "output_type": "stream",
     "text": [
      "  3%|▎         | 318/10000 [1:34:48<48:55:47, 18.19s/it]"
     ]
    },
    {
     "name": "stdout",
     "output_type": "stream",
     "text": [
      "Epoch 318 - VALIDATION LOSS: 0.00031013807165436447 - VALIDATION PSNR: 35.2746467590332 - VALIDATION SSIM: 0.9218143262469769\n"
     ]
    },
    {
     "name": "stderr",
     "output_type": "stream",
     "text": [
      "  3%|▎         | 319/10000 [1:35:06<48:37:14, 18.08s/it]"
     ]
    },
    {
     "name": "stdout",
     "output_type": "stream",
     "text": [
      "Epoch 320 - VALIDATION LOSS: 0.00032939366974460427 - VALIDATION PSNR: 35.5893669128418 - VALIDATION SSIM: 0.9207858339523822\n"
     ]
    },
    {
     "name": "stderr",
     "output_type": "stream",
     "text": [
      "  3%|▎         | 322/10000 [1:36:00<48:31:58, 18.05s/it]"
     ]
    },
    {
     "name": "stdout",
     "output_type": "stream",
     "text": [
      "Epoch 322 - VALIDATION LOSS: 0.0002601787600724492 - VALIDATION PSNR: 36.045433044433594 - VALIDATION SSIM: 0.9321356345779299\n"
     ]
    },
    {
     "name": "stderr",
     "output_type": "stream",
     "text": [
      "  3%|▎         | 324/10000 [1:36:39<50:22:15, 18.74s/it]"
     ]
    },
    {
     "name": "stdout",
     "output_type": "stream",
     "text": [
      "Epoch 324 - VALIDATION LOSS: 0.0002656210108398227 - VALIDATION PSNR: 36.457122802734375 - VALIDATION SSIM: 0.9326518111497164\n"
     ]
    },
    {
     "name": "stderr",
     "output_type": "stream",
     "text": [
      "  3%|▎         | 326/10000 [1:37:18<51:19:41, 19.10s/it]"
     ]
    },
    {
     "name": "stdout",
     "output_type": "stream",
     "text": [
      "Epoch 326 - VALIDATION LOSS: 0.00031416318961419165 - VALIDATION PSNR: 35.3935432434082 - VALIDATION SSIM: 0.9217739615791738\n"
     ]
    },
    {
     "name": "stderr",
     "output_type": "stream",
     "text": [
      "  3%|▎         | 328/10000 [1:37:55<50:33:56, 18.82s/it]"
     ]
    },
    {
     "name": "stdout",
     "output_type": "stream",
     "text": [
      "Epoch 328 - VALIDATION LOSS: 0.0002922453486462473 - VALIDATION PSNR: 35.77403259277344 - VALIDATION SSIM: 0.9266751239903271\n"
     ]
    },
    {
     "name": "stderr",
     "output_type": "stream",
     "text": [
      "  3%|▎         | 330/10000 [1:38:32<49:43:01, 18.51s/it]"
     ]
    },
    {
     "name": "stdout",
     "output_type": "stream",
     "text": [
      "Epoch 330 - VALIDATION LOSS: 0.0003307832630525809 - VALIDATION PSNR: 35.27367401123047 - VALIDATION SSIM: 0.9190206376009286\n"
     ]
    },
    {
     "name": "stderr",
     "output_type": "stream",
     "text": [
      "  3%|▎         | 332/10000 [1:39:09<50:05:01, 18.65s/it]"
     ]
    },
    {
     "name": "stdout",
     "output_type": "stream",
     "text": [
      "Epoch 332 - VALIDATION LOSS: 0.0003534770821715938 - VALIDATION PSNR: 35.192081451416016 - VALIDATION SSIM: 0.9155813210763036\n"
     ]
    },
    {
     "name": "stderr",
     "output_type": "stream",
     "text": [
      "  3%|▎         | 334/10000 [1:39:45<49:27:37, 18.42s/it]"
     ]
    },
    {
     "name": "stdout",
     "output_type": "stream",
     "text": [
      "Epoch 334 - VALIDATION LOSS: 0.00032619090234220494 - VALIDATION PSNR: 35.42786407470703 - VALIDATION SSIM: 0.9201844010071307\n"
     ]
    },
    {
     "name": "stderr",
     "output_type": "stream",
     "text": [
      "  3%|▎         | 336/10000 [1:40:24<50:46:37, 18.92s/it]"
     ]
    },
    {
     "name": "stdout",
     "output_type": "stream",
     "text": [
      "Epoch 336 - VALIDATION LOSS: 0.0003808017236224259 - VALIDATION PSNR: 34.957611083984375 - VALIDATION SSIM: 0.9091167967608682\n"
     ]
    },
    {
     "name": "stderr",
     "output_type": "stream",
     "text": [
      "  3%|▎         | 338/10000 [1:41:03<50:55:31, 18.97s/it]"
     ]
    },
    {
     "name": "stdout",
     "output_type": "stream",
     "text": [
      "Epoch 338 - VALIDATION LOSS: 0.00024624159050290473 - VALIDATION PSNR: 36.588253021240234 - VALIDATION SSIM: 0.9354582625741065\n"
     ]
    },
    {
     "name": "stderr",
     "output_type": "stream",
     "text": [
      "  3%|▎         | 339/10000 [1:41:20<49:20:28, 18.39s/it]"
     ]
    },
    {
     "name": "stdout",
     "output_type": "stream",
     "text": [
      "Epoch 340 - VALIDATION LOSS: 0.0003162353423249442 - VALIDATION PSNR: 35.65226745605469 - VALIDATION SSIM: 0.9229528352374137\n"
     ]
    },
    {
     "name": "stderr",
     "output_type": "stream",
     "text": [
      "  3%|▎         | 342/10000 [1:42:13<48:16:22, 17.99s/it]"
     ]
    },
    {
     "name": "stdout",
     "output_type": "stream",
     "text": [
      "Epoch 342 - VALIDATION LOSS: 0.0003813762459685677 - VALIDATION PSNR: 34.908634185791016 - VALIDATION SSIM: 0.9103154726741016\n"
     ]
    },
    {
     "name": "stderr",
     "output_type": "stream",
     "text": [
      "  3%|▎         | 344/10000 [1:42:50<49:12:03, 18.34s/it]"
     ]
    },
    {
     "name": "stdout",
     "output_type": "stream",
     "text": [
      "Epoch 344 - VALIDATION LOSS: 0.00020674593906733207 - VALIDATION PSNR: 37.22165298461914 - VALIDATION SSIM: 0.944126651279509\n"
     ]
    },
    {
     "name": "stderr",
     "output_type": "stream",
     "text": [
      "  3%|▎         | 346/10000 [1:43:28<49:39:44, 18.52s/it]"
     ]
    },
    {
     "name": "stdout",
     "output_type": "stream",
     "text": [
      "Epoch 346 - VALIDATION LOSS: 0.00028419066802598536 - VALIDATION PSNR: 35.78671646118164 - VALIDATION SSIM: 0.927287881521076\n"
     ]
    },
    {
     "name": "stderr",
     "output_type": "stream",
     "text": [
      "  3%|▎         | 348/10000 [1:44:05<49:43:35, 18.55s/it]"
     ]
    },
    {
     "name": "stdout",
     "output_type": "stream",
     "text": [
      "Epoch 348 - VALIDATION LOSS: 0.00029575710595963756 - VALIDATION PSNR: 36.02572250366211 - VALIDATION SSIM: 0.9260808539732694\n"
     ]
    },
    {
     "name": "stderr",
     "output_type": "stream",
     "text": [
      "  4%|▎         | 350/10000 [1:44:43<50:33:48, 18.86s/it]"
     ]
    },
    {
     "name": "stdout",
     "output_type": "stream",
     "text": [
      "Epoch 350 - VALIDATION LOSS: 0.00025146727421088144 - VALIDATION PSNR: 36.31446075439453 - VALIDATION SSIM: 0.9345108727787136\n"
     ]
    },
    {
     "name": "stderr",
     "output_type": "stream",
     "text": [
      "  4%|▎         | 352/10000 [1:45:18<48:36:15, 18.14s/it]"
     ]
    },
    {
     "name": "stdout",
     "output_type": "stream",
     "text": [
      "Epoch 352 - VALIDATION LOSS: 0.0003437255982134957 - VALIDATION PSNR: 34.881202697753906 - VALIDATION SSIM: 0.9152223565996661\n"
     ]
    },
    {
     "name": "stderr",
     "output_type": "stream",
     "text": [
      "  4%|▎         | 354/10000 [1:45:53<47:43:03, 17.81s/it]"
     ]
    },
    {
     "name": "stdout",
     "output_type": "stream",
     "text": [
      "Epoch 354 - VALIDATION LOSS: 0.0002947984139609616 - VALIDATION PSNR: 35.68418502807617 - VALIDATION SSIM: 0.9250826360126353\n"
     ]
    },
    {
     "name": "stderr",
     "output_type": "stream",
     "text": [
      "  4%|▎         | 356/10000 [1:46:29<47:47:54, 17.84s/it]"
     ]
    },
    {
     "name": "stdout",
     "output_type": "stream",
     "text": [
      "Epoch 356 - VALIDATION LOSS: 0.0002359858281124616 - VALIDATION PSNR: 36.86656188964844 - VALIDATION SSIM: 0.9383935681732297\n"
     ]
    },
    {
     "name": "stderr",
     "output_type": "stream",
     "text": [
      "  4%|▎         | 358/10000 [1:47:05<48:38:11, 18.16s/it]"
     ]
    },
    {
     "name": "stdout",
     "output_type": "stream",
     "text": [
      "Epoch 358 - VALIDATION LOSS: 0.0002981915849886718 - VALIDATION PSNR: 35.776058197021484 - VALIDATION SSIM: 0.9261410063407423\n"
     ]
    },
    {
     "name": "stderr",
     "output_type": "stream",
     "text": [
      "  4%|▎         | 359/10000 [1:47:25<49:48:22, 18.60s/it]"
     ]
    },
    {
     "name": "stdout",
     "output_type": "stream",
     "text": [
      "Epoch 360 - VALIDATION LOSS: 0.00026857950524572516 - VALIDATION PSNR: 36.54984664916992 - VALIDATION SSIM: 0.9320083929118155\n"
     ]
    },
    {
     "name": "stderr",
     "output_type": "stream",
     "text": [
      "  4%|▎         | 362/10000 [1:48:23<51:06:46, 19.09s/it]"
     ]
    },
    {
     "name": "stdout",
     "output_type": "stream",
     "text": [
      "Epoch 362 - VALIDATION LOSS: 0.0003193697484675795 - VALIDATION PSNR: 35.767669677734375 - VALIDATION SSIM: 0.9223807310713827\n"
     ]
    },
    {
     "name": "stderr",
     "output_type": "stream",
     "text": [
      "  4%|▎         | 364/10000 [1:49:00<50:36:30, 18.91s/it]"
     ]
    },
    {
     "name": "stdout",
     "output_type": "stream",
     "text": [
      "Epoch 364 - VALIDATION LOSS: 0.00031028473858896177 - VALIDATION PSNR: 35.36186599731445 - VALIDATION SSIM: 0.9222991033858657\n"
     ]
    },
    {
     "name": "stderr",
     "output_type": "stream",
     "text": [
      "  4%|▎         | 366/10000 [1:49:37<49:33:29, 18.52s/it]"
     ]
    },
    {
     "name": "stdout",
     "output_type": "stream",
     "text": [
      "Epoch 366 - VALIDATION LOSS: 0.00029526575599447824 - VALIDATION PSNR: 35.50782775878906 - VALIDATION SSIM: 0.9247323723476382\n"
     ]
    },
    {
     "name": "stderr",
     "output_type": "stream",
     "text": [
      "  4%|▎         | 368/10000 [1:50:14<49:39:10, 18.56s/it]"
     ]
    },
    {
     "name": "stdout",
     "output_type": "stream",
     "text": [
      "Epoch 368 - VALIDATION LOSS: 0.000333861412400438 - VALIDATION PSNR: 35.576316833496094 - VALIDATION SSIM: 0.9202839638280571\n"
     ]
    },
    {
     "name": "stderr",
     "output_type": "stream",
     "text": [
      "  4%|▎         | 370/10000 [1:50:50<48:51:42, 18.27s/it]"
     ]
    },
    {
     "name": "stdout",
     "output_type": "stream",
     "text": [
      "Epoch 370 - VALIDATION LOSS: 0.00036321668812888674 - VALIDATION PSNR: 35.066932678222656 - VALIDATION SSIM: 0.914234387871325\n"
     ]
    },
    {
     "name": "stderr",
     "output_type": "stream",
     "text": [
      "  4%|▎         | 372/10000 [1:51:26<48:31:22, 18.14s/it]"
     ]
    },
    {
     "name": "stdout",
     "output_type": "stream",
     "text": [
      "Epoch 372 - VALIDATION LOSS: 0.0003499587928672554 - VALIDATION PSNR: 35.0438232421875 - VALIDATION SSIM: 0.9150655042432024\n"
     ]
    },
    {
     "name": "stderr",
     "output_type": "stream",
     "text": [
      "  4%|▎         | 374/10000 [1:52:05<50:27:33, 18.87s/it]"
     ]
    },
    {
     "name": "stdout",
     "output_type": "stream",
     "text": [
      "Epoch 374 - VALIDATION LOSS: 0.00038479268641822273 - VALIDATION PSNR: 34.73833465576172 - VALIDATION SSIM: 0.907268979517743\n"
     ]
    },
    {
     "name": "stderr",
     "output_type": "stream",
     "text": [
      "  4%|▍         | 376/10000 [1:52:42<50:00:37, 18.71s/it]"
     ]
    },
    {
     "name": "stdout",
     "output_type": "stream",
     "text": [
      "Epoch 376 - VALIDATION LOSS: 0.00026248044923704583 - VALIDATION PSNR: 36.04465103149414 - VALIDATION SSIM: 0.9316286044406249\n"
     ]
    },
    {
     "name": "stderr",
     "output_type": "stream",
     "text": [
      "  4%|▍         | 378/10000 [1:53:21<50:48:51, 19.01s/it]"
     ]
    },
    {
     "name": "stdout",
     "output_type": "stream",
     "text": [
      "Epoch 378 - VALIDATION LOSS: 0.0002871473643608624 - VALIDATION PSNR: 35.551944732666016 - VALIDATION SSIM: 0.9266017985776067\n"
     ]
    },
    {
     "name": "stderr",
     "output_type": "stream",
     "text": [
      "  4%|▍         | 379/10000 [1:53:40<50:52:41, 19.04s/it]"
     ]
    },
    {
     "name": "stdout",
     "output_type": "stream",
     "text": [
      "Epoch 380 - VALIDATION LOSS: 0.00027093494463770185 - VALIDATION PSNR: 36.04965591430664 - VALIDATION SSIM: 0.929851002068907\n"
     ]
    },
    {
     "name": "stderr",
     "output_type": "stream",
     "text": [
      "  4%|▍         | 382/10000 [1:54:34<48:38:42, 18.21s/it]"
     ]
    },
    {
     "name": "stdout",
     "output_type": "stream",
     "text": [
      "Epoch 382 - VALIDATION LOSS: 0.00033115024052676745 - VALIDATION PSNR: 35.236915588378906 - VALIDATION SSIM: 0.9185797595889121\n"
     ]
    },
    {
     "name": "stderr",
     "output_type": "stream",
     "text": [
      "  4%|▍         | 384/10000 [1:55:09<48:02:20, 17.98s/it]"
     ]
    },
    {
     "name": "stdout",
     "output_type": "stream",
     "text": [
      "Epoch 384 - VALIDATION LOSS: 0.00036123259815212805 - VALIDATION PSNR: 34.65093994140625 - VALIDATION SSIM: 0.9120992662984431\n"
     ]
    },
    {
     "name": "stderr",
     "output_type": "stream",
     "text": [
      "  4%|▍         | 386/10000 [1:55:45<47:48:40, 17.90s/it]"
     ]
    },
    {
     "name": "stdout",
     "output_type": "stream",
     "text": [
      "Epoch 386 - VALIDATION LOSS: 0.0003243765531806275 - VALIDATION PSNR: 35.54736328125 - VALIDATION SSIM: 0.9204100130963325\n"
     ]
    },
    {
     "name": "stderr",
     "output_type": "stream",
     "text": [
      "  4%|▍         | 388/10000 [1:56:21<48:24:26, 18.13s/it]"
     ]
    },
    {
     "name": "stdout",
     "output_type": "stream",
     "text": [
      "Epoch 388 - VALIDATION LOSS: 0.00028437771015887847 - VALIDATION PSNR: 35.95077133178711 - VALIDATION SSIM: 0.927147389672026\n"
     ]
    },
    {
     "name": "stderr",
     "output_type": "stream",
     "text": [
      "  4%|▍         | 390/10000 [1:56:59<49:06:56, 18.40s/it]"
     ]
    },
    {
     "name": "stdout",
     "output_type": "stream",
     "text": [
      "Epoch 390 - VALIDATION LOSS: 0.0002645103359100176 - VALIDATION PSNR: 36.070068359375 - VALIDATION SSIM: 0.9317936906202435\n"
     ]
    },
    {
     "name": "stderr",
     "output_type": "stream",
     "text": [
      "  4%|▍         | 392/10000 [1:57:38<50:27:34, 18.91s/it]"
     ]
    },
    {
     "name": "stdout",
     "output_type": "stream",
     "text": [
      "Epoch 392 - VALIDATION LOSS: 0.00033370463643223047 - VALIDATION PSNR: 35.399803161621094 - VALIDATION SSIM: 0.9187693716224935\n"
     ]
    },
    {
     "name": "stderr",
     "output_type": "stream",
     "text": [
      "  4%|▍         | 394/10000 [1:58:15<50:03:47, 18.76s/it]"
     ]
    },
    {
     "name": "stdout",
     "output_type": "stream",
     "text": [
      "Epoch 394 - VALIDATION LOSS: 0.0002784690641419729 - VALIDATION PSNR: 35.7777214050293 - VALIDATION SSIM: 0.927949439326033\n"
     ]
    },
    {
     "name": "stderr",
     "output_type": "stream",
     "text": [
      "  4%|▍         | 396/10000 [1:58:51<49:14:35, 18.46s/it]"
     ]
    },
    {
     "name": "stdout",
     "output_type": "stream",
     "text": [
      "Epoch 396 - VALIDATION LOSS: 0.00033581198294996284 - VALIDATION PSNR: 35.408321380615234 - VALIDATION SSIM: 0.9184989100741445\n"
     ]
    },
    {
     "name": "stderr",
     "output_type": "stream",
     "text": [
      "  4%|▍         | 398/10000 [1:59:28<48:52:01, 18.32s/it]"
     ]
    },
    {
     "name": "stdout",
     "output_type": "stream",
     "text": [
      "Epoch 398 - VALIDATION LOSS: 0.00026616829381964635 - VALIDATION PSNR: 35.97588348388672 - VALIDATION SSIM: 0.930464348216176\n"
     ]
    },
    {
     "name": "stderr",
     "output_type": "stream",
     "text": [
      "  4%|▍         | 399/10000 [1:59:45<48:15:50, 18.10s/it]"
     ]
    },
    {
     "name": "stdout",
     "output_type": "stream",
     "text": [
      "Epoch 400 - VALIDATION LOSS: 0.0003901511518051848 - VALIDATION PSNR: 34.382808685302734 - VALIDATION SSIM: 0.90633484734568\n"
     ]
    },
    {
     "name": "stderr",
     "output_type": "stream",
     "text": [
      "  4%|▍         | 402/10000 [2:00:39<47:44:52, 17.91s/it]"
     ]
    },
    {
     "name": "stdout",
     "output_type": "stream",
     "text": [
      "Epoch 402 - VALIDATION LOSS: 0.0002454308441883768 - VALIDATION PSNR: 36.63096618652344 - VALIDATION SSIM: 0.9362648515232055\n"
     ]
    },
    {
     "name": "stderr",
     "output_type": "stream",
     "text": [
      "  4%|▍         | 404/10000 [2:01:17<49:37:04, 18.61s/it]"
     ]
    },
    {
     "name": "stdout",
     "output_type": "stream",
     "text": [
      "Epoch 404 - VALIDATION LOSS: 0.0002983868071169127 - VALIDATION PSNR: 35.74897766113281 - VALIDATION SSIM: 0.9262584677559733\n"
     ]
    },
    {
     "name": "stderr",
     "output_type": "stream",
     "text": [
      "  4%|▍         | 406/10000 [2:01:55<49:35:41, 18.61s/it]"
     ]
    },
    {
     "name": "stdout",
     "output_type": "stream",
     "text": [
      "Epoch 406 - VALIDATION LOSS: 0.00030998499732959317 - VALIDATION PSNR: 35.61914825439453 - VALIDATION SSIM: 0.9236602910994738\n"
     ]
    },
    {
     "name": "stderr",
     "output_type": "stream",
     "text": [
      "  4%|▍         | 408/10000 [2:02:33<49:57:46, 18.75s/it]"
     ]
    },
    {
     "name": "stdout",
     "output_type": "stream",
     "text": [
      "Epoch 408 - VALIDATION LOSS: 0.00035420500171312597 - VALIDATION PSNR: 34.82910919189453 - VALIDATION SSIM: 0.9138448168955148\n"
     ]
    },
    {
     "name": "stderr",
     "output_type": "stream",
     "text": [
      "  4%|▍         | 410/10000 [2:03:11<50:30:08, 18.96s/it]"
     ]
    },
    {
     "name": "stdout",
     "output_type": "stream",
     "text": [
      "Epoch 410 - VALIDATION LOSS: 0.00026932431137538515 - VALIDATION PSNR: 35.904518127441406 - VALIDATION SSIM: 0.9311577843965887\n"
     ]
    },
    {
     "name": "stderr",
     "output_type": "stream",
     "text": [
      "  4%|▍         | 412/10000 [2:03:47<49:06:10, 18.44s/it]"
     ]
    },
    {
     "name": "stdout",
     "output_type": "stream",
     "text": [
      "Epoch 412 - VALIDATION LOSS: 0.0003188016598869581 - VALIDATION PSNR: 35.53699493408203 - VALIDATION SSIM: 0.9210016758341492\n"
     ]
    },
    {
     "name": "stderr",
     "output_type": "stream",
     "text": [
      "  4%|▍         | 414/10000 [2:04:22<47:47:56, 17.95s/it]"
     ]
    },
    {
     "name": "stdout",
     "output_type": "stream",
     "text": [
      "Epoch 414 - VALIDATION LOSS: 0.00031672838576923823 - VALIDATION PSNR: 35.739593505859375 - VALIDATION SSIM: 0.9220850416703372\n"
     ]
    },
    {
     "name": "stderr",
     "output_type": "stream",
     "text": [
      "  4%|▍         | 416/10000 [2:04:59<48:37:25, 18.26s/it]"
     ]
    },
    {
     "name": "stdout",
     "output_type": "stream",
     "text": [
      "Epoch 416 - VALIDATION LOSS: 0.0003750587729882682 - VALIDATION PSNR: 34.649559020996094 - VALIDATION SSIM: 0.9100130758271814\n"
     ]
    },
    {
     "name": "stderr",
     "output_type": "stream",
     "text": [
      "  4%|▍         | 418/10000 [2:05:35<48:25:56, 18.20s/it]"
     ]
    },
    {
     "name": "stdout",
     "output_type": "stream",
     "text": [
      "Epoch 418 - VALIDATION LOSS: 0.00034136885733460076 - VALIDATION PSNR: 34.97524642944336 - VALIDATION SSIM: 0.9161765044498593\n"
     ]
    },
    {
     "name": "stderr",
     "output_type": "stream",
     "text": [
      "  4%|▍         | 419/10000 [2:05:54<49:29:24, 18.60s/it]"
     ]
    },
    {
     "name": "stdout",
     "output_type": "stream",
     "text": [
      "Epoch 420 - VALIDATION LOSS: 0.0003160598416798166 - VALIDATION PSNR: 35.78533172607422 - VALIDATION SSIM: 0.9229113211642131\n"
     ]
    },
    {
     "name": "stderr",
     "output_type": "stream",
     "text": [
      "  4%|▍         | 422/10000 [2:06:51<50:31:52, 18.99s/it]"
     ]
    },
    {
     "name": "stdout",
     "output_type": "stream",
     "text": [
      "Epoch 422 - VALIDATION LOSS: 0.0003799302558036288 - VALIDATION PSNR: 34.650142669677734 - VALIDATION SSIM: 0.9099103798464685\n"
     ]
    },
    {
     "name": "stderr",
     "output_type": "stream",
     "text": [
      "  4%|▍         | 424/10000 [2:07:28<49:55:07, 18.77s/it]"
     ]
    },
    {
     "name": "stdout",
     "output_type": "stream",
     "text": [
      "Epoch 424 - VALIDATION LOSS: 0.00033830476058938075 - VALIDATION PSNR: 34.860557556152344 - VALIDATION SSIM: 0.9158063761586249\n"
     ]
    },
    {
     "name": "stderr",
     "output_type": "stream",
     "text": [
      "  4%|▍         | 426/10000 [2:08:05<49:19:38, 18.55s/it]"
     ]
    },
    {
     "name": "stdout",
     "output_type": "stream",
     "text": [
      "Epoch 426 - VALIDATION LOSS: 0.0003668841936814715 - VALIDATION PSNR: 35.01485061645508 - VALIDATION SSIM: 0.9127235678282379\n"
     ]
    },
    {
     "name": "stderr",
     "output_type": "stream",
     "text": [
      "  4%|▍         | 428/10000 [2:08:42<49:00:30, 18.43s/it]"
     ]
    },
    {
     "name": "stdout",
     "output_type": "stream",
     "text": [
      "Epoch 428 - VALIDATION LOSS: 0.00024108945490297629 - VALIDATION PSNR: 36.9122314453125 - VALIDATION SSIM: 0.9379392991736829\n"
     ]
    },
    {
     "name": "stderr",
     "output_type": "stream",
     "text": [
      "  4%|▍         | 430/10000 [2:09:17<48:03:00, 18.08s/it]"
     ]
    },
    {
     "name": "stdout",
     "output_type": "stream",
     "text": [
      "Epoch 430 - VALIDATION LOSS: 0.0003847140797006432 - VALIDATION PSNR: 34.74938201904297 - VALIDATION SSIM: 0.907789671706519\n"
     ]
    },
    {
     "name": "stderr",
     "output_type": "stream",
     "text": [
      "  4%|▍         | 432/10000 [2:09:54<48:14:10, 18.15s/it]"
     ]
    },
    {
     "name": "stdout",
     "output_type": "stream",
     "text": [
      "Epoch 432 - VALIDATION LOSS: 0.00027877826687472407 - VALIDATION PSNR: 35.79262924194336 - VALIDATION SSIM: 0.9278867279052138\n"
     ]
    },
    {
     "name": "stderr",
     "output_type": "stream",
     "text": [
      "  4%|▍         | 434/10000 [2:10:33<49:54:30, 18.78s/it]"
     ]
    },
    {
     "name": "stdout",
     "output_type": "stream",
     "text": [
      "Epoch 434 - VALIDATION LOSS: 0.0002192611664213473 - VALIDATION PSNR: 36.75761795043945 - VALIDATION SSIM: 0.9408221357020736\n"
     ]
    },
    {
     "name": "stderr",
     "output_type": "stream",
     "text": [
      "  4%|▍         | 436/10000 [2:11:11<50:26:04, 18.98s/it]"
     ]
    },
    {
     "name": "stdout",
     "output_type": "stream",
     "text": [
      "Epoch 436 - VALIDATION LOSS: 0.000295720139547484 - VALIDATION PSNR: 35.62877655029297 - VALIDATION SSIM: 0.9260868202299177\n"
     ]
    },
    {
     "name": "stderr",
     "output_type": "stream",
     "text": [
      "  4%|▍         | 438/10000 [2:11:50<51:17:12, 19.31s/it]"
     ]
    },
    {
     "name": "stdout",
     "output_type": "stream",
     "text": [
      "Epoch 438 - VALIDATION LOSS: 0.0002869554500648519 - VALIDATION PSNR: 35.6485595703125 - VALIDATION SSIM: 0.9267956783570069\n"
     ]
    },
    {
     "name": "stderr",
     "output_type": "stream",
     "text": [
      "  4%|▍         | 439/10000 [2:12:09<51:06:55, 19.25s/it]"
     ]
    },
    {
     "name": "stdout",
     "output_type": "stream",
     "text": [
      "Epoch 440 - VALIDATION LOSS: 0.0002890343548642704 - VALIDATION PSNR: 35.87834930419922 - VALIDATION SSIM: 0.9275901943152248\n"
     ]
    },
    {
     "name": "stderr",
     "output_type": "stream",
     "text": [
      "  4%|▍         | 442/10000 [2:13:05<49:39:04, 18.70s/it]"
     ]
    },
    {
     "name": "stdout",
     "output_type": "stream",
     "text": [
      "Epoch 442 - VALIDATION LOSS: 0.00029722020735789556 - VALIDATION PSNR: 36.08168029785156 - VALIDATION SSIM: 0.9272777792935372\n"
     ]
    },
    {
     "name": "stderr",
     "output_type": "stream",
     "text": [
      "  4%|▍         | 444/10000 [2:13:42<49:19:34, 18.58s/it]"
     ]
    },
    {
     "name": "stdout",
     "output_type": "stream",
     "text": [
      "Epoch 444 - VALIDATION LOSS: 0.0003217826606487506 - VALIDATION PSNR: 35.524024963378906 - VALIDATION SSIM: 0.9211933257528842\n"
     ]
    },
    {
     "name": "stderr",
     "output_type": "stream",
     "text": [
      "  4%|▍         | 446/10000 [2:14:20<49:28:56, 18.65s/it]"
     ]
    },
    {
     "name": "stdout",
     "output_type": "stream",
     "text": [
      "Epoch 446 - VALIDATION LOSS: 0.00030135500310279895 - VALIDATION PSNR: 35.379852294921875 - VALIDATION SSIM: 0.9237568555841743\n"
     ]
    },
    {
     "name": "stderr",
     "output_type": "stream",
     "text": [
      "  4%|▍         | 448/10000 [2:14:56<48:39:56, 18.34s/it]"
     ]
    },
    {
     "name": "stdout",
     "output_type": "stream",
     "text": [
      "Epoch 448 - VALIDATION LOSS: 0.00031472926639253274 - VALIDATION PSNR: 35.3667106628418 - VALIDATION SSIM: 0.9216939011297152\n"
     ]
    },
    {
     "name": "stderr",
     "output_type": "stream",
     "text": [
      "  4%|▍         | 450/10000 [2:15:34<49:57:30, 18.83s/it]"
     ]
    },
    {
     "name": "stdout",
     "output_type": "stream",
     "text": [
      "Epoch 450 - VALIDATION LOSS: 0.00028680954437732 - VALIDATION PSNR: 36.188194274902344 - VALIDATION SSIM: 0.9286083490809203\n"
     ]
    },
    {
     "name": "stderr",
     "output_type": "stream",
     "text": [
      "  5%|▍         | 452/10000 [2:16:14<51:23:48, 19.38s/it]"
     ]
    },
    {
     "name": "stdout",
     "output_type": "stream",
     "text": [
      "Epoch 452 - VALIDATION LOSS: 0.00026394703490950633 - VALIDATION PSNR: 36.071632385253906 - VALIDATION SSIM: 0.9320132361632586\n"
     ]
    },
    {
     "name": "stderr",
     "output_type": "stream",
     "text": [
      "  5%|▍         | 454/10000 [2:16:52<51:04:36, 19.26s/it]"
     ]
    },
    {
     "name": "stdout",
     "output_type": "stream",
     "text": [
      "Epoch 454 - VALIDATION LOSS: 0.00030794303893344477 - VALIDATION PSNR: 35.49644470214844 - VALIDATION SSIM: 0.9218611852930486\n"
     ]
    },
    {
     "name": "stderr",
     "output_type": "stream",
     "text": [
      "  5%|▍         | 456/10000 [2:17:31<51:14:32, 19.33s/it]"
     ]
    },
    {
     "name": "stdout",
     "output_type": "stream",
     "text": [
      "Epoch 456 - VALIDATION LOSS: 0.0002584566391305998 - VALIDATION PSNR: 36.29701232910156 - VALIDATION SSIM: 0.9332067576512694\n"
     ]
    },
    {
     "name": "stderr",
     "output_type": "stream",
     "text": [
      "  5%|▍         | 458/10000 [2:18:10<50:52:34, 19.19s/it]"
     ]
    },
    {
     "name": "stdout",
     "output_type": "stream",
     "text": [
      "Epoch 458 - VALIDATION LOSS: 0.0003098240340477787 - VALIDATION PSNR: 35.46281814575195 - VALIDATION SSIM: 0.9225774360432923\n"
     ]
    },
    {
     "name": "stderr",
     "output_type": "stream",
     "text": [
      "  5%|▍         | 459/10000 [2:18:27<49:44:24, 18.77s/it]"
     ]
    },
    {
     "name": "stdout",
     "output_type": "stream",
     "text": [
      "Epoch 460 - VALIDATION LOSS: 0.00031749650406709407 - VALIDATION PSNR: 35.32941818237305 - VALIDATION SSIM: 0.9197099060263634\n"
     ]
    },
    {
     "name": "stderr",
     "output_type": "stream",
     "text": [
      "  5%|▍         | 462/10000 [2:19:22<48:36:58, 18.35s/it]"
     ]
    },
    {
     "name": "stdout",
     "output_type": "stream",
     "text": [
      "Epoch 462 - VALIDATION LOSS: 0.0003415347691770876 - VALIDATION PSNR: 35.095733642578125 - VALIDATION SSIM: 0.9157897715289594\n"
     ]
    },
    {
     "name": "stderr",
     "output_type": "stream",
     "text": [
      "  5%|▍         | 464/10000 [2:20:00<49:55:11, 18.85s/it]"
     ]
    },
    {
     "name": "stdout",
     "output_type": "stream",
     "text": [
      "Epoch 464 - VALIDATION LOSS: 0.00027175968534720596 - VALIDATION PSNR: 35.908748626708984 - VALIDATION SSIM: 0.9310986844214798\n"
     ]
    },
    {
     "name": "stderr",
     "output_type": "stream",
     "text": [
      "  5%|▍         | 466/10000 [2:20:38<50:10:38, 18.95s/it]"
     ]
    },
    {
     "name": "stdout",
     "output_type": "stream",
     "text": [
      "Epoch 466 - VALIDATION LOSS: 0.00024548740293539595 - VALIDATION PSNR: 36.85073471069336 - VALIDATION SSIM: 0.9370322884455622\n"
     ]
    },
    {
     "name": "stderr",
     "output_type": "stream",
     "text": [
      "  5%|▍         | 468/10000 [2:21:17<50:34:50, 19.10s/it]"
     ]
    },
    {
     "name": "stdout",
     "output_type": "stream",
     "text": [
      "Epoch 468 - VALIDATION LOSS: 0.0003352313742652768 - VALIDATION PSNR: 35.10265350341797 - VALIDATION SSIM: 0.9170108824121505\n"
     ]
    },
    {
     "name": "stderr",
     "output_type": "stream",
     "text": [
      "  5%|▍         | 470/10000 [2:21:56<50:57:50, 19.25s/it]"
     ]
    },
    {
     "name": "stdout",
     "output_type": "stream",
     "text": [
      "Epoch 470 - VALIDATION LOSS: 0.00024110556296363939 - VALIDATION PSNR: 36.65959930419922 - VALIDATION SSIM: 0.9375988700518906\n"
     ]
    },
    {
     "name": "stderr",
     "output_type": "stream",
     "text": [
      "  5%|▍         | 472/10000 [2:22:32<49:06:43, 18.56s/it]"
     ]
    },
    {
     "name": "stdout",
     "output_type": "stream",
     "text": [
      "Epoch 472 - VALIDATION LOSS: 0.0003115784111287212 - VALIDATION PSNR: 35.32390213012695 - VALIDATION SSIM: 0.9217384266680181\n"
     ]
    },
    {
     "name": "stderr",
     "output_type": "stream",
     "text": [
      "  5%|▍         | 474/10000 [2:23:07<48:00:42, 18.14s/it]"
     ]
    },
    {
     "name": "stdout",
     "output_type": "stream",
     "text": [
      "Epoch 474 - VALIDATION LOSS: 0.0003055573906749487 - VALIDATION PSNR: 35.671016693115234 - VALIDATION SSIM: 0.9230335635098816\n"
     ]
    },
    {
     "name": "stderr",
     "output_type": "stream",
     "text": [
      "  5%|▍         | 476/10000 [2:23:44<48:12:10, 18.22s/it]"
     ]
    },
    {
     "name": "stdout",
     "output_type": "stream",
     "text": [
      "Epoch 476 - VALIDATION LOSS: 0.0004008701398561243 - VALIDATION PSNR: 34.078636169433594 - VALIDATION SSIM: 0.9047364424068258\n"
     ]
    },
    {
     "name": "stderr",
     "output_type": "stream",
     "text": [
      "  5%|▍         | 478/10000 [2:24:21<48:39:28, 18.40s/it]"
     ]
    },
    {
     "name": "stdout",
     "output_type": "stream",
     "text": [
      "Epoch 478 - VALIDATION LOSS: 0.0003153920861223014 - VALIDATION PSNR: 35.39766311645508 - VALIDATION SSIM: 0.9210102516360581\n"
     ]
    },
    {
     "name": "stderr",
     "output_type": "stream",
     "text": [
      "  5%|▍         | 479/10000 [2:24:40<49:26:25, 18.69s/it]"
     ]
    },
    {
     "name": "stdout",
     "output_type": "stream",
     "text": [
      "Epoch 480 - VALIDATION LOSS: 0.00021280152395775076 - VALIDATION PSNR: 37.05859375 - VALIDATION SSIM: 0.9425439932967277\n"
     ]
    },
    {
     "name": "stderr",
     "output_type": "stream",
     "text": [
      "  5%|▍         | 482/10000 [2:25:37<50:09:18, 18.97s/it]"
     ]
    },
    {
     "name": "stdout",
     "output_type": "stream",
     "text": [
      "Epoch 482 - VALIDATION LOSS: 0.0004230607737554237 - VALIDATION PSNR: 34.372413635253906 - VALIDATION SSIM: 0.9026357111197263\n"
     ]
    },
    {
     "name": "stderr",
     "output_type": "stream",
     "text": [
      "  5%|▍         | 484/10000 [2:26:14<48:56:53, 18.52s/it]"
     ]
    },
    {
     "name": "stdout",
     "output_type": "stream",
     "text": [
      "Epoch 484 - VALIDATION LOSS: 0.00040966034430311993 - VALIDATION PSNR: 34.46533966064453 - VALIDATION SSIM: 0.9049562195932567\n"
     ]
    },
    {
     "name": "stderr",
     "output_type": "stream",
     "text": [
      "  5%|▍         | 486/10000 [2:26:49<47:42:12, 18.05s/it]"
     ]
    },
    {
     "name": "stdout",
     "output_type": "stream",
     "text": [
      "Epoch 486 - VALIDATION LOSS: 0.0003194047349097673 - VALIDATION PSNR: 35.372764587402344 - VALIDATION SSIM: 0.9209269356983601\n"
     ]
    },
    {
     "name": "stderr",
     "output_type": "stream",
     "text": [
      "  5%|▍         | 488/10000 [2:27:24<47:13:54, 17.88s/it]"
     ]
    },
    {
     "name": "stdout",
     "output_type": "stream",
     "text": [
      "Epoch 488 - VALIDATION LOSS: 0.00025804792494454887 - VALIDATION PSNR: 36.197689056396484 - VALIDATION SSIM: 0.9334961366850734\n"
     ]
    },
    {
     "name": "stderr",
     "output_type": "stream",
     "text": [
      "  5%|▍         | 490/10000 [2:28:01<48:03:26, 18.19s/it]"
     ]
    },
    {
     "name": "stdout",
     "output_type": "stream",
     "text": [
      "Epoch 490 - VALIDATION LOSS: 0.0003502644976833835 - VALIDATION PSNR: 34.81068420410156 - VALIDATION SSIM: 0.9144141609564499\n"
     ]
    },
    {
     "name": "stderr",
     "output_type": "stream",
     "text": [
      "  5%|▍         | 492/10000 [2:28:39<49:06:27, 18.59s/it]"
     ]
    },
    {
     "name": "stdout",
     "output_type": "stream",
     "text": [
      "Epoch 492 - VALIDATION LOSS: 0.0002979361106554279 - VALIDATION PSNR: 35.59823989868164 - VALIDATION SSIM: 0.9254766855197213\n"
     ]
    },
    {
     "name": "stderr",
     "output_type": "stream",
     "text": [
      "  5%|▍         | 494/10000 [2:29:18<50:05:00, 18.97s/it]"
     ]
    },
    {
     "name": "stdout",
     "output_type": "stream",
     "text": [
      "Epoch 494 - VALIDATION LOSS: 0.0003650565995485522 - VALIDATION PSNR: 34.905696868896484 - VALIDATION SSIM: 0.9124351655131877\n"
     ]
    },
    {
     "name": "stderr",
     "output_type": "stream",
     "text": [
      "  5%|▍         | 496/10000 [2:29:56<49:56:15, 18.92s/it]"
     ]
    },
    {
     "name": "stdout",
     "output_type": "stream",
     "text": [
      "Epoch 496 - VALIDATION LOSS: 0.0003553300975909224 - VALIDATION PSNR: 34.84751510620117 - VALIDATION SSIM: 0.9138013928475082\n"
     ]
    },
    {
     "name": "stderr",
     "output_type": "stream",
     "text": [
      "  5%|▍         | 498/10000 [2:30:32<48:34:00, 18.40s/it]"
     ]
    },
    {
     "name": "stdout",
     "output_type": "stream",
     "text": [
      "Epoch 498 - VALIDATION LOSS: 0.00035441173531580716 - VALIDATION PSNR: 34.74517059326172 - VALIDATION SSIM: 0.913230789869994\n"
     ]
    },
    {
     "name": "stderr",
     "output_type": "stream",
     "text": [
      "  5%|▍         | 499/10000 [2:30:49<48:01:26, 18.20s/it]"
     ]
    },
    {
     "name": "stdout",
     "output_type": "stream",
     "text": [
      "Epoch 500 - VALIDATION LOSS: 0.0003333908534841612 - VALIDATION PSNR: 35.4078369140625 - VALIDATION SSIM: 0.9191941679428517\n"
     ]
    },
    {
     "name": "stderr",
     "output_type": "stream",
     "text": [
      "  5%|▌         | 502/10000 [2:31:44<47:46:01, 18.10s/it]"
     ]
    },
    {
     "name": "stdout",
     "output_type": "stream",
     "text": [
      "Epoch 502 - VALIDATION LOSS: 0.0003909924180334201 - VALIDATION PSNR: 34.64815139770508 - VALIDATION SSIM: 0.9080575085391402\n"
     ]
    },
    {
     "name": "stderr",
     "output_type": "stream",
     "text": [
      "  5%|▌         | 504/10000 [2:32:21<48:34:01, 18.41s/it]"
     ]
    },
    {
     "name": "stdout",
     "output_type": "stream",
     "text": [
      "Epoch 504 - VALIDATION LOSS: 0.00030134075132082216 - VALIDATION PSNR: 35.9068717956543 - VALIDATION SSIM: 0.9265720599379836\n"
     ]
    },
    {
     "name": "stderr",
     "output_type": "stream",
     "text": [
      "  5%|▌         | 506/10000 [2:33:00<49:57:01, 18.94s/it]"
     ]
    },
    {
     "name": "stdout",
     "output_type": "stream",
     "text": [
      "Epoch 506 - VALIDATION LOSS: 0.00031351004236057634 - VALIDATION PSNR: 35.71919250488281 - VALIDATION SSIM: 0.9225809988681675\n"
     ]
    },
    {
     "name": "stderr",
     "output_type": "stream",
     "text": [
      "  5%|▌         | 508/10000 [2:33:37<49:35:11, 18.81s/it]"
     ]
    },
    {
     "name": "stdout",
     "output_type": "stream",
     "text": [
      "Epoch 508 - VALIDATION LOSS: 0.0003190276474924758 - VALIDATION PSNR: 35.19182586669922 - VALIDATION SSIM: 0.9207324463479518\n"
     ]
    },
    {
     "name": "stderr",
     "output_type": "stream",
     "text": [
      "  5%|▌         | 510/10000 [2:34:15<49:25:36, 18.75s/it]"
     ]
    },
    {
     "name": "stdout",
     "output_type": "stream",
     "text": [
      "Epoch 510 - VALIDATION LOSS: 0.0003224795600544894 - VALIDATION PSNR: 35.42186737060547 - VALIDATION SSIM: 0.9207874824736417\n"
     ]
    },
    {
     "name": "stderr",
     "output_type": "stream",
     "text": [
      "  5%|▌         | 512/10000 [2:34:52<49:04:30, 18.62s/it]"
     ]
    },
    {
     "name": "stdout",
     "output_type": "stream",
     "text": [
      "Epoch 512 - VALIDATION LOSS: 0.0002463050914229825 - VALIDATION PSNR: 36.5695686340332 - VALIDATION SSIM: 0.9362421163197159\n"
     ]
    },
    {
     "name": "stderr",
     "output_type": "stream",
     "text": [
      "  5%|▌         | 514/10000 [2:35:27<47:51:30, 18.16s/it]"
     ]
    },
    {
     "name": "stdout",
     "output_type": "stream",
     "text": [
      "Epoch 514 - VALIDATION LOSS: 0.0003821281461569015 - VALIDATION PSNR: 34.92627716064453 - VALIDATION SSIM: 0.9101348079653533\n"
     ]
    },
    {
     "name": "stderr",
     "output_type": "stream",
     "text": [
      "  5%|▌         | 516/10000 [2:36:02<47:03:15, 17.86s/it]"
     ]
    },
    {
     "name": "stdout",
     "output_type": "stream",
     "text": [
      "Epoch 516 - VALIDATION LOSS: 0.00031753046641824767 - VALIDATION PSNR: 35.16412353515625 - VALIDATION SSIM: 0.9201523935529291\n"
     ]
    },
    {
     "name": "stderr",
     "output_type": "stream",
     "text": [
      "  5%|▌         | 518/10000 [2:36:41<48:57:01, 18.58s/it]"
     ]
    },
    {
     "name": "stdout",
     "output_type": "stream",
     "text": [
      "Epoch 518 - VALIDATION LOSS: 0.0003553064652805915 - VALIDATION PSNR: 34.8092041015625 - VALIDATION SSIM: 0.9128464561796636\n"
     ]
    },
    {
     "name": "stderr",
     "output_type": "stream",
     "text": [
      "  5%|▌         | 519/10000 [2:36:59<48:42:08, 18.49s/it]"
     ]
    },
    {
     "name": "stdout",
     "output_type": "stream",
     "text": [
      "Epoch 520 - VALIDATION LOSS: 0.00034557680737634655 - VALIDATION PSNR: 34.85618591308594 - VALIDATION SSIM: 0.9143337795532942\n"
     ]
    },
    {
     "name": "stderr",
     "output_type": "stream",
     "text": [
      "  5%|▌         | 522/10000 [2:37:56<49:28:28, 18.79s/it]"
     ]
    },
    {
     "name": "stdout",
     "output_type": "stream",
     "text": [
      "Epoch 522 - VALIDATION LOSS: 0.0003577142852009274 - VALIDATION PSNR: 34.78253936767578 - VALIDATION SSIM: 0.9130384812933505\n"
     ]
    },
    {
     "name": "stderr",
     "output_type": "stream",
     "text": [
      "  5%|▌         | 524/10000 [2:38:34<49:47:13, 18.91s/it]"
     ]
    },
    {
     "name": "stdout",
     "output_type": "stream",
     "text": [
      "Epoch 524 - VALIDATION LOSS: 0.0004061656909470912 - VALIDATION PSNR: 34.077850341796875 - VALIDATION SSIM: 0.9029325775106102\n"
     ]
    },
    {
     "name": "stderr",
     "output_type": "stream",
     "text": [
      "  5%|▌         | 526/10000 [2:39:09<47:43:10, 18.13s/it]"
     ]
    },
    {
     "name": "stdout",
     "output_type": "stream",
     "text": [
      "Epoch 526 - VALIDATION LOSS: 0.0003177593353029806 - VALIDATION PSNR: 35.19285583496094 - VALIDATION SSIM: 0.9198476831424086\n"
     ]
    },
    {
     "name": "stderr",
     "output_type": "stream",
     "text": [
      "  5%|▌         | 528/10000 [2:39:45<47:14:56, 17.96s/it]"
     ]
    },
    {
     "name": "stdout",
     "output_type": "stream",
     "text": [
      "Epoch 528 - VALIDATION LOSS: 0.000355258248418977 - VALIDATION PSNR: 35.17835998535156 - VALIDATION SSIM: 0.9155258700349314\n"
     ]
    },
    {
     "name": "stderr",
     "output_type": "stream",
     "text": [
      "  5%|▌         | 530/10000 [2:40:21<47:46:48, 18.16s/it]"
     ]
    },
    {
     "name": "stdout",
     "output_type": "stream",
     "text": [
      "Epoch 530 - VALIDATION LOSS: 0.0002273627233080333 - VALIDATION PSNR: 37.07977294921875 - VALIDATION SSIM: 0.9404138395027368\n"
     ]
    },
    {
     "name": "stderr",
     "output_type": "stream",
     "text": [
      "  5%|▌         | 532/10000 [2:40:58<48:16:51, 18.36s/it]"
     ]
    },
    {
     "name": "stdout",
     "output_type": "stream",
     "text": [
      "Epoch 532 - VALIDATION LOSS: 0.00041345191493746825 - VALIDATION PSNR: 34.025753021240234 - VALIDATION SSIM: 0.9029208300165383\n"
     ]
    },
    {
     "name": "stderr",
     "output_type": "stream",
     "text": [
      "  5%|▌         | 534/10000 [2:41:36<49:08:30, 18.69s/it]"
     ]
    },
    {
     "name": "stdout",
     "output_type": "stream",
     "text": [
      "Epoch 534 - VALIDATION LOSS: 0.0002950106772914296 - VALIDATION PSNR: 35.41758346557617 - VALIDATION SSIM: 0.9255455299564078\n"
     ]
    },
    {
     "name": "stderr",
     "output_type": "stream",
     "text": [
      "  5%|▌         | 536/10000 [2:42:14<49:08:33, 18.69s/it]"
     ]
    },
    {
     "name": "stdout",
     "output_type": "stream",
     "text": [
      "Epoch 536 - VALIDATION LOSS: 0.00039645691322220955 - VALIDATION PSNR: 34.44353485107422 - VALIDATION SSIM: 0.9061885542574227\n"
     ]
    },
    {
     "name": "stderr",
     "output_type": "stream",
     "text": [
      "  5%|▌         | 538/10000 [2:42:49<47:58:44, 18.25s/it]"
     ]
    },
    {
     "name": "stdout",
     "output_type": "stream",
     "text": [
      "Epoch 538 - VALIDATION LOSS: 0.0003005231283168541 - VALIDATION PSNR: 35.98594284057617 - VALIDATION SSIM: 0.925767607750034\n"
     ]
    },
    {
     "name": "stderr",
     "output_type": "stream",
     "text": [
      "  5%|▌         | 539/10000 [2:43:08<48:02:18, 18.28s/it]"
     ]
    },
    {
     "name": "stdout",
     "output_type": "stream",
     "text": [
      "Epoch 540 - VALIDATION LOSS: 0.0003246746528020594 - VALIDATION PSNR: 35.32472610473633 - VALIDATION SSIM: 0.9206463918529453\n"
     ]
    },
    {
     "name": "stderr",
     "output_type": "stream",
     "text": [
      "  5%|▌         | 542/10000 [2:44:02<47:51:36, 18.22s/it]"
     ]
    },
    {
     "name": "stdout",
     "output_type": "stream",
     "text": [
      "Epoch 542 - VALIDATION LOSS: 0.0003481083913356997 - VALIDATION PSNR: 35.209388732910156 - VALIDATION SSIM: 0.9175546327891946\n"
     ]
    },
    {
     "name": "stderr",
     "output_type": "stream",
     "text": [
      "  5%|▌         | 544/10000 [2:44:39<48:27:07, 18.45s/it]"
     ]
    },
    {
     "name": "stdout",
     "output_type": "stream",
     "text": [
      "Epoch 544 - VALIDATION LOSS: 0.0003097419030382298 - VALIDATION PSNR: 35.34147644042969 - VALIDATION SSIM: 0.9215970638343095\n"
     ]
    },
    {
     "name": "stderr",
     "output_type": "stream",
     "text": [
      "  5%|▌         | 546/10000 [2:45:18<49:19:50, 18.78s/it]"
     ]
    },
    {
     "name": "stdout",
     "output_type": "stream",
     "text": [
      "Epoch 546 - VALIDATION LOSS: 0.00041439006417931523 - VALIDATION PSNR: 34.25025177001953 - VALIDATION SSIM: 0.9028858835080416\n"
     ]
    },
    {
     "name": "stderr",
     "output_type": "stream",
     "text": [
      "  5%|▌         | 548/10000 [2:45:55<49:17:45, 18.78s/it]"
     ]
    },
    {
     "name": "stdout",
     "output_type": "stream",
     "text": [
      "Epoch 548 - VALIDATION LOSS: 0.0002638015794218518 - VALIDATION PSNR: 36.30225372314453 - VALIDATION SSIM: 0.9329767668442727\n"
     ]
    },
    {
     "name": "stderr",
     "output_type": "stream",
     "text": [
      "  6%|▌         | 550/10000 [2:46:31<48:32:33, 18.49s/it]"
     ]
    },
    {
     "name": "stdout",
     "output_type": "stream",
     "text": [
      "Epoch 550 - VALIDATION LOSS: 0.00032665172693668865 - VALIDATION PSNR: 35.20102310180664 - VALIDATION SSIM: 0.918793121374242\n"
     ]
    },
    {
     "name": "stderr",
     "output_type": "stream",
     "text": [
      "  6%|▌         | 552/10000 [2:47:08<47:48:34, 18.22s/it]"
     ]
    },
    {
     "name": "stdout",
     "output_type": "stream",
     "text": [
      "Epoch 552 - VALIDATION LOSS: 0.00030990014238341246 - VALIDATION PSNR: 35.665557861328125 - VALIDATION SSIM: 0.9225817847047634\n"
     ]
    },
    {
     "name": "stderr",
     "output_type": "stream",
     "text": [
      "  6%|▌         | 554/10000 [2:47:45<48:50:10, 18.61s/it]"
     ]
    },
    {
     "name": "stdout",
     "output_type": "stream",
     "text": [
      "Epoch 554 - VALIDATION LOSS: 0.00030787691139266826 - VALIDATION PSNR: 35.457489013671875 - VALIDATION SSIM: 0.9225194958678782\n"
     ]
    },
    {
     "name": "stderr",
     "output_type": "stream",
     "text": [
      "  6%|▌         | 556/10000 [2:48:23<49:22:38, 18.82s/it]"
     ]
    },
    {
     "name": "stdout",
     "output_type": "stream",
     "text": [
      "Epoch 556 - VALIDATION LOSS: 0.0003590317974158097 - VALIDATION PSNR: 34.915260314941406 - VALIDATION SSIM: 0.9132711665216535\n"
     ]
    },
    {
     "name": "stderr",
     "output_type": "stream",
     "text": [
      "  6%|▌         | 558/10000 [2:49:02<49:37:59, 18.92s/it]"
     ]
    },
    {
     "name": "stdout",
     "output_type": "stream",
     "text": [
      "Epoch 558 - VALIDATION LOSS: 0.00033283361335634254 - VALIDATION PSNR: 35.24387741088867 - VALIDATION SSIM: 0.918746863674909\n"
     ]
    },
    {
     "name": "stderr",
     "output_type": "stream",
     "text": [
      "  6%|▌         | 559/10000 [2:49:21<50:02:06, 19.08s/it]"
     ]
    },
    {
     "name": "stdout",
     "output_type": "stream",
     "text": [
      "Epoch 560 - VALIDATION LOSS: 0.00030805235837760847 - VALIDATION PSNR: 36.04814910888672 - VALIDATION SSIM: 0.9248656645073294\n"
     ]
    },
    {
     "name": "stderr",
     "output_type": "stream",
     "text": [
      "  6%|▌         | 562/10000 [2:50:18<49:05:44, 18.73s/it]"
     ]
    },
    {
     "name": "stdout",
     "output_type": "stream",
     "text": [
      "Epoch 562 - VALIDATION LOSS: 0.00021627260775858304 - VALIDATION PSNR: 36.968605041503906 - VALIDATION SSIM: 0.9425161126333477\n"
     ]
    },
    {
     "name": "stderr",
     "output_type": "stream",
     "text": [
      "  6%|▌         | 564/10000 [2:50:54<48:16:30, 18.42s/it]"
     ]
    },
    {
     "name": "stdout",
     "output_type": "stream",
     "text": [
      "Epoch 564 - VALIDATION LOSS: 0.00033175285625475226 - VALIDATION PSNR: 35.561424255371094 - VALIDATION SSIM: 0.91991294444412\n"
     ]
    },
    {
     "name": "stderr",
     "output_type": "stream",
     "text": [
      "  6%|▌         | 566/10000 [2:51:32<48:51:14, 18.64s/it]"
     ]
    },
    {
     "name": "stdout",
     "output_type": "stream",
     "text": [
      "Epoch 566 - VALIDATION LOSS: 0.00041022181176231243 - VALIDATION PSNR: 34.29432678222656 - VALIDATION SSIM: 0.9034771567944586\n"
     ]
    },
    {
     "name": "stderr",
     "output_type": "stream",
     "text": [
      "  6%|▌         | 568/10000 [2:52:07<47:42:59, 18.21s/it]"
     ]
    },
    {
     "name": "stdout",
     "output_type": "stream",
     "text": [
      "Epoch 568 - VALIDATION LOSS: 0.00041108703589998186 - VALIDATION PSNR: 34.41615295410156 - VALIDATION SSIM: 0.9032453168952507\n"
     ]
    },
    {
     "name": "stderr",
     "output_type": "stream",
     "text": [
      "  6%|▌         | 570/10000 [2:52:45<48:47:38, 18.63s/it]"
     ]
    },
    {
     "name": "stdout",
     "output_type": "stream",
     "text": [
      "Epoch 570 - VALIDATION LOSS: 0.0003503477410049527 - VALIDATION PSNR: 35.264015197753906 - VALIDATION SSIM: 0.9146829003822655\n"
     ]
    },
    {
     "name": "stderr",
     "output_type": "stream",
     "text": [
      "  6%|▌         | 572/10000 [2:53:25<50:12:07, 19.17s/it]"
     ]
    },
    {
     "name": "stdout",
     "output_type": "stream",
     "text": [
      "Epoch 572 - VALIDATION LOSS: 0.00036906733748764964 - VALIDATION PSNR: 35.220706939697266 - VALIDATION SSIM: 0.912719314284891\n"
     ]
    },
    {
     "name": "stderr",
     "output_type": "stream",
     "text": [
      "  6%|▌         | 574/10000 [2:54:02<49:41:57, 18.98s/it]"
     ]
    },
    {
     "name": "stdout",
     "output_type": "stream",
     "text": [
      "Epoch 574 - VALIDATION LOSS: 0.0003130063796561444 - VALIDATION PSNR: 35.39048385620117 - VALIDATION SSIM: 0.9218474793465434\n"
     ]
    },
    {
     "name": "stderr",
     "output_type": "stream",
     "text": [
      "  6%|▌         | 576/10000 [2:54:39<48:47:56, 18.64s/it]"
     ]
    },
    {
     "name": "stdout",
     "output_type": "stream",
     "text": [
      "Epoch 576 - VALIDATION LOSS: 0.0002677677330211736 - VALIDATION PSNR: 36.53696823120117 - VALIDATION SSIM: 0.9328022185041439\n"
     ]
    },
    {
     "name": "stderr",
     "output_type": "stream",
     "text": [
      "  6%|▌         | 578/10000 [2:55:17<49:26:24, 18.89s/it]"
     ]
    },
    {
     "name": "stdout",
     "output_type": "stream",
     "text": [
      "Epoch 578 - VALIDATION LOSS: 0.00027030674209527206 - VALIDATION PSNR: 35.950984954833984 - VALIDATION SSIM: 0.930303929340899\n"
     ]
    },
    {
     "name": "stderr",
     "output_type": "stream",
     "text": [
      "  6%|▌         | 579/10000 [2:55:35<48:55:39, 18.70s/it]"
     ]
    },
    {
     "name": "stdout",
     "output_type": "stream",
     "text": [
      "Epoch 580 - VALIDATION LOSS: 0.0003120100900559919 - VALIDATION PSNR: 35.79593276977539 - VALIDATION SSIM: 0.9243757566776871\n"
     ]
    },
    {
     "name": "stderr",
     "output_type": "stream",
     "text": [
      "  6%|▌         | 582/10000 [2:56:32<49:20:09, 18.86s/it]"
     ]
    },
    {
     "name": "stdout",
     "output_type": "stream",
     "text": [
      "Epoch 582 - VALIDATION LOSS: 0.0002741540783972596 - VALIDATION PSNR: 36.33626937866211 - VALIDATION SSIM: 0.9300470487374292\n"
     ]
    },
    {
     "name": "stderr",
     "output_type": "stream",
     "text": [
      "  6%|▌         | 584/10000 [2:57:11<50:09:13, 19.18s/it]"
     ]
    },
    {
     "name": "stdout",
     "output_type": "stream",
     "text": [
      "Epoch 584 - VALIDATION LOSS: 0.0002935106513177743 - VALIDATION PSNR: 35.892662048339844 - VALIDATION SSIM: 0.9264094211924971\n"
     ]
    },
    {
     "name": "stderr",
     "output_type": "stream",
     "text": [
      "  6%|▌         | 586/10000 [2:57:47<48:47:08, 18.66s/it]"
     ]
    },
    {
     "name": "stdout",
     "output_type": "stream",
     "text": [
      "Epoch 586 - VALIDATION LOSS: 0.0003573616922949441 - VALIDATION PSNR: 34.71848678588867 - VALIDATION SSIM: 0.912880729508683\n"
     ]
    },
    {
     "name": "stderr",
     "output_type": "stream",
     "text": [
      "  6%|▌         | 588/10000 [2:58:24<47:56:31, 18.34s/it]"
     ]
    },
    {
     "name": "stdout",
     "output_type": "stream",
     "text": [
      "Epoch 588 - VALIDATION LOSS: 0.0003635031753219664 - VALIDATION PSNR: 34.80263137817383 - VALIDATION SSIM: 0.9128886021124423\n"
     ]
    },
    {
     "name": "stderr",
     "output_type": "stream",
     "text": [
      "  6%|▌         | 590/10000 [2:59:00<47:53:02, 18.32s/it]"
     ]
    },
    {
     "name": "stdout",
     "output_type": "stream",
     "text": [
      "Epoch 590 - VALIDATION LOSS: 0.00034210684680147097 - VALIDATION PSNR: 35.15613555908203 - VALIDATION SSIM: 0.9163032305649519\n"
     ]
    },
    {
     "name": "stderr",
     "output_type": "stream",
     "text": [
      "  6%|▌         | 592/10000 [2:59:37<48:09:33, 18.43s/it]"
     ]
    },
    {
     "name": "stdout",
     "output_type": "stream",
     "text": [
      "Epoch 592 - VALIDATION LOSS: 0.0002783156724035507 - VALIDATION PSNR: 36.13233947753906 - VALIDATION SSIM: 0.9295725566553622\n"
     ]
    },
    {
     "name": "stderr",
     "output_type": "stream",
     "text": [
      "  6%|▌         | 594/10000 [3:00:15<48:43:31, 18.65s/it]"
     ]
    },
    {
     "name": "stdout",
     "output_type": "stream",
     "text": [
      "Epoch 594 - VALIDATION LOSS: 0.0003045501398446504 - VALIDATION PSNR: 35.722564697265625 - VALIDATION SSIM: 0.9242416708456278\n"
     ]
    },
    {
     "name": "stderr",
     "output_type": "stream",
     "text": [
      "  6%|▌         | 596/10000 [3:00:53<49:32:43, 18.97s/it]"
     ]
    },
    {
     "name": "stdout",
     "output_type": "stream",
     "text": [
      "Epoch 596 - VALIDATION LOSS: 0.0002675199057193822 - VALIDATION PSNR: 36.12664794921875 - VALIDATION SSIM: 0.9317302687487752\n"
     ]
    },
    {
     "name": "stderr",
     "output_type": "stream",
     "text": [
      "  6%|▌         | 598/10000 [3:01:30<48:55:19, 18.73s/it]"
     ]
    },
    {
     "name": "stdout",
     "output_type": "stream",
     "text": [
      "Epoch 598 - VALIDATION LOSS: 0.0003230937545595225 - VALIDATION PSNR: 35.69818878173828 - VALIDATION SSIM: 0.9215346578374803\n"
     ]
    },
    {
     "name": "stderr",
     "output_type": "stream",
     "text": [
      "  6%|▌         | 599/10000 [3:01:49<49:03:20, 18.79s/it]"
     ]
    },
    {
     "name": "stdout",
     "output_type": "stream",
     "text": [
      "Epoch 600 - VALIDATION LOSS: 0.00030953170607972424 - VALIDATION PSNR: 35.740455627441406 - VALIDATION SSIM: 0.9235539750525354\n"
     ]
    },
    {
     "name": "stderr",
     "output_type": "stream",
     "text": [
      "  6%|▌         | 602/10000 [3:02:45<48:36:16, 18.62s/it]"
     ]
    },
    {
     "name": "stdout",
     "output_type": "stream",
     "text": [
      "Epoch 602 - VALIDATION LOSS: 0.0003197386977262795 - VALIDATION PSNR: 35.77888870239258 - VALIDATION SSIM: 0.9222436217070221\n"
     ]
    },
    {
     "name": "stderr",
     "output_type": "stream",
     "text": [
      "  6%|▌         | 604/10000 [3:03:22<48:55:22, 18.74s/it]"
     ]
    },
    {
     "name": "stdout",
     "output_type": "stream",
     "text": [
      "Epoch 604 - VALIDATION LOSS: 0.00029339022876229137 - VALIDATION PSNR: 35.90678787231445 - VALIDATION SSIM: 0.9268115687140748\n"
     ]
    },
    {
     "name": "stderr",
     "output_type": "stream",
     "text": [
      "  6%|▌         | 606/10000 [3:04:00<49:03:56, 18.80s/it]"
     ]
    },
    {
     "name": "stdout",
     "output_type": "stream",
     "text": [
      "Epoch 606 - VALIDATION LOSS: 0.0003113753718935186 - VALIDATION PSNR: 35.60270309448242 - VALIDATION SSIM: 0.9224717276705504\n"
     ]
    },
    {
     "name": "stderr",
     "output_type": "stream",
     "text": [
      "  6%|▌         | 608/10000 [3:04:39<50:01:39, 19.18s/it]"
     ]
    },
    {
     "name": "stdout",
     "output_type": "stream",
     "text": [
      "Epoch 608 - VALIDATION LOSS: 0.0002901575280702673 - VALIDATION PSNR: 35.894317626953125 - VALIDATION SSIM: 0.9264856579189599\n"
     ]
    },
    {
     "name": "stderr",
     "output_type": "stream",
     "text": [
      "  6%|▌         | 610/10000 [3:05:16<49:11:59, 18.86s/it]"
     ]
    },
    {
     "name": "stdout",
     "output_type": "stream",
     "text": [
      "Epoch 610 - VALIDATION LOSS: 0.0003334010580147151 - VALIDATION PSNR: 35.037593841552734 - VALIDATION SSIM: 0.9175679768947959\n"
     ]
    },
    {
     "name": "stderr",
     "output_type": "stream",
     "text": [
      "  6%|▌         | 612/10000 [3:05:53<48:19:29, 18.53s/it]"
     ]
    },
    {
     "name": "stdout",
     "output_type": "stream",
     "text": [
      "Epoch 612 - VALIDATION LOSS: 0.00038536744796147104 - VALIDATION PSNR: 34.6807861328125 - VALIDATION SSIM: 0.9096140115257427\n"
     ]
    },
    {
     "name": "stderr",
     "output_type": "stream",
     "text": [
      "  6%|▌         | 614/10000 [3:06:28<47:11:40, 18.10s/it]"
     ]
    },
    {
     "name": "stdout",
     "output_type": "stream",
     "text": [
      "Epoch 614 - VALIDATION LOSS: 0.00034560055064503103 - VALIDATION PSNR: 35.2253303527832 - VALIDATION SSIM: 0.9170593497629016\n"
     ]
    },
    {
     "name": "stderr",
     "output_type": "stream",
     "text": [
      "  6%|▌         | 616/10000 [3:07:02<46:10:46, 17.72s/it]"
     ]
    },
    {
     "name": "stdout",
     "output_type": "stream",
     "text": [
      "Epoch 616 - VALIDATION LOSS: 0.0003871758617606247 - VALIDATION PSNR: 34.730533599853516 - VALIDATION SSIM: 0.9092667292501777\n"
     ]
    },
    {
     "name": "stderr",
     "output_type": "stream",
     "text": [
      "  6%|▌         | 618/10000 [3:07:40<47:19:16, 18.16s/it]"
     ]
    },
    {
     "name": "stdout",
     "output_type": "stream",
     "text": [
      "Epoch 618 - VALIDATION LOSS: 0.00022402221929951338 - VALIDATION PSNR: 37.15102767944336 - VALIDATION SSIM: 0.9417141850884557\n"
     ]
    },
    {
     "name": "stderr",
     "output_type": "stream",
     "text": [
      "  6%|▌         | 619/10000 [3:07:59<47:54:08, 18.38s/it]"
     ]
    },
    {
     "name": "stdout",
     "output_type": "stream",
     "text": [
      "Epoch 620 - VALIDATION LOSS: 0.0003361626404512208 - VALIDATION PSNR: 35.084716796875 - VALIDATION SSIM: 0.9177306476093233\n"
     ]
    },
    {
     "name": "stderr",
     "output_type": "stream",
     "text": [
      "  6%|▌         | 622/10000 [3:08:56<49:01:36, 18.82s/it]"
     ]
    },
    {
     "name": "stdout",
     "output_type": "stream",
     "text": [
      "Epoch 622 - VALIDATION LOSS: 0.0003160076139465673 - VALIDATION PSNR: 35.43032455444336 - VALIDATION SSIM: 0.9218591494724601\n"
     ]
    },
    {
     "name": "stderr",
     "output_type": "stream",
     "text": [
      "  6%|▌         | 624/10000 [3:09:33<48:30:23, 18.62s/it]"
     ]
    },
    {
     "name": "stdout",
     "output_type": "stream",
     "text": [
      "Epoch 624 - VALIDATION LOSS: 0.0004162849800195545 - VALIDATION PSNR: 33.9315071105957 - VALIDATION SSIM: 0.9013385003607421\n"
     ]
    },
    {
     "name": "stderr",
     "output_type": "stream",
     "text": [
      "  6%|▋         | 626/10000 [3:10:11<48:24:06, 18.59s/it]"
     ]
    },
    {
     "name": "stdout",
     "output_type": "stream",
     "text": [
      "Epoch 626 - VALIDATION LOSS: 0.00030665691338072065 - VALIDATION PSNR: 35.434688568115234 - VALIDATION SSIM: 0.9231595220890343\n"
     ]
    },
    {
     "name": "stderr",
     "output_type": "stream",
     "text": [
      "  6%|▋         | 628/10000 [3:10:46<47:04:15, 18.08s/it]"
     ]
    },
    {
     "name": "stdout",
     "output_type": "stream",
     "text": [
      "Epoch 628 - VALIDATION LOSS: 0.00031718404170533177 - VALIDATION PSNR: 35.4305305480957 - VALIDATION SSIM: 0.9212956780027151\n"
     ]
    },
    {
     "name": "stderr",
     "output_type": "stream",
     "text": [
      "  6%|▋         | 630/10000 [3:11:22<47:18:00, 18.17s/it]"
     ]
    },
    {
     "name": "stdout",
     "output_type": "stream",
     "text": [
      "Epoch 630 - VALIDATION LOSS: 0.0003916341738658957 - VALIDATION PSNR: 34.52802276611328 - VALIDATION SSIM: 0.9081174364019782\n"
     ]
    },
    {
     "name": "stderr",
     "output_type": "stream",
     "text": [
      "  6%|▋         | 632/10000 [3:12:01<48:44:34, 18.73s/it]"
     ]
    },
    {
     "name": "stdout",
     "output_type": "stream",
     "text": [
      "Epoch 632 - VALIDATION LOSS: 0.0003782443091040477 - VALIDATION PSNR: 34.6702995300293 - VALIDATION SSIM: 0.9096387617330551\n"
     ]
    },
    {
     "name": "stderr",
     "output_type": "stream",
     "text": [
      "  6%|▋         | 634/10000 [3:12:38<48:32:36, 18.66s/it]"
     ]
    },
    {
     "name": "stdout",
     "output_type": "stream",
     "text": [
      "Epoch 634 - VALIDATION LOSS: 0.00029790073313051835 - VALIDATION PSNR: 35.73625564575195 - VALIDATION SSIM: 0.9256729081236823\n"
     ]
    },
    {
     "name": "stderr",
     "output_type": "stream",
     "text": [
      "  6%|▋         | 636/10000 [3:13:16<48:43:25, 18.73s/it]"
     ]
    },
    {
     "name": "stdout",
     "output_type": "stream",
     "text": [
      "Epoch 636 - VALIDATION LOSS: 0.00023100122507457854 - VALIDATION PSNR: 37.019500732421875 - VALIDATION SSIM: 0.9392126219714881\n"
     ]
    },
    {
     "name": "stderr",
     "output_type": "stream",
     "text": [
      "  6%|▋         | 638/10000 [3:13:52<48:06:12, 18.50s/it]"
     ]
    },
    {
     "name": "stdout",
     "output_type": "stream",
     "text": [
      "Epoch 638 - VALIDATION LOSS: 0.00029663026907655876 - VALIDATION PSNR: 36.29375457763672 - VALIDATION SSIM: 0.9274830049727297\n"
     ]
    },
    {
     "name": "stderr",
     "output_type": "stream",
     "text": [
      "  6%|▋         | 639/10000 [3:14:09<47:17:28, 18.19s/it]"
     ]
    },
    {
     "name": "stdout",
     "output_type": "stream",
     "text": [
      "Epoch 640 - VALIDATION LOSS: 0.0003741342279681703 - VALIDATION PSNR: 34.87743377685547 - VALIDATION SSIM: 0.9106747377646864\n"
     ]
    },
    {
     "name": "stderr",
     "output_type": "stream",
     "text": [
      "  6%|▋         | 642/10000 [3:15:05<47:47:51, 18.39s/it]"
     ]
    },
    {
     "name": "stdout",
     "output_type": "stream",
     "text": [
      "Epoch 642 - VALIDATION LOSS: 0.00038423975456680637 - VALIDATION PSNR: 34.92227554321289 - VALIDATION SSIM: 0.910752196614608\n"
     ]
    },
    {
     "name": "stderr",
     "output_type": "stream",
     "text": [
      "  6%|▋         | 644/10000 [3:15:43<48:58:20, 18.84s/it]"
     ]
    },
    {
     "name": "stdout",
     "output_type": "stream",
     "text": [
      "Epoch 644 - VALIDATION LOSS: 0.0003908320395566989 - VALIDATION PSNR: 34.71352767944336 - VALIDATION SSIM: 0.9076187085777223\n"
     ]
    },
    {
     "name": "stderr",
     "output_type": "stream",
     "text": [
      "  6%|▋         | 646/10000 [3:16:21<48:57:06, 18.84s/it]"
     ]
    },
    {
     "name": "stdout",
     "output_type": "stream",
     "text": [
      "Epoch 646 - VALIDATION LOSS: 0.0003747034425032325 - VALIDATION PSNR: 34.64455795288086 - VALIDATION SSIM: 0.9109191919934452\n"
     ]
    },
    {
     "name": "stderr",
     "output_type": "stream",
     "text": [
      "  6%|▋         | 648/10000 [3:16:57<47:26:33, 18.26s/it]"
     ]
    },
    {
     "name": "stdout",
     "output_type": "stream",
     "text": [
      "Epoch 648 - VALIDATION LOSS: 0.0002776409855869133 - VALIDATION PSNR: 35.80289077758789 - VALIDATION SSIM: 0.9287381161464752\n"
     ]
    },
    {
     "name": "stderr",
     "output_type": "stream",
     "text": [
      "  6%|▋         | 650/10000 [3:17:32<47:05:06, 18.13s/it]"
     ]
    },
    {
     "name": "stdout",
     "output_type": "stream",
     "text": [
      "Epoch 650 - VALIDATION LOSS: 0.0003089334213655093 - VALIDATION PSNR: 35.9576301574707 - VALIDATION SSIM: 0.9245318714946359\n"
     ]
    },
    {
     "name": "stderr",
     "output_type": "stream",
     "text": [
      "  7%|▋         | 652/10000 [3:18:08<46:58:16, 18.09s/it]"
     ]
    },
    {
     "name": "stdout",
     "output_type": "stream",
     "text": [
      "Epoch 652 - VALIDATION LOSS: 0.00035929211298935115 - VALIDATION PSNR: 34.67732238769531 - VALIDATION SSIM: 0.9122748296269924\n"
     ]
    },
    {
     "name": "stderr",
     "output_type": "stream",
     "text": [
      "  7%|▋         | 654/10000 [3:18:46<47:51:16, 18.43s/it]"
     ]
    },
    {
     "name": "stdout",
     "output_type": "stream",
     "text": [
      "Epoch 654 - VALIDATION LOSS: 0.00037531475027208216 - VALIDATION PSNR: 35.03166198730469 - VALIDATION SSIM: 0.9121981352151931\n"
     ]
    },
    {
     "name": "stderr",
     "output_type": "stream",
     "text": [
      "  7%|▋         | 656/10000 [3:19:25<49:09:40, 18.94s/it]"
     ]
    },
    {
     "name": "stdout",
     "output_type": "stream",
     "text": [
      "Epoch 656 - VALIDATION LOSS: 0.00036245408955437597 - VALIDATION PSNR: 34.564308166503906 - VALIDATION SSIM: 0.9109596485527754\n"
     ]
    },
    {
     "name": "stderr",
     "output_type": "stream",
     "text": [
      "  7%|▋         | 658/10000 [3:20:03<49:11:12, 18.95s/it]"
     ]
    },
    {
     "name": "stdout",
     "output_type": "stream",
     "text": [
      "Epoch 658 - VALIDATION LOSS: 0.00024029625274124555 - VALIDATION PSNR: 36.370582580566406 - VALIDATION SSIM: 0.9371534148517251\n"
     ]
    },
    {
     "name": "stderr",
     "output_type": "stream",
     "text": [
      "  7%|▋         | 659/10000 [3:20:22<49:12:54, 18.97s/it]"
     ]
    },
    {
     "name": "stdout",
     "output_type": "stream",
     "text": [
      "Epoch 660 - VALIDATION LOSS: 0.00032030076181399636 - VALIDATION PSNR: 35.357269287109375 - VALIDATION SSIM: 0.9209777638067975\n"
     ]
    },
    {
     "name": "stderr",
     "output_type": "stream",
     "text": [
      "  7%|▋         | 662/10000 [3:21:16<47:30:47, 18.32s/it]"
     ]
    },
    {
     "name": "stdout",
     "output_type": "stream",
     "text": [
      "Epoch 662 - VALIDATION LOSS: 0.000279883617622545 - VALIDATION PSNR: 35.789207458496094 - VALIDATION SSIM: 0.9281770455657542\n"
     ]
    },
    {
     "name": "stderr",
     "output_type": "stream",
     "text": [
      "  7%|▋         | 664/10000 [3:21:53<48:09:17, 18.57s/it]"
     ]
    },
    {
     "name": "stdout",
     "output_type": "stream",
     "text": [
      "Epoch 664 - VALIDATION LOSS: 0.00029630860808538273 - VALIDATION PSNR: 35.897335052490234 - VALIDATION SSIM: 0.9242552781368196\n"
     ]
    },
    {
     "name": "stderr",
     "output_type": "stream",
     "text": [
      "  7%|▋         | 666/10000 [3:22:31<48:23:42, 18.67s/it]"
     ]
    },
    {
     "name": "stdout",
     "output_type": "stream",
     "text": [
      "Epoch 666 - VALIDATION LOSS: 0.0002601859860078548 - VALIDATION PSNR: 36.57528305053711 - VALIDATION SSIM: 0.9346052288476228\n"
     ]
    },
    {
     "name": "stderr",
     "output_type": "stream",
     "text": [
      "  7%|▋         | 668/10000 [3:23:08<48:36:37, 18.75s/it]"
     ]
    },
    {
     "name": "stdout",
     "output_type": "stream",
     "text": [
      "Epoch 668 - VALIDATION LOSS: 0.00031237100483849645 - VALIDATION PSNR: 35.385215759277344 - VALIDATION SSIM: 0.9222322501376271\n"
     ]
    },
    {
     "name": "stderr",
     "output_type": "stream",
     "text": [
      "  7%|▋         | 670/10000 [3:23:45<47:57:15, 18.50s/it]"
     ]
    },
    {
     "name": "stdout",
     "output_type": "stream",
     "text": [
      "Epoch 670 - VALIDATION LOSS: 0.0003090700338361785 - VALIDATION PSNR: 35.432586669921875 - VALIDATION SSIM: 0.9223153412019909\n"
     ]
    },
    {
     "name": "stderr",
     "output_type": "stream",
     "text": [
      "  7%|▋         | 672/10000 [3:24:23<49:01:09, 18.92s/it]"
     ]
    },
    {
     "name": "stdout",
     "output_type": "stream",
     "text": [
      "Epoch 672 - VALIDATION LOSS: 0.00033893805084517226 - VALIDATION PSNR: 35.229026794433594 - VALIDATION SSIM: 0.916266823641181\n"
     ]
    },
    {
     "name": "stderr",
     "output_type": "stream",
     "text": [
      "  7%|▋         | 674/10000 [3:25:02<49:48:20, 19.23s/it]"
     ]
    },
    {
     "name": "stdout",
     "output_type": "stream",
     "text": [
      "Epoch 674 - VALIDATION LOSS: 0.00028690340423054295 - VALIDATION PSNR: 35.78955078125 - VALIDATION SSIM: 0.927582800196225\n"
     ]
    },
    {
     "name": "stderr",
     "output_type": "stream",
     "text": [
      "  7%|▋         | 676/10000 [3:25:38<48:07:07, 18.58s/it]"
     ]
    },
    {
     "name": "stdout",
     "output_type": "stream",
     "text": [
      "Epoch 676 - VALIDATION LOSS: 0.0003139085274597164 - VALIDATION PSNR: 35.171871185302734 - VALIDATION SSIM: 0.9208767983835191\n"
     ]
    },
    {
     "name": "stderr",
     "output_type": "stream",
     "text": [
      "  7%|▋         | 678/10000 [3:26:14<46:55:49, 18.12s/it]"
     ]
    },
    {
     "name": "stdout",
     "output_type": "stream",
     "text": [
      "Epoch 678 - VALIDATION LOSS: 0.0003246282103646081 - VALIDATION PSNR: 35.07579803466797 - VALIDATION SSIM: 0.9183486388102173\n"
     ]
    },
    {
     "name": "stderr",
     "output_type": "stream",
     "text": [
      "  7%|▋         | 679/10000 [3:26:32<46:39:23, 18.02s/it]"
     ]
    },
    {
     "name": "stdout",
     "output_type": "stream",
     "text": [
      "Epoch 680 - VALIDATION LOSS: 0.0003008501917065587 - VALIDATION PSNR: 35.93590545654297 - VALIDATION SSIM: 0.9263239407021105\n"
     ]
    },
    {
     "name": "stderr",
     "output_type": "stream",
     "text": [
      "  7%|▋         | 682/10000 [3:27:26<46:38:36, 18.02s/it]"
     ]
    },
    {
     "name": "stdout",
     "output_type": "stream",
     "text": [
      "Epoch 682 - VALIDATION LOSS: 0.00033444403743487783 - VALIDATION PSNR: 35.418174743652344 - VALIDATION SSIM: 0.9193173563587367\n"
     ]
    },
    {
     "name": "stderr",
     "output_type": "stream",
     "text": [
      "  7%|▋         | 684/10000 [3:28:04<47:54:20, 18.51s/it]"
     ]
    },
    {
     "name": "stdout",
     "output_type": "stream",
     "text": [
      "Epoch 684 - VALIDATION LOSS: 0.0003603483728511492 - VALIDATION PSNR: 35.06562805175781 - VALIDATION SSIM: 0.9144393674749136\n"
     ]
    },
    {
     "name": "stderr",
     "output_type": "stream",
     "text": [
      "  7%|▋         | 686/10000 [3:28:44<49:35:02, 19.16s/it]"
     ]
    },
    {
     "name": "stdout",
     "output_type": "stream",
     "text": [
      "Epoch 686 - VALIDATION LOSS: 0.00031734070216771215 - VALIDATION PSNR: 35.66274642944336 - VALIDATION SSIM: 0.9228889620335101\n"
     ]
    },
    {
     "name": "stderr",
     "output_type": "stream",
     "text": [
      "  7%|▋         | 688/10000 [3:29:21<49:13:03, 19.03s/it]"
     ]
    },
    {
     "name": "stdout",
     "output_type": "stream",
     "text": [
      "Epoch 688 - VALIDATION LOSS: 0.00034831120137823746 - VALIDATION PSNR: 34.932899475097656 - VALIDATION SSIM: 0.9159650368231237\n"
     ]
    },
    {
     "name": "stderr",
     "output_type": "stream",
     "text": [
      "  7%|▋         | 690/10000 [3:29:59<49:11:32, 19.02s/it]"
     ]
    },
    {
     "name": "stdout",
     "output_type": "stream",
     "text": [
      "Epoch 690 - VALIDATION LOSS: 0.00034163595773861744 - VALIDATION PSNR: 35.14384078979492 - VALIDATION SSIM: 0.9166087401591838\n"
     ]
    },
    {
     "name": "stderr",
     "output_type": "stream",
     "text": [
      "  7%|▋         | 692/10000 [3:30:37<48:46:38, 18.87s/it]"
     ]
    },
    {
     "name": "stdout",
     "output_type": "stream",
     "text": [
      "Epoch 692 - VALIDATION LOSS: 0.00027872691316588316 - VALIDATION PSNR: 35.779296875 - VALIDATION SSIM: 0.9282486734604836\n"
     ]
    },
    {
     "name": "stderr",
     "output_type": "stream",
     "text": [
      "  7%|▋         | 694/10000 [3:31:12<47:20:16, 18.31s/it]"
     ]
    },
    {
     "name": "stdout",
     "output_type": "stream",
     "text": [
      "Epoch 694 - VALIDATION LOSS: 0.00034764481915772194 - VALIDATION PSNR: 35.23027420043945 - VALIDATION SSIM: 0.9163438637166276\n"
     ]
    },
    {
     "name": "stderr",
     "output_type": "stream",
     "text": [
      "  7%|▋         | 696/10000 [3:31:49<47:24:05, 18.34s/it]"
     ]
    },
    {
     "name": "stdout",
     "output_type": "stream",
     "text": [
      "Epoch 696 - VALIDATION LOSS: 0.00032864222521311603 - VALIDATION PSNR: 35.06365203857422 - VALIDATION SSIM: 0.9187132773643388\n"
     ]
    },
    {
     "name": "stderr",
     "output_type": "stream",
     "text": [
      "  7%|▋         | 698/10000 [3:32:28<49:02:24, 18.98s/it]"
     ]
    },
    {
     "name": "stdout",
     "output_type": "stream",
     "text": [
      "Epoch 698 - VALIDATION LOSS: 0.0003360991267982172 - VALIDATION PSNR: 35.153438568115234 - VALIDATION SSIM: 0.9180948047314286\n"
     ]
    },
    {
     "name": "stderr",
     "output_type": "stream",
     "text": [
      "  7%|▋         | 699/10000 [3:32:47<48:39:12, 18.83s/it]"
     ]
    },
    {
     "name": "stdout",
     "output_type": "stream",
     "text": [
      "Epoch 700 - VALIDATION LOSS: 0.0003882342771248659 - VALIDATION PSNR: 34.76773452758789 - VALIDATION SSIM: 0.9094256142066867\n"
     ]
    },
    {
     "name": "stderr",
     "output_type": "stream",
     "text": [
      "  7%|▋         | 702/10000 [3:33:41<47:25:56, 18.36s/it]"
     ]
    },
    {
     "name": "stdout",
     "output_type": "stream",
     "text": [
      "Epoch 702 - VALIDATION LOSS: 0.0002581162789283553 - VALIDATION PSNR: 36.54856872558594 - VALIDATION SSIM: 0.9334254428985119\n"
     ]
    },
    {
     "name": "stderr",
     "output_type": "stream",
     "text": [
      "  7%|▋         | 704/10000 [3:34:18<47:36:50, 18.44s/it]"
     ]
    },
    {
     "name": "stdout",
     "output_type": "stream",
     "text": [
      "Epoch 704 - VALIDATION LOSS: 0.0003271343266533222 - VALIDATION PSNR: 35.50398254394531 - VALIDATION SSIM: 0.919483770674698\n"
     ]
    },
    {
     "name": "stderr",
     "output_type": "stream",
     "text": [
      "  7%|▋         | 706/10000 [3:34:56<48:12:23, 18.67s/it]"
     ]
    },
    {
     "name": "stdout",
     "output_type": "stream",
     "text": [
      "Epoch 706 - VALIDATION LOSS: 0.0003694244060170604 - VALIDATION PSNR: 34.86559295654297 - VALIDATION SSIM: 0.9111764531737863\n"
     ]
    },
    {
     "name": "stderr",
     "output_type": "stream",
     "text": [
      "  7%|▋         | 708/10000 [3:35:33<48:03:34, 18.62s/it]"
     ]
    },
    {
     "name": "stdout",
     "output_type": "stream",
     "text": [
      "Epoch 708 - VALIDATION LOSS: 0.0003156384791509481 - VALIDATION PSNR: 36.103145599365234 - VALIDATION SSIM: 0.9245570528447925\n"
     ]
    },
    {
     "name": "stderr",
     "output_type": "stream",
     "text": [
      "  7%|▋         | 710/10000 [3:36:13<49:54:08, 19.34s/it]"
     ]
    },
    {
     "name": "stdout",
     "output_type": "stream",
     "text": [
      "Epoch 710 - VALIDATION LOSS: 0.00031215118178806733 - VALIDATION PSNR: 35.291839599609375 - VALIDATION SSIM: 0.9212271456573904\n"
     ]
    },
    {
     "name": "stderr",
     "output_type": "stream",
     "text": [
      "  7%|▋         | 712/10000 [3:36:51<49:20:37, 19.13s/it]"
     ]
    },
    {
     "name": "stdout",
     "output_type": "stream",
     "text": [
      "Epoch 712 - VALIDATION LOSS: 0.00034581938962219283 - VALIDATION PSNR: 35.002044677734375 - VALIDATION SSIM: 0.9165144925444424\n"
     ]
    },
    {
     "name": "stderr",
     "output_type": "stream",
     "text": [
      "  7%|▋         | 714/10000 [3:37:28<48:08:52, 18.67s/it]"
     ]
    },
    {
     "name": "stdout",
     "output_type": "stream",
     "text": [
      "Epoch 714 - VALIDATION LOSS: 0.00034327440880588256 - VALIDATION PSNR: 35.08582305908203 - VALIDATION SSIM: 0.9162786982496828\n"
     ]
    },
    {
     "name": "stderr",
     "output_type": "stream",
     "text": [
      "  7%|▋         | 716/10000 [3:38:04<47:37:26, 18.47s/it]"
     ]
    },
    {
     "name": "stdout",
     "output_type": "stream",
     "text": [
      "Epoch 716 - VALIDATION LOSS: 0.0003104220231762156 - VALIDATION PSNR: 35.75261688232422 - VALIDATION SSIM: 0.9232839688783586\n"
     ]
    },
    {
     "name": "stderr",
     "output_type": "stream",
     "text": [
      "  7%|▋         | 716/10000 [3:38:12<47:09:26, 18.29s/it]\n"
     ]
    },
    {
     "ename": "KeyboardInterrupt",
     "evalue": "",
     "output_type": "error",
     "traceback": [
      "\u001b[0;31m---------------------------------------------------------------------------\u001b[0m",
      "\u001b[0;31mKeyboardInterrupt\u001b[0m                         Traceback (most recent call last)",
      "Cell \u001b[0;32mIn[50], line 4\u001b[0m\n\u001b[1;32m      1\u001b[0m \u001b[38;5;28;01mwith\u001b[39;00m torch\u001b[38;5;241m.\u001b[39mno_grad():\n\u001b[1;32m      2\u001b[0m     torch\u001b[38;5;241m.\u001b[39mcuda\u001b[38;5;241m.\u001b[39mempty_cache()\n\u001b[0;32m----> 4\u001b[0m pdhg \u001b[38;5;241m=\u001b[39m \u001b[43mstart_training\u001b[49m\u001b[43m(\u001b[49m\u001b[43mget_config\u001b[49m\u001b[43m(\u001b[49m\u001b[43m)\u001b[49m\u001b[43m)\u001b[49m\n\u001b[1;32m      6\u001b[0m \u001b[38;5;28;01mwith\u001b[39;00m torch\u001b[38;5;241m.\u001b[39mno_grad():\n\u001b[1;32m      7\u001b[0m     torch\u001b[38;5;241m.\u001b[39mcuda\u001b[38;5;241m.\u001b[39mempty_cache()\n",
      "Cell \u001b[0;32mIn[49], line 118\u001b[0m, in \u001b[0;36mstart_training\u001b[0;34m(config, pretrained_model_path, is_state_dict, start_epoch)\u001b[0m\n\u001b[1;32m    114\u001b[0m \u001b[38;5;28;01mfor\u001b[39;00m epoch \u001b[38;5;129;01min\u001b[39;00m tqdm(\u001b[38;5;28mrange\u001b[39m(start_epoch, num_epochs)):\n\u001b[1;32m    115\u001b[0m \n\u001b[1;32m    116\u001b[0m     \u001b[38;5;66;03m# Model training\u001b[39;00m\n\u001b[1;32m    117\u001b[0m     pdhg\u001b[38;5;241m.\u001b[39mtrain(\u001b[38;5;28;01mTrue\u001b[39;00m)\n\u001b[0;32m--> 118\u001b[0m     training_loss, training_psnr, training_ssim \u001b[38;5;241m=\u001b[39m \u001b[43mtrain_epoch\u001b[49m\u001b[43m(\u001b[49m\u001b[43mpdhg\u001b[49m\u001b[43m,\u001b[49m\u001b[43m \u001b[49m\u001b[43mdataloader_train\u001b[49m\u001b[43m,\u001b[49m\u001b[43m \u001b[49m\u001b[43moptimizer\u001b[49m\u001b[43m,\u001b[49m\u001b[43m \u001b[49m\u001b[43mloss_function\u001b[49m\u001b[43m)\u001b[49m\n\u001b[1;32m    119\u001b[0m     \u001b[38;5;66;03m# training_loss, training_psnr, training_ssim = train_iteration(optimizer, pdhg, loss_function, sample=(noisy_image_data, clean_image_data))\u001b[39;00m\n\u001b[1;32m    120\u001b[0m     \u001b[38;5;66;03m# print(f\"Epoch {epoch+1} - TRAINING LOSS: {training_loss} - TRAINING PSNR: {training_psnr} - TRAINING SSIM: {training_ssim}\")\u001b[39;00m\n\u001b[1;32m    121\u001b[0m \n\u001b[1;32m    122\u001b[0m     \u001b[38;5;66;03m# Optional: Use wandb to log training progress\u001b[39;00m\n\u001b[1;32m    123\u001b[0m     wandb\u001b[38;5;241m.\u001b[39mlog({\u001b[38;5;124m\"\u001b[39m\u001b[38;5;124mtraining_loss\u001b[39m\u001b[38;5;124m\"\u001b[39m: training_loss})\n",
      "Cell \u001b[0;32mIn[43], line 35\u001b[0m, in \u001b[0;36mtrain_epoch\u001b[0;34m(model, data_loader, optimizer, loss_func)\u001b[0m\n\u001b[1;32m     33\u001b[0m optimizer\u001b[38;5;241m.\u001b[39mzero_grad(set_to_none\u001b[38;5;241m=\u001b[39m\u001b[38;5;28;01mTrue\u001b[39;00m)  \u001b[38;5;66;03m# Zero your gradients for every batch! TODO: Why?\u001b[39;00m\n\u001b[1;32m     34\u001b[0m noisy_image_5d, clean_image_5d \u001b[38;5;241m=\u001b[39m sample\n\u001b[0;32m---> 35\u001b[0m denoised_image_5d \u001b[38;5;241m=\u001b[39m \u001b[43mmodel\u001b[49m\u001b[43m(\u001b[49m\u001b[43mnoisy_image_5d\u001b[49m\u001b[43m)\u001b[49m\n\u001b[1;32m     36\u001b[0m loss \u001b[38;5;241m=\u001b[39m loss_func(denoised_image_5d, clean_image_5d)\n\u001b[1;32m     38\u001b[0m loss\u001b[38;5;241m.\u001b[39mbackward()\n",
      "File \u001b[0;32m/mnt/c/Users/t/Documents/GIT/DISSERTATION/LearningRegularizationParameterMaps/venv/lib/python3.10/site-packages/torch/nn/modules/module.py:1532\u001b[0m, in \u001b[0;36mModule._wrapped_call_impl\u001b[0;34m(self, *args, **kwargs)\u001b[0m\n\u001b[1;32m   1530\u001b[0m     \u001b[38;5;28;01mreturn\u001b[39;00m \u001b[38;5;28mself\u001b[39m\u001b[38;5;241m.\u001b[39m_compiled_call_impl(\u001b[38;5;241m*\u001b[39margs, \u001b[38;5;241m*\u001b[39m\u001b[38;5;241m*\u001b[39mkwargs)  \u001b[38;5;66;03m# type: ignore[misc]\u001b[39;00m\n\u001b[1;32m   1531\u001b[0m \u001b[38;5;28;01melse\u001b[39;00m:\n\u001b[0;32m-> 1532\u001b[0m     \u001b[38;5;28;01mreturn\u001b[39;00m \u001b[38;5;28;43mself\u001b[39;49m\u001b[38;5;241;43m.\u001b[39;49m\u001b[43m_call_impl\u001b[49m\u001b[43m(\u001b[49m\u001b[38;5;241;43m*\u001b[39;49m\u001b[43margs\u001b[49m\u001b[43m,\u001b[49m\u001b[43m \u001b[49m\u001b[38;5;241;43m*\u001b[39;49m\u001b[38;5;241;43m*\u001b[39;49m\u001b[43mkwargs\u001b[49m\u001b[43m)\u001b[49m\n",
      "File \u001b[0;32m/mnt/c/Users/t/Documents/GIT/DISSERTATION/LearningRegularizationParameterMaps/venv/lib/python3.10/site-packages/torch/nn/modules/module.py:1541\u001b[0m, in \u001b[0;36mModule._call_impl\u001b[0;34m(self, *args, **kwargs)\u001b[0m\n\u001b[1;32m   1536\u001b[0m \u001b[38;5;66;03m# If we don't have any hooks, we want to skip the rest of the logic in\u001b[39;00m\n\u001b[1;32m   1537\u001b[0m \u001b[38;5;66;03m# this function, and just call forward.\u001b[39;00m\n\u001b[1;32m   1538\u001b[0m \u001b[38;5;28;01mif\u001b[39;00m \u001b[38;5;129;01mnot\u001b[39;00m (\u001b[38;5;28mself\u001b[39m\u001b[38;5;241m.\u001b[39m_backward_hooks \u001b[38;5;129;01mor\u001b[39;00m \u001b[38;5;28mself\u001b[39m\u001b[38;5;241m.\u001b[39m_backward_pre_hooks \u001b[38;5;129;01mor\u001b[39;00m \u001b[38;5;28mself\u001b[39m\u001b[38;5;241m.\u001b[39m_forward_hooks \u001b[38;5;129;01mor\u001b[39;00m \u001b[38;5;28mself\u001b[39m\u001b[38;5;241m.\u001b[39m_forward_pre_hooks\n\u001b[1;32m   1539\u001b[0m         \u001b[38;5;129;01mor\u001b[39;00m _global_backward_pre_hooks \u001b[38;5;129;01mor\u001b[39;00m _global_backward_hooks\n\u001b[1;32m   1540\u001b[0m         \u001b[38;5;129;01mor\u001b[39;00m _global_forward_hooks \u001b[38;5;129;01mor\u001b[39;00m _global_forward_pre_hooks):\n\u001b[0;32m-> 1541\u001b[0m     \u001b[38;5;28;01mreturn\u001b[39;00m \u001b[43mforward_call\u001b[49m\u001b[43m(\u001b[49m\u001b[38;5;241;43m*\u001b[39;49m\u001b[43margs\u001b[49m\u001b[43m,\u001b[49m\u001b[43m \u001b[49m\u001b[38;5;241;43m*\u001b[39;49m\u001b[38;5;241;43m*\u001b[39;49m\u001b[43mkwargs\u001b[49m\u001b[43m)\u001b[49m\n\u001b[1;32m   1543\u001b[0m \u001b[38;5;28;01mtry\u001b[39;00m:\n\u001b[1;32m   1544\u001b[0m     result \u001b[38;5;241m=\u001b[39m \u001b[38;5;28;01mNone\u001b[39;00m\n",
      "Cell \u001b[0;32mIn[36], line 132\u001b[0m, in \u001b[0;36mDynamicImageStaticPrimalDualNN.forward\u001b[0;34m(self, x, lambda_map)\u001b[0m\n\u001b[1;32m    127\u001b[0m \u001b[38;5;66;03m# if lambda_reg_container is not None:\u001b[39;00m\n\u001b[1;32m    128\u001b[0m \u001b[38;5;66;03m#     assert type(lambda_reg_container) == list, f\"lambda_reg_container should be a list, not {type(lambda_reg_container)}\"\u001b[39;00m\n\u001b[1;32m    129\u001b[0m \u001b[38;5;66;03m#     lambda_reg_container.append(lambda_reg) # For comparison\u001b[39;00m\n\u001b[1;32m    131\u001b[0m x\u001b[38;5;241m.\u001b[39mto(DEVICE)\n\u001b[0;32m--> 132\u001b[0m x1 \u001b[38;5;241m=\u001b[39m \u001b[43mreconstruct_with_PDHG\u001b[49m\u001b[43m(\u001b[49m\u001b[43mx\u001b[49m\u001b[43m,\u001b[49m\u001b[43m \u001b[49m\u001b[43mlambda_reg\u001b[49m\u001b[43m,\u001b[49m\u001b[43m \u001b[49m\u001b[38;5;28;43mself\u001b[39;49m\u001b[38;5;241;43m.\u001b[39;49m\u001b[43mT\u001b[49m\u001b[43m)\u001b[49m\n\u001b[1;32m    134\u001b[0m \u001b[38;5;28;01mdel\u001b[39;00m lambda_reg\n\u001b[1;32m    135\u001b[0m \u001b[38;5;28;01mdel\u001b[39;00m x\n",
      "Cell \u001b[0;32mIn[34], line 78\u001b[0m, in \u001b[0;36mreconstruct_with_PDHG\u001b[0;34m(x_dynamic_image_tensor_5D, lambda_reg, T)\u001b[0m\n\u001b[1;32m     76\u001b[0m p \u001b[38;5;241m=\u001b[39m  (p \u001b[38;5;241m+\u001b[39m sigma \u001b[38;5;241m*\u001b[39m (xbar \u001b[38;5;241m-\u001b[39m xnoisy) ) \u001b[38;5;241m/\u001b[39m (\u001b[38;5;241m1.\u001b[39m \u001b[38;5;241m+\u001b[39m sigma)\n\u001b[1;32m     77\u001b[0m \u001b[38;5;66;03m# update q\u001b[39;00m\n\u001b[0;32m---> 78\u001b[0m q \u001b[38;5;241m=\u001b[39m clip_act(q \u001b[38;5;241m+\u001b[39m \u001b[43msigma\u001b[49m\u001b[43m \u001b[49m\u001b[38;5;241;43m*\u001b[39;49m\u001b[43m \u001b[49m\u001b[43mGradOps\u001b[49m\u001b[38;5;241;43m.\u001b[39;49m\u001b[43mapply_G\u001b[49m\u001b[43m(\u001b[49m\u001b[43mxbar\u001b[49m\u001b[43m)\u001b[49m, lambda_reg)\n\u001b[1;32m     80\u001b[0m x1 \u001b[38;5;241m=\u001b[39m x0 \u001b[38;5;241m-\u001b[39m tau \u001b[38;5;241m*\u001b[39m p \u001b[38;5;241m-\u001b[39m tau \u001b[38;5;241m*\u001b[39m GradOps\u001b[38;5;241m.\u001b[39mapply_GH(q)\n\u001b[1;32m     82\u001b[0m \u001b[38;5;28;01mif\u001b[39;00m kT \u001b[38;5;241m!=\u001b[39m T \u001b[38;5;241m-\u001b[39m \u001b[38;5;241m1\u001b[39m:\n\u001b[1;32m     83\u001b[0m     \u001b[38;5;66;03m# update xbar\u001b[39;00m\n",
      "File \u001b[0;32m/mnt/c/Users/t/Documents/GIT/DISSERTATION/LearningRegularizationParameterMaps/venv/lib/python3.10/site-packages/torch/utils/_device.py:78\u001b[0m, in \u001b[0;36mDeviceContext.__torch_function__\u001b[0;34m(self, func, types, args, kwargs)\u001b[0m\n\u001b[1;32m     76\u001b[0m \u001b[38;5;28;01mif\u001b[39;00m func \u001b[38;5;129;01min\u001b[39;00m _device_constructors() \u001b[38;5;129;01mand\u001b[39;00m kwargs\u001b[38;5;241m.\u001b[39mget(\u001b[38;5;124m'\u001b[39m\u001b[38;5;124mdevice\u001b[39m\u001b[38;5;124m'\u001b[39m) \u001b[38;5;129;01mis\u001b[39;00m \u001b[38;5;28;01mNone\u001b[39;00m:\n\u001b[1;32m     77\u001b[0m     kwargs[\u001b[38;5;124m'\u001b[39m\u001b[38;5;124mdevice\u001b[39m\u001b[38;5;124m'\u001b[39m] \u001b[38;5;241m=\u001b[39m \u001b[38;5;28mself\u001b[39m\u001b[38;5;241m.\u001b[39mdevice\n\u001b[0;32m---> 78\u001b[0m \u001b[38;5;28;01mreturn\u001b[39;00m \u001b[43mfunc\u001b[49m\u001b[43m(\u001b[49m\u001b[38;5;241;43m*\u001b[39;49m\u001b[43margs\u001b[49m\u001b[43m,\u001b[49m\u001b[43m \u001b[49m\u001b[38;5;241;43m*\u001b[39;49m\u001b[38;5;241;43m*\u001b[39;49m\u001b[43mkwargs\u001b[49m\u001b[43m)\u001b[49m\n",
      "\u001b[0;31mKeyboardInterrupt\u001b[0m: "
     ]
    }
   ],
   "source": [
    "with torch.no_grad():\n",
    "    torch.cuda.empty_cache()\n",
    "\n",
    "pdhg = start_training(get_config())\n",
    "\n",
    "with torch.no_grad():\n",
    "    torch.cuda.empty_cache()"
   ]
  },
  {
   "cell_type": "code",
   "execution_count": null,
   "metadata": {},
   "outputs": [],
   "source": [
    "with torch.no_grad():\n",
    "    torch.cuda.empty_cache()"
   ]
  },
  {
   "cell_type": "markdown",
   "metadata": {},
   "source": [
    "------\n",
    "\n",
    "### Inference\n",
    "\n",
    "Demo the model"
   ]
  },
  {
   "cell_type": "markdown",
   "metadata": {},
   "source": [
    "#### Test denoising"
   ]
  },
  {
   "cell_type": "code",
   "execution_count": null,
   "metadata": {},
   "outputs": [],
   "source": [
    "# # CODE TO INFER AND SHOW SOME RESULTS HERE\n",
    "\n",
    "\n",
    "\n",
    "# def simple_plot(input_image_tensor_5D, subplot_index, image_name, clean_image_tensor_5D, folder_name, num_rows=2, num_cols=3):\n",
    "#     plot_image_tensor_2D = input_image_tensor_5D.squeeze(0).squeeze(0).squeeze(-1)\n",
    "#     clean_image_tensor_2D = clean_image_tensor_5D.squeeze(0).squeeze(0).squeeze(-1)\n",
    "#     psnr_value = PSNR(clean_image_tensor_2D, plot_image_tensor_2D)\n",
    "#     ssim_value = SSIM(clean_image_tensor_2D, plot_image_tensor_2D)\n",
    "#     plt.subplot(num_rows, num_cols, subplot_index)\n",
    "#     plt.axis('off')\n",
    "#     plt.imshow(plot_image_tensor_2D.to(\"cpu\").detach().numpy(), cmap='gray')\n",
    "#     plt.title(f\"{image_name} PSNR: {psnr_value:.2f} dB\\n{image_name} SSIM: {ssim_value:.2f}\", fontsize=10)\n",
    "#     # Write the image to a file\n",
    "#     save_image(plot_image_tensor_2D, f\"{image_name}\", folder_name)\n",
    "\n",
    "# def get_image_tensor_5D(image):\n",
    "#     image = image.convert(\"L\")\n",
    "#     image_numpy = np.asarray(image)\n",
    "#     image_tensor_4D = convert_to_tensor_4D(image_numpy)\n",
    "#     image_tensor_5D = image_tensor_4D.unsqueeze(0).to(DEVICE)\n",
    "#     return image_tensor_5D\n",
    "\n",
    "# def denoise(pdhg: DynamicImageStaticPrimalDualNN, noisy_image_tensor_5D):\n",
    "#     pdhg.eval()\n",
    "#     with torch.no_grad():\n",
    "#         best_lambda_map = pdhg.get_lambda_cnn(noisy_image_tensor_5D)\n",
    "#     x_denoised_lambda_map_best_tensor_5D = reconstruct_with_PDHG(noisy_image_tensor_5D, best_lambda_map, pdhg.T)\n",
    "#     # x_denoised_lambda_map_best_tensor_5D = torch.clamp(x_denoised_lambda_map_best_tensor_5D, 0, 1)\n",
    "#     with torch.no_grad():\n",
    "#         torch.cuda.empty_cache()\n",
    "#     return best_lambda_map, x_denoised_lambda_map_best_tensor_5D\n",
    "\n",
    "\n",
    "# def brute_force_lambda(noisy_image_tensor_5D, clean_image_tensor_5D, T, min_value=0.01, max_value=0.1, num_values=10):\n",
    "#     # TODO: Brute-force single lambda\n",
    "#     best_psnr = 0\n",
    "#     best_lambda = 0\n",
    "#     lambas = list(np.linspace(min_value, max_value, num_values))\n",
    "#     psnr_values = []\n",
    "#     for lambda_value in lambas:\n",
    "#         with torch.no_grad():\n",
    "#             x_denoised_single_lambda_tensor_5D = reconstruct_with_PDHG(noisy_image_tensor_5D, lambda_value, T)\n",
    "#         psnr_value = PSNR(clean_image_tensor_5D, x_denoised_single_lambda_tensor_5D)\n",
    "#         psnr_value = psnr_value.item()\n",
    "#         # Convert to float\n",
    "#         psnr_value = np.float64(psnr_value)\n",
    "#         if psnr_value > best_psnr:\n",
    "#             best_psnr = psnr_value\n",
    "#             best_lambda = lambda_value\n",
    "#         psnr_values.append(psnr_value)\n",
    "\n",
    "#     # Plot the PSNR values\n",
    "#     plt.plot(lambas, psnr_values)\n",
    "#     plt.xlabel(\"Lambda\")\n",
    "#     plt.ylabel(\"PSNR\")\n",
    "#     plt.title(\"PSNR vs Lambda\")\n",
    "#     plt.show()\n",
    "    \n",
    "#     return best_lambda\n",
    "\n",
    "\n",
    "# def test_denoise(pdhg: DynamicImageStaticPrimalDualNN=None, model_name=\"\", best_lambda=None):\n",
    "#     \"\"\"\n",
    "#     Testing denoising with pre-trained parameters.\n",
    "#     \"\"\"\n",
    "#     clean_image = Image.open(f\"testcases/chest_xray_clean.png\")\n",
    "#     noisy_image = Image.open(f\"testcases/chest_xray_noisy.png\")\n",
    "#     clean_image_tensor_5D = get_image_tensor_5D(clean_image)\n",
    "#     noisy_image_tensor_5D = get_image_tensor_5D(noisy_image)\n",
    "\n",
    "#     if best_lambda is None:\n",
    "#         best_lambda = brute_force_lambda(noisy_image_tensor_5D, clean_image_tensor_5D, T=pdhg.T, min_value=0.01, max_value=1, num_values=100)\n",
    "\n",
    "#     print(f\"Best lambda: {best_lambda}\")\n",
    "\n",
    "#     k_w, k_h = 256, 256\n",
    "\n",
    "#     folder_name = f\"./tmp/images/model_{model_name}-kernel_{k_w}-best_lambda_{str(best_lambda).replace('.', '_')}-time_{datetime.datetime.now().strftime('%Y_%m_%d_%H_%M_%S')}\"\n",
    "#     os.makedirs(folder_name, exist_ok=True)\n",
    "\n",
    "#     plt.figure(figsize=(15, 6)) # Set the size of the plot\n",
    "\n",
    "#     simple_plot(clean_image_tensor_5D, 1, \"clean\", clean_image_tensor_5D, folder_name)\n",
    "#     simple_plot(noisy_image_tensor_5D, 2, \"noisy\", clean_image_tensor_5D, folder_name)\n",
    "\n",
    "#     x_denoised_single_lambda_tensor_5D = reconstruct_with_PDHG(noisy_image_tensor_5D, best_lambda, T=pdhg.T)\n",
    "    \n",
    "#     best_lambda_map, x_denoised_lambda_map_tensor_5D = denoise(pdhg, noisy_image_tensor_5D)\n",
    "\n",
    "#     # Clip to [0, 1]. The calculations may make it slightly below 0 and above 1\n",
    "#     x_denoised_single_lambda_tensor_5D = torch.clamp(x_denoised_single_lambda_tensor_5D, 0, 1)\n",
    "#     x_denoised_lambda_map_tensor_5D = torch.clamp(x_denoised_lambda_map_tensor_5D, 0, 1)\n",
    "\n",
    "#     simple_plot(x_denoised_single_lambda_tensor_5D, 3, f\"single_lambda_best_{str(best_lambda).replace('.', '_')}\", clean_image_tensor_5D, folder_name)\n",
    "#     simple_plot(x_denoised_lambda_map_tensor_5D, 4, \"lambda_map_best_using_function\", clean_image_tensor_5D, folder_name)\n",
    "\n",
    "#     lambda_map_1 = best_lambda_map[:, 0:1, :, :, :]\n",
    "#     lambda_map_2 = best_lambda_map[:, 1:2, :, :, :]\n",
    "#     lambda_map_3 = best_lambda_map[:, 2:3, :, :, :]\n",
    "\n",
    "#     lambda_map_1 = torch.clamp(lambda_map_1, 0, 1)\n",
    "#     lambda_map_2 = torch.clamp(lambda_map_2, 0, 1)\n",
    "#     lambda_map_3 = torch.clamp(lambda_map_3, 0, 1)\n",
    "\n",
    "#     simple_plot(lambda_map_1, 5, \"lambda_map_1\", clean_image_tensor_5D, folder_name)\n",
    "#     simple_plot(lambda_map_3, 6, \"lambda_map_3\", clean_image_tensor_5D, folder_name)\n",
    "\n",
    "#     plt.savefig(f\"{folder_name}/results.png\")\n",
    "\n",
    "#     plt.show();\n",
    "\n",
    "#     with open(f\"{folder_name}/log.txt\", \"w\") as f:\n",
    "#         f.write(f\"Best lambda: {best_lambda}\\n\")\n",
    "#         f.write(f\"PSNR (single lambda): {PSNR(clean_image_tensor_5D.squeeze(0).squeeze(0).squeeze(-1), x_denoised_single_lambda_tensor_5D.squeeze(0).squeeze(0).squeeze(-1))}\\n\")\n",
    "#         f.write(f\"PSNR (lambda map): {PSNR(clean_image_tensor_5D.squeeze(0).squeeze(0).squeeze(-1), x_denoised_lambda_map_tensor_5D.squeeze(0).squeeze(0).squeeze(-1))}\\n\")\n",
    "#         f.write(f\"Config: {get_config()}\\n\")\n",
    "\n",
    "#     with torch.no_grad():\n",
    "#         torch.cuda.empty_cache()\n",
    "\n",
    "# model_dir = \"./tmp_2/model-2024_06_05_23_51_27\"\n",
    "# epoch = 4000\n",
    "# pdhg = torch.load(f\"{model_dir}/model_epoch_{epoch}.pt\")\n",
    "\n",
    "# test_denoise(\n",
    "#     pdhg=pdhg,\n",
    "#     model_name=f\"chest_xray_demo-epoch_{epoch}\",\n",
    "#     best_lambda=0.08\n",
    "# )\n",
    "\n",
    "# with torch.no_grad():\n",
    "#     torch.cuda.empty_cache()"
   ]
  },
  {
   "cell_type": "code",
   "execution_count": null,
   "metadata": {},
   "outputs": [],
   "source": [
    "with torch.no_grad():\n",
    "    torch.cuda.empty_cache()"
   ]
  },
  {
   "cell_type": "code",
   "execution_count": null,
   "metadata": {},
   "outputs": [],
   "source": [
    "# def temp_test():"
   ]
  },
  {
   "cell_type": "markdown",
   "metadata": {},
   "source": [
    "---\n",
    "\n",
    "### Create a video"
   ]
  },
  {
   "cell_type": "code",
   "execution_count": null,
   "metadata": {},
   "outputs": [],
   "source": [
    "# def create_video(model_name, start_epoch=20, end_epoch=10_000, step=20):\n",
    "#     clean_image_path = \"./test_cases/turtle_clean/turtle clean.png\"\n",
    "#     noisy_image_path = \"./test_cases/turtle_noisy/turtle noisy.png\"\n",
    "#     clean_image_tensor_5D = get_image_tensor_5D(clean_image_path)\n",
    "#     noisy_image_tensor_5D = get_image_tensor_5D(noisy_image_path)\n",
    "#     clean_image_tensor_2D = clean_image_tensor_5D.squeeze(0).squeeze(0).squeeze(-1)\n",
    "#     noisy_image_tensor_2D = noisy_image_tensor_5D.squeeze(0).squeeze(0).squeeze(-1)\n",
    "\n",
    "#     psnr_noisy = PSNR(noisy_image_tensor_2D, clean_image_tensor_2D)\n",
    "#     ssim_noisy = SSIM(noisy_image_tensor_2D, clean_image_tensor_2D)\n",
    "\n",
    "\n",
    "\n",
    "#     frames_folder = f\"./tmp/{model_name}\"\n",
    "#     model_folder=f\"./tmp_2/{model_name}\"\n",
    "#     os.makedirs(frames_folder, exist_ok=True)\n",
    "#     os.makedirs(f\"{frames_folder}/denoised\", exist_ok=True)\n",
    "#     os.makedirs(f\"{frames_folder}/lambda_map_1\", exist_ok=True)\n",
    "#     os.makedirs(f\"{frames_folder}/lambda_map_2\", exist_ok=True)\n",
    "#     os.makedirs(f\"{frames_folder}/lambda_map_3\", exist_ok=True)\n",
    "\n",
    "#     with open(f\"./tmp/{model_name}/metrics.csv\", \"w\") as f:\n",
    "#         f.write(f\"Image, PSNR, SSIM\\n\")\n",
    "#         f.write(f\"Noisy, {psnr_noisy:.2f}, {ssim_noisy:.2f}\\n\")\n",
    "\n",
    "#         for epoch in range(start_epoch, end_epoch + 1, step):\n",
    "#             model_name = f\"model_epoch_{epoch}\"\n",
    "#             pdhg = torch.load(f\"{model_folder}/{model_name}.pt\")\n",
    "#             best_lambda_map, x_denoised_lambda_map_best_tensor_5D = denoise(pdhg, noisy_image_tensor_5D)\n",
    "#             x_denoised_lambda_map_best_tensor_5D = torch.clamp(x_denoised_lambda_map_best_tensor_5D, 0, 1)\n",
    "\n",
    "#             x_denoised_lambda_map_best_tensor_2D = x_denoised_lambda_map_best_tensor_5D.squeeze(0).squeeze(0).squeeze(-1)\n",
    "#             psnr_denoised = PSNR(x_denoised_lambda_map_best_tensor_2D, clean_image_tensor_2D)\n",
    "#             ssim_denoised = SSIM(x_denoised_lambda_map_best_tensor_2D, clean_image_tensor_2D)\n",
    "#             f.write(f\"{epoch}, {psnr_denoised:.2f}, {ssim_denoised:.2f}\\n\")\n",
    "\n",
    "#             denoised_image_to_save = Image.fromarray((x_denoised_lambda_map_best_tensor_2D.to(\"cpu\").detach().numpy() * 255).astype(np.uint8))\n",
    "#             denoised_image_to_save.save(f\"{frames_folder}/denoised/{epoch}.png\")\n",
    "\n",
    "#             lambda_map_1 = best_lambda_map[:, 0:1, :, :, :]\n",
    "#             lambda_map_2 = best_lambda_map[:, 1:2, :, :, :]\n",
    "#             lambda_map_3 = best_lambda_map[:, 2:3, :, :, :]\n",
    "#             lambda_map_1 = torch.clamp(lambda_map_1, 0, 1)\n",
    "#             lambda_map_2 = torch.clamp(lambda_map_2, 0, 1)\n",
    "#             lambda_map_3 = torch.clamp(lambda_map_3, 0, 1)\n",
    "\n",
    "#             lambda_map_1_to_save = Image.fromarray((lambda_map_1.squeeze(0).squeeze(0).squeeze(-1).to(\"cpu\").detach().numpy() * 255).astype(np.uint8))\n",
    "#             lambda_map_1_to_save.save(f\"{frames_folder}/lambda_map_1/{epoch}.png\")\n",
    "\n",
    "#             lambda_map_2_to_save = Image.fromarray((lambda_map_2.squeeze(0).squeeze(0).squeeze(-1).to(\"cpu\").detach().numpy() * 255).astype(np.uint8))\n",
    "#             lambda_map_2_to_save.save(f\"{frames_folder}/lambda_map_2/{epoch}.png\")\n",
    "\n",
    "#             lambda_map_3_to_save = Image.fromarray((lambda_map_3.squeeze(0).squeeze(0).squeeze(-1).to(\"cpu\").detach().numpy() * 255).astype(np.uint8))\n",
    "#             lambda_map_3_to_save.save(f\"{frames_folder}/lambda_map_3/{epoch}.png\")\n",
    "        \n",
    "\n",
    "#     # # Create the video\n",
    "#     # frames = []\n",
    "#     # for epoch in range(start_epoch, end_epoch + 1, step):\n",
    "#     #     frames.append(cv2.imread(f\"{frames_folder}/frame_{epoch}.png\"))\n",
    "#     # height, width, layers = frames[0].shape\n",
    "#     # size = (width, height)\n",
    "#     # out = cv2.VideoWriter(f\"{frames_folder}/video.avi\", cv2.VideoWriter_fourcc(*'DIVX'), 1, size)\n",
    "#     # for i in range(len(frames)):\n",
    "#     #     out.write(frames[i])\n",
    "#     # out.release()\n",
    "\n",
    "# create_video(\"model_turtle_2024_06_04_04_19_21\", start_epoch=20, end_epoch=10_000, step=20)"
   ]
  },
  {
   "cell_type": "code",
   "execution_count": null,
   "metadata": {},
   "outputs": [],
   "source": [
    "with torch.no_grad():\n",
    "    torch.cuda.empty_cache()"
   ]
  },
  {
   "cell_type": "code",
   "execution_count": null,
   "metadata": {},
   "outputs": [],
   "source": [
    "# def test_revisualise():\n",
    "\n",
    "#     def vis(image_folder, image_name):\n",
    "#         image_path = f\"{image_folder}/{image_name}.png\"\n",
    "#         image = Image.open(image_path)\n",
    "#         plt.imshow(image, cmap='gray')\n",
    "#         plt.show();\n",
    "\n",
    "#     image_folder = \"tmp/PRESENT/presentation-img_turtle-best_lambda_0_07-kernel_256-model_-trained_on_-time_2024_06_04_22_59_31-epoch_100_000\"\n",
    "#     image_names = [\n",
    "#         \"lambda_map_3\",\n",
    "#         \"single_lambda_best_0_06000000000000001\",\n",
    "#         \"clean\",\n",
    "#     ]\n",
    "\n",
    "#     for image_name in image_names:\n",
    "#         vis(image_folder, image_name)\n",
    "\n",
    "# test_revisualise()"
   ]
  }
 ],
 "metadata": {
  "kernelspec": {
   "display_name": "venv",
   "language": "python",
   "name": "python3"
  },
  "language_info": {
   "codemirror_mode": {
    "name": "ipython",
    "version": 3
   },
   "file_extension": ".py",
   "mimetype": "text/x-python",
   "name": "python",
   "nbconvert_exporter": "python",
   "pygments_lexer": "ipython3",
   "version": "3.10.12"
  }
 },
 "nbformat": 4,
 "nbformat_minor": 2
}
