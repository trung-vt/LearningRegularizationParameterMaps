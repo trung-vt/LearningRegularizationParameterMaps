{
 "cells": [
  {
   "cell_type": "markdown",
   "metadata": {},
   "source": [
    "### Imports"
   ]
  },
  {
   "cell_type": "code",
   "execution_count": 1,
   "metadata": {},
   "outputs": [],
   "source": [
    "first_time_importing_torch = True"
   ]
  },
  {
   "cell_type": "code",
   "execution_count": 2,
   "metadata": {},
   "outputs": [
    {
     "name": "stdout",
     "output_type": "stream",
     "text": [
      "Importing torch ...\n",
      "Importing torch took 12.309743642807007 seconds\n"
     ]
    }
   ],
   "source": [
    "import os\n",
    "\n",
    "# NOTE: Importing torch the first time will always take a long time!\n",
    "import time\n",
    "# NOTE: Importing torch the first time will always take a long time!\n",
    "if first_time_importing_torch:\n",
    "    print(f\"Importing torch ...\")\n",
    "    import_torch_start_time = time.time() \n",
    "import torch\n",
    "if first_time_importing_torch:\n",
    "    import_torch_end_time = time.time()\n",
    "    print(f\"Importing torch took {import_torch_end_time - import_torch_start_time} seconds\")\n",
    "    first_time_importing_torch = False\n",
    "\n",
    "import torch.nn as nn\n",
    "from torch.utils.data import WeightedRandomSampler\n",
    "import torch.nn.functional as F\n",
    "from torch.utils.data import Dataset\n",
    "\n",
    "# from torchmetrics.image import StructuralSimilarityIndexMeasure, PeakSignalNoiseRatio\n",
    "\n",
    "from skimage.metrics import structural_similarity\n",
    "# from skimage.metrics import peak_signal_noise_ratio\n",
    "\n",
    "from functools import partial\n",
    "\n",
    "import numpy as np\n",
    "import matplotlib.pyplot as plt\n",
    "import datetime\n",
    "\n",
    "from PIL import Image\n",
    "\n",
    "# Optional\n",
    "from tqdm import tqdm # progress bar\n",
    "\n",
    "import wandb # Optional, for logging\n",
    "\n",
    "import json\n",
    "import yaml"
   ]
  },
  {
   "cell_type": "code",
   "execution_count": 3,
   "metadata": {},
   "outputs": [
    {
     "name": "stdout",
     "output_type": "stream",
     "text": [
      "/mnt/c/Users/t/Documents/GIT/DISSERTATION/LearningRegularizationParameterMaps/venv/bin/python\n",
      "Torch version: 2.3.0+cu121\n",
      "Path: /mnt/c/Users/t/Documents/GIT/DISSERTATION/LearningRegularizationParameterMaps/chest_xray\n"
     ]
    }
   ],
   "source": [
    "!which python\n",
    "print(f\"Torch version: {torch.__version__}\")\n",
    "print(f\"Path: {os.getcwd()}\")"
   ]
  },
  {
   "cell_type": "code",
   "execution_count": 4,
   "metadata": {},
   "outputs": [],
   "source": [
    "# Suppress warnings\n",
    "import warnings\n",
    "warnings.filterwarnings(\"ignore\")"
   ]
  },
  {
   "cell_type": "code",
   "execution_count": 5,
   "metadata": {},
   "outputs": [],
   "source": [
    "# DISABLING_TESTS = False\n",
    "DISABLING_TESTS = True   # Disable tests for less output"
   ]
  },
  {
   "cell_type": "markdown",
   "metadata": {},
   "source": [
    "### Use GPU"
   ]
  },
  {
   "cell_type": "code",
   "execution_count": 6,
   "metadata": {},
   "outputs": [
    {
     "name": "stdout",
     "output_type": "stream",
     "text": [
      "Using NVIDIA GeForce RTX 4090\n"
     ]
    }
   ],
   "source": [
    "if torch.cuda.is_available():\n",
    "    DEVICE = torch.device(\"cuda\")\n",
    "    print(f\"Using {torch.cuda.get_device_name(0)}\")\n",
    "elif torch.backends.mps.is_available():\n",
    "    DEVICE = torch.device(\"mps\")\n",
    "    print(f\"Using {torch.backends.mps.get_device_name(0)} with MPS\")\n",
    "else:\n",
    "    DEVICE = torch.device(\"cpu\")\n",
    "    print(\"Using CPU\")\n",
    "\n",
    "torch.set_default_device(DEVICE)"
   ]
  },
  {
   "cell_type": "markdown",
   "metadata": {},
   "source": [
    "### CONFIG"
   ]
  },
  {
   "cell_type": "code",
   "execution_count": 7,
   "metadata": {},
   "outputs": [],
   "source": [
    "SIDD_DATA_PATH = \"../data/dyn_img_static/tmp/SIDD_Small_sRGB_Only/Data\""
   ]
  },
  {
   "cell_type": "code",
   "execution_count": 8,
   "metadata": {},
   "outputs": [],
   "source": [
    "CHEST_XRAY_BASE_DATA_PATH = \"../data/chest_xray\""
   ]
  },
  {
   "cell_type": "code",
   "execution_count": 9,
   "metadata": {},
   "outputs": [
    {
     "name": "stdout",
     "output_type": "stream",
     "text": [
      "{'project': 'chest_xray', 'dataset': '../data/chest_xray', 'train_data_path': '../data/chest_xray/train/NORMAL', 'val_data_path': '../data/chest_xray/val/NORMAL', 'test_data_path': '../data/chest_xray/test/NORMAL', 'train_num_samples': 200, 'val_num_samples': 8, 'test_num_samples': 1, 'resize_square': 256, 'min_sigma': 0.1, 'max_sigma': 0.5, 'batch_size': 1, 'random_seed': 42, 'architecture': 'UNET-PDHG', 'in_channels': 1, 'out_channels': 2, 'init_filters': 32, 'n_blocks': 3, 'activation': 'LeakyReLU', 'downsampling_kernel': (2, 2, 1), 'downsampling_mode': 'max', 'upsampling_kernel': (2, 2, 1), 'upsampling_mode': 'linear_interpolation', 'optimizer': 'Adam', 'learning_rate': 0.0001, 'loss_function': 'MSELoss', 'up_bound': 0, 'T': 64, 'epochs': 10000, 'device': 'cuda:0', 'wandb_mode': 'online', 'save_epoch_wandb': 10, 'save_epoch_local': 2, 'save_dir': 'tmp_2'}\n"
     ]
    }
   ],
   "source": [
    "def get_config():\n",
    "    CHEST_XRAY_BASE_DATA_PATH = \"../data/chest_xray\"\n",
    "    return {\n",
    "        \"project\": \"chest_xray\",\n",
    "        \"dataset\": CHEST_XRAY_BASE_DATA_PATH,\n",
    "        \"train_data_path\": f\"{CHEST_XRAY_BASE_DATA_PATH}/train/NORMAL\",\n",
    "        \"val_data_path\": f\"{CHEST_XRAY_BASE_DATA_PATH}/val/NORMAL\",\n",
    "        \"test_data_path\": f\"{CHEST_XRAY_BASE_DATA_PATH}/test/NORMAL\",\n",
    "        \"train_num_samples\": 200,\n",
    "        \"val_num_samples\": 8,\n",
    "        \"test_num_samples\": 1,\n",
    "\n",
    "        # \"patch\": 512,\n",
    "        # \"stride\": 512,\n",
    "        \"resize_square\": 256,\n",
    "        \"min_sigma\": 0.1,\n",
    "        \"max_sigma\": 0.5,\n",
    "        \"batch_size\": 1,\n",
    "        \"random_seed\": 42,\n",
    "\n",
    "        \"architecture\": \"UNET-PDHG\",\n",
    "        \"in_channels\": 1,\n",
    "        \"out_channels\": 2,\n",
    "        \"init_filters\": 32,\n",
    "        \"n_blocks\": 3,\n",
    "        \"activation\": \"LeakyReLU\",\n",
    "        \"downsampling_kernel\": (2, 2, 1),\n",
    "        \"downsampling_mode\": \"max\",\n",
    "        \"upsampling_kernel\": (2, 2, 1),\n",
    "        \"upsampling_mode\": \"linear_interpolation\",\n",
    "\n",
    "        \"optimizer\": \"Adam\",\n",
    "        \"learning_rate\": 1e-4,\n",
    "        \"loss_function\": \"MSELoss\",\n",
    "\n",
    "        # \"up_bound\": 0.5,\n",
    "        \"up_bound\": 0,\n",
    "        \"T\": 64,\n",
    "\n",
    "        \"epochs\": 10_000,\n",
    "        \"device\": \"cuda:0\",\n",
    "\n",
    "        \"wandb_mode\": \"online\",\n",
    "        \"save_epoch_wandb\": 10,\n",
    "        \"save_epoch_local\": 2,\n",
    "        \"save_dir\": \"tmp_2\",\n",
    "    }\n",
    "\n",
    "print(get_config())"
   ]
  },
  {
   "cell_type": "markdown",
   "metadata": {},
   "source": [
    "------\n",
    "\n",
    "### Import the image and transform the data"
   ]
  },
  {
   "cell_type": "markdown",
   "metadata": {},
   "source": [
    "#### Download the data"
   ]
  },
  {
   "cell_type": "code",
   "execution_count": 10,
   "metadata": {},
   "outputs": [],
   "source": [
    "# # REMEMBER TO COMMENT THIS OUT IF THE DATA HAS BEEN DOWNLOADED!\n",
    "# !wget https://competitions.codalab.org/my/datasets/download/a26784fe-cf33-48c2-b61f-94b299dbc0f2\n",
    "# !unzip \"a26784fe-cf33-48c2-b61f-94b299dbc0f2\" -d ."
   ]
  },
  {
   "cell_type": "markdown",
   "metadata": {},
   "source": [
    "#### Load SIDD images"
   ]
  },
  {
   "cell_type": "code",
   "execution_count": 11,
   "metadata": {},
   "outputs": [],
   "source": [
    "def get_npy_file(sample_path: str, scale_factor: float) -> np.ndarray:\t\t\t\n",
    "    scale_factor_str = str(scale_factor).replace('.','_')\n",
    "    xf = np.load(os.path.join(sample_path, f\"xf_scale_factor{scale_factor_str}.npy\"))\n",
    "    xf = torch.tensor(xf, dtype=torch.float)\n",
    "    xf = xf.unsqueeze(0) / 255\n",
    "    return xf"
   ]
  },
  {
   "cell_type": "code",
   "execution_count": 12,
   "metadata": {},
   "outputs": [],
   "source": [
    "# TODO: CHANGE THIS TO YOUR PATH\n",
    "# NOTE: Windows uses \\\\ instead of /\n",
    "def load_images_SIDD(ids: list, take_npy_files: bool) -> list:\n",
    "    data_path = SIDD_DATA_PATH\n",
    "    k = 0\n",
    "\n",
    "    images = []\n",
    "\n",
    "    for folder in os.listdir(data_path):\n",
    "        img_id = folder[:4]\t# The first 4 characters of folder name is the image id (0001, 0002, ..., 0200)\n",
    "        if img_id not in ids:\n",
    "            continue\n",
    "        k += 1\n",
    "        print(f'loading image id {img_id}, {k}/{len(ids)}')\n",
    "\n",
    "        files_path = os.path.join(data_path, folder)\n",
    "\n",
    "        # if take_npy_files:\n",
    "        #     xf = get_npy_file(files_path, scale_factor)\n",
    "        #     images.append(xf)\n",
    "        #     continue\n",
    "\n",
    "        # Use only the ground truth images\n",
    "        file = \"GT_SRGB_010.PNG\"  # GT = Ground Truth\n",
    "\n",
    "        image = Image.open(os.path.join(files_path, file))\n",
    "        assert image.mode == 'RGB', f\"Image mode is not RGB: {image.mode}\" # For now, expect RGB images\n",
    "\n",
    "        images.append(image)\n",
    "\n",
    "    return images"
   ]
  },
  {
   "cell_type": "code",
   "execution_count": 13,
   "metadata": {},
   "outputs": [],
   "source": [
    "def test_load_images_SIDD():\n",
    "    if DISABLING_TESTS: return\n",
    "    for img in load_images_SIDD([\"0065\"], False):\n",
    "        print(img.size)\n",
    "        plt.imshow(img)\n",
    "\n",
    "test_load_images_SIDD()"
   ]
  },
  {
   "cell_type": "markdown",
   "metadata": {},
   "source": [
    "#### Load Chest X-ray images"
   ]
  },
  {
   "cell_type": "code",
   "execution_count": 14,
   "metadata": {},
   "outputs": [],
   "source": [
    "# TODO: CHANGE THIS TO YOUR PATH\n",
    "# NOTE: Windows uses \\\\ instead of /\n",
    "def load_images_chest_xray(data_path: str, ids: list) -> list:\n",
    "    files = os.listdir(data_path)\n",
    "    jpeg_files = [f for f in files if f.endswith(\".jpeg\")]\n",
    "\n",
    "    images = []\n",
    "    for id in tqdm(ids):\n",
    "        if id >= len(jpeg_files): continue\n",
    "        # print(f\"Loading image {id} from {data_path}\")\n",
    "        image = Image.open(os.path.join(data_path, jpeg_files[id]))\n",
    "        images.append(image)\n",
    "    \n",
    "    return images"
   ]
  },
  {
   "cell_type": "code",
   "execution_count": 15,
   "metadata": {},
   "outputs": [],
   "source": [
    "def test_load_images_chest_xray(stage=\"train\", label=\"NORMAL\"):\n",
    "    if DISABLING_TESTS: return\n",
    "    for img in load_images_chest_xray(f\"{CHEST_XRAY_BASE_DATA_PATH}/{stage}/{label}\", [0]):\n",
    "        print(img.size)\n",
    "        plt.imshow(img, cmap='gray')\n",
    "    plt.show();\n",
    "\n",
    "test_load_images_chest_xray()"
   ]
  },
  {
   "cell_type": "markdown",
   "metadata": {},
   "source": [
    "------\n",
    "\n",
    "#### Convert image to grayscale"
   ]
  },
  {
   "cell_type": "code",
   "execution_count": 16,
   "metadata": {},
   "outputs": [],
   "source": [
    "def convert_to_grayscale(image: Image) -> Image:\n",
    "    return image.convert('L')"
   ]
  },
  {
   "cell_type": "code",
   "execution_count": 17,
   "metadata": {},
   "outputs": [],
   "source": [
    "def test_convert_to_grayscale():\n",
    "    if DISABLING_TESTS: return\n",
    "    # for img in load_images_SIDD([\"0065\"], False):\n",
    "    for img in load_images_chest_xray(f\"{CHEST_XRAY_BASE_DATA_PATH}/train/NORMAL\", [0]):\n",
    "        img = convert_to_grayscale(img)\n",
    "        plt.imshow(img, cmap='gray') # cmap='gray' for proper display in black and white. It does not convert the image to grayscale.\n",
    "\n",
    "test_convert_to_grayscale()"
   ]
  },
  {
   "cell_type": "markdown",
   "metadata": {},
   "source": [
    "#### Transform image"
   ]
  },
  {
   "cell_type": "code",
   "execution_count": 18,
   "metadata": {},
   "outputs": [],
   "source": [
    "def crop_to_square(image: Image) -> Image:\n",
    "    width, height = image.size\n",
    "    new_size = min(width, height)\n",
    "    left = (width - new_size) / 2\n",
    "    top = (height - new_size) / 2\n",
    "    right = (width + new_size) / 2\n",
    "    bottom = (height + new_size) / 2\n",
    "    return image.crop((left, top, right, bottom))"
   ]
  },
  {
   "cell_type": "code",
   "execution_count": 19,
   "metadata": {},
   "outputs": [],
   "source": [
    "def test_crop_to_square():\n",
    "    if DISABLING_TESTS: return\n",
    "    # for img in load_images_SIDD([\"0083\"], False):\n",
    "    for img in load_images_chest_xray(f\"{CHEST_XRAY_BASE_DATA_PATH}/train/NORMAL\", [0]):\n",
    "        plt.imshow(img, cmap='gray')\n",
    "        plt.show();\n",
    "        img = crop_to_square(img)\n",
    "        plt.imshow(img, cmap='gray')\n",
    "        plt.show();\n",
    "\n",
    "test_crop_to_square()"
   ]
  },
  {
   "cell_type": "code",
   "execution_count": 20,
   "metadata": {},
   "outputs": [],
   "source": [
    "def crop_to_square_and_resize(image: Image, side_len: int) -> Image:\n",
    "    image = crop_to_square(image)\n",
    "    return image.resize(size=(side_len, side_len))"
   ]
  },
  {
   "cell_type": "code",
   "execution_count": 21,
   "metadata": {},
   "outputs": [],
   "source": [
    "def test_crop_to_square_and_resize():\n",
    "    if DISABLING_TESTS: return\n",
    "    # for img in load_images_SIDD([\"0083\"], False):\n",
    "    for img in load_images_chest_xray(f\"{CHEST_XRAY_BASE_DATA_PATH}/train/NORMAL\", [0]):\n",
    "        plt.imshow(img, cmap='gray')\n",
    "        plt.show();\n",
    "        img = crop_to_square_and_resize(img, 120)\n",
    "        print(img.size)\n",
    "        plt.imshow(img, cmap='gray') # cmap='gray' for proper display in black and white. It does not convert the image to grayscale.\n",
    "        plt.show();\n",
    "\n",
    "test_crop_to_square_and_resize()"
   ]
  },
  {
   "cell_type": "markdown",
   "metadata": {},
   "source": [
    "#### Convert to numpy array"
   ]
  },
  {
   "cell_type": "code",
   "execution_count": 22,
   "metadata": {},
   "outputs": [],
   "source": [
    "def convert_to_numpy(image):\n",
    "    image_data = np.asarray(image)\n",
    "    return image_data"
   ]
  },
  {
   "cell_type": "code",
   "execution_count": 23,
   "metadata": {},
   "outputs": [],
   "source": [
    "def test_convert_to_numpy():\n",
    "    if DISABLING_TESTS: return\n",
    "    # for img in load_images_SIDD([\"0083\"], False):\n",
    "    for img in load_images_chest_xray(f\"{CHEST_XRAY_BASE_DATA_PATH}/train/NORMAL\", [0]):\n",
    "        img = convert_to_grayscale(img)\n",
    "        print(f\"Before conversion: {type(img)}\")\n",
    "        image_data = convert_to_numpy(img)\n",
    "        print(f\"After conversion: {type(image_data)}\")\n",
    "        # plt.imshow still works with numpy array\n",
    "        plt.imshow(image_data, cmap='gray')\n",
    "\n",
    "test_convert_to_numpy()"
   ]
  },
  {
   "cell_type": "markdown",
   "metadata": {},
   "source": [
    "#### Convert to tensor\n",
    "\n",
    "For efficient computation on GPU"
   ]
  },
  {
   "cell_type": "code",
   "execution_count": 24,
   "metadata": {},
   "outputs": [],
   "source": [
    "def convert_to_tensor_4D(image_numpy):\n",
    "    # xf = []\n",
    "    # xf.append(image_numpy)\n",
    "    # xf = np.stack(xf, axis=-1)\n",
    "    # xf = torch.tensor(xf, dtype=torch.float)\n",
    "    xf = torch.tensor(image_numpy, dtype=torch.float)\n",
    "    xf = xf.unsqueeze(0)\n",
    "    xf = xf.unsqueeze(-1)\n",
    "    xf = xf / 255 # Normalise from [0, 255] to [0, 1]\n",
    "    return xf"
   ]
  },
  {
   "cell_type": "code",
   "execution_count": 25,
   "metadata": {},
   "outputs": [],
   "source": [
    "def test_convert_to_tensor():\n",
    "    if DISABLING_TESTS: return\n",
    "    # for image in load_images_SIDD([\"0083\"], False):\n",
    "    for image in load_images_chest_xray(f\"{CHEST_XRAY_BASE_DATA_PATH}/train/NORMAL\", [0]):\n",
    "        image = convert_to_grayscale(image)\n",
    "        image_numpy = convert_to_numpy(image)\n",
    "        image_tensor_4D = convert_to_tensor_4D(image_numpy)\n",
    "        print(image_tensor_4D.size())\n",
    "        plt.imshow(image_tensor_4D.squeeze(0).to(\"cpu\"), cmap='gray')\n",
    "\n",
    "\n",
    "test_convert_to_tensor()"
   ]
  },
  {
   "cell_type": "markdown",
   "metadata": {},
   "source": [
    "#### Add synthetic noise\n",
    "\n",
    "<!-- artificial Gaussian noise\n",
    "\n",
    "Noise can occur in reality.\n",
    "\n",
    "It is difficult to obtain a pair of clean and noisy images of one exact same scene.\n",
    "\n",
    "For training, it is common to add synthetic noise to an image that is considered clean and then try to reconstruct it.\n",
    "\n",
    "There are many types of noise and different ways to add noise. We can add salt-and-pepper noise. (?)We can add more noise in some parts and less in others. We can use a combination of noise-adding strategies to build more robust models.\n",
    "\n",
    "For our purpose, we will focus on Gaussian noise. This is sufficient for most cases. \n",
    "\n",
    "(?) We will add noise with the same probability for each pixel (not using the strategies of focusing on certain regions) -->"
   ]
  },
  {
   "cell_type": "code",
   "execution_count": 26,
   "metadata": {},
   "outputs": [],
   "source": [
    "def get_variable_noise(sigma_min, sigma_max):\n",
    "    return sigma_min + torch.rand(1) * (sigma_max - sigma_min)\n",
    "\n",
    "def add_noise(xf: torch.tensor, sigma) -> torch.tensor:\n",
    "    std = torch.std(xf)\n",
    "    mu = torch.mean(xf)\n",
    "\n",
    "    x_centred = (xf  - mu) / std\n",
    "\n",
    "    x_centred += sigma * torch.randn(xf.shape, dtype = xf.dtype)\n",
    "\n",
    "    xnoise = std * x_centred + mu\n",
    "\n",
    "    del std, mu, x_centred\n",
    "\n",
    "    return xnoise"
   ]
  },
  {
   "cell_type": "code",
   "execution_count": 27,
   "metadata": {},
   "outputs": [],
   "source": [
    "def test_add_noise():\n",
    "    if DISABLING_TESTS: return\n",
    "    # for rgb_image in load_images_SIDD([\"0083\"], False):\n",
    "    for rgb_image in load_images_chest_xray(f\"{CHEST_XRAY_BASE_DATA_PATH}/train/NORMAL\", [0]):\n",
    "        grayscale_image = convert_to_grayscale(rgb_image)\n",
    "        grayscale_image = crop_to_square_and_resize(grayscale_image, 120)\n",
    "        print(f\"grayscale_image.size: {grayscale_image.size}\")\n",
    "        image_numpy = convert_to_numpy(grayscale_image)\n",
    "        image_tensor_4D = convert_to_tensor_4D(image_numpy)\n",
    "        constant_noise_img = add_noise(image_tensor_4D, sigma=0.1)\n",
    "        variable_noise_img = add_noise(image_tensor_4D, get_variable_noise(\n",
    "            sigma_min=0.1, sigma_max=0.2))\n",
    "        plt.imshow(grayscale_image, cmap='gray')\n",
    "        plt.show();\n",
    "        plt.imshow(constant_noise_img.squeeze(0).to(\"cpu\"), cmap='gray')\n",
    "        plt.show();\n",
    "        plt.imshow(variable_noise_img.squeeze(0).to(\"cpu\"), cmap='gray')\n",
    "        plt.show();\n",
    "\n",
    "    with torch.no_grad():\n",
    "        torch.cuda.empty_cache()\n",
    "        \n",
    "test_add_noise()"
   ]
  },
  {
   "cell_type": "markdown",
   "metadata": {},
   "source": [
    "------\n",
    "\n",
    "### Calculate PSNR\n",
    "\n",
    "PSNR is a common metrics for noisy image.\n",
    "\n",
    "Compare before and after adding synthetic noise"
   ]
  },
  {
   "cell_type": "code",
   "execution_count": 28,
   "metadata": {},
   "outputs": [],
   "source": [
    "def PSNR(original, compressed): \n",
    "    mse = torch.mean((original - compressed) ** 2) \n",
    "    if(mse == 0): # MSE is zero means no noise is present in the signal. \n",
    "                  # Therefore PSNR have no importance. \n",
    "        return 100\n",
    "    # max_pixel = 255.0\n",
    "    max_pixel = 1.0\n",
    "    psnr = 20 * torch.log10(max_pixel / torch.sqrt(mse)) \n",
    "\n",
    "    del mse\n",
    "\n",
    "    return psnr"
   ]
  },
  {
   "cell_type": "code",
   "execution_count": 29,
   "metadata": {},
   "outputs": [],
   "source": [
    "def test_PSNR():\n",
    "    if DISABLING_TESTS: return\n",
    "    # for rgb_image in load_images_SIDD([\"0083\"], False):\n",
    "    for rgb_image in load_images_chest_xray(f\"{CHEST_XRAY_BASE_DATA_PATH}/train/NORMAL\", [0]):\n",
    "        grayscale_image = convert_to_grayscale(rgb_image)\n",
    "        grayscale_image = crop_to_square_and_resize(grayscale_image, 120)\n",
    "        image_numpy = convert_to_numpy(grayscale_image)\n",
    "        image_tensor_4D = convert_to_tensor_4D(image_numpy)\n",
    "\n",
    "        print(f\"PSNR of original image: {PSNR(image_tensor_4D, image_tensor_4D)} dB\")\n",
    "        plt.imshow(image_tensor_4D.squeeze(0).to(\"cpu\"), cmap='gray')\n",
    "        plt.show();\n",
    "\n",
    "        noisy_image_tensor_4D = add_noise(image_tensor_4D, sigma=0.5)\n",
    "        print(f\"PSNR of constant noise image: {PSNR(noisy_image_tensor_4D, image_tensor_4D):.2f} dB\")\n",
    "        plt.imshow(noisy_image_tensor_4D.squeeze(0).to(\"cpu\"), cmap='gray')\n",
    "        plt.show();\n",
    "\n",
    "\n",
    "test_PSNR()"
   ]
  },
  {
   "cell_type": "markdown",
   "metadata": {},
   "source": [
    "---\n",
    "\n",
    "### Calculate SSIM"
   ]
  },
  {
   "cell_type": "code",
   "execution_count": 30,
   "metadata": {},
   "outputs": [],
   "source": [
    "def SSIM(tensor_2D_a: torch.Tensor, tensor_2D_b: torch.Tensor, data_range: float=1) -> float:\n",
    "    return structural_similarity(\n",
    "        tensor_2D_a.to(\"cpu\").detach().numpy(), \n",
    "        tensor_2D_b.to(\"cpu\").detach().numpy(),\n",
    "        data_range=data_range)"
   ]
  },
  {
   "cell_type": "code",
   "execution_count": 31,
   "metadata": {},
   "outputs": [],
   "source": [
    "def test_SSIM(sigma=0.5):\n",
    "    if DISABLING_TESTS: return\n",
    "    # for rgb_image in load_images_SIDD([\"0083\"], False):\n",
    "    for rgb_image in load_images_chest_xray(f\"{CHEST_XRAY_BASE_DATA_PATH}/train/NORMAL\", [0]):\n",
    "        grayscale_image = convert_to_grayscale(rgb_image)\n",
    "        grayscale_image = crop_to_square_and_resize(grayscale_image, 120)\n",
    "        image_numpy = convert_to_numpy(grayscale_image)\n",
    "        image_tensor_4D = convert_to_tensor_4D(image_numpy)\n",
    "\n",
    "        image_tensor_2D = image_tensor_4D.squeeze(0).squeeze(-1)\n",
    "        print(f\"image_tensor_2D: {image_tensor_2D.size()}\")\n",
    "        print(f\"SSIM of original image: {SSIM(image_tensor_2D, image_tensor_2D)}\")\n",
    "        plt.imshow(image_tensor_2D.cpu(), cmap='gray')\n",
    "        plt.show();\n",
    "\n",
    "        noisy_image_tensor_2D = add_noise(image_tensor_2D, sigma=sigma)\n",
    "        print(f\"noisy_image_tensor_2D: {noisy_image_tensor_2D.size()}\")\n",
    "        print(f\"SSIM of noisy image (sigma={sigma}): {SSIM(noisy_image_tensor_2D, image_tensor_2D):.2f}\")\n",
    "        plt.imshow(noisy_image_tensor_2D.cpu(), cmap='gray')\n",
    "        plt.show();\n",
    "\n",
    "    with torch.no_grad():\n",
    "        torch.cuda.empty_cache()\n",
    "\n",
    "test_SSIM()"
   ]
  },
  {
   "cell_type": "markdown",
   "metadata": {},
   "source": [
    "------\n",
    "\n",
    "### Reconstruct an image with PDHG"
   ]
  },
  {
   "cell_type": "markdown",
   "metadata": {},
   "source": [
    "#### Calculate the gradient\n",
    "\n",
    "<!-- The gradient is a Laplacian ?\n",
    "\n",
    "There are $x$ gradient and $y$ gradient -->"
   ]
  },
  {
   "cell_type": "code",
   "execution_count": 32,
   "metadata": {},
   "outputs": [],
   "source": [
    "# Code taken from https://www.github.com/koflera/LearningRegularizationParameterMaps\n",
    "\n",
    "class GradOperators(torch.nn.Module):\n",
    "    @staticmethod\n",
    "    def diff_kernel(ndim, mode):\n",
    "        if mode == \"doublecentral\":\n",
    "            kern = torch.tensor((-1, 0, 1))\n",
    "        elif mode == \"central\":\n",
    "            kern = torch.tensor((-1, 0, 1)) / 2\n",
    "        elif mode == \"forward\":\n",
    "            kern = torch.tensor((0, -1, 1))\n",
    "        elif mode == \"backward\":\n",
    "            kern = torch.tensor((-1, 1, 0))\n",
    "        else:\n",
    "            raise ValueError(f\"mode should be one of (central, forward, backward, doublecentral), not {mode}\")\n",
    "        kernel = torch.zeros(ndim, 1, *(ndim * (3,)))\n",
    "        for i in range(ndim):\n",
    "            idx = tuple([i, 0, *(i * (1,)), slice(None), *((ndim - i - 1) * (1,))])\n",
    "            kernel[idx] = kern\n",
    "        return kernel\n",
    "\n",
    "    def __init__(self, dim:int=2, mode:str=\"doublecentral\", padmode:str = \"circular\"):\n",
    "        \"\"\"\n",
    "        An Operator for finite Differences / Gradients\n",
    "        Implements the forward as apply_G and the adjoint as apply_GH.\n",
    "        \n",
    "        Args:\n",
    "            dim (int, optional): Dimension. Defaults to 2.\n",
    "            mode (str, optional): one of doublecentral, central, forward or backward. Defaults to \"doublecentral\".\n",
    "            padmode (str, optional): one of constant, replicate, circular or refelct. Defaults to \"circular\".\n",
    "        \"\"\"\n",
    "        super().__init__()\n",
    "        self.register_buffer(\"kernel\", self.diff_kernel(dim, mode), persistent=False)\n",
    "        self._dim = dim\n",
    "        self._conv = (torch.nn.functional.conv1d, torch.nn.functional.conv2d, torch.nn.functional.conv3d)[dim - 1]\n",
    "        self._convT = (torch.nn.functional.conv_transpose1d, torch.nn.functional.conv_transpose2d, torch.nn.functional.conv_transpose3d)[dim - 1]\n",
    "        self._pad = partial(torch.nn.functional.pad, pad=2 * dim * (1,), mode=padmode)\n",
    "        if mode == 'central':\n",
    "            self._norm = (self.dim) ** (1 / 2)\n",
    "        else:\n",
    "            self._norm = (self.dim * 4) ** (1 / 2)\n",
    "\n",
    "    @property\n",
    "    def dim(self):\n",
    "        return self._dim\n",
    "    \n",
    "    def apply_G(self, x):\n",
    "        \"\"\"\n",
    "        Forward\n",
    "        \"\"\"\n",
    "        if x.is_complex():\n",
    "            xr = torch.view_as_real(x).moveaxis(-1, 0)\n",
    "        else:\n",
    "            xr = x\n",
    "        xr = xr.reshape(-1, 1, *x.shape[-self.dim :])\n",
    "        xp = self._pad(xr)\n",
    "        y = self._conv(xp, weight=self.kernel, bias=None, padding=0)\n",
    "        if x.is_complex():\n",
    "            y = y.reshape(2, *x.shape[: -self.dim], self.dim, *x.shape[-self.dim :])\n",
    "            y = torch.view_as_complex(y.moveaxis(0, -1).contiguous())\n",
    "        else:\n",
    "            y = y.reshape(*x.shape[0 : -self.dim], self.dim, *x.shape[-self.dim :])\n",
    "\n",
    "        del x, xr, xp\n",
    "\n",
    "        return y\n",
    "\n",
    "    def apply_GH(self, x):\n",
    "        \"\"\"\n",
    "        Adjoint\n",
    "        \"\"\"\n",
    "        if x.is_complex():\n",
    "            xr = torch.view_as_real(x).moveaxis(-1, 0)\n",
    "        else:\n",
    "            xr = x\n",
    "        xr = xr.reshape(-1, self.dim, *x.shape[-self.dim :])\n",
    "        xp = self._pad(xr)\n",
    "        y = self._convT(xp, weight=self.kernel, bias=None, padding=2)\n",
    "        if x.is_complex():\n",
    "            y = y.reshape(2, *x.shape[: -self.dim - 1], *x.shape[-self.dim :])\n",
    "            y = torch.view_as_complex(y.moveaxis(0, -1).contiguous())\n",
    "        else:\n",
    "            y = y.reshape(*x.shape[: -self.dim - 1], *x.shape[-self.dim :])\n",
    "\n",
    "        del x, xr, xp\n",
    "\n",
    "        return y\n",
    "    \n",
    "    def apply_GHG(self, x):\n",
    "        if x.is_complex():\n",
    "            xr = torch.view_as_real(x).moveaxis(-1, 0)\n",
    "        else:\n",
    "            xr = x\n",
    "        xr = xr.reshape(-1, 1, *x.shape[-self.dim :])\n",
    "        xp = self._pad(xr)\n",
    "        tmp = self._conv(xp, weight=self.kernel, bias=None, padding=0)\n",
    "        tmp = self._pad(tmp)\n",
    "        y = self._convT(tmp, weight=self.kernel, bias=None, padding=2)\n",
    "        if x.is_complex():\n",
    "            y = y.reshape(2, *x.shape)\n",
    "            y = torch.view_as_complex(y.moveaxis(0, -1).contiguous())\n",
    "        else:\n",
    "            y = y.reshape(*x.shape)\n",
    "\n",
    "        del x, xr, xp, tmp\n",
    "\n",
    "        return y\n",
    "\n",
    "    def forward(self, x, direction=1):\n",
    "        if direction>0:\n",
    "            return self.apply_G(x)\n",
    "        elif direction<0:\n",
    "            return self.apply_GH(x)\n",
    "        else:\n",
    "            return self.apply_GHG(x)\n",
    "\n",
    "    @property\n",
    "    def normGHG(self):\n",
    "        return self._norm"
   ]
  },
  {
   "cell_type": "markdown",
   "metadata": {},
   "source": [
    "#### Helper function for PDHG: Clip act"
   ]
  },
  {
   "cell_type": "code",
   "execution_count": 33,
   "metadata": {},
   "outputs": [],
   "source": [
    "# Code taken from https://www.github.com/koflera/LearningRegularizationParameterMaps\n",
    "\n",
    "class ClipAct(nn.Module):\n",
    "    def forward(self, x, threshold):\n",
    "        return clipact(x, threshold)\n",
    "\n",
    "\n",
    "def clipact(x, threshold):\n",
    "    is_complex = x.is_complex()\n",
    "    if is_complex:\n",
    "        x = torch.view_as_real(x)\n",
    "        threshold = threshold.unsqueeze(-1)\n",
    "    x = torch.clamp(x, -threshold, threshold)\n",
    "    if is_complex:\n",
    "        x = torch.view_as_complex(x)\n",
    "    return x"
   ]
  },
  {
   "cell_type": "markdown",
   "metadata": {},
   "source": [
    "#### Only PDHG"
   ]
  },
  {
   "cell_type": "markdown",
   "metadata": {},
   "source": [
    "For some reason, running PDHG with T large (many iterations in PDGH) will make GPU memory full?"
   ]
  },
  {
   "cell_type": "code",
   "execution_count": 34,
   "metadata": {},
   "outputs": [],
   "source": [
    "# Code taken from https://www.github.com/koflera/LearningRegularizationParameterMaps\n",
    "\n",
    "def reconstruct_with_PDHG(\n",
    "        x_dynamic_image_tensor_5D, lambda_reg, T, \n",
    "        # lambda_reg_container=None,\n",
    "):\n",
    "    \"\"\"\n",
    "    Reconstructs the image using the PDHG algorithm.\n",
    "\n",
    "    Parameters:\n",
    "        dynamic_image_tensor_5D: The (noisy) (dynamic) image tensor.\n",
    "        Size of the tensor: (`patches`, `channels`, `Nx`, `Ny`, `Nt`) where\n",
    "        \n",
    "        - `patches`: number of patches\n",
    "        - `channels`: number of (colour) channels\n",
    "        - `Nx`: number of pixels in x\n",
    "        - `Ny`: number of pixels in y\n",
    "        - `Nt`: number of time steps (frames)\n",
    "\n",
    "        lambda_reg: The regularization parameter. Can be a scalar or a tensor of suitable size.\n",
    "        T: Number of iterations.\n",
    "\n",
    "    Returns:\n",
    "        The reconstructed image tensor.\n",
    "    \"\"\"\n",
    "\n",
    "    dim = 3\n",
    "    patches, channels, Nx, Ny, Nt = x_dynamic_image_tensor_5D.shape\n",
    "    \n",
    "    assert channels == 1, \"Only grayscale images are supported.\"\n",
    "\n",
    "    device = x_dynamic_image_tensor_5D.device\n",
    "\n",
    "    # starting values\n",
    "    xbar = x_dynamic_image_tensor_5D.clone()\n",
    "    x0 = x_dynamic_image_tensor_5D.clone()\n",
    "    xnoisy = x_dynamic_image_tensor_5D.clone()\n",
    "\n",
    "    # dual variable\n",
    "    p = x_dynamic_image_tensor_5D.clone()\n",
    "    q = torch.zeros(patches, dim, Nx, Ny, Nt, dtype=x_dynamic_image_tensor_5D.dtype).to(device)\n",
    "\n",
    "    # operator norms\n",
    "    op_norm_AHA = torch.sqrt(torch.tensor(1.0))\n",
    "    op_norm_GHG = torch.sqrt(torch.tensor(12.0))\n",
    "    # operator norm of K = [A, \\nabla]\n",
    "    # https://iopscience.iop.org/article/10.1088/0031-9155/57/10/3065/pdf,\n",
    "    # see page 3083\n",
    "    L = torch.sqrt(op_norm_AHA**2 + op_norm_GHG**2)\n",
    "\n",
    "    tau = nn.Parameter(\n",
    "        torch.tensor(10.0), requires_grad=True\n",
    "    )  # starting value approximately  1/L\n",
    "    sigma = nn.Parameter(\n",
    "        torch.tensor(10.0), requires_grad=True\n",
    "    )  # starting value approximately  1/L\n",
    "\n",
    "    # theta should be in \\in [0,1]\n",
    "    theta = nn.Parameter(\n",
    "        torch.tensor(10.0), requires_grad=True\n",
    "    )  # starting value approximately  1\n",
    "\n",
    "    # sigma, tau, theta\n",
    "    sigma = (1 / L) * torch.sigmoid(sigma)  # \\in (0,1/L)\n",
    "    tau = (1 / L) * torch.sigmoid(tau)  # \\in (0,1/L)\n",
    "    theta = torch.sigmoid(theta)  # \\in (0,1)\n",
    "\n",
    "    GradOps = GradOperators(\n",
    "        dim=dim, \n",
    "        mode=\"forward\", padmode=\"circular\")\n",
    "    clip_act = ClipAct()\n",
    "    # Algorithm 2 - Unrolled PDHG algorithm (page 18)\n",
    "    # TODO: In the paper, L is one of the inputs but not used anywhere in the pseudo code???\n",
    "    for kT in range(T):\n",
    "        # update p\n",
    "        p =  (p + sigma * (xbar - xnoisy) ) / (1. + sigma)\n",
    "        # update q\n",
    "        q = clip_act(q + sigma * GradOps.apply_G(xbar), lambda_reg)\n",
    "\n",
    "        x1 = x0 - tau * p - tau * GradOps.apply_GH(q)\n",
    "\n",
    "        if kT != T - 1:\n",
    "            # update xbar\n",
    "            xbar = x1 + theta * (x1 - x0)\n",
    "            x0 = x1\n",
    "        with torch.no_grad():\n",
    "            torch.cuda.empty_cache()\n",
    "\n",
    "    del x_dynamic_image_tensor_5D\n",
    "    del xbar, x0, xnoisy\n",
    "    del p, q\n",
    "    del op_norm_AHA, op_norm_GHG, L\n",
    "    del tau, sigma, theta\n",
    "    del GradOps\n",
    "    del clip_act\n",
    "\n",
    "    with torch.no_grad():\n",
    "        torch.cuda.empty_cache()\n",
    "\n",
    "    # if lambda_reg_container is not None:\n",
    "    #     assert isinstance(lambda_reg_container, list), f\"lambda_reg_container should be a list, not {type(lambda_reg_container)}\"\n",
    "    #     lambda_reg_container.append(lambda_reg) # For comparison\n",
    "\n",
    "    return x1"
   ]
  },
  {
   "cell_type": "code",
   "execution_count": 35,
   "metadata": {},
   "outputs": [],
   "source": [
    "def test_reconstruct_with_PDHG():\n",
    "    if DISABLING_TESTS: return\n",
    "    # for rgb_image in load_images_SIDD([\"0083\"], False):\n",
    "    for rgb_image in load_images_chest_xray(f\"{CHEST_XRAY_BASE_DATA_PATH}/train/NORMAL\", [0]):\n",
    "        grayscale_image = convert_to_grayscale(rgb_image)\n",
    "        grayscale_image = crop_to_square_and_resize(grayscale_image, 512)\n",
    "        image_numpy = convert_to_numpy(grayscale_image)\n",
    "\n",
    "        image_tensor_4D = convert_to_tensor_4D(image_numpy)\n",
    "        print(f\"Image tensor size: {image_tensor_4D.size()}\")\n",
    "        assert len(image_tensor_4D.size()) == 4, \"The image should be 4D\"\n",
    "        plt.imshow(image_tensor_4D.squeeze(0).to(\"cpu\"), cmap='gray')\n",
    "        plt.show();\n",
    "\n",
    "        TEST_SIGMA = 0.5  # Relatively high noise\n",
    "        noisy_image_tensor_4D = add_noise(image_tensor_4D, sigma=TEST_SIGMA)\n",
    "        print(f\"PSNR of constant noise image: {PSNR(image_tensor_4D, noisy_image_tensor_4D):.2f} dB\")\n",
    "        print(f\"SSIM of constant noise image: {SSIM(image_tensor_4D.squeeze(0).squeeze(-1), noisy_image_tensor_4D.squeeze(0).squeeze(-1)):.2f}\")\n",
    "        plt.imshow(noisy_image_tensor_4D.squeeze(0).to(\"cpu\"), cmap='gray')\n",
    "        plt.show();\n",
    "\n",
    "        TEST_LAMBDA = 0.04\n",
    "        pdhg_input_tensor_5D = noisy_image_tensor_4D.unsqueeze(0)\n",
    "        print(f\"PDHG input size: {pdhg_input_tensor_5D.size()}\")\n",
    "        assert len(pdhg_input_tensor_5D.size()) == 5, \"The input for PDHG should be 5D\"\n",
    "        denoised_image_tensor_5D = reconstruct_with_PDHG(\n",
    "            pdhg_input_tensor_5D, \n",
    "            lambda_reg=TEST_LAMBDA, \n",
    "            T=128)\n",
    "        \n",
    "        denoised_image_tensor_5D = torch.clamp(denoised_image_tensor_5D, 0, 1) # Clip the values to 0 and 1\n",
    "        psnr_value_denoised = PSNR(image_tensor_4D, denoised_image_tensor_5D.squeeze(0))\n",
    "        print(f\"PSNR of reconstructed image: {psnr_value_denoised:.2f} dB\")\n",
    "        denoised_image_numpy_3D = denoised_image_tensor_5D.squeeze(0).squeeze(0).to(\"cpu\").detach().numpy()\n",
    "        plt.imshow(denoised_image_numpy_3D, cmap='gray')\n",
    "        plt.show();\n",
    "\n",
    "    with torch.no_grad():\n",
    "        torch.cuda.empty_cache()\n",
    "\n",
    "    print(\"\"\"\n",
    "In this example, a lot of noise has been applied to the original image. The PDHG algorithm tries to reconstruct the image from the noisy image. It did remove some noise and improved the PSNR value. However, the quality has been degraded significantly. We will see whether we can improve this by learning a set of parameters map.\n",
    "\"\"\")\n",
    "    \n",
    "    # The lambda parameter is the regularization parameter. The higher the lambda, the more the regularization. The T parameter is the number of iterations. The higher the T, the more the iterations. The PSNR value is the Peak Signal to Noise Ratio. The higher the PSNR, the better the reconstruction.\n",
    "\n",
    "test_reconstruct_with_PDHG()"
   ]
  },
  {
   "cell_type": "markdown",
   "metadata": {},
   "source": [
    "------\n",
    "\n",
    "### Full Architecture\n",
    "\n",
    "<!-- UNET to PDHG\n",
    "\n",
    "The whole architecture can be seen as unsupervised: The data only contains (clean) images.\n",
    "\n",
    "The whole model: Input is an image. Output is also an image.\n",
    "\n",
    "The UNET actually only outputs the regularisation parameter map. -->"
   ]
  },
  {
   "cell_type": "code",
   "execution_count": 36,
   "metadata": {},
   "outputs": [],
   "source": [
    "# Code taken from https://www.github.com/koflera/LearningRegularizationParameterMaps\n",
    "\n",
    "class DynamicImageStaticPrimalDualNN(nn.Module):\n",
    "    def __init__(\n",
    "        self,\n",
    "        T=128,\n",
    "        cnn_block=None,\n",
    "        mode=\"lambda_cnn\",\n",
    "        up_bound=0,\n",
    "        phase=\"training\",\n",
    "    ):\n",
    "        # print(f\"Running: {DynamicImageStaticPrimalDualNN.__name__}\")\n",
    "        super(DynamicImageStaticPrimalDualNN, self).__init__()\n",
    "\n",
    "        # gradient operators and clipping function\n",
    "        dim = 3\n",
    "        self.GradOps = GradOperators(dim, mode=\"forward\", padmode=\"circular\")\n",
    "\n",
    "        # operator norms\n",
    "        self.op_norm_AHA = torch.sqrt(torch.tensor(1.0))\n",
    "        self.op_norm_GHG = torch.sqrt(torch.tensor(12.0))\n",
    "        # operator norm of K = [A, \\nabla]\n",
    "        # https://iopscience.iop.org/article/10.1088/0031-9155/57/10/3065/pdf,\n",
    "        # see page 3083\n",
    "        self.L = torch.sqrt(self.op_norm_AHA**2 + self.op_norm_GHG**2)\n",
    "\n",
    "        # function for projecting\n",
    "        self.ClipAct = ClipAct()\n",
    "\n",
    "        if mode == \"lambda_xyt\":\n",
    "            # one single lambda for x,y and t\n",
    "            self.lambda_reg = nn.Parameter(torch.tensor([-1.5]), requires_grad=True)\n",
    "\n",
    "        elif mode == \"lambda_xy_t\":\n",
    "            # one (shared) lambda for x,y and one lambda for t\n",
    "            self.lambda_reg = nn.Parameter(\n",
    "                torch.tensor([-4.5, -1.5]), requires_grad=True\n",
    "            )\n",
    "\n",
    "        elif mode == \"lambda_cnn\":\n",
    "            # the CNN-block to estimate the lambda regularization map\n",
    "            # must be a CNN yielding a two-channeld output, i.e.\n",
    "            # one map for lambda_cnn_xy and one map for lambda_cnn_t\n",
    "            self.cnn = cnn_block    # NOTE: This is actually the UNET!!! (At least in this project)\n",
    "            self.up_bound = torch.tensor(up_bound)\n",
    "\n",
    "        # number of terations\n",
    "        self.T = T\n",
    "        self.mode = mode\n",
    "\n",
    "        # constants depending on the operators\n",
    "        self.tau = nn.Parameter(\n",
    "            torch.tensor(10.0), requires_grad=True\n",
    "        )  # starting value approximately  1/L\n",
    "        self.sigma = nn.Parameter(\n",
    "            torch.tensor(10.0), requires_grad=True\n",
    "        )  # starting value approximately  1/L\n",
    "\n",
    "        # theta should be in \\in [0,1]\n",
    "        self.theta = nn.Parameter(\n",
    "            torch.tensor(10.0), requires_grad=True\n",
    "        )  # starting value approximately  1\n",
    "\n",
    "        # distinguish between training and test phase;\n",
    "        # during training, the input is padded using \"reflect\" padding, because\n",
    "        # patches are used by reducing the number of temporal points;\n",
    "        # while testing, \"reflect\" padding is used in x,y- direction, while\n",
    "        # circular padding is used in t-direction\n",
    "        self.phase = phase\n",
    "\n",
    "    def get_lambda_cnn(self, x):\n",
    "        # padding\n",
    "        # arbitrarily chosen, maybe better to choose it depending on the\n",
    "        # receptive field of the CNN or so;\n",
    "        # seems to be important in order not to create \"holes\" in the\n",
    "        # lambda_maps in t-direction\n",
    "        npad_xy = 4\n",
    "        # npad_t = 8\n",
    "        npad_t = 0 # TODO: Time dimension should not be necessary for single image input.\n",
    "        # I changed the npad_t to 0 so that I can run on single image input without change the 3D type config. It seems that the number of frames must be greater than npad_t?\n",
    "\n",
    "        pad = (npad_t, npad_t, npad_xy, npad_xy, npad_xy, npad_xy)\n",
    "\n",
    "        if self.phase == \"training\":\n",
    "            x = F.pad(x, pad, mode=\"reflect\")\n",
    "\n",
    "        elif self.phase == \"testing\":\n",
    "            pad_refl = (0, 0, npad_xy, npad_xy, npad_xy, npad_xy)\n",
    "            pad_circ = (npad_t, npad_t, 0, 0, 0, 0)\n",
    "\n",
    "            x = F.pad(x, pad_refl, mode=\"reflect\")\n",
    "            x = F.pad(x, pad_circ, mode=\"circular\")\n",
    "\n",
    "        # estimate parameter map\n",
    "        lambda_cnn = self.cnn(x) # NOTE: The cnn is actually the UNET block!!! (At least in this project)\n",
    "\n",
    "        # crop\n",
    "        neg_pad = tuple([-pad[k] for k in range(len(pad))])\n",
    "        lambda_cnn = F.pad(lambda_cnn, neg_pad)\n",
    "\n",
    "        # double spatial map and stack\n",
    "        lambda_cnn = torch.cat((lambda_cnn[:, 0, ...].unsqueeze(1), lambda_cnn), dim=1)\n",
    "\n",
    "        # constrain map to be striclty positive; further, bound it from below\n",
    "        if self.up_bound > 0:\n",
    "            # constrain map to be striclty positive; further, bound it from below\n",
    "            lambda_cnn = self.up_bound * self.op_norm_AHA * torch.sigmoid(lambda_cnn)\n",
    "        else:\n",
    "            lambda_cnn = 0.1 * self.op_norm_AHA * F.softplus(lambda_cnn)\n",
    "\n",
    "        del pad\n",
    "        del x\n",
    "        del neg_pad\n",
    "\n",
    "        return lambda_cnn\n",
    "\n",
    "    def forward(\n",
    "            self, x, lambda_map=None, \n",
    "            # lambda_reg_container=None,\n",
    "    ):\n",
    "        if lambda_map is None:\n",
    "            # estimate lambda reg from the image\n",
    "            lambda_reg = self.get_lambda_cnn(x)\n",
    "        else:\n",
    "            lambda_reg = lambda_map\n",
    "\n",
    "        # if lambda_reg_container is not None:\n",
    "        #     assert type(lambda_reg_container) == list, f\"lambda_reg_container should be a list, not {type(lambda_reg_container)}\"\n",
    "        #     lambda_reg_container.append(lambda_reg) # For comparison\n",
    "\n",
    "        x.to(DEVICE)\n",
    "        x1 = reconstruct_with_PDHG(x, lambda_reg, self.T)\n",
    "\n",
    "        del lambda_reg\n",
    "        del x\n",
    "\n",
    "        return x1"
   ]
  },
  {
   "cell_type": "markdown",
   "metadata": {},
   "source": [
    "------\n",
    "\n",
    "### Data loading class"
   ]
  },
  {
   "cell_type": "code",
   "execution_count": 37,
   "metadata": {},
   "outputs": [],
   "source": [
    "# Code taken from https://www.github.com/koflera/LearningRegularizationParameterMaps\n",
    "\n",
    "class DynamicImageStaticDenoisingDataset(Dataset):\n",
    "\t\n",
    "\tdef __init__(\n",
    "\t\tself, \n",
    "\t\tdata_path: str, \n",
    "\t\tids: list,\n",
    "\t\t# scale_factor = 0.5, \n",
    "\t\t# patches_size = None,\n",
    "\t\t# strides= None,\n",
    "\t\tresize_square = 120,\n",
    "\t\tsigma = (0.1, 0.5),  \n",
    "\t\tdevice: str = \"cuda\"\n",
    "\t):\n",
    "\t\tself.device = device\n",
    "\t\t# self.scale_factor = scale_factor\n",
    "\t\tself.resize_square = resize_square\n",
    "\n",
    "\t\txray_images = load_images_chest_xray(data_path, ids)\n",
    "\n",
    "\t\txf_list = []\n",
    "\t\tfor image in xray_images:\n",
    "\t\t\timage = crop_to_square_and_resize(image, self.resize_square)\n",
    "\t\t\timage = image.convert('L') #convert to grey_scale\n",
    "\t\t\timage_data = np.asarray(image)\n",
    "\t\t\txf = torch.tensor(image_data, dtype=torch.float)\n",
    "\t\t\t# Assume image is in [0, 255] range\n",
    "\t\t\txf = xf / 255\n",
    "\t\t\tassert len(xf.size()) == 2, f\"Expected 2D tensor, got {xf.size()}\"\n",
    "\t\t\txf = xf.unsqueeze(0) # Add channel dimension\n",
    "\t\t\txf = xf.unsqueeze(-1) # Add time dimension. TODO: For legacy dynamic image code only. Will remove later.\n",
    "\t\t\txf_list.append(xf)\n",
    "\t\txf = torch.stack(xf_list, dim=0) # will have shape (mb, 1, Nx, Ny, Nt), where mb denotes the number of patches\n",
    "\t\tassert len(xf.size()) == 5, f\"Expected 5D tensor, got {xf.size()}\"\n",
    "\t\tassert xf.size(1) == 1, f\"Expected 1 channel, got {xf.size(1)}\"\n",
    "\t\tassert xf.size(2) == self.resize_square, f\"Expected width (Nx) of {self.resize_square}, got {xf.size(-3)}\"\n",
    "\t\tassert xf.size(3) == self.resize_square, f\"Expected height (Ny) of {self.resize_square}, got {xf.size(-2)}\"\n",
    "\t\tassert xf.size(4) == 1, f\"Expected 1 time step, got {xf.size(-1)}\"\n",
    "\n",
    "\t\t#create temporal TV vector to detect which patches contain the most motion\n",
    "\t\txf_patches_tv = (xf[...,1:] - xf[...,:-1]).pow(2).sum(dim=[1,2,3,4]) #contains the TV for all patches\n",
    "\t\t\n",
    "\t\t#normalize to 1 to have a probability vector\n",
    "\t\txf_patches_tv /= torch.sum(xf_patches_tv)\n",
    "\t\t\n",
    "\t\t#sort TV in descending order --> xfp_tv_ids[0] is the index of the patch with the most motion\n",
    "\t\tself.samples_weights = xf_patches_tv\n",
    "\n",
    "\t\t# # TODO: Investigate\n",
    "\t\t# # Change the values in samples_weights to be a range of integers from 0 to len(samples_weights)\n",
    "\t\t# # Unless I do this, when I run on a set of identical images, it will give me an error:\n",
    "\t\t# # RuntimeError: invalid multinomial distribution (encountering probability entry < 0)\n",
    "\t\t# self.samples_weights = torch.arange(len(self.samples_weights))\n",
    "\t\t\n",
    "\t\tself.xf = xf\n",
    "\t\tself.len = xf.shape[0]\n",
    "\t\t\n",
    "\t\tself.sigma_min = sigma[0]\n",
    "\t\tself.sigma_max = sigma[1]\n",
    "\t\t\n",
    "\t\t\t\n",
    "\tdef __getitem__(self, index):\n",
    "\n",
    "\t\tsigma = self.sigma_min + torch.rand(1) * ( self.sigma_max - self.sigma_min )\n",
    "\n",
    "\t\tx_noise = add_noise(self.xf[index], sigma)\n",
    "\n",
    "\t\tdel sigma\n",
    "\n",
    "\t\treturn (\n",
    "\t\t\tx_noise.to(device=self.device),\n",
    "   \t\t\tself.xf[index].to(device=self.device)\n",
    "        )\n",
    "\t\t\n",
    "\tdef __len__(self):\n",
    "\t\treturn self.len"
   ]
  },
  {
   "cell_type": "markdown",
   "metadata": {},
   "source": [
    "------\n",
    "\n",
    "### UNET\n",
    "\n",
    "The specific UNET architecture we use has the following parts:\n",
    "\n",
    "...\n",
    "\n",
    "We use Leaky RELU instead of RELU or Sigmoid."
   ]
  },
  {
   "cell_type": "code",
   "execution_count": 38,
   "metadata": {},
   "outputs": [],
   "source": [
    "# Used https://github.com/milesial/Pytorch-UNet/blob/master/unet/unet_parts.py as a reference\n",
    "\n",
    "class DoubleConv(nn.Module):\n",
    "    def __init__(\n",
    "            self, in_channels: int, out_channels: int, n_dimensions=3, activation=\"LeakyReLU\"):\n",
    "        super(DoubleConv, self).__init__()\n",
    "\n",
    "        def get_conv(in_channels, out_channels):\n",
    "            # 1-dimensional convolution is not supported\n",
    "            if n_dimensions == 3:\n",
    "                return nn.Conv3d(in_channels, out_channels, kernel_size=(3, 3, 1), padding=(1, 1, 0))\n",
    "            elif n_dimensions == 2:\n",
    "                return nn.Conv2d(in_channels, out_channels, kernel_size=(3, 3), padding=(1, 1))\n",
    "            else:\n",
    "                raise ValueError(f\"Unsupported number of dimensions: {n_dimensions}\")\n",
    "\n",
    "        def get_activation():\n",
    "            if activation == \"LeakyReLU\":\n",
    "                return nn.LeakyReLU(negative_slope=0.01, inplace=True)\n",
    "            elif activation == \"ReLU\":\n",
    "                return nn.ReLU(inplace=True)\n",
    "            else:\n",
    "                raise ValueError(f\"Unsupported activation function: {activation}\")\n",
    "\n",
    "        self.conv_block = nn.Sequential(\n",
    "            get_conv(in_channels, out_channels), get_activation(),\n",
    "            get_conv(out_channels, out_channels), get_activation())\n",
    "\n",
    "    def forward(self, x: torch.Tensor):\n",
    "        return self.conv_block(x)\n",
    "        \n",
    "\n",
    "class EncodeBlock3d(nn.Module):\n",
    "    def __init__(\n",
    "            self, in_channels: int, n_dimensions=3,\n",
    "            activation=\"LeakyReLU\",\n",
    "            downsampling_kernel=(2, 2, 1), downsampling_mode=\"max\"):\n",
    "        super(EncodeBlock3d, self).__init__()\n",
    "\n",
    "        len = downsampling_kernel[0] # Assume kernel has shape (len, len, 1)\n",
    "        assert downsampling_kernel == (len, len, 1), f\"Expected a flat square kernel like {(len, len, 1)}, got {downsampling_kernel}\"\n",
    "        stride = (2, 2, 1) # Stride 2x2 to halve each side \n",
    "        padding = ((len-1)//2, (len-1)//2, 0) # Padding (len-1) // 2 to exactly halve each side \n",
    "        if downsampling_mode == \"max\":\n",
    "            self.pool = nn.MaxPool3d(\n",
    "                kernel_size=downsampling_kernel, stride=stride, padding=padding)\n",
    "        elif downsampling_mode == \"avg\":\n",
    "            self.pool = nn.AvgPool3d(\n",
    "                kernel_size=downsampling_kernel, stride=stride, padding=padding)\n",
    "        else:\n",
    "            raise ValueError(f\"Unknown pooling method: {downsampling_mode}\")\n",
    "\n",
    "        self.double_conv = DoubleConv(in_channels, in_channels * 2, n_dimensions, activation=activation)\n",
    "\n",
    "    def forward(self, x: torch.Tensor):\n",
    "        x = self.pool(x)\n",
    "        x = self.double_conv(x)\n",
    "        return x\n",
    "\n",
    "\n",
    "\n",
    "class DecodeBlock3d(nn.Module):\n",
    "    def __init__(\n",
    "            self, in_channels: int, n_dimensions=3, \n",
    "            activation=\"LeakyReLU\",\n",
    "            upsampling_kernel=(2, 2, 1), upsampling_mode=\"linear_interpolation\"):\n",
    "        super(DecodeBlock3d, self).__init__()\n",
    "\n",
    "        if upsampling_mode == \"linear_interpolation\":\n",
    "            self.upsampling = nn.Sequential(\n",
    "                nn.Upsample(\n",
    "                    scale_factor=(2, 2, 1), # Assume the shape is (Nx, Ny, 1) where Nx is the image width and Ny is the image height.\n",
    "                    mode='trilinear', align_corners=True), # What difference does it make in the end if align_corners is True or False? Preserving symmetry?\n",
    "                # 1x1x1 convolution to reduce the number of channels while keeping the size the same\n",
    "                nn.Conv3d(\n",
    "                    in_channels, in_channels // 2, \n",
    "                    kernel_size=(1, 1, 1), stride=(1, 1, 1), padding=(0, 0, 0))\n",
    "            )\n",
    "        elif upsampling_mode == \"transposed_convolution\":  \n",
    "            len = upsampling_kernel[0] # Assume kernel has shape (len, len, 1)\n",
    "            assert upsampling_kernel == (len, len, 1), f\"Expected a flat square kernel like {(len, len, 1)}, got {upsampling_kernel}\"\n",
    "            stride = (2, 2, 1) # Stride 2x2 to double each side \n",
    "            padding = ((len-1)//2, (len-1)//2, 0) # Padding (len-1) // 2 to exactly double each side    \n",
    "            self.upsampling = nn.ConvTranspose3d(\n",
    "                in_channels, in_channels // 2, \n",
    "                kernel_size=upsampling_kernel, stride=stride, padding=padding, \n",
    "                output_padding=padding # TODO: Should this be the same as padding?\n",
    "            )\n",
    "        else:\n",
    "            raise ValueError(f\"Unsupported upsampling method: {upsampling_mode}\")\n",
    "        \n",
    "        self.double_conv = DoubleConv(in_channels, in_channels // 2, n_dimensions, activation=activation)\n",
    "\n",
    "    def forward(self, x: torch.Tensor, x_encoder_output: torch.Tensor):\n",
    "        x = self.upsampling(x)\n",
    "        x = torch.cat([x_encoder_output, x], dim=1)   # skip-connection. No cropping since we ensure that the size is the same.\n",
    "        x = self.double_conv(x)\n",
    "        return x\n",
    "\n",
    "\n",
    "\n",
    "class UNet3d(nn.Module):\n",
    "    def __init__(\n",
    "            self, in_channels=1, out_channels=2, init_filters=32, n_blocks=3,\n",
    "            activation=\"LeakyReLU\",\n",
    "            downsampling_kernel=(2, 2, 1), downsampling_mode=\"max\",\n",
    "            upsampling_kernel=(2, 2, 1), upsampling_mode=\"linear_interpolation\",\n",
    "    ):\n",
    "        \"\"\"\n",
    "        Assume that input is 5D tensor of shape (batch_size, channels, Nx, Ny, Nt)\n",
    "        where Nx is the image width and Ny is the image height.\n",
    "        Assume that batch_size = 1, channels = 1, Nx = Ny (square image), Nt = 1 (static image).\n",
    "        NOTE: The convention used in pytorch documentation is (batch_size, channels, Nt, Ny, Nx).\n",
    "        \"channels\" is equivalent to the number of filters or features.\n",
    "\n",
    "        Our paper (figure 2):\n",
    "            - in_channels = 1\n",
    "            - out_channels = 2\n",
    "            - init_filters = 32\n",
    "            - n_blocks = 3\n",
    "            - pooling: max pooling 2x2\n",
    "            - pool padding = 1\n",
    "                - 1 padding will keep the size of the \"image\" the same after each convolution. The skip-connection will NOT crop the encoder's output.\n",
    "            - upsampling kernel: 2x2 ?\n",
    "            - up_mode: linear interpolation\n",
    "\n",
    "        U-Net paper (2015, Olaf Ronneberger https://arxiv.org/abs/1505.04597):\n",
    "            - in_channels = 1\n",
    "            - out_channels = 2\n",
    "            - init_filters = 64\n",
    "            - n_blocks = 4\n",
    "            - pooling: max pooling 2x2\n",
    "            - pool padding = 0\n",
    "                - 0 padding will reduce the size of the \"image\" by 2 in each dimension after each convolution. The skip-connection will have to crop the encoder's output to match the decoder's input.\n",
    "            - upsampling kernel: 2x2\n",
    "            - up_mode: ? (linear interpolation or transposed convolution)\n",
    "        \"\"\"\n",
    "        super(UNet3d, self).__init__()\n",
    "        \n",
    "        self.c0x0 = DoubleConv( # TODO: Find a better name\n",
    "            in_channels=in_channels, \n",
    "            out_channels=init_filters,\n",
    "            activation=activation\n",
    "        )\n",
    "        self.encoder = nn.ModuleList([\n",
    "            EncodeBlock3d(\n",
    "                in_channels=init_filters * 2**i,\n",
    "                activation=activation,\n",
    "                downsampling_kernel=downsampling_kernel,\n",
    "                downsampling_mode=downsampling_mode\n",
    "            ) for i in range(n_blocks)\n",
    "        ])\n",
    "        self.decoder = nn.ModuleList([\n",
    "            DecodeBlock3d(\n",
    "                in_channels=init_filters * 2**(n_blocks-i),\n",
    "                activation=activation, \n",
    "                upsampling_kernel=upsampling_kernel,\n",
    "                upsampling_mode=upsampling_mode\n",
    "            ) for i in range(n_blocks)\n",
    "        ])\n",
    "        # 1x1x1 convo\n",
    "        self.c1x1 = nn.Conv3d( # TODO: Find a better name\n",
    "            in_channels=init_filters,\n",
    "            out_channels=out_channels,\n",
    "            kernel_size=(1, 1, 1), stride=(1, 1, 1), padding=(0, 0, 0)\n",
    "        )\n",
    "\n",
    "    def forward(self, x: torch.Tensor):\n",
    "        # Assume that x is 5D tensor of shape (batch_size, channels, Nx, Ny, Nt)\n",
    "        # where Nx is the image width and Ny is the image height.\n",
    "        # Aslo assume that batch_size = 1, channels = 1, Nx = Ny (square image), Nt = 1 (static image).\n",
    "        # NOTE: The convention used in pytorch documentation is (batch_size, channels, Nt, Ny, Nx).\n",
    "        assert len(x.size()) == 5, f\"Expected 5D tensor, got {x.size()}\"\n",
    "        batch_size, channels, Nx, Ny, Nt = x.size()\n",
    "        assert channels == 1, f\"Expected 1 channel, got {channels}\" # TODO: Allow multiple channels (colour images)\n",
    "        assert Nx == Ny, f\"Expected square image, got ({Nx}, {Ny})\" # TODO: Allow non-square images\n",
    "        assert Nt == 1, f\"Expected 1 time step, got {Nt}\" # TODO: Allow multiple time steps (dynamic images, video)\n",
    "        assert batch_size == 1, f\"Expected batch size 1, got {batch_size}\" # TODO: Might train with larger batch size\n",
    "\n",
    "        n_blocks = len(self.encoder)\n",
    "        assert Nx >= 2**n_blocks, f\"Expected width (Nx) of at least {2**n_blocks}, got {Nx}\"\n",
    "        assert Ny >= 2**n_blocks, f\"Expected height (Ny) of at least {2**n_blocks}, got {Ny}\"\n",
    "\n",
    "        x = self.c0x0(x)\n",
    "\n",
    "        encoder_outputs = []\n",
    "        for i, enc_block in enumerate(self.encoder):\n",
    "            encoder_outputs.append(x)\n",
    "            x = enc_block(x)\n",
    "        for i, dec_block in enumerate(self.decoder):\n",
    "            x = dec_block(x, encoder_outputs[-i-1]) # skip-connection inside\n",
    "            \n",
    "        x = self.c1x1(x)\n",
    "\n",
    "        for enc_output in encoder_outputs:\n",
    "            del enc_output\n",
    "        del encoder_outputs\n",
    "\n",
    "        return x"
   ]
  },
  {
   "cell_type": "code",
   "execution_count": 39,
   "metadata": {},
   "outputs": [],
   "source": [
    "def assert_and_clear_cuda(expected, actual):\n",
    "    try:\n",
    "        assert expected == actual\n",
    "    except AssertionError:\n",
    "        print(f\"!!! ERROR !!! Expected: {expected}, got {actual}\")\n",
    "        with torch.no_grad():\n",
    "            torch.cuda.empty_cache()\n",
    "    \n",
    "\n",
    "def test_unet_3d():  \n",
    "    if DISABLING_TESTS: return  \n",
    "    input_tensor = torch.randn(1, 1, 512, 512, 1)  # batch size of 1, 1 channel, 512x512x1 volume\n",
    "    \n",
    "    config = get_config()\n",
    "\n",
    "    # Example usage\n",
    "    model = UNet3d(\n",
    "        init_filters=32,\n",
    "        n_blocks=config[\"n_blocks\"],\n",
    "        activation=\"ReLU\",\n",
    "        downsampling_kernel=(2, 2, 1),\n",
    "        downsampling_mode=config[\"downsampling_mode\"],\n",
    "        upsampling_kernel=(2, 2, 1),\n",
    "        upsampling_mode=config[\"upsampling_mode\"],\n",
    "    )\n",
    "    output = model(input_tensor)\n",
    "    print(f\"UNet output shape: {output.shape}\")\n",
    "    assert_and_clear_cuda((1, 2, 512, 512, 1), output.shape)\n",
    "\n",
    "\n",
    "    conv_3d = nn.Conv3d(1, 64, kernel_size=3, stride=1, padding=1)\n",
    "    conv_3d_output = conv_3d(input_tensor)\n",
    "    print(f\"Conv3d output shape: {conv_3d_output.shape}\")\n",
    "    assert_and_clear_cuda((1, 64, 512, 512, 1), conv_3d_output.shape)\n",
    "\n",
    "\n",
    "    double_conv_3d = DoubleConv(64, 128)\n",
    "    double_conv_output = double_conv_3d(conv_3d_output)\n",
    "    print(f\"{DoubleConv.__name__} output shape: {double_conv_output.shape}\")\n",
    "    assert_and_clear_cuda((1, 128, 512, 512, 1), double_conv_output.shape)\n",
    "\n",
    "\n",
    "    max_3d = nn.MaxPool3d((3, 3, 1), stride=(2, 2, 1), padding=(1, 1, 0))\n",
    "    max_3d_output_1 = max_3d(input_tensor)\n",
    "    print(f\"MaxPool3d output 1 shape: {max_3d_output_1.shape}\")\n",
    "    assert_and_clear_cuda((1, 1, 256, 256, 1), max_3d_output_1.shape)\n",
    "\n",
    "    max_3d_input = torch.randn(1, 128, 512, 512, 1)\n",
    "    max_3d_output_2 = max_3d(max_3d_input)\n",
    "    print(f\"MaxPool3d output 2 shape: {max_3d_output_2.shape}\")\n",
    "    assert_and_clear_cuda((1, 128, 256, 256, 1), max_3d_output_2.shape)\n",
    "\n",
    "    conv_transpose_3d = nn.ConvTranspose3d(\n",
    "        1024, 512, \n",
    "        kernel_size=(3, 3, 1), \n",
    "        stride=(2, 2, 1), \n",
    "        padding=(1, 1, 0), \n",
    "        output_padding=(1, 1, 0)\n",
    "    )\n",
    "    conv_transpose_3d_input = torch.randn(1, 1024, 32, 32, 1)\n",
    "    conv_transpose_3d_output = conv_transpose_3d(conv_transpose_3d_input)\n",
    "    print(f\"ConvTranspose3d output shape: {conv_transpose_3d_output.shape}\")\n",
    "    assert_and_clear_cuda((1, 512, 64, 64, 1), conv_transpose_3d_output.shape)\n",
    "\n",
    "\n",
    "    up_sample = nn.Upsample(\n",
    "        scale_factor=(2, 2, 1), \n",
    "        mode='trilinear', align_corners=True) # What difference does it make if align_corners is True or False?\n",
    "    up_sample_output = up_sample(input_tensor)\n",
    "    print(f\"Upsample output shape: {up_sample_output.shape}\")\n",
    "    assert_and_clear_cuda((1, 1, 1024, 1024, 1), up_sample_output.shape)\n",
    "                    \n",
    "\n",
    "    # # print(f\"\\n{model}\")\n",
    "\n",
    "    with torch.no_grad():\n",
    "        torch.cuda.empty_cache()\n",
    "\n",
    "    # # Delete the model and the output tensor\n",
    "    # del model\n",
    "    # del output\n",
    "    # torch.cuda.empty_cache()\n",
    "\n",
    "test_unet_3d()\n",
    "with torch.no_grad():\n",
    "    torch.cuda.empty_cache()"
   ]
  },
  {
   "cell_type": "code",
   "execution_count": 40,
   "metadata": {},
   "outputs": [],
   "source": [
    "with torch.no_grad():\n",
    "    torch.cuda.empty_cache()"
   ]
  },
  {
   "cell_type": "markdown",
   "metadata": {},
   "source": [
    "------\n",
    "\n",
    "### Create data loader"
   ]
  },
  {
   "cell_type": "code",
   "execution_count": 41,
   "metadata": {},
   "outputs": [],
   "source": [
    "# Code adapted from ...\n",
    "\n",
    "def get_datasets(config):\n",
    "    min_sigma = config[\"min_sigma\"]\n",
    "    max_sigma = config[\"max_sigma\"]\n",
    "    resize_square = config[\"resize_square\"]\n",
    "    device = config[\"device\"]\n",
    "\n",
    "    train_num_samples = config[\"train_num_samples\"]\n",
    "    train_ids = list(range(0, train_num_samples))\n",
    "    dataset_train = DynamicImageStaticDenoisingDataset(\n",
    "        data_path=config[\"train_data_path\"],\n",
    "        ids=train_ids,\n",
    "        sigma=(min_sigma, max_sigma),\n",
    "        resize_square=resize_square,\n",
    "        # strides=[120, 120, 1],\n",
    "        # patches_size=[120, 120, 1],\n",
    "        # strides=[256, 256, 1], # stride < patch will allow overlapping patches, maybe good to blend the patches?\n",
    "        # strides=[512, 512, 1],\n",
    "        # patches_size=[512, 512, 1],\n",
    "        device=device\n",
    "    )\n",
    "\n",
    "    val_num_samples = config[\"val_num_samples\"]\n",
    "    val_ids = list(range(0, val_num_samples))\n",
    "    dataset_valid = DynamicImageStaticDenoisingDataset(\n",
    "        data_path=config[\"val_data_path\"],\n",
    "        ids=val_ids,\n",
    "        sigma=(min_sigma, max_sigma),\n",
    "        resize_square=resize_square,\n",
    "        # strides=[120, 120, 1],\n",
    "        # patches_size=[120, 120, 1],\n",
    "        # strides=[256, 256, 1], # stride < patch will allow overlapping patches, maybe good to blend the patches?\n",
    "        # strides=[512, 512, 1],\n",
    "        # patches_size=[512, 512, 1],\n",
    "        device=device\n",
    "    )\n",
    "\n",
    "    test_num_samples = config[\"test_num_samples\"]\n",
    "    test_ids = list(range(0, test_num_samples))\n",
    "    dataset_test = DynamicImageStaticDenoisingDataset(\n",
    "        data_path=config[\"test_data_path\"],\n",
    "        ids=test_ids,\n",
    "        sigma=(min_sigma, max_sigma),\n",
    "        resize_square=resize_square,\n",
    "        # strides=[120, 120, 1],\n",
    "        # patches_size=[120, 120, 1],\n",
    "        # strides=[256, 256, 1], # stride < patch will allow overlapping patches, maybe good to blend the patches?\n",
    "        # strides=[512, 512, 1],\n",
    "        # patches_size=[512, 512, 1],\n",
    "        device=device\n",
    "    )\n",
    "\n",
    "    print(f\"Number of training samples: {len(dataset_train)}\")\n",
    "    print(f\"Number of validation samples: {len(dataset_valid)}\")\n",
    "    print(f\"Number of test samples: {len(dataset_test)}\")\n",
    "\n",
    "    return dataset_train, dataset_valid, dataset_test\n",
    "\n",
    "\n",
    "\n",
    "def get_dataloaders(config):\n",
    "\n",
    "    dataset_train, dataset_valid, dataset_test = get_datasets(config)\n",
    "    batch_size = config[\"batch_size\"]\n",
    "    device = config[\"device\"]\n",
    "    random_seed = config[\"random_seed\"]\n",
    "\n",
    "    # Create training dataloader\n",
    "    # train_sampler = WeightedRandomSampler(dataset_train.samples_weights, len(dataset_train.samples_weights))\n",
    "    dataloader_train = torch.utils.data.DataLoader(\n",
    "        dataset_train, batch_size=batch_size, \n",
    "        # sampler=train_sampler,\n",
    "        generator=torch.Generator(device=device).manual_seed(random_seed),\n",
    "        shuffle=True,\n",
    "    )\n",
    "\n",
    "    # Create validation dataloader \n",
    "    # val_sampler = WeightedRandomSampler(dataset_valid.samples_weights, len(dataset_valid.samples_weights))\n",
    "    dataloader_valid = torch.utils.data.DataLoader(\n",
    "        dataset_valid, batch_size=batch_size, \n",
    "        # sampler=val_sampler,\n",
    "        generator=torch.Generator(device=device).manual_seed(random_seed),\n",
    "        shuffle=False,\n",
    "    )\n",
    "\n",
    "    # Create test dataloader\n",
    "    test_sampler = WeightedRandomSampler(dataset_test.samples_weights, len(dataset_test.samples_weights))\n",
    "    dataloader_test = torch.utils.data.DataLoader(\n",
    "        dataset_test, batch_size=batch_size, \n",
    "        # sampler=test_sampler,\n",
    "        generator=torch.Generator(device=device).manual_seed(random_seed),\n",
    "        shuffle=False,\n",
    "    )\n",
    "\n",
    "    return (\n",
    "        dataloader_train, \n",
    "        dataloader_valid, \n",
    "        dataloader_test,\n",
    "    )"
   ]
  },
  {
   "cell_type": "markdown",
   "metadata": {},
   "source": [
    "#### Test data loader"
   ]
  },
  {
   "cell_type": "code",
   "execution_count": 42,
   "metadata": {},
   "outputs": [],
   "source": [
    "def test_dataloader():\n",
    "    if DISABLING_TESTS: return\n",
    "    dataloader_train, dataloader_valid, dataloader_test = get_dataloaders(get_config())\n",
    "    for i, (x, y) in enumerate(dataloader_train):\n",
    "        print(f\"Batch {i+1}\")\n",
    "        print(f\"x size: {x.size()}\")\n",
    "        print(f\"y size: {y.size()}\")\n",
    "        plt.subplot(1, 2, 1)\n",
    "        plt.imshow(x.squeeze(0).squeeze(0).squeeze(-1).to(\"cpu\"), cmap='gray')\n",
    "        plt.axis('off')\n",
    "        plt.subplot(1, 2, 2)\n",
    "        plt.imshow(y.squeeze(0).squeeze(0).squeeze(-1).to(\"cpu\"), cmap='gray')\n",
    "        plt.axis('off')\n",
    "        plt.show();\n",
    "        if i == 5:\n",
    "            break\n",
    "\n",
    "    del dataloader_train\n",
    "    del dataloader_valid\n",
    "    del dataloader_test\n",
    "\n",
    "test_dataloader()"
   ]
  },
  {
   "cell_type": "markdown",
   "metadata": {},
   "source": [
    "------\n",
    "\n",
    "### Training"
   ]
  },
  {
   "cell_type": "markdown",
   "metadata": {},
   "source": [
    "#### Code for one epoch"
   ]
  },
  {
   "cell_type": "code",
   "execution_count": 43,
   "metadata": {},
   "outputs": [],
   "source": [
    "# Code taken from https://www.github.com/koflera/LearningRegularizationParameterMaps\n",
    "\n",
    "# def train_iteration(optimizer, model, loss_func, sample):\n",
    "#     optimizer.zero_grad(set_to_none=True)  # Zero your gradients for every batch!\n",
    "#     noisy_image, clean_image = sample\n",
    "#     denoised_image = model(noisy_image)\n",
    "#     loss = loss_func(denoised_image, clean_image)\n",
    "#     loss.backward()\n",
    "    \n",
    "#     if loss.item() != loss.item():\n",
    "#         raise ValueError(\"NaN returned by loss function...\")\n",
    "\n",
    "#     optimizer.step()\n",
    "\n",
    "#     denoised_image = denoised_image.squeeze(0).squeeze(0).squeeze(-1)\n",
    "#     clean_image = clean_image.squeeze(0).squeeze(0).squeeze(-1)\n",
    "\n",
    "#     psnr = PSNR(denoised_image, clean_image)\n",
    "#     ssim = SSIM(denoised_image, clean_image)\n",
    "\n",
    "#     return loss.item(), psnr, ssim\n",
    "\n",
    "\n",
    "def train_epoch(model, data_loader, optimizer, loss_func) -> float:\n",
    "    running_loss = 0.\n",
    "    running_psnr = 0.\n",
    "    running_ssim = 0.\n",
    "    num_batches = len(data_loader)\n",
    "    # for sample in tqdm(data_loader): # tqdm helps show a nice progress bar\n",
    "    for sample in data_loader:\n",
    "        # loss, psnr, ssim = train_iteration(optimizer, model, loss_func, sample)\n",
    "\n",
    "        optimizer.zero_grad(set_to_none=True)  # Zero your gradients for every batch! TODO: Why?\n",
    "        noisy_image_5d, clean_image_5d = sample\n",
    "        denoised_image_5d = model(noisy_image_5d)\n",
    "        loss = loss_func(denoised_image_5d, clean_image_5d)\n",
    "\n",
    "        loss.backward()\n",
    "        if loss.item() != loss.item():\n",
    "            raise ValueError(\"NaN returned by loss function...\")\n",
    "        optimizer.step()\n",
    "\n",
    "        denoised_image_2d = denoised_image_5d.squeeze(0).squeeze(0).squeeze(-1)\n",
    "        clean_image_2d = clean_image_5d.squeeze(0).squeeze(0).squeeze(-1)\n",
    "        psnr = PSNR(denoised_image_2d, clean_image_2d)\n",
    "        ssim = SSIM(denoised_image_2d, clean_image_2d)\n",
    "\n",
    "        running_loss += loss.item()\n",
    "        running_psnr += psnr\n",
    "        running_ssim += ssim\n",
    "\n",
    "        # Free up memory\n",
    "        del loss \n",
    "        del denoised_image_5d # Delete output of model\n",
    "        del denoised_image_2d # Delete auxiliary variable\n",
    "        del clean_image_2d # Delete auxiliary variable\n",
    "        del noisy_image_5d # Noisy image is generated each time so can delete it\n",
    "        del clean_image_5d # TODO: Is this a copy that I can delete or a reference to the original?\n",
    "\n",
    "    avg_loss = running_loss / num_batches\n",
    "    avg_psnr = running_psnr / num_batches\n",
    "    avg_ssim = running_ssim / num_batches\n",
    "\n",
    "    del running_loss\n",
    "    del running_psnr\n",
    "    del running_ssim\n",
    "    del num_batches\n",
    "\n",
    "    return avg_loss, avg_psnr, avg_ssim\n",
    "\n",
    "\n",
    "# def validate_iteration(model, loss_func, sample):\n",
    "#     noisy_image, clean_image = sample\n",
    "#     denoised_image = model(noisy_image)\n",
    "#     loss = loss_func(denoised_image, clean_image)\n",
    "#     denoised_image = denoised_image.squeeze(0).squeeze(0).squeeze(-1)\n",
    "#     clean_image = clean_image.squeeze(0).squeeze(0).squeeze(-1)\n",
    "\n",
    "#     psnr = PSNR(denoised_image, clean_image)\n",
    "#     ssim = SSIM(denoised_image, clean_image)\n",
    "\n",
    "#     return loss.item(), psnr, ssim\n",
    "\n",
    "\n",
    "def validate_epoch(model, data_loader, loss_func) -> float:\n",
    "    running_loss = 0.\n",
    "    running_psnr = 0.\n",
    "    running_ssim = 0.\n",
    "    num_batches = len(data_loader)\n",
    "    # for sample in tqdm(data_loader): # tqdm helps show a nice progress bar\n",
    "    for sample in data_loader:\n",
    "        # loss, psnr, ssim = validate_iteration(model, loss_func, sample)\n",
    "\n",
    "        noisy_image_5d, clean_image_5d = sample\n",
    "        denoised_image_5d = model(noisy_image_5d)\n",
    "        loss = loss_func(denoised_image_5d, clean_image_5d)\n",
    "\n",
    "        denoised_image_2d = denoised_image_5d.squeeze(0).squeeze(0).squeeze(-1)\n",
    "        clean_image_2d = clean_image_5d.squeeze(0).squeeze(0).squeeze(-1)\n",
    "        psnr = PSNR(denoised_image_2d, clean_image_2d)\n",
    "        ssim = SSIM(denoised_image_2d, clean_image_2d)\n",
    "\n",
    "        running_loss += loss.item()\n",
    "        running_psnr += psnr\n",
    "        running_ssim += ssim\n",
    "\n",
    "        # Free up memory\n",
    "        del loss \n",
    "        del denoised_image_5d # Delete output of model\n",
    "        del denoised_image_2d # Delete auxiliary variable\n",
    "        del clean_image_2d # Delete auxiliary variable\n",
    "        del noisy_image_5d # Noisy image is generated each time so can delete it\n",
    "        del clean_image_5d # TODO: Is this a copy that I can delete or a reference to the original?\n",
    "\n",
    "    avg_loss = running_loss / num_batches\n",
    "    avg_psnr = running_psnr / num_batches\n",
    "    avg_ssim = running_ssim / num_batches\n",
    "\n",
    "    del running_loss\n",
    "    del running_psnr\n",
    "    del running_ssim\n",
    "    del num_batches\n",
    "\n",
    "    return avg_loss, avg_psnr, avg_ssim\n"
   ]
  },
  {
   "cell_type": "markdown",
   "metadata": {},
   "source": [
    "#### Prep for training"
   ]
  },
  {
   "cell_type": "code",
   "execution_count": 44,
   "metadata": {},
   "outputs": [],
   "source": [
    "with torch.no_grad():\n",
    "    torch.cuda.empty_cache()"
   ]
  },
  {
   "cell_type": "code",
   "execution_count": 45,
   "metadata": {},
   "outputs": [],
   "source": [
    "def save_image(image_tensor_2D, image_name, folder_name):\n",
    "    image_tensor_2D = torch.clamp(image_tensor_2D, 0, 1) # Clip the values to 0 and 1\n",
    "    image_numpy = image_tensor_2D.to(\"cpu\").detach().numpy()\n",
    "    image_numpy_256 = image_numpy * 255\n",
    "    image_numpy_256_uint8 = image_numpy_256.astype(np.uint8)\n",
    "    image_to_save = Image.fromarray(image_numpy_256_uint8)  # TODO: Is there a shorter way to do this, similar to .convert(\"L\")?\n",
    "    image_to_save.save(f\"{folder_name}/{image_name}.png\")"
   ]
  },
  {
   "cell_type": "code",
   "execution_count": 46,
   "metadata": {},
   "outputs": [],
   "source": [
    "def make_testcase():\n",
    "    CHEST_XRAY_BASE_DATA_PATH = \"../data/chest_xray\"\n",
    "    image = Image.open(f\"{CHEST_XRAY_BASE_DATA_PATH}/train/NORMAL/IM-0115-0001.jpeg\")\n",
    "    image = crop_to_square_and_resize(image, 512)\n",
    "\n",
    "    folder_name = \"testcases_tmp\"\n",
    "\n",
    "    image_name = \"chest_xray_clean\"\n",
    "    image.save(f\"{folder_name}/{image_name}.png\") \n",
    "\n",
    "    # Add noise to the image\n",
    "    noisy_image_tensor_4D = add_noise(convert_to_tensor_4D(convert_to_numpy(image)), sigma=0.5)\n",
    "    noisy_image_tensor_2D = noisy_image_tensor_4D.squeeze(0).squeeze(-1)\n",
    "    noisy_image_name = \"chest_xray_noisy\"\n",
    "    save_image(noisy_image_tensor_2D, \"chest_xray_noisy\", folder_name)\n",
    "\n",
    "    # Read the saved images\n",
    "    clean_image = Image.open(f\"{folder_name}/{image_name}.png\")\n",
    "    noisy_image = Image.open(f\"{folder_name}/{noisy_image_name}.png\")\n",
    "    \n",
    "\n",
    "    plt.subplot(1, 2, 1)\n",
    "    plt.imshow(clean_image, cmap='gray')\n",
    "    plt.axis('off')\n",
    "    plt.title(\"Clean Image\")\n",
    "    plt.subplot(1, 2, 2)\n",
    "    plt.imshow(noisy_image, cmap='gray')\n",
    "    plt.axis('off')\n",
    "    plt.title(\"Noisy Image\")\n",
    "    plt.show();\n",
    "\n",
    "# make_testcase()"
   ]
  },
  {
   "cell_type": "markdown",
   "metadata": {},
   "source": [
    "#### Optional: Use wandb to log the training process"
   ]
  },
  {
   "cell_type": "code",
   "execution_count": 47,
   "metadata": {},
   "outputs": [],
   "source": [
    "# Optional: Use wandb to log the training process\n",
    "# !wandb login\n",
    "def init_wandb(config):\n",
    "    project_name = config[\"project\"]\n",
    "    os.environ['WANDB_NOTEBOOK_NAME'] = project_name\n",
    "    os.environ['WANDB_MODE'] = config[\"wandb_mode\"] # https://docs.wandb.ai/quickstart\n",
    "    wandb.login()\n",
    "    # start a new wandb run to track this script\n",
    "    wandb.init(\n",
    "        # set the wandb project where this run will be logged\n",
    "        project=project_name,\n",
    "\n",
    "        # track hyperparameters and run metadata\n",
    "        config=get_config(),\n",
    "    )"
   ]
  },
  {
   "cell_type": "code",
   "execution_count": 48,
   "metadata": {},
   "outputs": [],
   "source": [
    "# def temp_log_to_files():\n",
    "#     model_states_dir = \"tmp_2/model-chest_xray-2024_06_06_05_51_27\"\n",
    "#     config = get_config()\n",
    "#     with open(f\"{model_states_dir}/config.json\", \"w\") as f:\n",
    "#         json.dump(config, f, indent=4)\n",
    "#     with open(f\"{model_states_dir}/config.yaml\", \"w\") as f:\n",
    "#         yaml.dump(config, f)\n",
    "#     with open(f\"{model_states_dir}/config.txt\", \"w\") as f:\n",
    "#         f.write(str(config))\n",
    "\n",
    "# def test_temp_log_to_files():\n",
    "#     temp_log_to_files()\n",
    "\n",
    "# test_temp_log_to_files()"
   ]
  },
  {
   "cell_type": "markdown",
   "metadata": {},
   "source": [
    "#### Start training"
   ]
  },
  {
   "cell_type": "code",
   "execution_count": 49,
   "metadata": {},
   "outputs": [],
   "source": [
    "# Code adapted from https://www.github.com/koflera/LearningRegularizationParameterMaps\n",
    "\n",
    "def start_training(config, pretrained_model_path=None, is_state_dict=False, start_epoch=0):\n",
    "    \n",
    "    dataloader_train, dataloader_valid, dataloader_test = get_dataloaders(config)\n",
    "\n",
    "    del dataloader_test # Not used for now\n",
    "\n",
    "    if pretrained_model_path is None or is_state_dict:\n",
    "        # Define CNN block\n",
    "        unet = UNet3d(\n",
    "            in_channels=config[\"in_channels\"],\n",
    "            out_channels=config[\"out_channels\"],\n",
    "            init_filters=config[\"init_filters\"],\n",
    "            n_blocks=config[\"n_blocks\"],\n",
    "            activation=config[\"activation\"],\n",
    "            downsampling_kernel=config[\"downsampling_kernel\"],\n",
    "            downsampling_mode=config[\"downsampling_mode\"],\n",
    "            upsampling_kernel=config[\"upsampling_kernel\"],\n",
    "            upsampling_mode=config[\"upsampling_mode\"],\n",
    "        ).to(DEVICE)\n",
    "\n",
    "        # Construct primal-dual operator with nn\n",
    "        pdhg = DynamicImageStaticPrimalDualNN(\n",
    "            cnn_block=unet, \n",
    "            T=config[\"T\"],\n",
    "            phase=\"training\",\n",
    "            up_bound=config[\"up_bound\"],\n",
    "        ).to(DEVICE)\n",
    "        if is_state_dict:\n",
    "            pdhg.load_state_dict(torch.load(f\"{model_states_dir}/{pretrained_model_path}.pt\"))\n",
    "    else:\n",
    "        pdhg = torch.load(f\"{model_states_dir}/{pretrained_model_path}.pt\")\n",
    "\n",
    "    pdhg.train(True)\n",
    "\n",
    "    # TODO: Sometimes, creating the optimizer gives this error:\n",
    "    #   AttributeError: partially initialized module 'torch._dynamo' has no attribute 'trace_rules' (most likely due to a circular import)\n",
    "    optimizer = torch.optim.Adam(pdhg.parameters(), lr=config[\"learning_rate\"])\n",
    "    loss_function = torch.nn.MSELoss()\n",
    "\n",
    "    num_epochs = config[\"epochs\"]\n",
    "\n",
    "    save_epoch_local = config[\"save_epoch_local\"]\n",
    "    save_epoch_wandb = config[\"save_epoch_wandb\"]\n",
    "\n",
    "    time = datetime.datetime.now().strftime(\"%Y_%m_%d_%H_%M_%S\")\n",
    "    project = config[\"project\"]\n",
    "    model_name = f\"model-{project}-{time}\"\n",
    "\n",
    "    # Prepare to save the model\n",
    "    save_dir = config[\"save_dir\"]\n",
    "    model_states_dir = f\"{save_dir}/{model_name}\"\n",
    "\n",
    "    os.makedirs(model_states_dir, exist_ok=True)\n",
    "\n",
    "    def log_to_files():\n",
    "        with open(f\"{model_states_dir}/config.json\", \"w\") as f:\n",
    "            json.dump(config, f, indent=4)\n",
    "        with open(f\"{model_states_dir}/config.yaml\", \"w\") as f:\n",
    "            yaml.dump(config, f)\n",
    "        with open(f\"{model_states_dir}/config.txt\", \"w\") as f:\n",
    "            f.write(str(config))\n",
    "        with open(f\"{model_states_dir}/unet.txt\", \"w\") as f:\n",
    "            f.write(str(unet))\n",
    "        with open(f\"{model_states_dir}/pdhg_net.txt\", \"w\") as f:\n",
    "            f.write(str(pdhg))\n",
    "\n",
    "        def log_data(dataloader, stage):\n",
    "            dataset = dataloader.dataset\n",
    "            with open(f\"{model_states_dir}/dataloader_{stage}.txt\", \"w\") as f:\n",
    "                f.write(f\"Batch size: {dataloader.batch_size}\\n\\n\")\n",
    "                f.write(f\"Number of batches: {len(dataloader)}\\n\\n\")\n",
    "                f.write(f\"Number of samples: {len(dataset)}\\n\\n\")\n",
    "                f.write(f\"Samples weights:\\n{str(dataset.samples_weights)}\\n\\n\")\n",
    "                f.write(f\"Sample 0 size:\\n{str(len(dataset[0]))}  {str(dataset[0][0].size())}\\n\\n\")\n",
    "                f.write(f\"Sample 0:\\n{str(dataset[0])}\\n\\n\")\n",
    "        log_data(dataloader_train, \"train\")\n",
    "        log_data(dataloader_valid, \"val\")\n",
    "        # log_data(dataloader_test, \"test\")\n",
    "\n",
    "    log_to_files()\n",
    "\n",
    "    # noisy_image_path = \"./testcases/chest_xray_noisy.png\"\n",
    "    # clean_image_path = \"./testcases/chest_xray_clean.png\"\n",
    "\n",
    "    # def get_image(image_path):\n",
    "    #     image = Image.open(image_path)\n",
    "    #     image = image.convert(\"L\")\n",
    "    #     image_data = np.asarray(image)\n",
    "    #     image_data = convert_to_tensor_4D(image_data)\n",
    "    #     image_data = image_data.unsqueeze(0).to(DEVICE)\n",
    "    #     return image_data\n",
    "\n",
    "    # noisy_image_data = get_image(noisy_image_path)\n",
    "    # clean_image_data = get_image(clean_image_path)\n",
    "\n",
    "    # dataset_train = MyDataset(noisy_image_path, clean_image_path)\n",
    "    # dataset_valid = MyDataset(noisy_image_path, clean_image_path)\n",
    "\n",
    "    # dataloader_train = torch.utils.data.DataLoader(\n",
    "    #     dataset_train, batch_size=1, \n",
    "    #     generator=torch.Generator(device=DEVICE),\n",
    "    #     shuffle=True)\n",
    "    # dataloader_valid = torch.utils.data.DataLoader(\n",
    "    #     dataset_valid, batch_size=1, \n",
    "    #     generator=torch.Generator(device=DEVICE),\n",
    "    #     shuffle=False)\n",
    "\n",
    "\n",
    "    init_wandb(config)\n",
    "\n",
    "    # for epoch in range(start_epoch, num_epochs):\n",
    "    for epoch in tqdm(range(start_epoch, num_epochs)):\n",
    "\n",
    "        # Model training\n",
    "        pdhg.train(True)\n",
    "        training_loss, training_psnr, training_ssim = train_epoch(pdhg, dataloader_train, optimizer, loss_function)\n",
    "        # training_loss, training_psnr, training_ssim = train_iteration(optimizer, pdhg, loss_function, sample=(noisy_image_data, clean_image_data))\n",
    "        # print(f\"Epoch {epoch+1} - TRAINING LOSS: {training_loss} - TRAINING PSNR: {training_psnr} - TRAINING SSIM: {training_ssim}\")\n",
    "\n",
    "        # Optional: Use wandb to log training progress\n",
    "        wandb.log({\"training_loss\": training_loss})\n",
    "        wandb.log({\"training PSNR\": training_psnr})\n",
    "        wandb.log({\"training SSIM\": training_ssim})\n",
    "\n",
    "        del training_loss\n",
    "        del training_psnr\n",
    "        del training_ssim\n",
    "\n",
    "        pdhg.train(False)\n",
    "        with torch.no_grad():\n",
    "            torch.cuda.empty_cache()\n",
    "\n",
    "            # Model validation\n",
    "            validation_loss, validation_psnr, validation_ssim = validate_epoch(pdhg, dataloader_valid, loss_function)\n",
    "            # validation_loss, validation_psnr, validation_ssim = validate_iteration(pdhg, loss_function, sample=(noisy_image_data, clean_image_data))\n",
    "            # print(f\"Epoch {epoch+1} - VALIDATION LOSS: {validation_loss} - VALIDATION PSNR: {validation_psnr} - VALIDATION SSIM: {validation_ssim}\")\n",
    "            time = datetime.datetime.now().strftime(\"%Y_%m_%d_%H_%M_%S\")\n",
    "\n",
    "            # Optional: Use wandb to log training progress\n",
    "            wandb.log({\"validation_loss\": validation_loss})\n",
    "            wandb.log({\"validation PSNR\": validation_psnr})\n",
    "            wandb.log({\"validation SSIM\": validation_ssim})\n",
    "\n",
    "            torch.cuda.empty_cache()\n",
    "\n",
    "\n",
    "        if (epoch+1) % save_epoch_local == 0:\n",
    "            current_model_name = f\"model_epoch_{epoch+1}\"\n",
    "            torch.save(pdhg, f\"{model_states_dir}/{current_model_name}.pt\")\n",
    "            \n",
    "            print(f\"Epoch {epoch+1} - VALIDATION LOSS: {validation_loss} - VALIDATION PSNR: {validation_psnr} - VALIDATION SSIM: {validation_ssim}\")\n",
    "\n",
    "        if (epoch+1) % save_epoch_wandb == 0:\n",
    "            wandb.log_model(f\"{model_states_dir}/{current_model_name}.pt\", name=f\"model_epoch_{epoch+1}\")\n",
    "            \n",
    "        del validation_loss\n",
    "        del validation_psnr\n",
    "        del validation_ssim\n",
    "\n",
    "        torch.cuda.empty_cache()\n",
    "\n",
    "\n",
    "    # Save the entire model\n",
    "    torch.save(pdhg, f\"{model_states_dir}/final_model.pt\")\n",
    "    \n",
    "    wandb.log_model(f\"{model_states_dir}/final_model.pt\", name=f\"final_model\")\n",
    "    wandb.finish()\n",
    "    \n",
    "    with torch.no_grad():\n",
    "        torch.cuda.empty_cache()\n",
    "\n",
    "    return pdhg"
   ]
  },
  {
   "cell_type": "code",
   "execution_count": 50,
   "metadata": {},
   "outputs": [
    {
     "name": "stderr",
     "output_type": "stream",
     "text": [
      "100%|██████████| 200/200 [00:00<00:00, 442.47it/s]\n",
      "100%|██████████| 8/8 [00:00<00:00, 409.81it/s]\n",
      "100%|██████████| 1/1 [00:00<00:00, 167.06it/s]\n"
     ]
    },
    {
     "name": "stdout",
     "output_type": "stream",
     "text": [
      "Number of training samples: 200\n",
      "Number of validation samples: 8\n",
      "Number of test samples: 1\n"
     ]
    },
    {
     "name": "stderr",
     "output_type": "stream",
     "text": [
      "\u001b[34m\u001b[1mwandb\u001b[0m: \u001b[33mWARNING\u001b[0m WANDB_NOTEBOOK_NAME should be a path to a notebook file, couldn't find chest_xray.\n",
      "\u001b[34m\u001b[1mwandb\u001b[0m: Currently logged in as: \u001b[33mtrung-vuthanh24\u001b[0m (\u001b[33mwof\u001b[0m). Use \u001b[1m`wandb login --relogin`\u001b[0m to force relogin\n"
     ]
    },
    {
     "data": {
      "text/html": [
       "wandb version 0.17.1 is available!  To upgrade, please run:\n",
       " $ pip install wandb --upgrade"
      ],
      "text/plain": [
       "<IPython.core.display.HTML object>"
      ]
     },
     "metadata": {},
     "output_type": "display_data"
    },
    {
     "data": {
      "text/html": [
       "Tracking run with wandb version 0.17.0"
      ],
      "text/plain": [
       "<IPython.core.display.HTML object>"
      ]
     },
     "metadata": {},
     "output_type": "display_data"
    },
    {
     "data": {
      "text/html": [
       "Run data is saved locally in <code>/mnt/c/Users/t/Documents/GIT/DISSERTATION/LearningRegularizationParameterMaps/chest_xray/wandb/run-20240614_015813-yqudbfh8</code>"
      ],
      "text/plain": [
       "<IPython.core.display.HTML object>"
      ]
     },
     "metadata": {},
     "output_type": "display_data"
    },
    {
     "data": {
      "text/html": [
       "Syncing run <strong><a href='https://wandb.ai/wof/chest_xray/runs/yqudbfh8' target=\"_blank\">sandy-elevator-36</a></strong> to <a href='https://wandb.ai/wof/chest_xray' target=\"_blank\">Weights & Biases</a> (<a href='https://wandb.me/run' target=\"_blank\">docs</a>)<br/>"
      ],
      "text/plain": [
       "<IPython.core.display.HTML object>"
      ]
     },
     "metadata": {},
     "output_type": "display_data"
    },
    {
     "data": {
      "text/html": [
       " View project at <a href='https://wandb.ai/wof/chest_xray' target=\"_blank\">https://wandb.ai/wof/chest_xray</a>"
      ],
      "text/plain": [
       "<IPython.core.display.HTML object>"
      ]
     },
     "metadata": {},
     "output_type": "display_data"
    },
    {
     "data": {
      "text/html": [
       " View run at <a href='https://wandb.ai/wof/chest_xray/runs/yqudbfh8' target=\"_blank\">https://wandb.ai/wof/chest_xray/runs/yqudbfh8</a>"
      ],
      "text/plain": [
       "<IPython.core.display.HTML object>"
      ]
     },
     "metadata": {},
     "output_type": "display_data"
    },
    {
     "name": "stderr",
     "output_type": "stream",
     "text": [
      "  0%|          | 2/10000 [01:14<103:30:19, 37.27s/it]"
     ]
    },
    {
     "name": "stdout",
     "output_type": "stream",
     "text": [
      "Epoch 2 - VALIDATION LOSS: 0.0006301111643551849 - VALIDATION PSNR: 32.67444610595703 - VALIDATION SSIM: 0.8533626402547965\n"
     ]
    },
    {
     "name": "stderr",
     "output_type": "stream",
     "text": [
      "  0%|          | 4/10000 [02:31<105:40:30, 38.06s/it]"
     ]
    },
    {
     "name": "stdout",
     "output_type": "stream",
     "text": [
      "Epoch 4 - VALIDATION LOSS: 0.0005510060254891869 - VALIDATION PSNR: 32.90739440917969 - VALIDATION SSIM: 0.856573857768652\n"
     ]
    },
    {
     "name": "stderr",
     "output_type": "stream",
     "text": [
      "  0%|          | 6/10000 [03:46<104:07:55, 37.51s/it]"
     ]
    },
    {
     "name": "stdout",
     "output_type": "stream",
     "text": [
      "Epoch 6 - VALIDATION LOSS: 0.0005019112213631161 - VALIDATION PSNR: 33.24081802368164 - VALIDATION SSIM: 0.874522393331185\n"
     ]
    },
    {
     "name": "stderr",
     "output_type": "stream",
     "text": [
      "  0%|          | 8/10000 [04:58<101:37:51, 36.62s/it]"
     ]
    },
    {
     "name": "stdout",
     "output_type": "stream",
     "text": [
      "Epoch 8 - VALIDATION LOSS: 0.0004807741097465623 - VALIDATION PSNR: 33.27140808105469 - VALIDATION SSIM: 0.8788607515821587\n"
     ]
    },
    {
     "name": "stderr",
     "output_type": "stream",
     "text": [
      "  0%|          | 9/10000 [05:35<102:02:40, 36.77s/it]"
     ]
    },
    {
     "name": "stdout",
     "output_type": "stream",
     "text": [
      "Epoch 10 - VALIDATION LOSS: 0.0004891489443252794 - VALIDATION PSNR: 33.37154769897461 - VALIDATION SSIM: 0.8802271673796176\n"
     ]
    },
    {
     "name": "stderr",
     "output_type": "stream",
     "text": [
      "  0%|          | 12/10000 [07:30<105:01:08, 37.85s/it]"
     ]
    },
    {
     "name": "stdout",
     "output_type": "stream",
     "text": [
      "Epoch 12 - VALIDATION LOSS: 0.0006187762010085862 - VALIDATION PSNR: 32.48519515991211 - VALIDATION SSIM: 0.8603209139641448\n"
     ]
    },
    {
     "name": "stderr",
     "output_type": "stream",
     "text": [
      "  0%|          | 14/10000 [08:42<102:02:47, 36.79s/it]"
     ]
    },
    {
     "name": "stdout",
     "output_type": "stream",
     "text": [
      "Epoch 14 - VALIDATION LOSS: 0.0007742723137198482 - VALIDATION PSNR: 31.660263061523438 - VALIDATION SSIM: 0.7934990636178703\n"
     ]
    },
    {
     "name": "stderr",
     "output_type": "stream",
     "text": [
      "  0%|          | 16/10000 [09:52<99:28:17, 35.87s/it] "
     ]
    },
    {
     "name": "stdout",
     "output_type": "stream",
     "text": [
      "Epoch 16 - VALIDATION LOSS: 0.0005681376278516836 - VALIDATION PSNR: 33.02311325073242 - VALIDATION SSIM: 0.866536677763447\n"
     ]
    },
    {
     "name": "stderr",
     "output_type": "stream",
     "text": [
      "  0%|          | 18/10000 [11:08<102:42:52, 37.04s/it]"
     ]
    },
    {
     "name": "stdout",
     "output_type": "stream",
     "text": [
      "Epoch 18 - VALIDATION LOSS: 0.0004052964259244618 - VALIDATION PSNR: 34.90168380737305 - VALIDATION SSIM: 0.8989571960146651\n"
     ]
    },
    {
     "name": "stderr",
     "output_type": "stream",
     "text": [
      "  0%|          | 19/10000 [11:46<103:36:19, 37.37s/it]"
     ]
    },
    {
     "name": "stdout",
     "output_type": "stream",
     "text": [
      "Epoch 20 - VALIDATION LOSS: 0.0003280689925304614 - VALIDATION PSNR: 35.59214782714844 - VALIDATION SSIM: 0.9139569815933555\n"
     ]
    },
    {
     "name": "stderr",
     "output_type": "stream",
     "text": [
      "  0%|          | 22/10000 [13:32<99:48:20, 36.01s/it] "
     ]
    },
    {
     "name": "stdout",
     "output_type": "stream",
     "text": [
      "Epoch 22 - VALIDATION LOSS: 0.0005071943451184779 - VALIDATION PSNR: 33.470794677734375 - VALIDATION SSIM: 0.8772026099738554\n"
     ]
    },
    {
     "name": "stderr",
     "output_type": "stream",
     "text": [
      "  0%|          | 24/10000 [14:44<99:27:15, 35.89s/it]"
     ]
    },
    {
     "name": "stdout",
     "output_type": "stream",
     "text": [
      "Epoch 24 - VALIDATION LOSS: 0.0004958152749168221 - VALIDATION PSNR: 33.16878890991211 - VALIDATION SSIM: 0.8770955736181141\n"
     ]
    },
    {
     "name": "stderr",
     "output_type": "stream",
     "text": [
      "  0%|          | 26/10000 [15:59<101:29:18, 36.63s/it]"
     ]
    },
    {
     "name": "stdout",
     "output_type": "stream",
     "text": [
      "Epoch 26 - VALIDATION LOSS: 0.0005014308007957879 - VALIDATION PSNR: 33.25928497314453 - VALIDATION SSIM: 0.87831858125408\n"
     ]
    },
    {
     "name": "stderr",
     "output_type": "stream",
     "text": [
      "  0%|          | 28/10000 [17:12<101:01:05, 36.47s/it]"
     ]
    },
    {
     "name": "stdout",
     "output_type": "stream",
     "text": [
      "Epoch 28 - VALIDATION LOSS: 0.0003775987115659518 - VALIDATION PSNR: 34.690181732177734 - VALIDATION SSIM: 0.903338749768436\n"
     ]
    },
    {
     "name": "stderr",
     "output_type": "stream",
     "text": [
      "  0%|          | 29/10000 [17:49<101:15:25, 36.56s/it]"
     ]
    },
    {
     "name": "stdout",
     "output_type": "stream",
     "text": [
      "Epoch 30 - VALIDATION LOSS: 0.00042597231549734715 - VALIDATION PSNR: 34.731895446777344 - VALIDATION SSIM: 0.8960040878619552\n"
     ]
    },
    {
     "name": "stderr",
     "output_type": "stream",
     "text": [
      "  0%|          | 32/10000 [19:40<102:50:42, 37.14s/it]"
     ]
    },
    {
     "name": "stdout",
     "output_type": "stream",
     "text": [
      "Epoch 32 - VALIDATION LOSS: 0.000532328633198631 - VALIDATION PSNR: 33.47905731201172 - VALIDATION SSIM: 0.8770723815946578\n"
     ]
    },
    {
     "name": "stderr",
     "output_type": "stream",
     "text": [
      "  0%|          | 34/10000 [20:58<105:07:02, 37.97s/it]"
     ]
    },
    {
     "name": "stdout",
     "output_type": "stream",
     "text": [
      "Epoch 34 - VALIDATION LOSS: 0.00044040846660209354 - VALIDATION PSNR: 34.31718444824219 - VALIDATION SSIM: 0.8938705918488503\n"
     ]
    },
    {
     "name": "stderr",
     "output_type": "stream",
     "text": [
      "  0%|          | 36/10000 [22:11<102:59:55, 37.21s/it]"
     ]
    },
    {
     "name": "stdout",
     "output_type": "stream",
     "text": [
      "Epoch 36 - VALIDATION LOSS: 0.0004640796578314621 - VALIDATION PSNR: 33.81351089477539 - VALIDATION SSIM: 0.8862885670247125\n"
     ]
    },
    {
     "name": "stderr",
     "output_type": "stream",
     "text": [
      "  0%|          | 38/10000 [23:27<104:52:32, 37.90s/it]"
     ]
    },
    {
     "name": "stdout",
     "output_type": "stream",
     "text": [
      "Epoch 38 - VALIDATION LOSS: 0.0005116766806168016 - VALIDATION PSNR: 33.383567810058594 - VALIDATION SSIM: 0.8792896204229397\n"
     ]
    },
    {
     "name": "stderr",
     "output_type": "stream",
     "text": [
      "  0%|          | 39/10000 [24:06<105:43:04, 38.21s/it]"
     ]
    },
    {
     "name": "stdout",
     "output_type": "stream",
     "text": [
      "Epoch 40 - VALIDATION LOSS: 0.00046068567826296203 - VALIDATION PSNR: 33.734458923339844 - VALIDATION SSIM: 0.8835908157005011\n"
     ]
    },
    {
     "name": "stderr",
     "output_type": "stream",
     "text": [
      "  0%|          | 42/10000 [25:55<101:50:29, 36.82s/it]"
     ]
    },
    {
     "name": "stdout",
     "output_type": "stream",
     "text": [
      "Epoch 42 - VALIDATION LOSS: 0.000444496199634159 - VALIDATION PSNR: 34.020591735839844 - VALIDATION SSIM: 0.8857147653553487\n"
     ]
    },
    {
     "name": "stderr",
     "output_type": "stream",
     "text": [
      "  0%|          | 44/10000 [27:11<103:59:23, 37.60s/it]"
     ]
    },
    {
     "name": "stdout",
     "output_type": "stream",
     "text": [
      "Epoch 44 - VALIDATION LOSS: 0.0003358996455062879 - VALIDATION PSNR: 35.3924446105957 - VALIDATION SSIM: 0.9131135876610578\n"
     ]
    },
    {
     "name": "stderr",
     "output_type": "stream",
     "text": [
      "  0%|          | 46/10000 [28:29<105:37:04, 38.20s/it]"
     ]
    },
    {
     "name": "stdout",
     "output_type": "stream",
     "text": [
      "Epoch 46 - VALIDATION LOSS: 0.0004082209870830411 - VALIDATION PSNR: 34.52706527709961 - VALIDATION SSIM: 0.8982140939620733\n"
     ]
    },
    {
     "name": "stderr",
     "output_type": "stream",
     "text": [
      "  0%|          | 48/10000 [29:40<102:00:31, 36.90s/it]"
     ]
    },
    {
     "name": "stdout",
     "output_type": "stream",
     "text": [
      "Epoch 48 - VALIDATION LOSS: 0.00034195874104625545 - VALIDATION PSNR: 34.97850799560547 - VALIDATION SSIM: 0.9103067902552188\n"
     ]
    },
    {
     "name": "stderr",
     "output_type": "stream",
     "text": [
      "  0%|          | 49/10000 [30:18<102:23:57, 37.05s/it]"
     ]
    },
    {
     "name": "stdout",
     "output_type": "stream",
     "text": [
      "Epoch 50 - VALIDATION LOSS: 0.00041789769602473825 - VALIDATION PSNR: 33.99501419067383 - VALIDATION SSIM: 0.8941094528729319\n"
     ]
    },
    {
     "name": "stderr",
     "output_type": "stream",
     "text": [
      "  1%|          | 52/10000 [32:11<103:17:10, 37.38s/it]"
     ]
    },
    {
     "name": "stdout",
     "output_type": "stream",
     "text": [
      "Epoch 52 - VALIDATION LOSS: 0.0003177604612574214 - VALIDATION PSNR: 35.48006820678711 - VALIDATION SSIM: 0.9147748133810013\n"
     ]
    },
    {
     "name": "stderr",
     "output_type": "stream",
     "text": [
      "  1%|          | 54/10000 [33:22<100:46:29, 36.48s/it]"
     ]
    },
    {
     "name": "stdout",
     "output_type": "stream",
     "text": [
      "Epoch 54 - VALIDATION LOSS: 0.0002869669388019247 - VALIDATION PSNR: 35.78224563598633 - VALIDATION SSIM: 0.921609606925428\n"
     ]
    },
    {
     "name": "stderr",
     "output_type": "stream",
     "text": [
      "  1%|          | 56/10000 [34:37<102:28:18, 37.10s/it]"
     ]
    },
    {
     "name": "stdout",
     "output_type": "stream",
     "text": [
      "Epoch 56 - VALIDATION LOSS: 0.00041632707143435255 - VALIDATION PSNR: 34.478763580322266 - VALIDATION SSIM: 0.8963475488612354\n"
     ]
    },
    {
     "name": "stderr",
     "output_type": "stream",
     "text": [
      "  1%|          | 58/10000 [35:50<100:55:03, 36.54s/it]"
     ]
    },
    {
     "name": "stdout",
     "output_type": "stream",
     "text": [
      "Epoch 58 - VALIDATION LOSS: 0.0003851725014101248 - VALIDATION PSNR: 34.336788177490234 - VALIDATION SSIM: 0.9004762979156375\n"
     ]
    },
    {
     "name": "stderr",
     "output_type": "stream",
     "text": [
      "  1%|          | 59/10000 [36:26<100:36:02, 36.43s/it]"
     ]
    },
    {
     "name": "stdout",
     "output_type": "stream",
     "text": [
      "Epoch 60 - VALIDATION LOSS: 0.0004827210086659761 - VALIDATION PSNR: 33.86157989501953 - VALIDATION SSIM: 0.8815319588543507\n"
     ]
    },
    {
     "name": "stderr",
     "output_type": "stream",
     "text": [
      "  1%|          | 62/10000 [38:16<101:23:30, 36.73s/it]"
     ]
    },
    {
     "name": "stdout",
     "output_type": "stream",
     "text": [
      "Epoch 62 - VALIDATION LOSS: 0.00030479731867671944 - VALIDATION PSNR: 35.950801849365234 - VALIDATION SSIM: 0.919708635106057\n"
     ]
    },
    {
     "name": "stderr",
     "output_type": "stream",
     "text": [
      "  1%|          | 64/10000 [39:27<99:22:16, 36.00s/it] "
     ]
    },
    {
     "name": "stdout",
     "output_type": "stream",
     "text": [
      "Epoch 64 - VALIDATION LOSS: 0.0004121726506127743 - VALIDATION PSNR: 34.70161819458008 - VALIDATION SSIM: 0.8985910052720509\n"
     ]
    },
    {
     "name": "stderr",
     "output_type": "stream",
     "text": [
      "  1%|          | 66/10000 [40:38<98:41:05, 35.76s/it]"
     ]
    },
    {
     "name": "stdout",
     "output_type": "stream",
     "text": [
      "Epoch 66 - VALIDATION LOSS: 0.0003846068229904631 - VALIDATION PSNR: 34.627689361572266 - VALIDATION SSIM: 0.9030630485016926\n"
     ]
    },
    {
     "name": "stderr",
     "output_type": "stream",
     "text": [
      "  1%|          | 68/10000 [41:52<100:37:45, 36.47s/it]"
     ]
    },
    {
     "name": "stdout",
     "output_type": "stream",
     "text": [
      "Epoch 68 - VALIDATION LOSS: 0.0003976390216848813 - VALIDATION PSNR: 34.28542709350586 - VALIDATION SSIM: 0.8996640382213295\n"
     ]
    },
    {
     "name": "stderr",
     "output_type": "stream",
     "text": [
      "  1%|          | 69/10000 [42:30<101:59:16, 36.97s/it]"
     ]
    },
    {
     "name": "stdout",
     "output_type": "stream",
     "text": [
      "Epoch 70 - VALIDATION LOSS: 0.0003241076901758788 - VALIDATION PSNR: 35.44245910644531 - VALIDATION SSIM: 0.9158431364490687\n"
     ]
    },
    {
     "name": "stderr",
     "output_type": "stream",
     "text": [
      "  1%|          | 72/10000 [44:17<99:14:36, 35.99s/it] "
     ]
    },
    {
     "name": "stdout",
     "output_type": "stream",
     "text": [
      "Epoch 72 - VALIDATION LOSS: 0.00038869346462888643 - VALIDATION PSNR: 34.75216293334961 - VALIDATION SSIM: 0.9021377382871211\n"
     ]
    },
    {
     "name": "stderr",
     "output_type": "stream",
     "text": [
      "  1%|          | 74/10000 [45:32<101:33:19, 36.83s/it]"
     ]
    },
    {
     "name": "stdout",
     "output_type": "stream",
     "text": [
      "Epoch 74 - VALIDATION LOSS: 0.00033815974711615127 - VALIDATION PSNR: 35.36265563964844 - VALIDATION SSIM: 0.9142919899365305\n"
     ]
    },
    {
     "name": "stderr",
     "output_type": "stream",
     "text": [
      "  1%|          | 76/10000 [46:47<102:28:40, 37.17s/it]"
     ]
    },
    {
     "name": "stdout",
     "output_type": "stream",
     "text": [
      "Epoch 76 - VALIDATION LOSS: 0.00041198188955604564 - VALIDATION PSNR: 34.30837631225586 - VALIDATION SSIM: 0.8989517473244499\n"
     ]
    },
    {
     "name": "stderr",
     "output_type": "stream",
     "text": [
      "  1%|          | 78/10000 [48:00<101:31:27, 36.84s/it]"
     ]
    },
    {
     "name": "stdout",
     "output_type": "stream",
     "text": [
      "Epoch 78 - VALIDATION LOSS: 0.0003316609509056434 - VALIDATION PSNR: 35.39167785644531 - VALIDATION SSIM: 0.9153214837433696\n"
     ]
    },
    {
     "name": "stderr",
     "output_type": "stream",
     "text": [
      "  1%|          | 79/10000 [48:38<102:33:22, 37.21s/it]"
     ]
    },
    {
     "name": "stdout",
     "output_type": "stream",
     "text": [
      "Epoch 80 - VALIDATION LOSS: 0.000345169528372935 - VALIDATION PSNR: 34.96567916870117 - VALIDATION SSIM: 0.9120158408249914\n"
     ]
    },
    {
     "name": "stderr",
     "output_type": "stream",
     "text": [
      "  1%|          | 82/10000 [50:30<101:51:14, 36.97s/it]"
     ]
    },
    {
     "name": "stdout",
     "output_type": "stream",
     "text": [
      "Epoch 82 - VALIDATION LOSS: 0.00031680072606832255 - VALIDATION PSNR: 35.518428802490234 - VALIDATION SSIM: 0.9182613082346915\n"
     ]
    },
    {
     "name": "stderr",
     "output_type": "stream",
     "text": [
      "  1%|          | 84/10000 [51:42<100:36:35, 36.53s/it]"
     ]
    },
    {
     "name": "stdout",
     "output_type": "stream",
     "text": [
      "Epoch 84 - VALIDATION LOSS: 0.0003321803924336564 - VALIDATION PSNR: 35.63508605957031 - VALIDATION SSIM: 0.916761481335044\n"
     ]
    },
    {
     "name": "stderr",
     "output_type": "stream",
     "text": [
      "  1%|          | 86/10000 [52:56<101:17:24, 36.78s/it]"
     ]
    },
    {
     "name": "stdout",
     "output_type": "stream",
     "text": [
      "Epoch 86 - VALIDATION LOSS: 0.00031323304665420437 - VALIDATION PSNR: 35.76676559448242 - VALIDATION SSIM: 0.9196535005601422\n"
     ]
    },
    {
     "name": "stderr",
     "output_type": "stream",
     "text": [
      "  1%|          | 88/10000 [54:06<99:18:18, 36.07s/it] "
     ]
    },
    {
     "name": "stdout",
     "output_type": "stream",
     "text": [
      "Epoch 88 - VALIDATION LOSS: 0.00032520544846192934 - VALIDATION PSNR: 35.627010345458984 - VALIDATION SSIM: 0.91726658606996\n"
     ]
    },
    {
     "name": "stderr",
     "output_type": "stream",
     "text": [
      "  1%|          | 89/10000 [54:42<98:52:50, 35.92s/it]"
     ]
    },
    {
     "name": "stdout",
     "output_type": "stream",
     "text": [
      "Epoch 90 - VALIDATION LOSS: 0.0003779799098992953 - VALIDATION PSNR: 34.934322357177734 - VALIDATION SSIM: 0.9072892557339669\n"
     ]
    },
    {
     "name": "stderr",
     "output_type": "stream",
     "text": [
      "  1%|          | 92/10000 [56:34<101:38:37, 36.93s/it]"
     ]
    },
    {
     "name": "stdout",
     "output_type": "stream",
     "text": [
      "Epoch 92 - VALIDATION LOSS: 0.0003891226260748226 - VALIDATION PSNR: 34.312984466552734 - VALIDATION SSIM: 0.9026930197347999\n"
     ]
    },
    {
     "name": "stderr",
     "output_type": "stream",
     "text": [
      "  1%|          | 94/10000 [57:47<100:41:42, 36.59s/it]"
     ]
    },
    {
     "name": "stdout",
     "output_type": "stream",
     "text": [
      "Epoch 94 - VALIDATION LOSS: 0.00031483398015552666 - VALIDATION PSNR: 35.768680572509766 - VALIDATION SSIM: 0.9197001305791735\n"
     ]
    },
    {
     "name": "stderr",
     "output_type": "stream",
     "text": [
      "  1%|          | 96/10000 [58:59<99:44:05, 36.25s/it] "
     ]
    },
    {
     "name": "stdout",
     "output_type": "stream",
     "text": [
      "Epoch 96 - VALIDATION LOSS: 0.0002935526099463459 - VALIDATION PSNR: 35.5560302734375 - VALIDATION SSIM: 0.9227686397092938\n"
     ]
    },
    {
     "name": "stderr",
     "output_type": "stream",
     "text": [
      "  1%|          | 98/10000 [1:00:14<101:31:47, 36.91s/it]"
     ]
    },
    {
     "name": "stdout",
     "output_type": "stream",
     "text": [
      "Epoch 98 - VALIDATION LOSS: 0.00037294959020073293 - VALIDATION PSNR: 34.99166488647461 - VALIDATION SSIM: 0.9076142041009665\n"
     ]
    },
    {
     "name": "stderr",
     "output_type": "stream",
     "text": [
      "  1%|          | 99/10000 [1:00:49<100:30:58, 36.55s/it]"
     ]
    },
    {
     "name": "stdout",
     "output_type": "stream",
     "text": [
      "Epoch 100 - VALIDATION LOSS: 0.00041409613731957506 - VALIDATION PSNR: 34.38624954223633 - VALIDATION SSIM: 0.8993305177651942\n"
     ]
    },
    {
     "name": "stderr",
     "output_type": "stream",
     "text": [
      "  1%|          | 102/10000 [1:02:36<98:46:45, 35.93s/it]"
     ]
    },
    {
     "name": "stdout",
     "output_type": "stream",
     "text": [
      "Epoch 102 - VALIDATION LOSS: 0.0003961083621106809 - VALIDATION PSNR: 34.278873443603516 - VALIDATION SSIM: 0.9014055373061002\n"
     ]
    },
    {
     "name": "stderr",
     "output_type": "stream",
     "text": [
      "  1%|          | 104/10000 [1:03:51<100:39:32, 36.62s/it]"
     ]
    },
    {
     "name": "stdout",
     "output_type": "stream",
     "text": [
      "Epoch 104 - VALIDATION LOSS: 0.0003281647614130634 - VALIDATION PSNR: 35.5406379699707 - VALIDATION SSIM: 0.9180264919046761\n"
     ]
    },
    {
     "name": "stderr",
     "output_type": "stream",
     "text": [
      "  1%|          | 106/10000 [1:05:03<99:55:29, 36.36s/it] "
     ]
    },
    {
     "name": "stdout",
     "output_type": "stream",
     "text": [
      "Epoch 106 - VALIDATION LOSS: 0.00035035311066167196 - VALIDATION PSNR: 35.48783874511719 - VALIDATION SSIM: 0.9139943080764116\n"
     ]
    },
    {
     "name": "stderr",
     "output_type": "stream",
     "text": [
      "  1%|          | 108/10000 [1:06:16<100:19:40, 36.51s/it]"
     ]
    },
    {
     "name": "stdout",
     "output_type": "stream",
     "text": [
      "Epoch 108 - VALIDATION LOSS: 0.00039245574589585885 - VALIDATION PSNR: 34.45014572143555 - VALIDATION SSIM: 0.9032136618752851\n"
     ]
    },
    {
     "name": "stderr",
     "output_type": "stream",
     "text": [
      "  1%|          | 109/10000 [1:06:52<100:06:07, 36.43s/it]"
     ]
    },
    {
     "name": "stdout",
     "output_type": "stream",
     "text": [
      "Epoch 110 - VALIDATION LOSS: 0.0004201491756248288 - VALIDATION PSNR: 33.956050872802734 - VALIDATION SSIM: 0.8977835212081523\n"
     ]
    },
    {
     "name": "stderr",
     "output_type": "stream",
     "text": [
      "  1%|          | 112/10000 [1:08:38<98:31:18, 35.87s/it] "
     ]
    },
    {
     "name": "stdout",
     "output_type": "stream",
     "text": [
      "Epoch 112 - VALIDATION LOSS: 0.00036943222585250624 - VALIDATION PSNR: 34.72353744506836 - VALIDATION SSIM: 0.9077067663164772\n"
     ]
    },
    {
     "name": "stderr",
     "output_type": "stream",
     "text": [
      "  1%|          | 114/10000 [1:09:53<100:26:12, 36.57s/it]"
     ]
    },
    {
     "name": "stdout",
     "output_type": "stream",
     "text": [
      "Epoch 114 - VALIDATION LOSS: 0.00037859496023884276 - VALIDATION PSNR: 34.87893295288086 - VALIDATION SSIM: 0.9066985990606845\n"
     ]
    },
    {
     "name": "stderr",
     "output_type": "stream",
     "text": [
      "  1%|          | 116/10000 [1:11:05<99:24:10, 36.21s/it] "
     ]
    },
    {
     "name": "stdout",
     "output_type": "stream",
     "text": [
      "Epoch 116 - VALIDATION LOSS: 0.00029925642047601286 - VALIDATION PSNR: 35.51191329956055 - VALIDATION SSIM: 0.9222475963711678\n"
     ]
    },
    {
     "name": "stderr",
     "output_type": "stream",
     "text": [
      "  1%|          | 118/10000 [1:12:17<99:08:29, 36.12s/it]"
     ]
    },
    {
     "name": "stdout",
     "output_type": "stream",
     "text": [
      "Epoch 118 - VALIDATION LOSS: 0.00036060321144759655 - VALIDATION PSNR: 35.225929260253906 - VALIDATION SSIM: 0.9124303250991156\n"
     ]
    },
    {
     "name": "stderr",
     "output_type": "stream",
     "text": [
      "  1%|          | 119/10000 [1:12:54<100:02:15, 36.45s/it]"
     ]
    },
    {
     "name": "stdout",
     "output_type": "stream",
     "text": [
      "Epoch 120 - VALIDATION LOSS: 0.00029111762705724686 - VALIDATION PSNR: 35.71579360961914 - VALIDATION SSIM: 0.9234354487107396\n"
     ]
    },
    {
     "name": "stderr",
     "output_type": "stream",
     "text": [
      "  1%|          | 122/10000 [1:14:43<99:15:31, 36.17s/it] "
     ]
    },
    {
     "name": "stdout",
     "output_type": "stream",
     "text": [
      "Epoch 122 - VALIDATION LOSS: 0.000354526101546071 - VALIDATION PSNR: 35.10356521606445 - VALIDATION SSIM: 0.9111293608476223\n"
     ]
    },
    {
     "name": "stderr",
     "output_type": "stream",
     "text": [
      "  1%|          | 124/10000 [1:15:54<98:56:11, 36.06s/it]"
     ]
    },
    {
     "name": "stdout",
     "output_type": "stream",
     "text": [
      "Epoch 124 - VALIDATION LOSS: 0.0003004091795446584 - VALIDATION PSNR: 35.693443298339844 - VALIDATION SSIM: 0.9208222585427016\n"
     ]
    },
    {
     "name": "stderr",
     "output_type": "stream",
     "text": [
      "  1%|▏         | 126/10000 [1:17:08<100:25:12, 36.61s/it]"
     ]
    },
    {
     "name": "stdout",
     "output_type": "stream",
     "text": [
      "Epoch 126 - VALIDATION LOSS: 0.0003586124366847798 - VALIDATION PSNR: 35.4442024230957 - VALIDATION SSIM: 0.9134179046290218\n"
     ]
    },
    {
     "name": "stderr",
     "output_type": "stream",
     "text": [
      "  1%|▏         | 128/10000 [1:18:19<99:11:40, 36.17s/it] "
     ]
    },
    {
     "name": "stdout",
     "output_type": "stream",
     "text": [
      "Epoch 128 - VALIDATION LOSS: 0.0002977883068524534 - VALIDATION PSNR: 35.60443115234375 - VALIDATION SSIM: 0.9231888962234854\n"
     ]
    },
    {
     "name": "stderr",
     "output_type": "stream",
     "text": [
      "  1%|▏         | 129/10000 [1:18:58<100:46:54, 36.76s/it]"
     ]
    },
    {
     "name": "stdout",
     "output_type": "stream",
     "text": [
      "Epoch 130 - VALIDATION LOSS: 0.00028444804047467187 - VALIDATION PSNR: 35.7951774597168 - VALIDATION SSIM: 0.925924928301394\n"
     ]
    },
    {
     "name": "stderr",
     "output_type": "stream",
     "text": [
      "  1%|▏         | 132/10000 [1:20:47<99:32:27, 36.31s/it] "
     ]
    },
    {
     "name": "stdout",
     "output_type": "stream",
     "text": [
      "Epoch 132 - VALIDATION LOSS: 0.0002982439982588403 - VALIDATION PSNR: 35.36772918701172 - VALIDATION SSIM: 0.9208582158260344\n"
     ]
    },
    {
     "name": "stderr",
     "output_type": "stream",
     "text": [
      "  1%|▏         | 134/10000 [1:22:02<101:31:38, 37.05s/it]"
     ]
    },
    {
     "name": "stdout",
     "output_type": "stream",
     "text": [
      "Epoch 134 - VALIDATION LOSS: 0.0004104733307030983 - VALIDATION PSNR: 34.31248092651367 - VALIDATION SSIM: 0.8994377183139919\n"
     ]
    },
    {
     "name": "stderr",
     "output_type": "stream",
     "text": [
      "  1%|▏         | 136/10000 [1:23:18<102:40:40, 37.47s/it]"
     ]
    },
    {
     "name": "stdout",
     "output_type": "stream",
     "text": [
      "Epoch 136 - VALIDATION LOSS: 0.00034730408879113384 - VALIDATION PSNR: 35.55889129638672 - VALIDATION SSIM: 0.9150422290847674\n"
     ]
    },
    {
     "name": "stderr",
     "output_type": "stream",
     "text": [
      "  1%|▏         | 138/10000 [1:24:29<100:19:03, 36.62s/it]"
     ]
    },
    {
     "name": "stdout",
     "output_type": "stream",
     "text": [
      "Epoch 138 - VALIDATION LOSS: 0.0003772739364649169 - VALIDATION PSNR: 34.4693717956543 - VALIDATION SSIM: 0.9064265892972649\n"
     ]
    },
    {
     "name": "stderr",
     "output_type": "stream",
     "text": [
      "  1%|▏         | 139/10000 [1:25:03<98:05:45, 35.81s/it] "
     ]
    },
    {
     "name": "stdout",
     "output_type": "stream",
     "text": [
      "Epoch 140 - VALIDATION LOSS: 0.0004322333770687692 - VALIDATION PSNR: 34.28957748413086 - VALIDATION SSIM: 0.8981361571858659\n"
     ]
    },
    {
     "name": "stderr",
     "output_type": "stream",
     "text": [
      "  1%|▏         | 142/10000 [1:26:52<99:17:26, 36.26s/it]"
     ]
    },
    {
     "name": "stdout",
     "output_type": "stream",
     "text": [
      "Epoch 142 - VALIDATION LOSS: 0.00035824085171043407 - VALIDATION PSNR: 34.82338333129883 - VALIDATION SSIM: 0.9099374845153911\n"
     ]
    },
    {
     "name": "stderr",
     "output_type": "stream",
     "text": [
      "  1%|▏         | 144/10000 [1:28:04<98:33:13, 36.00s/it]"
     ]
    },
    {
     "name": "stdout",
     "output_type": "stream",
     "text": [
      "Epoch 144 - VALIDATION LOSS: 0.0004404610808705911 - VALIDATION PSNR: 33.98637771606445 - VALIDATION SSIM: 0.8967035425878278\n"
     ]
    },
    {
     "name": "stderr",
     "output_type": "stream",
     "text": [
      "  1%|▏         | 146/10000 [1:29:12<95:45:44, 34.99s/it]"
     ]
    },
    {
     "name": "stdout",
     "output_type": "stream",
     "text": [
      "Epoch 146 - VALIDATION LOSS: 0.0003628136983024888 - VALIDATION PSNR: 35.22819519042969 - VALIDATION SSIM: 0.9118825778547227\n"
     ]
    },
    {
     "name": "stderr",
     "output_type": "stream",
     "text": [
      "  1%|▏         | 148/10000 [1:30:22<95:34:27, 34.92s/it]"
     ]
    },
    {
     "name": "stdout",
     "output_type": "stream",
     "text": [
      "Epoch 148 - VALIDATION LOSS: 0.0003592336524889106 - VALIDATION PSNR: 35.59246063232422 - VALIDATION SSIM: 0.9145123423270881\n"
     ]
    },
    {
     "name": "stderr",
     "output_type": "stream",
     "text": [
      "  1%|▏         | 149/10000 [1:30:57<96:00:18, 35.08s/it]"
     ]
    },
    {
     "name": "stdout",
     "output_type": "stream",
     "text": [
      "Epoch 150 - VALIDATION LOSS: 0.0002923550164268818 - VALIDATION PSNR: 35.90630340576172 - VALIDATION SSIM: 0.9241844717535078\n"
     ]
    },
    {
     "name": "stderr",
     "output_type": "stream",
     "text": [
      "  2%|▏         | 152/10000 [1:32:45<96:49:14, 35.39s/it]"
     ]
    },
    {
     "name": "stdout",
     "output_type": "stream",
     "text": [
      "Epoch 152 - VALIDATION LOSS: 0.0002162675082217902 - VALIDATION PSNR: 37.22721481323242 - VALIDATION SSIM: 0.9405627660009562\n"
     ]
    },
    {
     "name": "stderr",
     "output_type": "stream",
     "text": [
      "  2%|▏         | 154/10000 [1:33:52<94:30:10, 34.55s/it]"
     ]
    },
    {
     "name": "stdout",
     "output_type": "stream",
     "text": [
      "Epoch 154 - VALIDATION LOSS: 0.0002790048747556284 - VALIDATION PSNR: 35.96030807495117 - VALIDATION SSIM: 0.9256791089026855\n"
     ]
    },
    {
     "name": "stderr",
     "output_type": "stream",
     "text": [
      "  2%|▏         | 156/10000 [1:35:01<94:58:27, 34.73s/it]"
     ]
    },
    {
     "name": "stdout",
     "output_type": "stream",
     "text": [
      "Epoch 156 - VALIDATION LOSS: 0.00030219728614611086 - VALIDATION PSNR: 35.701446533203125 - VALIDATION SSIM: 0.9215267767924964\n"
     ]
    },
    {
     "name": "stderr",
     "output_type": "stream",
     "text": [
      "  2%|▏         | 158/10000 [1:36:14<97:23:19, 35.62s/it]"
     ]
    },
    {
     "name": "stdout",
     "output_type": "stream",
     "text": [
      "Epoch 158 - VALIDATION LOSS: 0.00036859641477349214 - VALIDATION PSNR: 35.167381286621094 - VALIDATION SSIM: 0.9106310822047292\n"
     ]
    },
    {
     "name": "stderr",
     "output_type": "stream",
     "text": [
      "  2%|▏         | 159/10000 [1:36:49<96:35:09, 35.33s/it]"
     ]
    },
    {
     "name": "stdout",
     "output_type": "stream",
     "text": [
      "Epoch 160 - VALIDATION LOSS: 0.00031960781871021027 - VALIDATION PSNR: 35.632896423339844 - VALIDATION SSIM: 0.9188821983223315\n"
     ]
    },
    {
     "name": "stderr",
     "output_type": "stream",
     "text": [
      "  2%|▏         | 162/10000 [1:38:33<95:13:42, 34.85s/it]"
     ]
    },
    {
     "name": "stdout",
     "output_type": "stream",
     "text": [
      "Epoch 162 - VALIDATION LOSS: 0.0002906606296164682 - VALIDATION PSNR: 35.964691162109375 - VALIDATION SSIM: 0.9248113982645869\n"
     ]
    },
    {
     "name": "stderr",
     "output_type": "stream",
     "text": [
      "  2%|▏         | 164/10000 [1:39:46<97:39:38, 35.74s/it]"
     ]
    },
    {
     "name": "stdout",
     "output_type": "stream",
     "text": [
      "Epoch 164 - VALIDATION LOSS: 0.0003060466406168416 - VALIDATION PSNR: 35.368621826171875 - VALIDATION SSIM: 0.9200922725369969\n"
     ]
    },
    {
     "name": "stderr",
     "output_type": "stream",
     "text": [
      "  2%|▏         | 166/10000 [1:40:57<97:34:16, 35.72s/it]"
     ]
    },
    {
     "name": "stdout",
     "output_type": "stream",
     "text": [
      "Epoch 166 - VALIDATION LOSS: 0.00029133974749129266 - VALIDATION PSNR: 35.586273193359375 - VALIDATION SSIM: 0.9226738944506944\n"
     ]
    },
    {
     "name": "stderr",
     "output_type": "stream",
     "text": [
      "  2%|▏         | 168/10000 [1:42:04<94:25:49, 34.58s/it]"
     ]
    },
    {
     "name": "stdout",
     "output_type": "stream",
     "text": [
      "Epoch 168 - VALIDATION LOSS: 0.00031786092040420044 - VALIDATION PSNR: 35.2653923034668 - VALIDATION SSIM: 0.9176808934385311\n"
     ]
    },
    {
     "name": "stderr",
     "output_type": "stream",
     "text": [
      "  2%|▏         | 169/10000 [1:42:38<93:38:59, 34.29s/it]"
     ]
    },
    {
     "name": "stdout",
     "output_type": "stream",
     "text": [
      "Epoch 170 - VALIDATION LOSS: 0.00039645599554205546 - VALIDATION PSNR: 34.714962005615234 - VALIDATION SSIM: 0.9056827988389733\n"
     ]
    },
    {
     "name": "stderr",
     "output_type": "stream",
     "text": [
      "  2%|▏         | 172/10000 [1:44:26<96:39:07, 35.40s/it]"
     ]
    },
    {
     "name": "stdout",
     "output_type": "stream",
     "text": [
      "Epoch 172 - VALIDATION LOSS: 0.00022708388041792205 - VALIDATION PSNR: 36.82538986206055 - VALIDATION SSIM: 0.9372872552236915\n"
     ]
    },
    {
     "name": "stderr",
     "output_type": "stream",
     "text": [
      "  2%|▏         | 174/10000 [1:45:35<95:10:09, 34.87s/it]"
     ]
    },
    {
     "name": "stdout",
     "output_type": "stream",
     "text": [
      "Epoch 174 - VALIDATION LOSS: 0.00029582835668406915 - VALIDATION PSNR: 35.43968963623047 - VALIDATION SSIM: 0.9224200837719441\n"
     ]
    },
    {
     "name": "stderr",
     "output_type": "stream",
     "text": [
      "  2%|▏         | 176/10000 [1:46:40<92:25:25, 33.87s/it]"
     ]
    },
    {
     "name": "stdout",
     "output_type": "stream",
     "text": [
      "Epoch 176 - VALIDATION LOSS: 0.00033153960794152226 - VALIDATION PSNR: 35.255428314208984 - VALIDATION SSIM: 0.9162269232712538\n"
     ]
    },
    {
     "name": "stderr",
     "output_type": "stream",
     "text": [
      "  2%|▏         | 178/10000 [1:47:51<94:20:30, 34.58s/it]"
     ]
    },
    {
     "name": "stdout",
     "output_type": "stream",
     "text": [
      "Epoch 178 - VALIDATION LOSS: 0.00036812575308431406 - VALIDATION PSNR: 34.501861572265625 - VALIDATION SSIM: 0.907567347953599\n"
     ]
    },
    {
     "name": "stderr",
     "output_type": "stream",
     "text": [
      "  2%|▏         | 179/10000 [1:48:27<95:21:46, 34.96s/it]"
     ]
    },
    {
     "name": "stdout",
     "output_type": "stream",
     "text": [
      "Epoch 180 - VALIDATION LOSS: 0.00037695815626648255 - VALIDATION PSNR: 34.44977951049805 - VALIDATION SSIM: 0.9067453635022938\n"
     ]
    },
    {
     "name": "stderr",
     "output_type": "stream",
     "text": [
      "  2%|▏         | 182/10000 [1:50:11<94:41:39, 34.72s/it]"
     ]
    },
    {
     "name": "stdout",
     "output_type": "stream",
     "text": [
      "Epoch 182 - VALIDATION LOSS: 0.00033846133555925917 - VALIDATION PSNR: 34.92053985595703 - VALIDATION SSIM: 0.9139869474768677\n"
     ]
    },
    {
     "name": "stderr",
     "output_type": "stream",
     "text": [
      "  2%|▏         | 184/10000 [1:51:17<92:13:29, 33.82s/it]"
     ]
    },
    {
     "name": "stdout",
     "output_type": "stream",
     "text": [
      "Epoch 184 - VALIDATION LOSS: 0.0002875612881325651 - VALIDATION PSNR: 36.425567626953125 - VALIDATION SSIM: 0.9276390815355481\n"
     ]
    },
    {
     "name": "stderr",
     "output_type": "stream",
     "text": [
      "  2%|▏         | 186/10000 [1:52:29<95:06:16, 34.89s/it]"
     ]
    },
    {
     "name": "stdout",
     "output_type": "stream",
     "text": [
      "Epoch 186 - VALIDATION LOSS: 0.00037122473077033646 - VALIDATION PSNR: 34.927032470703125 - VALIDATION SSIM: 0.9094697916765175\n"
     ]
    },
    {
     "name": "stderr",
     "output_type": "stream",
     "text": [
      "  2%|▏         | 188/10000 [1:53:41<96:55:45, 35.56s/it]"
     ]
    },
    {
     "name": "stdout",
     "output_type": "stream",
     "text": [
      "Epoch 188 - VALIDATION LOSS: 0.00033369831635354785 - VALIDATION PSNR: 35.28007888793945 - VALIDATION SSIM: 0.91728006723544\n"
     ]
    },
    {
     "name": "stderr",
     "output_type": "stream",
     "text": [
      "  2%|▏         | 189/10000 [1:54:15<95:00:45, 34.86s/it]"
     ]
    },
    {
     "name": "stdout",
     "output_type": "stream",
     "text": [
      "Epoch 190 - VALIDATION LOSS: 0.00030063881058595143 - VALIDATION PSNR: 35.759620666503906 - VALIDATION SSIM: 0.9237106417648493\n"
     ]
    },
    {
     "name": "stderr",
     "output_type": "stream",
     "text": [
      "  2%|▏         | 192/10000 [1:55:56<92:54:26, 34.10s/it]"
     ]
    },
    {
     "name": "stdout",
     "output_type": "stream",
     "text": [
      "Epoch 192 - VALIDATION LOSS: 0.00027852920538862236 - VALIDATION PSNR: 36.099365234375 - VALIDATION SSIM: 0.9273745285712929\n"
     ]
    },
    {
     "name": "stderr",
     "output_type": "stream",
     "text": [
      "  2%|▏         | 194/10000 [1:57:08<95:52:47, 35.20s/it]"
     ]
    },
    {
     "name": "stdout",
     "output_type": "stream",
     "text": [
      "Epoch 194 - VALIDATION LOSS: 0.00021702523554267827 - VALIDATION PSNR: 36.760475158691406 - VALIDATION SSIM: 0.9394542548545302\n"
     ]
    },
    {
     "name": "stderr",
     "output_type": "stream",
     "text": [
      "  2%|▏         | 196/10000 [1:58:20<96:52:53, 35.57s/it]"
     ]
    },
    {
     "name": "stdout",
     "output_type": "stream",
     "text": [
      "Epoch 196 - VALIDATION LOSS: 0.000339800062647555 - VALIDATION PSNR: 34.926700592041016 - VALIDATION SSIM: 0.9137865690624416\n"
     ]
    },
    {
     "name": "stderr",
     "output_type": "stream",
     "text": [
      "  2%|▏         | 198/10000 [1:59:26<93:21:51, 34.29s/it]"
     ]
    },
    {
     "name": "stdout",
     "output_type": "stream",
     "text": [
      "Epoch 198 - VALIDATION LOSS: 0.0003183390163030708 - VALIDATION PSNR: 35.21675491333008 - VALIDATION SSIM: 0.9188944939046502\n"
     ]
    },
    {
     "name": "stderr",
     "output_type": "stream",
     "text": [
      "  2%|▏         | 199/10000 [2:00:00<93:12:15, 34.23s/it]"
     ]
    },
    {
     "name": "stdout",
     "output_type": "stream",
     "text": [
      "Epoch 200 - VALIDATION LOSS: 0.00031804063473828137 - VALIDATION PSNR: 35.293212890625 - VALIDATION SSIM: 0.9185771019160449\n"
     ]
    },
    {
     "name": "stderr",
     "output_type": "stream",
     "text": [
      "  2%|▏         | 202/10000 [2:01:49<96:43:22, 35.54s/it]"
     ]
    },
    {
     "name": "stdout",
     "output_type": "stream",
     "text": [
      "Epoch 202 - VALIDATION LOSS: 0.0003262507498220657 - VALIDATION PSNR: 35.61407470703125 - VALIDATION SSIM: 0.9193615822694001\n"
     ]
    },
    {
     "name": "stderr",
     "output_type": "stream",
     "text": [
      "  2%|▏         | 204/10000 [2:02:57<94:51:40, 34.86s/it]"
     ]
    },
    {
     "name": "stdout",
     "output_type": "stream",
     "text": [
      "Epoch 204 - VALIDATION LOSS: 0.00028996071705478244 - VALIDATION PSNR: 35.94258117675781 - VALIDATION SSIM: 0.9250465885830819\n"
     ]
    },
    {
     "name": "stderr",
     "output_type": "stream",
     "text": [
      "  2%|▏         | 206/10000 [2:04:04<92:42:32, 34.08s/it]"
     ]
    },
    {
     "name": "stdout",
     "output_type": "stream",
     "text": [
      "Epoch 206 - VALIDATION LOSS: 0.0002590591539046727 - VALIDATION PSNR: 36.948272705078125 - VALIDATION SSIM: 0.932720964179307\n"
     ]
    },
    {
     "name": "stderr",
     "output_type": "stream",
     "text": [
      "  2%|▏         | 208/10000 [2:05:14<94:38:34, 34.80s/it]"
     ]
    },
    {
     "name": "stdout",
     "output_type": "stream",
     "text": [
      "Epoch 208 - VALIDATION LOSS: 0.00034466528086340986 - VALIDATION PSNR: 35.325679779052734 - VALIDATION SSIM: 0.9162078067730367\n"
     ]
    },
    {
     "name": "stderr",
     "output_type": "stream",
     "text": [
      "  2%|▏         | 209/10000 [2:05:51<95:48:05, 35.22s/it]"
     ]
    },
    {
     "name": "stdout",
     "output_type": "stream",
     "text": [
      "Epoch 210 - VALIDATION LOSS: 0.0003748907947738189 - VALIDATION PSNR: 34.40672302246094 - VALIDATION SSIM: 0.9077482375374882\n"
     ]
    },
    {
     "name": "stderr",
     "output_type": "stream",
     "text": [
      "  2%|▏         | 212/10000 [2:07:35<94:51:04, 34.89s/it]"
     ]
    },
    {
     "name": "stdout",
     "output_type": "stream",
     "text": [
      "Epoch 212 - VALIDATION LOSS: 0.0003817233900917927 - VALIDATION PSNR: 35.02671813964844 - VALIDATION SSIM: 0.9083880046482086\n"
     ]
    },
    {
     "name": "stderr",
     "output_type": "stream",
     "text": [
      "  2%|▏         | 214/10000 [2:08:44<94:21:04, 34.71s/it]"
     ]
    },
    {
     "name": "stdout",
     "output_type": "stream",
     "text": [
      "Epoch 214 - VALIDATION LOSS: 0.0003503334719425766 - VALIDATION PSNR: 34.89707565307617 - VALIDATION SSIM: 0.9120767926079929\n"
     ]
    },
    {
     "name": "stderr",
     "output_type": "stream",
     "text": [
      "  2%|▏         | 216/10000 [2:09:56<96:06:01, 35.36s/it]"
     ]
    },
    {
     "name": "stdout",
     "output_type": "stream",
     "text": [
      "Epoch 216 - VALIDATION LOSS: 0.00035484639192873146 - VALIDATION PSNR: 35.48567199707031 - VALIDATION SSIM: 0.9143554745967986\n"
     ]
    },
    {
     "name": "stderr",
     "output_type": "stream",
     "text": [
      "  2%|▏         | 218/10000 [2:11:07<95:55:00, 35.30s/it]"
     ]
    },
    {
     "name": "stdout",
     "output_type": "stream",
     "text": [
      "Epoch 218 - VALIDATION LOSS: 0.00033047853139578365 - VALIDATION PSNR: 35.2279167175293 - VALIDATION SSIM: 0.9174118852043599\n"
     ]
    },
    {
     "name": "stderr",
     "output_type": "stream",
     "text": [
      "  2%|▏         | 219/10000 [2:11:40<94:13:39, 34.68s/it]"
     ]
    },
    {
     "name": "stdout",
     "output_type": "stream",
     "text": [
      "Epoch 220 - VALIDATION LOSS: 0.00030402886295632925 - VALIDATION PSNR: 35.81689453125 - VALIDATION SSIM: 0.9236267581861615\n"
     ]
    },
    {
     "name": "stderr",
     "output_type": "stream",
     "text": [
      "  2%|▏         | 222/10000 [2:13:24<94:41:16, 34.86s/it]"
     ]
    },
    {
     "name": "stdout",
     "output_type": "stream",
     "text": [
      "Epoch 222 - VALIDATION LOSS: 0.0003500406710372772 - VALIDATION PSNR: 35.12858963012695 - VALIDATION SSIM: 0.9135677675668596\n"
     ]
    },
    {
     "name": "stderr",
     "output_type": "stream",
     "text": [
      "  2%|▏         | 224/10000 [2:14:36<96:09:53, 35.41s/it]"
     ]
    },
    {
     "name": "stdout",
     "output_type": "stream",
     "text": [
      "Epoch 224 - VALIDATION LOSS: 0.0003175019091941067 - VALIDATION PSNR: 35.75163269042969 - VALIDATION SSIM: 0.9212746041083355\n"
     ]
    },
    {
     "name": "stderr",
     "output_type": "stream",
     "text": [
      "  2%|▏         | 226/10000 [2:15:46<95:11:53, 35.06s/it]"
     ]
    },
    {
     "name": "stdout",
     "output_type": "stream",
     "text": [
      "Epoch 226 - VALIDATION LOSS: 0.00033209911998710595 - VALIDATION PSNR: 35.730743408203125 - VALIDATION SSIM: 0.9183248433082402\n"
     ]
    },
    {
     "name": "stderr",
     "output_type": "stream",
     "text": [
      "  2%|▏         | 228/10000 [2:16:53<93:26:21, 34.42s/it]"
     ]
    },
    {
     "name": "stdout",
     "output_type": "stream",
     "text": [
      "Epoch 228 - VALIDATION LOSS: 0.00024638196555315517 - VALIDATION PSNR: 36.48423767089844 - VALIDATION SSIM: 0.9343722737514375\n"
     ]
    },
    {
     "name": "stderr",
     "output_type": "stream",
     "text": [
      "  2%|▏         | 229/10000 [2:17:26<92:28:23, 34.07s/it]"
     ]
    },
    {
     "name": "stdout",
     "output_type": "stream",
     "text": [
      "Epoch 230 - VALIDATION LOSS: 0.00024918837334553245 - VALIDATION PSNR: 36.38044357299805 - VALIDATION SSIM: 0.9338634772734045\n"
     ]
    },
    {
     "name": "stderr",
     "output_type": "stream",
     "text": [
      "  2%|▏         | 232/10000 [2:19:15<95:53:01, 35.34s/it]"
     ]
    },
    {
     "name": "stdout",
     "output_type": "stream",
     "text": [
      "Epoch 232 - VALIDATION LOSS: 0.0002321610763829085 - VALIDATION PSNR: 37.113441467285156 - VALIDATION SSIM: 0.9386146739450694\n"
     ]
    },
    {
     "name": "stderr",
     "output_type": "stream",
     "text": [
      "  2%|▏         | 234/10000 [2:20:24<94:45:45, 34.93s/it]"
     ]
    },
    {
     "name": "stdout",
     "output_type": "stream",
     "text": [
      "Epoch 234 - VALIDATION LOSS: 0.0003057359172089491 - VALIDATION PSNR: 36.03440856933594 - VALIDATION SSIM: 0.9235055876370966\n"
     ]
    },
    {
     "name": "stderr",
     "output_type": "stream",
     "text": [
      "  2%|▏         | 236/10000 [2:21:31<92:35:32, 34.14s/it]"
     ]
    },
    {
     "name": "stdout",
     "output_type": "stream",
     "text": [
      "Epoch 236 - VALIDATION LOSS: 0.0003554766708475654 - VALIDATION PSNR: 35.11810302734375 - VALIDATION SSIM: 0.9124376716358215\n"
     ]
    },
    {
     "name": "stderr",
     "output_type": "stream",
     "text": [
      "  2%|▏         | 238/10000 [2:22:41<94:26:21, 34.83s/it]"
     ]
    },
    {
     "name": "stdout",
     "output_type": "stream",
     "text": [
      "Epoch 238 - VALIDATION LOSS: 0.00028904181272082496 - VALIDATION PSNR: 35.646461486816406 - VALIDATION SSIM: 0.9249988687803744\n"
     ]
    },
    {
     "name": "stderr",
     "output_type": "stream",
     "text": [
      "  2%|▏         | 239/10000 [2:23:17<95:09:26, 35.10s/it]"
     ]
    },
    {
     "name": "stdout",
     "output_type": "stream",
     "text": [
      "Epoch 240 - VALIDATION LOSS: 0.0003001249351655133 - VALIDATION PSNR: 35.788883209228516 - VALIDATION SSIM: 0.9236063723231852\n"
     ]
    },
    {
     "name": "stderr",
     "output_type": "stream",
     "text": [
      "  2%|▏         | 242/10000 [2:25:01<93:44:39, 34.58s/it]"
     ]
    },
    {
     "name": "stdout",
     "output_type": "stream",
     "text": [
      "Epoch 242 - VALIDATION LOSS: 0.00031797594056115486 - VALIDATION PSNR: 35.41108703613281 - VALIDATION SSIM: 0.9197441156351566\n"
     ]
    },
    {
     "name": "stderr",
     "output_type": "stream",
     "text": [
      "  2%|▏         | 244/10000 [2:26:08<92:09:35, 34.01s/it]"
     ]
    },
    {
     "name": "stdout",
     "output_type": "stream",
     "text": [
      "Epoch 244 - VALIDATION LOSS: 0.0002970150253531756 - VALIDATION PSNR: 35.77173614501953 - VALIDATION SSIM: 0.9244207357880362\n"
     ]
    },
    {
     "name": "stderr",
     "output_type": "stream",
     "text": [
      "  2%|▏         | 246/10000 [2:27:20<94:44:03, 34.96s/it]"
     ]
    },
    {
     "name": "stdout",
     "output_type": "stream",
     "text": [
      "Epoch 246 - VALIDATION LOSS: 0.0003735884638444986 - VALIDATION PSNR: 34.377159118652344 - VALIDATION SSIM: 0.9079047034839206\n"
     ]
    },
    {
     "name": "stderr",
     "output_type": "stream",
     "text": [
      "  2%|▏         | 248/10000 [2:28:32<96:04:27, 35.47s/it]"
     ]
    },
    {
     "name": "stdout",
     "output_type": "stream",
     "text": [
      "Epoch 248 - VALIDATION LOSS: 0.00029982825253682677 - VALIDATION PSNR: 35.61814880371094 - VALIDATION SSIM: 0.9224005444872976\n"
     ]
    },
    {
     "name": "stderr",
     "output_type": "stream",
     "text": [
      "  2%|▏         | 249/10000 [2:29:05<94:17:43, 34.81s/it]"
     ]
    },
    {
     "name": "stdout",
     "output_type": "stream",
     "text": [
      "Epoch 250 - VALIDATION LOSS: 0.0003893186676577898 - VALIDATION PSNR: 34.70343780517578 - VALIDATION SSIM: 0.9072829186423869\n"
     ]
    },
    {
     "name": "stderr",
     "output_type": "stream",
     "text": [
      "  3%|▎         | 252/10000 [2:30:46<92:36:51, 34.20s/it]"
     ]
    },
    {
     "name": "stdout",
     "output_type": "stream",
     "text": [
      "Epoch 252 - VALIDATION LOSS: 0.0002569967164163245 - VALIDATION PSNR: 36.7794303894043 - VALIDATION SSIM: 0.9338589201952069\n"
     ]
    },
    {
     "name": "stderr",
     "output_type": "stream",
     "text": [
      "  3%|▎         | 254/10000 [2:31:59<95:28:24, 35.27s/it]"
     ]
    },
    {
     "name": "stdout",
     "output_type": "stream",
     "text": [
      "Epoch 254 - VALIDATION LOSS: 0.0002885748108383268 - VALIDATION PSNR: 35.91996765136719 - VALIDATION SSIM: 0.9257621814391316\n"
     ]
    },
    {
     "name": "stderr",
     "output_type": "stream",
     "text": [
      "  3%|▎         | 256/10000 [2:33:09<94:54:35, 35.07s/it]"
     ]
    },
    {
     "name": "stdout",
     "output_type": "stream",
     "text": [
      "Epoch 256 - VALIDATION LOSS: 0.0003057921312574763 - VALIDATION PSNR: 35.2923698425293 - VALIDATION SSIM: 0.921084312798366\n"
     ]
    },
    {
     "name": "stderr",
     "output_type": "stream",
     "text": [
      "  3%|▎         | 258/10000 [2:34:16<92:37:00, 34.23s/it]"
     ]
    },
    {
     "name": "stdout",
     "output_type": "stream",
     "text": [
      "Epoch 258 - VALIDATION LOSS: 0.00031364265851152595 - VALIDATION PSNR: 35.37311553955078 - VALIDATION SSIM: 0.9191736130906344\n"
     ]
    },
    {
     "name": "stderr",
     "output_type": "stream",
     "text": [
      "  3%|▎         | 259/10000 [2:34:49<91:31:41, 33.83s/it]"
     ]
    },
    {
     "name": "stdout",
     "output_type": "stream",
     "text": [
      "Epoch 260 - VALIDATION LOSS: 0.000355684693204239 - VALIDATION PSNR: 34.9371337890625 - VALIDATION SSIM: 0.911903680083096\n"
     ]
    },
    {
     "name": "stderr",
     "output_type": "stream",
     "text": [
      "  3%|▎         | 262/10000 [2:36:38<95:44:13, 35.39s/it]"
     ]
    },
    {
     "name": "stdout",
     "output_type": "stream",
     "text": [
      "Epoch 262 - VALIDATION LOSS: 0.00019366069500392769 - VALIDATION PSNR: 37.588165283203125 - VALIDATION SSIM: 0.9455288700122981\n"
     ]
    },
    {
     "name": "stderr",
     "output_type": "stream",
     "text": [
      "  3%|▎         | 264/10000 [2:37:45<93:20:21, 34.51s/it]"
     ]
    },
    {
     "name": "stdout",
     "output_type": "stream",
     "text": [
      "Epoch 264 - VALIDATION LOSS: 0.00022582950350624742 - VALIDATION PSNR: 36.84815216064453 - VALIDATION SSIM: 0.9383050852399468\n"
     ]
    },
    {
     "name": "stderr",
     "output_type": "stream",
     "text": [
      "  3%|▎         | 266/10000 [2:38:52<91:55:16, 34.00s/it]"
     ]
    },
    {
     "name": "stdout",
     "output_type": "stream",
     "text": [
      "Epoch 266 - VALIDATION LOSS: 0.00035149323593941517 - VALIDATION PSNR: 34.78060531616211 - VALIDATION SSIM: 0.9122975577496291\n"
     ]
    },
    {
     "name": "stderr",
     "output_type": "stream",
     "text": [
      "  3%|▎         | 268/10000 [2:40:03<94:13:47, 34.86s/it]"
     ]
    },
    {
     "name": "stdout",
     "output_type": "stream",
     "text": [
      "Epoch 268 - VALIDATION LOSS: 0.00026431603691889904 - VALIDATION PSNR: 36.0931396484375 - VALIDATION SSIM: 0.9300905157313941\n"
     ]
    },
    {
     "name": "stderr",
     "output_type": "stream",
     "text": [
      "  3%|▎         | 269/10000 [2:40:39<95:02:18, 35.16s/it]"
     ]
    },
    {
     "name": "stdout",
     "output_type": "stream",
     "text": [
      "Epoch 270 - VALIDATION LOSS: 0.0003473086308076745 - VALIDATION PSNR: 35.06144332885742 - VALIDATION SSIM: 0.9138964415552644\n"
     ]
    },
    {
     "name": "stderr",
     "output_type": "stream",
     "text": [
      "  3%|▎         | 272/10000 [2:42:23<93:46:50, 34.71s/it]"
     ]
    },
    {
     "name": "stdout",
     "output_type": "stream",
     "text": [
      "Epoch 272 - VALIDATION LOSS: 0.00027141008104081266 - VALIDATION PSNR: 36.2003059387207 - VALIDATION SSIM: 0.9292984753897487\n"
     ]
    },
    {
     "name": "stderr",
     "output_type": "stream",
     "text": [
      "  3%|▎         | 274/10000 [2:43:31<92:09:35, 34.11s/it]"
     ]
    },
    {
     "name": "stdout",
     "output_type": "stream",
     "text": [
      "Epoch 274 - VALIDATION LOSS: 0.00030480362966045504 - VALIDATION PSNR: 35.57017517089844 - VALIDATION SSIM: 0.9221171190045774\n"
     ]
    },
    {
     "name": "stderr",
     "output_type": "stream",
     "text": [
      "  3%|▎         | 276/10000 [2:44:42<94:48:06, 35.10s/it]"
     ]
    },
    {
     "name": "stdout",
     "output_type": "stream",
     "text": [
      "Epoch 276 - VALIDATION LOSS: 0.0002738672656050767 - VALIDATION PSNR: 36.659751892089844 - VALIDATION SSIM: 0.9302034644596427\n"
     ]
    },
    {
     "name": "stderr",
     "output_type": "stream",
     "text": [
      "  3%|▎         | 278/10000 [2:45:54<95:56:12, 35.52s/it]"
     ]
    },
    {
     "name": "stdout",
     "output_type": "stream",
     "text": [
      "Epoch 278 - VALIDATION LOSS: 0.00024126984862959944 - VALIDATION PSNR: 36.64988708496094 - VALIDATION SSIM: 0.9356731302340924\n"
     ]
    },
    {
     "name": "stderr",
     "output_type": "stream",
     "text": [
      "  3%|▎         | 279/10000 [2:46:28<94:44:50, 35.09s/it]"
     ]
    },
    {
     "name": "stdout",
     "output_type": "stream",
     "text": [
      "Epoch 280 - VALIDATION LOSS: 0.0003224835108994739 - VALIDATION PSNR: 35.30552673339844 - VALIDATION SSIM: 0.9185074938700795\n"
     ]
    },
    {
     "name": "stderr",
     "output_type": "stream",
     "text": [
      "  3%|▎         | 282/10000 [2:48:10<92:58:42, 34.44s/it]"
     ]
    },
    {
     "name": "stdout",
     "output_type": "stream",
     "text": [
      "Epoch 282 - VALIDATION LOSS: 0.0003541260593920015 - VALIDATION PSNR: 34.83306121826172 - VALIDATION SSIM: 0.9124017437244951\n"
     ]
    },
    {
     "name": "stderr",
     "output_type": "stream",
     "text": [
      "  3%|▎         | 284/10000 [2:49:22<95:18:07, 35.31s/it]"
     ]
    },
    {
     "name": "stdout",
     "output_type": "stream",
     "text": [
      "Epoch 284 - VALIDATION LOSS: 0.0003446365844865795 - VALIDATION PSNR: 34.78997802734375 - VALIDATION SSIM: 0.9126092146093333\n"
     ]
    },
    {
     "name": "stderr",
     "output_type": "stream",
     "text": [
      "  3%|▎         | 286/10000 [2:50:33<95:10:31, 35.27s/it]"
     ]
    },
    {
     "name": "stdout",
     "output_type": "stream",
     "text": [
      "Epoch 286 - VALIDATION LOSS: 0.0002474594093655469 - VALIDATION PSNR: 36.39470672607422 - VALIDATION SSIM: 0.9336160349930525\n"
     ]
    },
    {
     "name": "stderr",
     "output_type": "stream",
     "text": [
      "  3%|▎         | 288/10000 [2:51:39<92:27:37, 34.27s/it]"
     ]
    },
    {
     "name": "stdout",
     "output_type": "stream",
     "text": [
      "Epoch 288 - VALIDATION LOSS: 0.0003025578516826499 - VALIDATION PSNR: 35.86737823486328 - VALIDATION SSIM: 0.923910905079633\n"
     ]
    },
    {
     "name": "stderr",
     "output_type": "stream",
     "text": [
      "  3%|▎         | 289/10000 [2:52:13<91:51:16, 34.05s/it]"
     ]
    },
    {
     "name": "stdout",
     "output_type": "stream",
     "text": [
      "Epoch 290 - VALIDATION LOSS: 0.00034604573920660187 - VALIDATION PSNR: 35.396881103515625 - VALIDATION SSIM: 0.9167585664852559\n"
     ]
    },
    {
     "name": "stderr",
     "output_type": "stream",
     "text": [
      "  3%|▎         | 292/10000 [2:54:01<95:24:07, 35.38s/it]"
     ]
    },
    {
     "name": "stdout",
     "output_type": "stream",
     "text": [
      "Epoch 292 - VALIDATION LOSS: 0.0002768749436654616 - VALIDATION PSNR: 35.94109344482422 - VALIDATION SSIM: 0.9280040776121319\n"
     ]
    },
    {
     "name": "stderr",
     "output_type": "stream",
     "text": [
      "  3%|▎         | 294/10000 [2:55:11<94:45:36, 35.15s/it]"
     ]
    },
    {
     "name": "stdout",
     "output_type": "stream",
     "text": [
      "Epoch 294 - VALIDATION LOSS: 0.0003564238595572533 - VALIDATION PSNR: 35.11721420288086 - VALIDATION SSIM: 0.9132558024567962\n"
     ]
    },
    {
     "name": "stderr",
     "output_type": "stream",
     "text": [
      "  3%|▎         | 296/10000 [2:56:17<91:38:10, 34.00s/it]"
     ]
    },
    {
     "name": "stdout",
     "output_type": "stream",
     "text": [
      "Epoch 296 - VALIDATION LOSS: 0.0003256483505538199 - VALIDATION PSNR: 35.19161605834961 - VALIDATION SSIM: 0.9168214348890482\n"
     ]
    },
    {
     "name": "stderr",
     "output_type": "stream",
     "text": [
      "  3%|▎         | 298/10000 [2:57:26<92:42:58, 34.40s/it]"
     ]
    },
    {
     "name": "stdout",
     "output_type": "stream",
     "text": [
      "Epoch 298 - VALIDATION LOSS: 0.00029268024991324637 - VALIDATION PSNR: 35.78202438354492 - VALIDATION SSIM: 0.9237503122377396\n"
     ]
    },
    {
     "name": "stderr",
     "output_type": "stream",
     "text": [
      "  3%|▎         | 299/10000 [2:58:01<93:36:14, 34.74s/it]"
     ]
    },
    {
     "name": "stdout",
     "output_type": "stream",
     "text": [
      "Epoch 300 - VALIDATION LOSS: 0.0003730917251232313 - VALIDATION PSNR: 34.49098205566406 - VALIDATION SSIM: 0.9092473419875501\n"
     ]
    },
    {
     "name": "stderr",
     "output_type": "stream",
     "text": [
      "  3%|▎         | 302/10000 [2:59:48<94:26:04, 35.06s/it]"
     ]
    },
    {
     "name": "stdout",
     "output_type": "stream",
     "text": [
      "Epoch 302 - VALIDATION LOSS: 0.0004078529764228733 - VALIDATION PSNR: 34.48091506958008 - VALIDATION SSIM: 0.9030004060627221\n"
     ]
    },
    {
     "name": "stderr",
     "output_type": "stream",
     "text": [
      "  3%|▎         | 304/10000 [3:00:54<91:54:22, 34.12s/it]"
     ]
    },
    {
     "name": "stdout",
     "output_type": "stream",
     "text": [
      "Epoch 304 - VALIDATION LOSS: 0.00038492408202728257 - VALIDATION PSNR: 34.462913513183594 - VALIDATION SSIM: 0.9057362880307567\n"
     ]
    },
    {
     "name": "stderr",
     "output_type": "stream",
     "text": [
      "  3%|▎         | 306/10000 [3:02:04<93:18:58, 34.65s/it]"
     ]
    },
    {
     "name": "stdout",
     "output_type": "stream",
     "text": [
      "Epoch 306 - VALIDATION LOSS: 0.000269073994786595 - VALIDATION PSNR: 35.84309387207031 - VALIDATION SSIM: 0.9287031815998257\n"
     ]
    },
    {
     "name": "stderr",
     "output_type": "stream",
     "text": [
      "  3%|▎         | 308/10000 [3:03:16<95:14:30, 35.38s/it]"
     ]
    },
    {
     "name": "stdout",
     "output_type": "stream",
     "text": [
      "Epoch 308 - VALIDATION LOSS: 0.0003470918527455069 - VALIDATION PSNR: 34.829795837402344 - VALIDATION SSIM: 0.9130361330628394\n"
     ]
    },
    {
     "name": "stderr",
     "output_type": "stream",
     "text": [
      "  3%|▎         | 309/10000 [3:03:51<94:20:27, 35.05s/it]"
     ]
    },
    {
     "name": "stdout",
     "output_type": "stream",
     "text": [
      "Epoch 310 - VALIDATION LOSS: 0.00031515973205387127 - VALIDATION PSNR: 35.5036735534668 - VALIDATION SSIM: 0.9195545945195258\n"
     ]
    },
    {
     "name": "stderr",
     "output_type": "stream",
     "text": [
      "  3%|▎         | 312/10000 [3:05:32<91:52:14, 34.14s/it]"
     ]
    },
    {
     "name": "stdout",
     "output_type": "stream",
     "text": [
      "Epoch 312 - VALIDATION LOSS: 0.000378725131668034 - VALIDATION PSNR: 34.794395446777344 - VALIDATION SSIM: 0.9070712114933953\n"
     ]
    },
    {
     "name": "stderr",
     "output_type": "stream",
     "text": [
      "  3%|▎         | 314/10000 [3:06:43<94:09:21, 34.99s/it]"
     ]
    },
    {
     "name": "stdout",
     "output_type": "stream",
     "text": [
      "Epoch 314 - VALIDATION LOSS: 0.00036664659455709625 - VALIDATION PSNR: 34.71519470214844 - VALIDATION SSIM: 0.9106276413646266\n"
     ]
    },
    {
     "name": "stderr",
     "output_type": "stream",
     "text": [
      "  3%|▎         | 316/10000 [3:07:54<94:52:28, 35.27s/it]"
     ]
    },
    {
     "name": "stdout",
     "output_type": "stream",
     "text": [
      "Epoch 316 - VALIDATION LOSS: 0.0003170424643030856 - VALIDATION PSNR: 36.16065216064453 - VALIDATION SSIM: 0.9229469423283339\n"
     ]
    },
    {
     "name": "stderr",
     "output_type": "stream",
     "text": [
      "  3%|▎         | 318/10000 [3:09:02<93:00:37, 34.58s/it]"
     ]
    },
    {
     "name": "stdout",
     "output_type": "stream",
     "text": [
      "Epoch 318 - VALIDATION LOSS: 0.0002983973481605062 - VALIDATION PSNR: 35.71485900878906 - VALIDATION SSIM: 0.9234031440640633\n"
     ]
    },
    {
     "name": "stderr",
     "output_type": "stream",
     "text": [
      "  3%|▎         | 319/10000 [3:09:36<92:35:09, 34.43s/it]"
     ]
    },
    {
     "name": "stdout",
     "output_type": "stream",
     "text": [
      "Epoch 320 - VALIDATION LOSS: 0.0003676634814837598 - VALIDATION PSNR: 34.943721771240234 - VALIDATION SSIM: 0.9103186207071394\n"
     ]
    },
    {
     "name": "stderr",
     "output_type": "stream",
     "text": [
      "  3%|▎         | 322/10000 [3:11:25<96:00:57, 35.72s/it]"
     ]
    },
    {
     "name": "stdout",
     "output_type": "stream",
     "text": [
      "Epoch 322 - VALIDATION LOSS: 0.0002620505911181681 - VALIDATION PSNR: 36.090843200683594 - VALIDATION SSIM: 0.93028650879547\n"
     ]
    },
    {
     "name": "stderr",
     "output_type": "stream",
     "text": [
      "  3%|▎         | 324/10000 [3:12:34<93:51:32, 34.92s/it]"
     ]
    },
    {
     "name": "stdout",
     "output_type": "stream",
     "text": [
      "Epoch 324 - VALIDATION LOSS: 0.00025676056975498796 - VALIDATION PSNR: 36.23368835449219 - VALIDATION SSIM: 0.9326913853833972\n"
     ]
    },
    {
     "name": "stderr",
     "output_type": "stream",
     "text": [
      "  3%|▎         | 326/10000 [3:13:41<91:47:24, 34.16s/it]"
     ]
    },
    {
     "name": "stdout",
     "output_type": "stream",
     "text": [
      "Epoch 326 - VALIDATION LOSS: 0.00026160401466768235 - VALIDATION PSNR: 36.19594192504883 - VALIDATION SSIM: 0.9314445886059403\n"
     ]
    },
    {
     "name": "stderr",
     "output_type": "stream",
     "text": [
      "  3%|▎         | 328/10000 [3:14:51<93:35:09, 34.83s/it]"
     ]
    },
    {
     "name": "stdout",
     "output_type": "stream",
     "text": [
      "Epoch 328 - VALIDATION LOSS: 0.00028107384241593536 - VALIDATION PSNR: 36.06510925292969 - VALIDATION SSIM: 0.9267924850002827\n"
     ]
    },
    {
     "name": "stderr",
     "output_type": "stream",
     "text": [
      "  3%|▎         | 329/10000 [3:15:27<94:19:05, 35.11s/it]"
     ]
    },
    {
     "name": "stdout",
     "output_type": "stream",
     "text": [
      "Epoch 330 - VALIDATION LOSS: 0.0003756060978048481 - VALIDATION PSNR: 34.73676300048828 - VALIDATION SSIM: 0.9092315680483282\n"
     ]
    },
    {
     "name": "stderr",
     "output_type": "stream",
     "text": [
      "  3%|▎         | 332/10000 [3:17:10<92:27:08, 34.43s/it]"
     ]
    },
    {
     "name": "stdout",
     "output_type": "stream",
     "text": [
      "Epoch 332 - VALIDATION LOSS: 0.0002603423454274889 - VALIDATION PSNR: 36.45492935180664 - VALIDATION SSIM: 0.9314768067145346\n"
     ]
    },
    {
     "name": "stderr",
     "output_type": "stream",
     "text": [
      "  3%|▎         | 334/10000 [3:18:19<93:02:01, 34.65s/it]"
     ]
    },
    {
     "name": "stdout",
     "output_type": "stream",
     "text": [
      "Epoch 334 - VALIDATION LOSS: 0.0003438645835558418 - VALIDATION PSNR: 35.44270324707031 - VALIDATION SSIM: 0.9162499237651193\n"
     ]
    },
    {
     "name": "stderr",
     "output_type": "stream",
     "text": [
      "  3%|▎         | 336/10000 [3:19:30<94:14:46, 35.11s/it]"
     ]
    },
    {
     "name": "stdout",
     "output_type": "stream",
     "text": [
      "Epoch 336 - VALIDATION LOSS: 0.00032689299496269086 - VALIDATION PSNR: 35.650936126708984 - VALIDATION SSIM: 0.9193754205470532\n"
     ]
    },
    {
     "name": "stderr",
     "output_type": "stream",
     "text": [
      "  3%|▎         | 338/10000 [3:20:37<91:46:37, 34.20s/it]"
     ]
    },
    {
     "name": "stdout",
     "output_type": "stream",
     "text": [
      "Epoch 338 - VALIDATION LOSS: 0.00033778355282265693 - VALIDATION PSNR: 35.0748291015625 - VALIDATION SSIM: 0.9164462800267935\n"
     ]
    },
    {
     "name": "stderr",
     "output_type": "stream",
     "text": [
      "  3%|▎         | 339/10000 [3:21:10<90:42:23, 33.80s/it]"
     ]
    },
    {
     "name": "stdout",
     "output_type": "stream",
     "text": [
      "Epoch 340 - VALIDATION LOSS: 0.0003508750414766837 - VALIDATION PSNR: 34.79928207397461 - VALIDATION SSIM: 0.9130276486247331\n"
     ]
    },
    {
     "name": "stderr",
     "output_type": "stream",
     "text": [
      "  3%|▎         | 342/10000 [3:22:56<93:58:16, 35.03s/it]"
     ]
    },
    {
     "name": "stdout",
     "output_type": "stream",
     "text": [
      "Epoch 342 - VALIDATION LOSS: 0.0002202942268922925 - VALIDATION PSNR: 36.76559066772461 - VALIDATION SSIM: 0.939758529751867\n"
     ]
    },
    {
     "name": "stderr",
     "output_type": "stream",
     "text": [
      "  3%|▎         | 344/10000 [3:24:07<93:53:52, 35.01s/it]"
     ]
    },
    {
     "name": "stdout",
     "output_type": "stream",
     "text": [
      "Epoch 344 - VALIDATION LOSS: 0.0003425087543291738 - VALIDATION PSNR: 35.078773498535156 - VALIDATION SSIM: 0.9143003136959226\n"
     ]
    },
    {
     "name": "stderr",
     "output_type": "stream",
     "text": [
      "  3%|▎         | 346/10000 [3:25:14<92:18:11, 34.42s/it]"
     ]
    },
    {
     "name": "stdout",
     "output_type": "stream",
     "text": [
      "Epoch 346 - VALIDATION LOSS: 0.00032662289231666364 - VALIDATION PSNR: 35.07124328613281 - VALIDATION SSIM: 0.9164915144477188\n"
     ]
    },
    {
     "name": "stderr",
     "output_type": "stream",
     "text": [
      "  3%|▎         | 348/10000 [3:26:24<92:55:26, 34.66s/it]"
     ]
    },
    {
     "name": "stdout",
     "output_type": "stream",
     "text": [
      "Epoch 348 - VALIDATION LOSS: 0.00035846188256982714 - VALIDATION PSNR: 35.030311584472656 - VALIDATION SSIM: 0.9120166323762089\n"
     ]
    },
    {
     "name": "stderr",
     "output_type": "stream",
     "text": [
      "  3%|▎         | 349/10000 [3:27:00<93:56:13, 35.04s/it]"
     ]
    },
    {
     "name": "stdout",
     "output_type": "stream",
     "text": [
      "Epoch 350 - VALIDATION LOSS: 0.00035359437606530264 - VALIDATION PSNR: 35.09133529663086 - VALIDATION SSIM: 0.9145248420594335\n"
     ]
    },
    {
     "name": "stderr",
     "output_type": "stream",
     "text": [
      "  4%|▎         | 352/10000 [3:28:46<94:07:38, 35.12s/it]"
     ]
    },
    {
     "name": "stdout",
     "output_type": "stream",
     "text": [
      "Epoch 352 - VALIDATION LOSS: 0.00023983277424122207 - VALIDATION PSNR: 36.71654510498047 - VALIDATION SSIM: 0.9364279262247086\n"
     ]
    },
    {
     "name": "stderr",
     "output_type": "stream",
     "text": [
      "  4%|▎         | 354/10000 [3:29:52<91:24:21, 34.11s/it]"
     ]
    },
    {
     "name": "stdout",
     "output_type": "stream",
     "text": [
      "Epoch 354 - VALIDATION LOSS: 0.0003191663163306657 - VALIDATION PSNR: 35.565345764160156 - VALIDATION SSIM: 0.9201946428945065\n"
     ]
    },
    {
     "name": "stderr",
     "output_type": "stream",
     "text": [
      "  4%|▎         | 356/10000 [3:31:01<92:00:51, 34.35s/it]"
     ]
    },
    {
     "name": "stdout",
     "output_type": "stream",
     "text": [
      "Epoch 356 - VALIDATION LOSS: 0.0002928384656115668 - VALIDATION PSNR: 35.901611328125 - VALIDATION SSIM: 0.9255421637178958\n"
     ]
    },
    {
     "name": "stderr",
     "output_type": "stream",
     "text": [
      "  4%|▎         | 358/10000 [3:32:12<93:49:58, 35.03s/it]"
     ]
    },
    {
     "name": "stdout",
     "output_type": "stream",
     "text": [
      "Epoch 358 - VALIDATION LOSS: 0.00036452589574764716 - VALIDATION PSNR: 35.032432556152344 - VALIDATION SSIM: 0.9121003030904233\n"
     ]
    },
    {
     "name": "stderr",
     "output_type": "stream",
     "text": [
      "  4%|▎         | 359/10000 [3:32:47<94:00:46, 35.10s/it]"
     ]
    },
    {
     "name": "stdout",
     "output_type": "stream",
     "text": [
      "Epoch 360 - VALIDATION LOSS: 0.00025560822723491583 - VALIDATION PSNR: 36.28993225097656 - VALIDATION SSIM: 0.9320521811696292\n"
     ]
    },
    {
     "name": "stderr",
     "output_type": "stream",
     "text": [
      "  4%|▎         | 362/10000 [3:34:27<90:53:35, 33.95s/it]"
     ]
    },
    {
     "name": "stdout",
     "output_type": "stream",
     "text": [
      "Epoch 362 - VALIDATION LOSS: 0.00038922873500268906 - VALIDATION PSNR: 34.91255187988281 - VALIDATION SSIM: 0.907819115687563\n"
     ]
    },
    {
     "name": "stderr",
     "output_type": "stream",
     "text": [
      "  4%|▎         | 364/10000 [3:35:37<92:41:53, 34.63s/it]"
     ]
    },
    {
     "name": "stdout",
     "output_type": "stream",
     "text": [
      "Epoch 364 - VALIDATION LOSS: 0.0002890915329771815 - VALIDATION PSNR: 35.872779846191406 - VALIDATION SSIM: 0.9266547700716258\n"
     ]
    },
    {
     "name": "stderr",
     "output_type": "stream",
     "text": [
      "  4%|▎         | 366/10000 [3:36:49<94:20:40, 35.25s/it]"
     ]
    },
    {
     "name": "stdout",
     "output_type": "stream",
     "text": [
      "Epoch 366 - VALIDATION LOSS: 0.000317886816446844 - VALIDATION PSNR: 35.321693420410156 - VALIDATION SSIM: 0.9199365522554518\n"
     ]
    },
    {
     "name": "stderr",
     "output_type": "stream",
     "text": [
      "  4%|▎         | 368/10000 [3:37:56<91:53:18, 34.34s/it]"
     ]
    },
    {
     "name": "stdout",
     "output_type": "stream",
     "text": [
      "Epoch 368 - VALIDATION LOSS: 0.00035672844478540355 - VALIDATION PSNR: 35.52933120727539 - VALIDATION SSIM: 0.9141579190439508\n"
     ]
    },
    {
     "name": "stderr",
     "output_type": "stream",
     "text": [
      "  4%|▎         | 369/10000 [3:38:29<91:08:18, 34.07s/it]"
     ]
    },
    {
     "name": "stdout",
     "output_type": "stream",
     "text": [
      "Epoch 370 - VALIDATION LOSS: 0.00035036925328313373 - VALIDATION PSNR: 34.790279388427734 - VALIDATION SSIM: 0.912510040102452\n"
     ]
    },
    {
     "name": "stderr",
     "output_type": "stream",
     "text": [
      "  4%|▎         | 372/10000 [3:40:14<92:59:48, 34.77s/it]"
     ]
    },
    {
     "name": "stdout",
     "output_type": "stream",
     "text": [
      "Epoch 372 - VALIDATION LOSS: 0.0003692381869768724 - VALIDATION PSNR: 34.8690185546875 - VALIDATION SSIM: 0.9102833058042786\n"
     ]
    },
    {
     "name": "stderr",
     "output_type": "stream",
     "text": [
      "  4%|▎         | 374/10000 [3:41:25<94:19:56, 35.28s/it]"
     ]
    },
    {
     "name": "stdout",
     "output_type": "stream",
     "text": [
      "Epoch 374 - VALIDATION LOSS: 0.00023972786584636196 - VALIDATION PSNR: 36.56440734863281 - VALIDATION SSIM: 0.9339597496032717\n"
     ]
    },
    {
     "name": "stderr",
     "output_type": "stream",
     "text": [
      "  4%|▍         | 376/10000 [3:42:32<91:51:44, 34.36s/it]"
     ]
    },
    {
     "name": "stdout",
     "output_type": "stream",
     "text": [
      "Epoch 376 - VALIDATION LOSS: 0.00036171179453958757 - VALIDATION PSNR: 35.193275451660156 - VALIDATION SSIM: 0.9119217894545496\n"
     ]
    },
    {
     "name": "stderr",
     "output_type": "stream",
     "text": [
      "  4%|▍         | 378/10000 [3:43:40<91:11:45, 34.12s/it]"
     ]
    },
    {
     "name": "stdout",
     "output_type": "stream",
     "text": [
      "Epoch 378 - VALIDATION LOSS: 0.00024181683875212912 - VALIDATION PSNR: 36.602012634277344 - VALIDATION SSIM: 0.9352666208044886\n"
     ]
    },
    {
     "name": "stderr",
     "output_type": "stream",
     "text": [
      "  4%|▍         | 379/10000 [3:44:15<92:00:08, 34.43s/it]"
     ]
    },
    {
     "name": "stdout",
     "output_type": "stream",
     "text": [
      "Epoch 380 - VALIDATION LOSS: 0.0002997943101945566 - VALIDATION PSNR: 35.70191192626953 - VALIDATION SSIM: 0.9238529047984482\n"
     ]
    },
    {
     "name": "stderr",
     "output_type": "stream",
     "text": [
      "  4%|▍         | 382/10000 [3:46:01<92:39:29, 34.68s/it]"
     ]
    },
    {
     "name": "stdout",
     "output_type": "stream",
     "text": [
      "Epoch 382 - VALIDATION LOSS: 0.00032594067579339026 - VALIDATION PSNR: 35.545509338378906 - VALIDATION SSIM: 0.9189620575902164\n"
     ]
    },
    {
     "name": "stderr",
     "output_type": "stream",
     "text": [
      "  4%|▍         | 384/10000 [3:47:06<90:08:42, 33.75s/it]"
     ]
    },
    {
     "name": "stdout",
     "output_type": "stream",
     "text": [
      "Epoch 384 - VALIDATION LOSS: 0.00028640858363360167 - VALIDATION PSNR: 35.80569839477539 - VALIDATION SSIM: 0.9260393557525873\n"
     ]
    },
    {
     "name": "stderr",
     "output_type": "stream",
     "text": [
      "  4%|▍         | 386/10000 [3:48:16<92:01:12, 34.46s/it]"
     ]
    },
    {
     "name": "stdout",
     "output_type": "stream",
     "text": [
      "Epoch 386 - VALIDATION LOSS: 0.00027131154274684377 - VALIDATION PSNR: 36.362545013427734 - VALIDATION SSIM: 0.9308035332963169\n"
     ]
    },
    {
     "name": "stderr",
     "output_type": "stream",
     "text": [
      "  4%|▍         | 388/10000 [3:49:28<93:57:16, 35.19s/it]"
     ]
    },
    {
     "name": "stdout",
     "output_type": "stream",
     "text": [
      "Epoch 388 - VALIDATION LOSS: 0.0003346199919178616 - VALIDATION PSNR: 35.339569091796875 - VALIDATION SSIM: 0.9178809832678139\n"
     ]
    },
    {
     "name": "stderr",
     "output_type": "stream",
     "text": [
      "  4%|▍         | 389/10000 [3:50:03<93:27:39, 35.01s/it]"
     ]
    },
    {
     "name": "stdout",
     "output_type": "stream",
     "text": [
      "Epoch 390 - VALIDATION LOSS: 0.0003601078515202971 - VALIDATION PSNR: 35.053436279296875 - VALIDATION SSIM: 0.9128291659617815\n"
     ]
    },
    {
     "name": "stderr",
     "output_type": "stream",
     "text": [
      "  4%|▍         | 392/10000 [3:51:42<89:46:03, 33.63s/it]"
     ]
    },
    {
     "name": "stdout",
     "output_type": "stream",
     "text": [
      "Epoch 392 - VALIDATION LOSS: 0.0003299285881439573 - VALIDATION PSNR: 35.35993576049805 - VALIDATION SSIM: 0.9173846344426871\n"
     ]
    },
    {
     "name": "stderr",
     "output_type": "stream",
     "text": [
      "  4%|▍         | 394/10000 [3:52:52<92:21:23, 34.61s/it]"
     ]
    },
    {
     "name": "stdout",
     "output_type": "stream",
     "text": [
      "Epoch 394 - VALIDATION LOSS: 0.00025738852491485886 - VALIDATION PSNR: 36.18695831298828 - VALIDATION SSIM: 0.9315518122526016\n"
     ]
    },
    {
     "name": "stderr",
     "output_type": "stream",
     "text": [
      "  4%|▍         | 396/10000 [3:54:01<92:00:45, 34.49s/it]"
     ]
    },
    {
     "name": "stdout",
     "output_type": "stream",
     "text": [
      "Epoch 396 - VALIDATION LOSS: 0.0003238253411836922 - VALIDATION PSNR: 35.06737518310547 - VALIDATION SSIM: 0.9171073975015879\n"
     ]
    },
    {
     "name": "stderr",
     "output_type": "stream",
     "text": [
      "  4%|▍         | 398/10000 [3:55:08<90:24:17, 33.89s/it]"
     ]
    },
    {
     "name": "stdout",
     "output_type": "stream",
     "text": [
      "Epoch 398 - VALIDATION LOSS: 0.00031201997535390547 - VALIDATION PSNR: 35.719947814941406 - VALIDATION SSIM: 0.9224267326569854\n"
     ]
    },
    {
     "name": "stderr",
     "output_type": "stream",
     "text": [
      "  4%|▍         | 399/10000 [3:55:41<89:57:40, 33.73s/it]"
     ]
    },
    {
     "name": "stdout",
     "output_type": "stream",
     "text": [
      "Epoch 400 - VALIDATION LOSS: 0.00028964565717615187 - VALIDATION PSNR: 35.86551284790039 - VALIDATION SSIM: 0.9252651808422432\n"
     ]
    },
    {
     "name": "stderr",
     "output_type": "stream",
     "text": [
      "  4%|▍         | 402/10000 [3:57:30<94:05:20, 35.29s/it]"
     ]
    },
    {
     "name": "stdout",
     "output_type": "stream",
     "text": [
      "Epoch 402 - VALIDATION LOSS: 0.0002583068580861436 - VALIDATION PSNR: 36.14435577392578 - VALIDATION SSIM: 0.9318733800292611\n"
     ]
    },
    {
     "name": "stderr",
     "output_type": "stream",
     "text": [
      "  4%|▍         | 404/10000 [3:58:38<92:22:24, 34.65s/it]"
     ]
    },
    {
     "name": "stdout",
     "output_type": "stream",
     "text": [
      "Epoch 404 - VALIDATION LOSS: 0.00028756900428561494 - VALIDATION PSNR: 35.8592643737793 - VALIDATION SSIM: 0.9267497147352994\n"
     ]
    },
    {
     "name": "stderr",
     "output_type": "stream",
     "text": [
      "  4%|▍         | 406/10000 [3:59:44<90:16:38, 33.88s/it]"
     ]
    },
    {
     "name": "stdout",
     "output_type": "stream",
     "text": [
      "Epoch 406 - VALIDATION LOSS: 0.00032774152350611985 - VALIDATION PSNR: 35.24382781982422 - VALIDATION SSIM: 0.9173963079341948\n"
     ]
    },
    {
     "name": "stderr",
     "output_type": "stream",
     "text": [
      "  4%|▍         | 408/10000 [4:00:55<92:13:52, 34.62s/it]"
     ]
    },
    {
     "name": "stdout",
     "output_type": "stream",
     "text": [
      "Epoch 408 - VALIDATION LOSS: 0.0002048344440481742 - VALIDATION PSNR: 37.80585479736328 - VALIDATION SSIM: 0.9448254085292667\n"
     ]
    },
    {
     "name": "stderr",
     "output_type": "stream",
     "text": [
      "  4%|▍         | 409/10000 [4:01:30<93:06:56, 34.95s/it]"
     ]
    },
    {
     "name": "stdout",
     "output_type": "stream",
     "text": [
      "Epoch 410 - VALIDATION LOSS: 0.0002994382830365794 - VALIDATION PSNR: 35.66319274902344 - VALIDATION SSIM: 0.9232976718806326\n"
     ]
    },
    {
     "name": "stderr",
     "output_type": "stream",
     "text": [
      "  4%|▍         | 412/10000 [4:03:14<91:46:41, 34.46s/it]"
     ]
    },
    {
     "name": "stdout",
     "output_type": "stream",
     "text": [
      "Epoch 412 - VALIDATION LOSS: 0.0003567551930245827 - VALIDATION PSNR: 35.23603057861328 - VALIDATION SSIM: 0.9143746269498766\n"
     ]
    },
    {
     "name": "stderr",
     "output_type": "stream",
     "text": [
      "  4%|▍         | 414/10000 [4:04:20<89:39:35, 33.67s/it]"
     ]
    },
    {
     "name": "stdout",
     "output_type": "stream",
     "text": [
      "Epoch 414 - VALIDATION LOSS: 0.0003593204519347637 - VALIDATION PSNR: 35.5360221862793 - VALIDATION SSIM: 0.9142465261606723\n"
     ]
    },
    {
     "name": "stderr",
     "output_type": "stream",
     "text": [
      "  4%|▍         | 416/10000 [4:05:31<92:03:54, 34.58s/it]"
     ]
    },
    {
     "name": "stdout",
     "output_type": "stream",
     "text": [
      "Epoch 416 - VALIDATION LOSS: 0.0002710250464588171 - VALIDATION PSNR: 36.0662956237793 - VALIDATION SSIM: 0.9285554969996214\n"
     ]
    },
    {
     "name": "stderr",
     "output_type": "stream",
     "text": [
      "  4%|▍         | 418/10000 [4:06:44<95:00:48, 35.70s/it]"
     ]
    },
    {
     "name": "stdout",
     "output_type": "stream",
     "text": [
      "Epoch 418 - VALIDATION LOSS: 0.0002975452007376589 - VALIDATION PSNR: 36.00874328613281 - VALIDATION SSIM: 0.9247982290725408\n"
     ]
    },
    {
     "name": "stderr",
     "output_type": "stream",
     "text": [
      "  4%|▍         | 419/10000 [4:07:19<94:19:49, 35.44s/it]"
     ]
    },
    {
     "name": "stdout",
     "output_type": "stream",
     "text": [
      "Epoch 420 - VALIDATION LOSS: 0.00033433765383961145 - VALIDATION PSNR: 34.91703796386719 - VALIDATION SSIM: 0.9157345616476984\n"
     ]
    },
    {
     "name": "stderr",
     "output_type": "stream",
     "text": [
      "  4%|▍         | 422/10000 [4:09:04<94:04:12, 35.36s/it]"
     ]
    },
    {
     "name": "stdout",
     "output_type": "stream",
     "text": [
      "Epoch 422 - VALIDATION LOSS: 0.00025678707879706053 - VALIDATION PSNR: 36.32034683227539 - VALIDATION SSIM: 0.9322623040893562\n"
     ]
    },
    {
     "name": "stderr",
     "output_type": "stream",
     "text": [
      "  4%|▍         | 424/10000 [4:10:18<95:57:12, 36.07s/it]"
     ]
    },
    {
     "name": "stdout",
     "output_type": "stream",
     "text": [
      "Epoch 424 - VALIDATION LOSS: 0.0002363476360187633 - VALIDATION PSNR: 36.73848342895508 - VALIDATION SSIM: 0.9365384982253834\n"
     ]
    },
    {
     "name": "stderr",
     "output_type": "stream",
     "text": [
      "  4%|▍         | 426/10000 [4:11:31<96:13:45, 36.18s/it]"
     ]
    },
    {
     "name": "stdout",
     "output_type": "stream",
     "text": [
      "Epoch 426 - VALIDATION LOSS: 0.0003211446910427185 - VALIDATION PSNR: 35.70623779296875 - VALIDATION SSIM: 0.9206029184250235\n"
     ]
    },
    {
     "name": "stderr",
     "output_type": "stream",
     "text": [
      "  4%|▍         | 428/10000 [4:12:39<93:20:13, 35.10s/it]"
     ]
    },
    {
     "name": "stdout",
     "output_type": "stream",
     "text": [
      "Epoch 428 - VALIDATION LOSS: 0.0002775325901893666 - VALIDATION PSNR: 36.1143684387207 - VALIDATION SSIM: 0.9293917732495963\n"
     ]
    },
    {
     "name": "stderr",
     "output_type": "stream",
     "text": [
      "  4%|▍         | 429/10000 [4:13:12<92:07:51, 34.65s/it]"
     ]
    },
    {
     "name": "stdout",
     "output_type": "stream",
     "text": [
      "Epoch 430 - VALIDATION LOSS: 0.00032420193565485533 - VALIDATION PSNR: 35.69524383544922 - VALIDATION SSIM: 0.9190147079572082\n"
     ]
    },
    {
     "name": "stderr",
     "output_type": "stream",
     "text": [
      "  4%|▍         | 432/10000 [4:15:02<95:12:48, 35.82s/it]"
     ]
    },
    {
     "name": "stdout",
     "output_type": "stream",
     "text": [
      "Epoch 432 - VALIDATION LOSS: 0.0002906188583438052 - VALIDATION PSNR: 35.65055847167969 - VALIDATION SSIM: 0.9252759183358401\n"
     ]
    },
    {
     "name": "stderr",
     "output_type": "stream",
     "text": [
      "  4%|▍         | 434/10000 [4:16:12<93:43:59, 35.27s/it]"
     ]
    },
    {
     "name": "stdout",
     "output_type": "stream",
     "text": [
      "Epoch 434 - VALIDATION LOSS: 0.00032041899066825863 - VALIDATION PSNR: 35.50791549682617 - VALIDATION SSIM: 0.9197003525903672\n"
     ]
    },
    {
     "name": "stderr",
     "output_type": "stream",
     "text": [
      "  4%|▍         | 436/10000 [4:17:19<91:42:29, 34.52s/it]"
     ]
    },
    {
     "name": "stdout",
     "output_type": "stream",
     "text": [
      "Epoch 436 - VALIDATION LOSS: 0.0002983302929351339 - VALIDATION PSNR: 36.03984069824219 - VALIDATION SSIM: 0.9248878396519572\n"
     ]
    },
    {
     "name": "stderr",
     "output_type": "stream",
     "text": [
      "  4%|▍         | 438/10000 [4:18:30<93:09:39, 35.07s/it]"
     ]
    },
    {
     "name": "stdout",
     "output_type": "stream",
     "text": [
      "Epoch 438 - VALIDATION LOSS: 0.00030014558797120117 - VALIDATION PSNR: 36.01436233520508 - VALIDATION SSIM: 0.924723375103861\n"
     ]
    },
    {
     "name": "stderr",
     "output_type": "stream",
     "text": [
      "  4%|▍         | 439/10000 [4:19:06<94:21:03, 35.53s/it]"
     ]
    },
    {
     "name": "stdout",
     "output_type": "stream",
     "text": [
      "Epoch 440 - VALIDATION LOSS: 0.00036057058605365455 - VALIDATION PSNR: 35.003238677978516 - VALIDATION SSIM: 0.9124241144376546\n"
     ]
    },
    {
     "name": "stderr",
     "output_type": "stream",
     "text": [
      "  4%|▍         | 442/10000 [4:20:53<93:40:58, 35.29s/it]"
     ]
    },
    {
     "name": "stdout",
     "output_type": "stream",
     "text": [
      "Epoch 442 - VALIDATION LOSS: 0.0003369097685208544 - VALIDATION PSNR: 35.393428802490234 - VALIDATION SSIM: 0.9158950625024438\n"
     ]
    },
    {
     "name": "stderr",
     "output_type": "stream",
     "text": [
      "  4%|▍         | 444/10000 [4:22:01<92:06:38, 34.70s/it]"
     ]
    },
    {
     "name": "stdout",
     "output_type": "stream",
     "text": [
      "Epoch 444 - VALIDATION LOSS: 0.00023770596817485057 - VALIDATION PSNR: 36.540184020996094 - VALIDATION SSIM: 0.9356623985847831\n"
     ]
    },
    {
     "name": "stderr",
     "output_type": "stream",
     "text": [
      "  4%|▍         | 446/10000 [4:23:14<94:37:40, 35.66s/it]"
     ]
    },
    {
     "name": "stdout",
     "output_type": "stream",
     "text": [
      "Epoch 446 - VALIDATION LOSS: 0.000333789555952535 - VALIDATION PSNR: 35.10153579711914 - VALIDATION SSIM: 0.9164410498989969\n"
     ]
    },
    {
     "name": "stderr",
     "output_type": "stream",
     "text": [
      "  4%|▍         | 448/10000 [4:24:26<95:23:24, 35.95s/it]"
     ]
    },
    {
     "name": "stdout",
     "output_type": "stream",
     "text": [
      "Epoch 448 - VALIDATION LOSS: 0.0003663387342385249 - VALIDATION PSNR: 34.857242584228516 - VALIDATION SSIM: 0.9097465938172191\n"
     ]
    },
    {
     "name": "stderr",
     "output_type": "stream",
     "text": [
      "  4%|▍         | 449/10000 [4:25:00<93:56:59, 35.41s/it]"
     ]
    },
    {
     "name": "stdout",
     "output_type": "stream",
     "text": [
      "Epoch 450 - VALIDATION LOSS: 0.00036516184263746254 - VALIDATION PSNR: 35.174354553222656 - VALIDATION SSIM: 0.9121777150542587\n"
     ]
    },
    {
     "name": "stderr",
     "output_type": "stream",
     "text": [
      "  5%|▍         | 452/10000 [4:26:42<91:33:13, 34.52s/it]"
     ]
    },
    {
     "name": "stdout",
     "output_type": "stream",
     "text": [
      "Epoch 452 - VALIDATION LOSS: 0.0003680462577904109 - VALIDATION PSNR: 34.92206954956055 - VALIDATION SSIM: 0.9107489404618739\n"
     ]
    },
    {
     "name": "stderr",
     "output_type": "stream",
     "text": [
      "  5%|▍         | 454/10000 [4:27:54<93:24:16, 35.22s/it]"
     ]
    },
    {
     "name": "stdout",
     "output_type": "stream",
     "text": [
      "Epoch 454 - VALIDATION LOSS: 0.00034016568497463595 - VALIDATION PSNR: 35.26826477050781 - VALIDATION SSIM: 0.9156541586146169\n"
     ]
    },
    {
     "name": "stderr",
     "output_type": "stream",
     "text": [
      "  5%|▍         | 456/10000 [4:29:05<93:16:17, 35.18s/it]"
     ]
    },
    {
     "name": "stdout",
     "output_type": "stream",
     "text": [
      "Epoch 456 - VALIDATION LOSS: 0.00027221854543313384 - VALIDATION PSNR: 36.59659957885742 - VALIDATION SSIM: 0.9308708582417369\n"
     ]
    },
    {
     "name": "stderr",
     "output_type": "stream",
     "text": [
      "  5%|▍         | 458/10000 [4:30:11<90:53:22, 34.29s/it]"
     ]
    },
    {
     "name": "stdout",
     "output_type": "stream",
     "text": [
      "Epoch 458 - VALIDATION LOSS: 0.000321989131407463 - VALIDATION PSNR: 35.532562255859375 - VALIDATION SSIM: 0.9195442455885112\n"
     ]
    },
    {
     "name": "stderr",
     "output_type": "stream",
     "text": [
      "  5%|▍         | 459/10000 [4:30:44<89:23:27, 33.73s/it]"
     ]
    },
    {
     "name": "stdout",
     "output_type": "stream",
     "text": [
      "Epoch 460 - VALIDATION LOSS: 0.0003407383619560278 - VALIDATION PSNR: 35.664859771728516 - VALIDATION SSIM: 0.9184535256047249\n"
     ]
    },
    {
     "name": "stderr",
     "output_type": "stream",
     "text": [
      "  5%|▍         | 462/10000 [4:32:31<92:47:49, 35.03s/it]"
     ]
    },
    {
     "name": "stdout",
     "output_type": "stream",
     "text": [
      "Epoch 462 - VALIDATION LOSS: 0.0003971326386817964 - VALIDATION PSNR: 34.46426773071289 - VALIDATION SSIM: 0.9050390531593263\n"
     ]
    },
    {
     "name": "stderr",
     "output_type": "stream",
     "text": [
      "  5%|▍         | 464/10000 [4:33:40<92:15:48, 34.83s/it]"
     ]
    },
    {
     "name": "stdout",
     "output_type": "stream",
     "text": [
      "Epoch 464 - VALIDATION LOSS: 0.0002618126745801419 - VALIDATION PSNR: 36.170475006103516 - VALIDATION SSIM: 0.9311773697338477\n"
     ]
    },
    {
     "name": "stderr",
     "output_type": "stream",
     "text": [
      "  5%|▍         | 466/10000 [4:34:47<89:56:04, 33.96s/it]"
     ]
    },
    {
     "name": "stdout",
     "output_type": "stream",
     "text": [
      "Epoch 466 - VALIDATION LOSS: 0.00028338804077066015 - VALIDATION PSNR: 36.294830322265625 - VALIDATION SSIM: 0.9280346251349971\n"
     ]
    },
    {
     "name": "stderr",
     "output_type": "stream",
     "text": [
      "  5%|▍         | 468/10000 [4:35:55<90:47:16, 34.29s/it]"
     ]
    },
    {
     "name": "stdout",
     "output_type": "stream",
     "text": [
      "Epoch 468 - VALIDATION LOSS: 0.0002708375486690784 - VALIDATION PSNR: 35.974998474121094 - VALIDATION SSIM: 0.9286319456312953\n"
     ]
    },
    {
     "name": "stderr",
     "output_type": "stream",
     "text": [
      "  5%|▍         | 469/10000 [4:36:31<91:34:12, 34.59s/it]"
     ]
    },
    {
     "name": "stdout",
     "output_type": "stream",
     "text": [
      "Epoch 470 - VALIDATION LOSS: 0.0003495869259495521 - VALIDATION PSNR: 35.03009796142578 - VALIDATION SSIM: 0.9118390230105817\n"
     ]
    },
    {
     "name": "stderr",
     "output_type": "stream",
     "text": [
      "  5%|▍         | 472/10000 [4:38:11<89:24:20, 33.78s/it]"
     ]
    },
    {
     "name": "stdout",
     "output_type": "stream",
     "text": [
      "Epoch 472 - VALIDATION LOSS: 0.0002696336296139634 - VALIDATION PSNR: 36.252315521240234 - VALIDATION SSIM: 0.9294990153979659\n"
     ]
    },
    {
     "name": "stderr",
     "output_type": "stream",
     "text": [
      "  5%|▍         | 474/10000 [4:39:20<90:25:39, 34.17s/it]"
     ]
    },
    {
     "name": "stdout",
     "output_type": "stream",
     "text": [
      "Epoch 474 - VALIDATION LOSS: 0.00029311160142242443 - VALIDATION PSNR: 35.82001495361328 - VALIDATION SSIM: 0.9254611573779731\n"
     ]
    },
    {
     "name": "stderr",
     "output_type": "stream",
     "text": [
      "  5%|▍         | 476/10000 [4:40:31<92:40:40, 35.03s/it]"
     ]
    },
    {
     "name": "stdout",
     "output_type": "stream",
     "text": [
      "Epoch 476 - VALIDATION LOSS: 0.0003346384492033394 - VALIDATION PSNR: 35.44700622558594 - VALIDATION SSIM: 0.9180888882150278\n"
     ]
    },
    {
     "name": "stderr",
     "output_type": "stream",
     "text": [
      "  5%|▍         | 478/10000 [4:41:40<91:25:50, 34.57s/it]"
     ]
    },
    {
     "name": "stdout",
     "output_type": "stream",
     "text": [
      "Epoch 478 - VALIDATION LOSS: 0.00032215956525760703 - VALIDATION PSNR: 35.058162689208984 - VALIDATION SSIM: 0.9176298641507924\n"
     ]
    },
    {
     "name": "stderr",
     "output_type": "stream",
     "text": [
      "  5%|▍         | 479/10000 [4:42:13<89:50:54, 33.97s/it]"
     ]
    },
    {
     "name": "stdout",
     "output_type": "stream",
     "text": [
      "Epoch 480 - VALIDATION LOSS: 0.0003017940098288818 - VALIDATION PSNR: 35.81662368774414 - VALIDATION SSIM: 0.9226077390572727\n"
     ]
    },
    {
     "name": "stderr",
     "output_type": "stream",
     "text": [
      "  5%|▍         | 482/10000 [4:43:57<91:47:45, 34.72s/it]"
     ]
    },
    {
     "name": "stdout",
     "output_type": "stream",
     "text": [
      "Epoch 482 - VALIDATION LOSS: 0.0003365932570886798 - VALIDATION PSNR: 35.399269104003906 - VALIDATION SSIM: 0.9154167750337123\n"
     ]
    },
    {
     "name": "stderr",
     "output_type": "stream",
     "text": [
      "  5%|▍         | 484/10000 [4:45:09<93:39:36, 35.43s/it]"
     ]
    },
    {
     "name": "stdout",
     "output_type": "stream",
     "text": [
      "Epoch 484 - VALIDATION LOSS: 0.00035237373049312737 - VALIDATION PSNR: 34.85179138183594 - VALIDATION SSIM: 0.9127914054600298\n"
     ]
    },
    {
     "name": "stderr",
     "output_type": "stream",
     "text": [
      "  5%|▍         | 486/10000 [4:46:15<90:34:31, 34.27s/it]"
     ]
    },
    {
     "name": "stdout",
     "output_type": "stream",
     "text": [
      "Epoch 486 - VALIDATION LOSS: 0.00034465563203411875 - VALIDATION PSNR: 35.22787857055664 - VALIDATION SSIM: 0.915188691105157\n"
     ]
    },
    {
     "name": "stderr",
     "output_type": "stream",
     "text": [
      "  5%|▍         | 488/10000 [4:47:22<88:52:54, 33.64s/it]"
     ]
    },
    {
     "name": "stdout",
     "output_type": "stream",
     "text": [
      "Epoch 488 - VALIDATION LOSS: 0.0002705995902942959 - VALIDATION PSNR: 36.23727798461914 - VALIDATION SSIM: 0.9294472031962573\n"
     ]
    },
    {
     "name": "stderr",
     "output_type": "stream",
     "text": [
      "  5%|▍         | 489/10000 [4:47:57<90:19:29, 34.19s/it]"
     ]
    },
    {
     "name": "stdout",
     "output_type": "stream",
     "text": [
      "Epoch 490 - VALIDATION LOSS: 0.00022104087111074477 - VALIDATION PSNR: 36.97636032104492 - VALIDATION SSIM: 0.9404703657045961\n"
     ]
    },
    {
     "name": "stderr",
     "output_type": "stream",
     "text": [
      "  5%|▍         | 492/10000 [4:49:45<93:17:08, 35.32s/it]"
     ]
    },
    {
     "name": "stdout",
     "output_type": "stream",
     "text": [
      "Epoch 492 - VALIDATION LOSS: 0.0003215363158233231 - VALIDATION PSNR: 35.37022018432617 - VALIDATION SSIM: 0.9186180756573379\n"
     ]
    },
    {
     "name": "stderr",
     "output_type": "stream",
     "text": [
      "  5%|▍         | 494/10000 [4:50:51<90:15:26, 34.18s/it]"
     ]
    },
    {
     "name": "stdout",
     "output_type": "stream",
     "text": [
      "Epoch 494 - VALIDATION LOSS: 0.0004145821694692131 - VALIDATION PSNR: 33.98867416381836 - VALIDATION SSIM: 0.8995356368294999\n"
     ]
    },
    {
     "name": "stderr",
     "output_type": "stream",
     "text": [
      "  5%|▍         | 496/10000 [4:51:59<89:31:16, 33.91s/it]"
     ]
    },
    {
     "name": "stdout",
     "output_type": "stream",
     "text": [
      "Epoch 496 - VALIDATION LOSS: 0.0003270141187385889 - VALIDATION PSNR: 35.53702926635742 - VALIDATION SSIM: 0.9191106340135634\n"
     ]
    },
    {
     "name": "stderr",
     "output_type": "stream",
     "text": [
      "  5%|▍         | 498/10000 [4:53:11<92:17:14, 34.96s/it]"
     ]
    },
    {
     "name": "stdout",
     "output_type": "stream",
     "text": [
      "Epoch 498 - VALIDATION LOSS: 0.0003207461213605711 - VALIDATION PSNR: 35.33881378173828 - VALIDATION SSIM: 0.919483436362654\n"
     ]
    },
    {
     "name": "stderr",
     "output_type": "stream",
     "text": [
      "  5%|▍         | 499/10000 [4:53:46<92:43:36, 35.13s/it]"
     ]
    },
    {
     "name": "stdout",
     "output_type": "stream",
     "text": [
      "Epoch 500 - VALIDATION LOSS: 0.0003383825678611174 - VALIDATION PSNR: 35.047203063964844 - VALIDATION SSIM: 0.9152739563283027\n"
     ]
    },
    {
     "name": "stderr",
     "output_type": "stream",
     "text": [
      "  5%|▌         | 502/10000 [4:55:27<89:51:47, 34.06s/it]"
     ]
    },
    {
     "name": "stdout",
     "output_type": "stream",
     "text": [
      "Epoch 502 - VALIDATION LOSS: 0.0002502757261027 - VALIDATION PSNR: 36.927791595458984 - VALIDATION SSIM: 0.9350663167075515\n"
     ]
    },
    {
     "name": "stderr",
     "output_type": "stream",
     "text": [
      "  5%|▌         | 504/10000 [4:56:36<90:28:40, 34.30s/it]"
     ]
    },
    {
     "name": "stdout",
     "output_type": "stream",
     "text": [
      "Epoch 504 - VALIDATION LOSS: 0.00021877969356864924 - VALIDATION PSNR: 37.08523178100586 - VALIDATION SSIM: 0.941203413777858\n"
     ]
    },
    {
     "name": "stderr",
     "output_type": "stream",
     "text": [
      "  5%|▌         | 506/10000 [4:57:48<92:43:52, 35.16s/it]"
     ]
    },
    {
     "name": "stdout",
     "output_type": "stream",
     "text": [
      "Epoch 506 - VALIDATION LOSS: 0.0003639433125499636 - VALIDATION PSNR: 34.86415100097656 - VALIDATION SSIM: 0.9111920287938565\n"
     ]
    },
    {
     "name": "stderr",
     "output_type": "stream",
     "text": [
      "  5%|▌         | 508/10000 [4:58:55<90:24:11, 34.29s/it]"
     ]
    },
    {
     "name": "stdout",
     "output_type": "stream",
     "text": [
      "Epoch 508 - VALIDATION LOSS: 0.0002493261881681974 - VALIDATION PSNR: 37.012611389160156 - VALIDATION SSIM: 0.9359313261206448\n"
     ]
    },
    {
     "name": "stderr",
     "output_type": "stream",
     "text": [
      "  5%|▌         | 509/10000 [4:59:28<89:21:23, 33.89s/it]"
     ]
    },
    {
     "name": "stdout",
     "output_type": "stream",
     "text": [
      "Epoch 510 - VALIDATION LOSS: 0.0003079719863308128 - VALIDATION PSNR: 35.565956115722656 - VALIDATION SSIM: 0.9215268810629844\n"
     ]
    },
    {
     "name": "stderr",
     "output_type": "stream",
     "text": [
      "  5%|▌         | 512/10000 [5:01:13<91:33:41, 34.74s/it]"
     ]
    },
    {
     "name": "stdout",
     "output_type": "stream",
     "text": [
      "Epoch 512 - VALIDATION LOSS: 0.00023146978128352202 - VALIDATION PSNR: 36.897552490234375 - VALIDATION SSIM: 0.9377519635935724\n"
     ]
    },
    {
     "name": "stderr",
     "output_type": "stream",
     "text": [
      "  5%|▌         | 514/10000 [5:02:24<93:04:55, 35.33s/it]"
     ]
    },
    {
     "name": "stdout",
     "output_type": "stream",
     "text": [
      "Epoch 514 - VALIDATION LOSS: 0.00039502701110905036 - VALIDATION PSNR: 34.42308044433594 - VALIDATION SSIM: 0.90543858744435\n"
     ]
    },
    {
     "name": "stderr",
     "output_type": "stream",
     "text": [
      "  5%|▌         | 516/10000 [5:03:31<90:13:57, 34.25s/it]"
     ]
    },
    {
     "name": "stdout",
     "output_type": "stream",
     "text": [
      "Epoch 516 - VALIDATION LOSS: 0.00030681968382850755 - VALIDATION PSNR: 35.369361877441406 - VALIDATION SSIM: 0.9215802840699553\n"
     ]
    },
    {
     "name": "stderr",
     "output_type": "stream",
     "text": [
      "  5%|▌         | 518/10000 [5:04:38<89:41:01, 34.05s/it]"
     ]
    },
    {
     "name": "stdout",
     "output_type": "stream",
     "text": [
      "Epoch 518 - VALIDATION LOSS: 0.00022118235210655257 - VALIDATION PSNR: 36.85276794433594 - VALIDATION SSIM: 0.9387659104021788\n"
     ]
    },
    {
     "name": "stderr",
     "output_type": "stream",
     "text": [
      "  5%|▌         | 519/10000 [5:05:14<91:31:19, 34.75s/it]"
     ]
    },
    {
     "name": "stdout",
     "output_type": "stream",
     "text": [
      "Epoch 520 - VALIDATION LOSS: 0.0003800957347266376 - VALIDATION PSNR: 34.415931701660156 - VALIDATION SSIM: 0.9070380516048671\n"
     ]
    },
    {
     "name": "stderr",
     "output_type": "stream",
     "text": [
      "  5%|▌         | 522/10000 [5:06:59<91:14:41, 34.66s/it]"
     ]
    },
    {
     "name": "stdout",
     "output_type": "stream",
     "text": [
      "Epoch 522 - VALIDATION LOSS: 0.00037721209082519636 - VALIDATION PSNR: 34.7788200378418 - VALIDATION SSIM: 0.9092698376974221\n"
     ]
    },
    {
     "name": "stderr",
     "output_type": "stream",
     "text": [
      "  5%|▌         | 524/10000 [5:08:06<90:12:08, 34.27s/it]"
     ]
    },
    {
     "name": "stdout",
     "output_type": "stream",
     "text": [
      "Epoch 524 - VALIDATION LOSS: 0.00027775228682003217 - VALIDATION PSNR: 35.878665924072266 - VALIDATION SSIM: 0.9272317570791245\n"
     ]
    },
    {
     "name": "stderr",
     "output_type": "stream",
     "text": [
      "  5%|▌         | 526/10000 [5:09:18<92:10:55, 35.03s/it]"
     ]
    },
    {
     "name": "stdout",
     "output_type": "stream",
     "text": [
      "Epoch 526 - VALIDATION LOSS: 0.0003555085222615162 - VALIDATION PSNR: 34.796260833740234 - VALIDATION SSIM: 0.9113924695048929\n"
     ]
    },
    {
     "name": "stderr",
     "output_type": "stream",
     "text": [
      "  5%|▌         | 528/10000 [5:10:27<91:03:25, 34.61s/it]"
     ]
    },
    {
     "name": "stdout",
     "output_type": "stream",
     "text": [
      "Epoch 528 - VALIDATION LOSS: 0.00028852235209342325 - VALIDATION PSNR: 35.80995559692383 - VALIDATION SSIM: 0.9255648028674126\n"
     ]
    },
    {
     "name": "stderr",
     "output_type": "stream",
     "text": [
      "  5%|▌         | 529/10000 [5:11:00<89:59:54, 34.21s/it]"
     ]
    },
    {
     "name": "stdout",
     "output_type": "stream",
     "text": [
      "Epoch 530 - VALIDATION LOSS: 0.00037331685052777175 - VALIDATION PSNR: 34.754634857177734 - VALIDATION SSIM: 0.9087168909131885\n"
     ]
    },
    {
     "name": "stderr",
     "output_type": "stream",
     "text": [
      "  5%|▌         | 532/10000 [5:12:43<90:57:18, 34.58s/it]"
     ]
    },
    {
     "name": "stdout",
     "output_type": "stream",
     "text": [
      "Epoch 532 - VALIDATION LOSS: 0.00038355022843461484 - VALIDATION PSNR: 34.56880569458008 - VALIDATION SSIM: 0.9070394907143191\n"
     ]
    },
    {
     "name": "stderr",
     "output_type": "stream",
     "text": [
      "  5%|▌         | 534/10000 [5:13:55<92:27:39, 35.16s/it]"
     ]
    },
    {
     "name": "stdout",
     "output_type": "stream",
     "text": [
      "Epoch 534 - VALIDATION LOSS: 0.00033395660648238845 - VALIDATION PSNR: 35.06978988647461 - VALIDATION SSIM: 0.9167701835462526\n"
     ]
    },
    {
     "name": "stderr",
     "output_type": "stream",
     "text": [
      "  5%|▌         | 536/10000 [5:15:03<90:36:43, 34.47s/it]"
     ]
    },
    {
     "name": "stdout",
     "output_type": "stream",
     "text": [
      "Epoch 536 - VALIDATION LOSS: 0.0003579207204893464 - VALIDATION PSNR: 34.861087799072266 - VALIDATION SSIM: 0.9123701765911579\n"
     ]
    },
    {
     "name": "stderr",
     "output_type": "stream",
     "text": [
      "  5%|▌         | 538/10000 [5:16:10<89:39:55, 34.11s/it]"
     ]
    },
    {
     "name": "stdout",
     "output_type": "stream",
     "text": [
      "Epoch 538 - VALIDATION LOSS: 0.0003373503295733826 - VALIDATION PSNR: 34.888031005859375 - VALIDATION SSIM: 0.9159226602400244\n"
     ]
    },
    {
     "name": "stderr",
     "output_type": "stream",
     "text": [
      "  5%|▌         | 539/10000 [5:16:45<90:25:02, 34.40s/it]"
     ]
    },
    {
     "name": "stdout",
     "output_type": "stream",
     "text": [
      "Epoch 540 - VALIDATION LOSS: 0.00029269825245137326 - VALIDATION PSNR: 36.15121841430664 - VALIDATION SSIM: 0.9268452861515283\n"
     ]
    },
    {
     "name": "stderr",
     "output_type": "stream",
     "text": [
      "  5%|▌         | 542/10000 [5:18:32<92:17:33, 35.13s/it]"
     ]
    },
    {
     "name": "stdout",
     "output_type": "stream",
     "text": [
      "Epoch 542 - VALIDATION LOSS: 0.00030695296118210535 - VALIDATION PSNR: 35.59785079956055 - VALIDATION SSIM: 0.9214649980838746\n"
     ]
    },
    {
     "name": "stderr",
     "output_type": "stream",
     "text": [
      "  5%|▌         | 544/10000 [5:19:39<89:48:25, 34.19s/it]"
     ]
    },
    {
     "name": "stdout",
     "output_type": "stream",
     "text": [
      "Epoch 544 - VALIDATION LOSS: 0.0003474042514426401 - VALIDATION PSNR: 34.80179977416992 - VALIDATION SSIM: 0.9135032791219949\n"
     ]
    },
    {
     "name": "stderr",
     "output_type": "stream",
     "text": [
      "  5%|▌         | 546/10000 [5:20:50<91:49:13, 34.96s/it]"
     ]
    },
    {
     "name": "stdout",
     "output_type": "stream",
     "text": [
      "Epoch 546 - VALIDATION LOSS: 0.00035309903068991844 - VALIDATION PSNR: 34.84194564819336 - VALIDATION SSIM: 0.9121669854818285\n"
     ]
    },
    {
     "name": "stderr",
     "output_type": "stream",
     "text": [
      "  5%|▌         | 548/10000 [5:21:59<91:17:25, 34.77s/it]"
     ]
    },
    {
     "name": "stdout",
     "output_type": "stream",
     "text": [
      "Epoch 548 - VALIDATION LOSS: 0.00023335102923738305 - VALIDATION PSNR: 36.76121139526367 - VALIDATION SSIM: 0.9384978470711113\n"
     ]
    },
    {
     "name": "stderr",
     "output_type": "stream",
     "text": [
      "  5%|▌         | 549/10000 [5:22:32<89:48:32, 34.21s/it]"
     ]
    },
    {
     "name": "stdout",
     "output_type": "stream",
     "text": [
      "Epoch 550 - VALIDATION LOSS: 0.00037922306000837125 - VALIDATION PSNR: 34.474365234375 - VALIDATION SSIM: 0.9065433142399638\n"
     ]
    },
    {
     "name": "stderr",
     "output_type": "stream",
     "text": [
      "  6%|▌         | 552/10000 [5:24:16<90:30:33, 34.49s/it]"
     ]
    },
    {
     "name": "stdout",
     "output_type": "stream",
     "text": [
      "Epoch 552 - VALIDATION LOSS: 0.000257291438174434 - VALIDATION PSNR: 36.52533721923828 - VALIDATION SSIM: 0.9338313834980129\n"
     ]
    },
    {
     "name": "stderr",
     "output_type": "stream",
     "text": [
      "  6%|▌         | 554/10000 [5:25:26<91:06:21, 34.72s/it]"
     ]
    },
    {
     "name": "stdout",
     "output_type": "stream",
     "text": [
      "Epoch 554 - VALIDATION LOSS: 0.000313161301164655 - VALIDATION PSNR: 35.51960754394531 - VALIDATION SSIM: 0.920752792654872\n"
     ]
    },
    {
     "name": "stderr",
     "output_type": "stream",
     "text": [
      "  6%|▌         | 556/10000 [5:26:32<89:09:32, 33.99s/it]"
     ]
    },
    {
     "name": "stdout",
     "output_type": "stream",
     "text": [
      "Epoch 556 - VALIDATION LOSS: 0.0003388744753465289 - VALIDATION PSNR: 35.29888153076172 - VALIDATION SSIM: 0.9167206260661036\n"
     ]
    },
    {
     "name": "stderr",
     "output_type": "stream",
     "text": [
      "  6%|▌         | 558/10000 [5:27:42<90:22:11, 34.46s/it]"
     ]
    },
    {
     "name": "stdout",
     "output_type": "stream",
     "text": [
      "Epoch 558 - VALIDATION LOSS: 0.00034175822111137677 - VALIDATION PSNR: 34.95716857910156 - VALIDATION SSIM: 0.9148525495159477\n"
     ]
    },
    {
     "name": "stderr",
     "output_type": "stream",
     "text": [
      "  6%|▌         | 559/10000 [5:28:16<89:36:28, 34.17s/it]"
     ]
    },
    {
     "name": "stdout",
     "output_type": "stream",
     "text": [
      "Epoch 560 - VALIDATION LOSS: 0.00025822904626693344 - VALIDATION PSNR: 36.272972106933594 - VALIDATION SSIM: 0.9326599340801834\n"
     ]
    },
    {
     "name": "stderr",
     "output_type": "stream",
     "text": [
      "  6%|▌         | 562/10000 [5:30:00<90:37:47, 34.57s/it]"
     ]
    },
    {
     "name": "stdout",
     "output_type": "stream",
     "text": [
      "Epoch 562 - VALIDATION LOSS: 0.00031672280329075875 - VALIDATION PSNR: 35.527099609375 - VALIDATION SSIM: 0.9204517198227347\n"
     ]
    },
    {
     "name": "stderr",
     "output_type": "stream",
     "text": [
      "  6%|▌         | 564/10000 [5:31:08<89:35:34, 34.18s/it]"
     ]
    },
    {
     "name": "stdout",
     "output_type": "stream",
     "text": [
      "Epoch 564 - VALIDATION LOSS: 0.00021967978227621643 - VALIDATION PSNR: 36.8575553894043 - VALIDATION SSIM: 0.9399477276439071\n"
     ]
    },
    {
     "name": "stderr",
     "output_type": "stream",
     "text": [
      "  6%|▌         | 566/10000 [5:32:19<91:45:21, 35.01s/it]"
     ]
    },
    {
     "name": "stdout",
     "output_type": "stream",
     "text": [
      "Epoch 566 - VALIDATION LOSS: 0.0003419765671424102 - VALIDATION PSNR: 35.02130889892578 - VALIDATION SSIM: 0.9148396530713439\n"
     ]
    },
    {
     "name": "stderr",
     "output_type": "stream",
     "text": [
      "  6%|▌         | 568/10000 [5:33:30<92:06:17, 35.15s/it]"
     ]
    },
    {
     "name": "stdout",
     "output_type": "stream",
     "text": [
      "Epoch 568 - VALIDATION LOSS: 0.00030946707920520566 - VALIDATION PSNR: 35.699981689453125 - VALIDATION SSIM: 0.9223855362929999\n"
     ]
    },
    {
     "name": "stderr",
     "output_type": "stream",
     "text": [
      "  6%|▌         | 569/10000 [5:34:03<90:34:26, 34.57s/it]"
     ]
    },
    {
     "name": "stdout",
     "output_type": "stream",
     "text": [
      "Epoch 570 - VALIDATION LOSS: 0.0003331957550471998 - VALIDATION PSNR: 35.25092315673828 - VALIDATION SSIM: 0.91640934029302\n"
     ]
    },
    {
     "name": "stderr",
     "output_type": "stream",
     "text": [
      "  6%|▌         | 572/10000 [5:35:47<91:07:30, 34.80s/it]"
     ]
    },
    {
     "name": "stdout",
     "output_type": "stream",
     "text": [
      "Epoch 572 - VALIDATION LOSS: 0.0002914949509431608 - VALIDATION PSNR: 35.66447067260742 - VALIDATION SSIM: 0.9252497137414812\n"
     ]
    },
    {
     "name": "stderr",
     "output_type": "stream",
     "text": [
      "  6%|▌         | 574/10000 [5:37:00<92:56:21, 35.50s/it]"
     ]
    },
    {
     "name": "stdout",
     "output_type": "stream",
     "text": [
      "Epoch 574 - VALIDATION LOSS: 0.0002907696798502002 - VALIDATION PSNR: 36.19145965576172 - VALIDATION SSIM: 0.9253060950794034\n"
     ]
    },
    {
     "name": "stderr",
     "output_type": "stream",
     "text": [
      "  6%|▌         | 576/10000 [5:38:09<91:36:38, 35.00s/it]"
     ]
    },
    {
     "name": "stdout",
     "output_type": "stream",
     "text": [
      "Epoch 576 - VALIDATION LOSS: 0.00032984826248139143 - VALIDATION PSNR: 35.07062530517578 - VALIDATION SSIM: 0.9160289513108134\n"
     ]
    },
    {
     "name": "stderr",
     "output_type": "stream",
     "text": [
      "  6%|▌         | 578/10000 [5:39:17<90:02:12, 34.40s/it]"
     ]
    },
    {
     "name": "stdout",
     "output_type": "stream",
     "text": [
      "Epoch 578 - VALIDATION LOSS: 0.000353675093720085 - VALIDATION PSNR: 35.10645294189453 - VALIDATION SSIM: 0.9127908743945806\n"
     ]
    },
    {
     "name": "stderr",
     "output_type": "stream",
     "text": [
      "  6%|▌         | 579/10000 [5:39:50<89:25:14, 34.17s/it]"
     ]
    },
    {
     "name": "stdout",
     "output_type": "stream",
     "text": [
      "Epoch 580 - VALIDATION LOSS: 0.000294954391392821 - VALIDATION PSNR: 35.697227478027344 - VALIDATION SSIM: 0.9238773213503361\n"
     ]
    },
    {
     "name": "stderr",
     "output_type": "stream",
     "text": [
      "  6%|▌         | 582/10000 [5:41:39<92:58:55, 35.54s/it]"
     ]
    },
    {
     "name": "stdout",
     "output_type": "stream",
     "text": [
      "Epoch 582 - VALIDATION LOSS: 0.0003589980005926918 - VALIDATION PSNR: 34.737022399902344 - VALIDATION SSIM: 0.9113084025016724\n"
     ]
    },
    {
     "name": "stderr",
     "output_type": "stream",
     "text": [
      "  6%|▌         | 584/10000 [5:42:48<90:53:44, 34.75s/it]"
     ]
    },
    {
     "name": "stdout",
     "output_type": "stream",
     "text": [
      "Epoch 584 - VALIDATION LOSS: 0.00033924800300155766 - VALIDATION PSNR: 35.0153694152832 - VALIDATION SSIM: 0.9150339016866387\n"
     ]
    },
    {
     "name": "stderr",
     "output_type": "stream",
     "text": [
      "  6%|▌         | 586/10000 [5:43:55<89:20:39, 34.17s/it]"
     ]
    },
    {
     "name": "stdout",
     "output_type": "stream",
     "text": [
      "Epoch 586 - VALIDATION LOSS: 0.0003611314168665558 - VALIDATION PSNR: 34.901268005371094 - VALIDATION SSIM: 0.9114397923577428\n"
     ]
    },
    {
     "name": "stderr",
     "output_type": "stream",
     "text": [
      "  6%|▌         | 588/10000 [5:45:06<91:29:57, 35.00s/it]"
     ]
    },
    {
     "name": "stdout",
     "output_type": "stream",
     "text": [
      "Epoch 588 - VALIDATION LOSS: 0.00036978440039092675 - VALIDATION PSNR: 34.580078125 - VALIDATION SSIM: 0.9090323955106437\n"
     ]
    },
    {
     "name": "stderr",
     "output_type": "stream",
     "text": [
      "  6%|▌         | 589/10000 [5:45:42<92:16:23, 35.30s/it]"
     ]
    },
    {
     "name": "stdout",
     "output_type": "stream",
     "text": [
      "Epoch 590 - VALIDATION LOSS: 0.00032992111482599284 - VALIDATION PSNR: 35.17729187011719 - VALIDATION SSIM: 0.9167072115517902\n"
     ]
    },
    {
     "name": "stderr",
     "output_type": "stream",
     "text": [
      "  6%|▌         | 592/10000 [5:47:26<90:30:22, 34.63s/it]"
     ]
    },
    {
     "name": "stdout",
     "output_type": "stream",
     "text": [
      "Epoch 592 - VALIDATION LOSS: 0.0002913937823905144 - VALIDATION PSNR: 35.6640739440918 - VALIDATION SSIM: 0.9246542925567328\n"
     ]
    },
    {
     "name": "stderr",
     "output_type": "stream",
     "text": [
      "  6%|▌         | 594/10000 [5:48:33<89:02:06, 34.08s/it]"
     ]
    },
    {
     "name": "stdout",
     "output_type": "stream",
     "text": [
      "Epoch 594 - VALIDATION LOSS: 0.00033697900107654277 - VALIDATION PSNR: 35.04657745361328 - VALIDATION SSIM: 0.9154259892147034\n"
     ]
    },
    {
     "name": "stderr",
     "output_type": "stream",
     "text": [
      "  6%|▌         | 596/10000 [5:49:45<91:30:55, 35.03s/it]"
     ]
    },
    {
     "name": "stdout",
     "output_type": "stream",
     "text": [
      "Epoch 596 - VALIDATION LOSS: 0.00028232517979631666 - VALIDATION PSNR: 35.89273452758789 - VALIDATION SSIM: 0.9269020646766126\n"
     ]
    },
    {
     "name": "stderr",
     "output_type": "stream",
     "text": [
      "  6%|▌         | 598/10000 [5:50:57<92:47:51, 35.53s/it]"
     ]
    },
    {
     "name": "stdout",
     "output_type": "stream",
     "text": [
      "Epoch 598 - VALIDATION LOSS: 0.0003568708270904608 - VALIDATION PSNR: 34.897796630859375 - VALIDATION SSIM: 0.9121459981266187\n"
     ]
    },
    {
     "name": "stderr",
     "output_type": "stream",
     "text": [
      "  6%|▌         | 599/10000 [5:51:31<91:38:06, 35.09s/it]"
     ]
    },
    {
     "name": "stdout",
     "output_type": "stream",
     "text": [
      "Epoch 600 - VALIDATION LOSS: 0.0003161385811836226 - VALIDATION PSNR: 35.29864501953125 - VALIDATION SSIM: 0.9198805258127004\n"
     ]
    },
    {
     "name": "stderr",
     "output_type": "stream",
     "text": [
      "  6%|▌         | 602/10000 [5:53:15<91:45:51, 35.15s/it]"
     ]
    },
    {
     "name": "stdout",
     "output_type": "stream",
     "text": [
      "Epoch 602 - VALIDATION LOSS: 0.0002804895693770959 - VALIDATION PSNR: 36.25283432006836 - VALIDATION SSIM: 0.9286393696729244\n"
     ]
    },
    {
     "name": "stderr",
     "output_type": "stream",
     "text": [
      "  6%|▌         | 604/10000 [5:54:27<92:55:37, 35.60s/it]"
     ]
    },
    {
     "name": "stdout",
     "output_type": "stream",
     "text": [
      "Epoch 604 - VALIDATION LOSS: 0.0002976957221108023 - VALIDATION PSNR: 36.12323760986328 - VALIDATION SSIM: 0.9267922159196884\n"
     ]
    },
    {
     "name": "stderr",
     "output_type": "stream",
     "text": [
      "  6%|▌         | 606/10000 [5:55:35<90:28:22, 34.67s/it]"
     ]
    },
    {
     "name": "stdout",
     "output_type": "stream",
     "text": [
      "Epoch 606 - VALIDATION LOSS: 0.0002956777625513496 - VALIDATION PSNR: 35.49496841430664 - VALIDATION SSIM: 0.9236200380643532\n"
     ]
    },
    {
     "name": "stderr",
     "output_type": "stream",
     "text": [
      "  6%|▌         | 608/10000 [5:56:42<89:25:17, 34.28s/it]"
     ]
    },
    {
     "name": "stdout",
     "output_type": "stream",
     "text": [
      "Epoch 608 - VALIDATION LOSS: 0.00030253682962211315 - VALIDATION PSNR: 35.32152557373047 - VALIDATION SSIM: 0.9216481211499572\n"
     ]
    },
    {
     "name": "stderr",
     "output_type": "stream",
     "text": [
      "  6%|▌         | 609/10000 [5:57:19<91:11:00, 34.95s/it]"
     ]
    },
    {
     "name": "stdout",
     "output_type": "stream",
     "text": [
      "Epoch 610 - VALIDATION LOSS: 0.00032140045459527755 - VALIDATION PSNR: 35.209999084472656 - VALIDATION SSIM: 0.9190349586360157\n"
     ]
    },
    {
     "name": "stderr",
     "output_type": "stream",
     "text": [
      "  6%|▌         | 612/10000 [5:59:07<92:40:15, 35.54s/it]"
     ]
    },
    {
     "name": "stdout",
     "output_type": "stream",
     "text": [
      "Epoch 612 - VALIDATION LOSS: 0.0003273477905167965 - VALIDATION PSNR: 35.36851501464844 - VALIDATION SSIM: 0.9183323599640728\n"
     ]
    },
    {
     "name": "stderr",
     "output_type": "stream",
     "text": [
      "  6%|▌         | 614/10000 [6:00:13<89:32:13, 34.34s/it]"
     ]
    },
    {
     "name": "stdout",
     "output_type": "stream",
     "text": [
      "Epoch 614 - VALIDATION LOSS: 0.00031650139681005385 - VALIDATION PSNR: 35.44633483886719 - VALIDATION SSIM: 0.9200492137086689\n"
     ]
    },
    {
     "name": "stderr",
     "output_type": "stream",
     "text": [
      "  6%|▌         | 616/10000 [6:01:21<89:26:40, 34.31s/it]"
     ]
    },
    {
     "name": "stdout",
     "output_type": "stream",
     "text": [
      "Epoch 616 - VALIDATION LOSS: 0.00035537615531211486 - VALIDATION PSNR: 35.02454376220703 - VALIDATION SSIM: 0.913816374986291\n"
     ]
    },
    {
     "name": "stderr",
     "output_type": "stream",
     "text": [
      "  6%|▌         | 618/10000 [6:02:34<92:13:23, 35.39s/it]"
     ]
    },
    {
     "name": "stdout",
     "output_type": "stream",
     "text": [
      "Epoch 618 - VALIDATION LOSS: 0.0003652511732070707 - VALIDATION PSNR: 34.66764450073242 - VALIDATION SSIM: 0.910590166001439\n"
     ]
    },
    {
     "name": "stderr",
     "output_type": "stream",
     "text": [
      "  6%|▌         | 619/10000 [6:03:10<92:27:11, 35.48s/it]"
     ]
    },
    {
     "name": "stdout",
     "output_type": "stream",
     "text": [
      "Epoch 620 - VALIDATION LOSS: 0.00034911478905996773 - VALIDATION PSNR: 35.14598846435547 - VALIDATION SSIM: 0.9138460518433151\n"
     ]
    },
    {
     "name": "stderr",
     "output_type": "stream",
     "text": [
      "  6%|▌         | 622/10000 [6:04:51<89:29:49, 34.36s/it]"
     ]
    },
    {
     "name": "stdout",
     "output_type": "stream",
     "text": [
      "Epoch 622 - VALIDATION LOSS: 0.00031003940785012674 - VALIDATION PSNR: 35.34471130371094 - VALIDATION SSIM: 0.9207510317006111\n"
     ]
    },
    {
     "name": "stderr",
     "output_type": "stream",
     "text": [
      "  6%|▌         | 624/10000 [6:06:05<92:49:17, 35.64s/it]"
     ]
    },
    {
     "name": "stdout",
     "output_type": "stream",
     "text": [
      "Epoch 624 - VALIDATION LOSS: 0.00039868642488727346 - VALIDATION PSNR: 34.28123092651367 - VALIDATION SSIM: 0.9036890397302508\n"
     ]
    },
    {
     "name": "stderr",
     "output_type": "stream",
     "text": [
      "  6%|▌         | 624/10000 [6:06:24<91:45:34, 35.23s/it]\n"
     ]
    },
    {
     "ename": "KeyboardInterrupt",
     "evalue": "",
     "output_type": "error",
     "traceback": [
      "\u001b[0;31m---------------------------------------------------------------------------\u001b[0m",
      "\u001b[0;31mKeyboardInterrupt\u001b[0m                         Traceback (most recent call last)",
      "Cell \u001b[0;32mIn[50], line 4\u001b[0m\n\u001b[1;32m      1\u001b[0m \u001b[38;5;28;01mwith\u001b[39;00m torch\u001b[38;5;241m.\u001b[39mno_grad():\n\u001b[1;32m      2\u001b[0m     torch\u001b[38;5;241m.\u001b[39mcuda\u001b[38;5;241m.\u001b[39mempty_cache()\n\u001b[0;32m----> 4\u001b[0m pdhg \u001b[38;5;241m=\u001b[39m \u001b[43mstart_training\u001b[49m\u001b[43m(\u001b[49m\u001b[43mget_config\u001b[49m\u001b[43m(\u001b[49m\u001b[43m)\u001b[49m\u001b[43m)\u001b[49m\n\u001b[1;32m      6\u001b[0m \u001b[38;5;28;01mwith\u001b[39;00m torch\u001b[38;5;241m.\u001b[39mno_grad():\n\u001b[1;32m      7\u001b[0m     torch\u001b[38;5;241m.\u001b[39mcuda\u001b[38;5;241m.\u001b[39mempty_cache()\n",
      "Cell \u001b[0;32mIn[49], line 118\u001b[0m, in \u001b[0;36mstart_training\u001b[0;34m(config, pretrained_model_path, is_state_dict, start_epoch)\u001b[0m\n\u001b[1;32m    114\u001b[0m \u001b[38;5;28;01mfor\u001b[39;00m epoch \u001b[38;5;129;01min\u001b[39;00m tqdm(\u001b[38;5;28mrange\u001b[39m(start_epoch, num_epochs)):\n\u001b[1;32m    115\u001b[0m \n\u001b[1;32m    116\u001b[0m     \u001b[38;5;66;03m# Model training\u001b[39;00m\n\u001b[1;32m    117\u001b[0m     pdhg\u001b[38;5;241m.\u001b[39mtrain(\u001b[38;5;28;01mTrue\u001b[39;00m)\n\u001b[0;32m--> 118\u001b[0m     training_loss, training_psnr, training_ssim \u001b[38;5;241m=\u001b[39m \u001b[43mtrain_epoch\u001b[49m\u001b[43m(\u001b[49m\u001b[43mpdhg\u001b[49m\u001b[43m,\u001b[49m\u001b[43m \u001b[49m\u001b[43mdataloader_train\u001b[49m\u001b[43m,\u001b[49m\u001b[43m \u001b[49m\u001b[43moptimizer\u001b[49m\u001b[43m,\u001b[49m\u001b[43m \u001b[49m\u001b[43mloss_function\u001b[49m\u001b[43m)\u001b[49m\n\u001b[1;32m    119\u001b[0m     \u001b[38;5;66;03m# training_loss, training_psnr, training_ssim = train_iteration(optimizer, pdhg, loss_function, sample=(noisy_image_data, clean_image_data))\u001b[39;00m\n\u001b[1;32m    120\u001b[0m     \u001b[38;5;66;03m# print(f\"Epoch {epoch+1} - TRAINING LOSS: {training_loss} - TRAINING PSNR: {training_psnr} - TRAINING SSIM: {training_ssim}\")\u001b[39;00m\n\u001b[1;32m    121\u001b[0m \n\u001b[1;32m    122\u001b[0m     \u001b[38;5;66;03m# Optional: Use wandb to log training progress\u001b[39;00m\n\u001b[1;32m    123\u001b[0m     wandb\u001b[38;5;241m.\u001b[39mlog({\u001b[38;5;124m\"\u001b[39m\u001b[38;5;124mtraining_loss\u001b[39m\u001b[38;5;124m\"\u001b[39m: training_loss})\n",
      "Cell \u001b[0;32mIn[43], line 35\u001b[0m, in \u001b[0;36mtrain_epoch\u001b[0;34m(model, data_loader, optimizer, loss_func)\u001b[0m\n\u001b[1;32m     33\u001b[0m optimizer\u001b[38;5;241m.\u001b[39mzero_grad(set_to_none\u001b[38;5;241m=\u001b[39m\u001b[38;5;28;01mTrue\u001b[39;00m)  \u001b[38;5;66;03m# Zero your gradients for every batch! TODO: Why?\u001b[39;00m\n\u001b[1;32m     34\u001b[0m noisy_image_5d, clean_image_5d \u001b[38;5;241m=\u001b[39m sample\n\u001b[0;32m---> 35\u001b[0m denoised_image_5d \u001b[38;5;241m=\u001b[39m \u001b[43mmodel\u001b[49m\u001b[43m(\u001b[49m\u001b[43mnoisy_image_5d\u001b[49m\u001b[43m)\u001b[49m\n\u001b[1;32m     36\u001b[0m loss \u001b[38;5;241m=\u001b[39m loss_func(denoised_image_5d, clean_image_5d)\n\u001b[1;32m     38\u001b[0m loss\u001b[38;5;241m.\u001b[39mbackward()\n",
      "File \u001b[0;32m/mnt/c/Users/t/Documents/GIT/DISSERTATION/LearningRegularizationParameterMaps/venv/lib/python3.10/site-packages/torch/nn/modules/module.py:1532\u001b[0m, in \u001b[0;36mModule._wrapped_call_impl\u001b[0;34m(self, *args, **kwargs)\u001b[0m\n\u001b[1;32m   1530\u001b[0m     \u001b[38;5;28;01mreturn\u001b[39;00m \u001b[38;5;28mself\u001b[39m\u001b[38;5;241m.\u001b[39m_compiled_call_impl(\u001b[38;5;241m*\u001b[39margs, \u001b[38;5;241m*\u001b[39m\u001b[38;5;241m*\u001b[39mkwargs)  \u001b[38;5;66;03m# type: ignore[misc]\u001b[39;00m\n\u001b[1;32m   1531\u001b[0m \u001b[38;5;28;01melse\u001b[39;00m:\n\u001b[0;32m-> 1532\u001b[0m     \u001b[38;5;28;01mreturn\u001b[39;00m \u001b[38;5;28;43mself\u001b[39;49m\u001b[38;5;241;43m.\u001b[39;49m\u001b[43m_call_impl\u001b[49m\u001b[43m(\u001b[49m\u001b[38;5;241;43m*\u001b[39;49m\u001b[43margs\u001b[49m\u001b[43m,\u001b[49m\u001b[43m \u001b[49m\u001b[38;5;241;43m*\u001b[39;49m\u001b[38;5;241;43m*\u001b[39;49m\u001b[43mkwargs\u001b[49m\u001b[43m)\u001b[49m\n",
      "File \u001b[0;32m/mnt/c/Users/t/Documents/GIT/DISSERTATION/LearningRegularizationParameterMaps/venv/lib/python3.10/site-packages/torch/nn/modules/module.py:1541\u001b[0m, in \u001b[0;36mModule._call_impl\u001b[0;34m(self, *args, **kwargs)\u001b[0m\n\u001b[1;32m   1536\u001b[0m \u001b[38;5;66;03m# If we don't have any hooks, we want to skip the rest of the logic in\u001b[39;00m\n\u001b[1;32m   1537\u001b[0m \u001b[38;5;66;03m# this function, and just call forward.\u001b[39;00m\n\u001b[1;32m   1538\u001b[0m \u001b[38;5;28;01mif\u001b[39;00m \u001b[38;5;129;01mnot\u001b[39;00m (\u001b[38;5;28mself\u001b[39m\u001b[38;5;241m.\u001b[39m_backward_hooks \u001b[38;5;129;01mor\u001b[39;00m \u001b[38;5;28mself\u001b[39m\u001b[38;5;241m.\u001b[39m_backward_pre_hooks \u001b[38;5;129;01mor\u001b[39;00m \u001b[38;5;28mself\u001b[39m\u001b[38;5;241m.\u001b[39m_forward_hooks \u001b[38;5;129;01mor\u001b[39;00m \u001b[38;5;28mself\u001b[39m\u001b[38;5;241m.\u001b[39m_forward_pre_hooks\n\u001b[1;32m   1539\u001b[0m         \u001b[38;5;129;01mor\u001b[39;00m _global_backward_pre_hooks \u001b[38;5;129;01mor\u001b[39;00m _global_backward_hooks\n\u001b[1;32m   1540\u001b[0m         \u001b[38;5;129;01mor\u001b[39;00m _global_forward_hooks \u001b[38;5;129;01mor\u001b[39;00m _global_forward_pre_hooks):\n\u001b[0;32m-> 1541\u001b[0m     \u001b[38;5;28;01mreturn\u001b[39;00m \u001b[43mforward_call\u001b[49m\u001b[43m(\u001b[49m\u001b[38;5;241;43m*\u001b[39;49m\u001b[43margs\u001b[49m\u001b[43m,\u001b[49m\u001b[43m \u001b[49m\u001b[38;5;241;43m*\u001b[39;49m\u001b[38;5;241;43m*\u001b[39;49m\u001b[43mkwargs\u001b[49m\u001b[43m)\u001b[49m\n\u001b[1;32m   1543\u001b[0m \u001b[38;5;28;01mtry\u001b[39;00m:\n\u001b[1;32m   1544\u001b[0m     result \u001b[38;5;241m=\u001b[39m \u001b[38;5;28;01mNone\u001b[39;00m\n",
      "Cell \u001b[0;32mIn[36], line 132\u001b[0m, in \u001b[0;36mDynamicImageStaticPrimalDualNN.forward\u001b[0;34m(self, x, lambda_map)\u001b[0m\n\u001b[1;32m    127\u001b[0m \u001b[38;5;66;03m# if lambda_reg_container is not None:\u001b[39;00m\n\u001b[1;32m    128\u001b[0m \u001b[38;5;66;03m#     assert type(lambda_reg_container) == list, f\"lambda_reg_container should be a list, not {type(lambda_reg_container)}\"\u001b[39;00m\n\u001b[1;32m    129\u001b[0m \u001b[38;5;66;03m#     lambda_reg_container.append(lambda_reg) # For comparison\u001b[39;00m\n\u001b[1;32m    131\u001b[0m x\u001b[38;5;241m.\u001b[39mto(DEVICE)\n\u001b[0;32m--> 132\u001b[0m x1 \u001b[38;5;241m=\u001b[39m \u001b[43mreconstruct_with_PDHG\u001b[49m\u001b[43m(\u001b[49m\u001b[43mx\u001b[49m\u001b[43m,\u001b[49m\u001b[43m \u001b[49m\u001b[43mlambda_reg\u001b[49m\u001b[43m,\u001b[49m\u001b[43m \u001b[49m\u001b[38;5;28;43mself\u001b[39;49m\u001b[38;5;241;43m.\u001b[39;49m\u001b[43mT\u001b[49m\u001b[43m)\u001b[49m\n\u001b[1;32m    134\u001b[0m \u001b[38;5;28;01mdel\u001b[39;00m lambda_reg\n\u001b[1;32m    135\u001b[0m \u001b[38;5;28;01mdel\u001b[39;00m x\n",
      "Cell \u001b[0;32mIn[34], line 78\u001b[0m, in \u001b[0;36mreconstruct_with_PDHG\u001b[0;34m(x_dynamic_image_tensor_5D, lambda_reg, T)\u001b[0m\n\u001b[1;32m     76\u001b[0m p \u001b[38;5;241m=\u001b[39m  (p \u001b[38;5;241m+\u001b[39m sigma \u001b[38;5;241m*\u001b[39m (xbar \u001b[38;5;241m-\u001b[39m xnoisy) ) \u001b[38;5;241m/\u001b[39m (\u001b[38;5;241m1.\u001b[39m \u001b[38;5;241m+\u001b[39m sigma)\n\u001b[1;32m     77\u001b[0m \u001b[38;5;66;03m# update q\u001b[39;00m\n\u001b[0;32m---> 78\u001b[0m q \u001b[38;5;241m=\u001b[39m clip_act(q \u001b[38;5;241m+\u001b[39m sigma \u001b[38;5;241m*\u001b[39m \u001b[43mGradOps\u001b[49m\u001b[38;5;241;43m.\u001b[39;49m\u001b[43mapply_G\u001b[49m\u001b[43m(\u001b[49m\u001b[43mxbar\u001b[49m\u001b[43m)\u001b[49m, lambda_reg)\n\u001b[1;32m     80\u001b[0m x1 \u001b[38;5;241m=\u001b[39m x0 \u001b[38;5;241m-\u001b[39m tau \u001b[38;5;241m*\u001b[39m p \u001b[38;5;241m-\u001b[39m tau \u001b[38;5;241m*\u001b[39m GradOps\u001b[38;5;241m.\u001b[39mapply_GH(q)\n\u001b[1;32m     82\u001b[0m \u001b[38;5;28;01mif\u001b[39;00m kT \u001b[38;5;241m!=\u001b[39m T \u001b[38;5;241m-\u001b[39m \u001b[38;5;241m1\u001b[39m:\n\u001b[1;32m     83\u001b[0m     \u001b[38;5;66;03m# update xbar\u001b[39;00m\n",
      "Cell \u001b[0;32mIn[32], line 57\u001b[0m, in \u001b[0;36mGradOperators.apply_G\u001b[0;34m(self, x)\u001b[0m\n\u001b[1;32m     55\u001b[0m xr \u001b[38;5;241m=\u001b[39m xr\u001b[38;5;241m.\u001b[39mreshape(\u001b[38;5;241m-\u001b[39m\u001b[38;5;241m1\u001b[39m, \u001b[38;5;241m1\u001b[39m, \u001b[38;5;241m*\u001b[39mx\u001b[38;5;241m.\u001b[39mshape[\u001b[38;5;241m-\u001b[39m\u001b[38;5;28mself\u001b[39m\u001b[38;5;241m.\u001b[39mdim :])\n\u001b[1;32m     56\u001b[0m xp \u001b[38;5;241m=\u001b[39m \u001b[38;5;28mself\u001b[39m\u001b[38;5;241m.\u001b[39m_pad(xr)\n\u001b[0;32m---> 57\u001b[0m y \u001b[38;5;241m=\u001b[39m \u001b[38;5;28;43mself\u001b[39;49m\u001b[38;5;241;43m.\u001b[39;49m\u001b[43m_conv\u001b[49m\u001b[43m(\u001b[49m\u001b[43mxp\u001b[49m\u001b[43m,\u001b[49m\u001b[43m \u001b[49m\u001b[43mweight\u001b[49m\u001b[38;5;241;43m=\u001b[39;49m\u001b[38;5;28;43mself\u001b[39;49m\u001b[38;5;241;43m.\u001b[39;49m\u001b[43mkernel\u001b[49m\u001b[43m,\u001b[49m\u001b[43m \u001b[49m\u001b[43mbias\u001b[49m\u001b[38;5;241;43m=\u001b[39;49m\u001b[38;5;28;43;01mNone\u001b[39;49;00m\u001b[43m,\u001b[49m\u001b[43m \u001b[49m\u001b[43mpadding\u001b[49m\u001b[38;5;241;43m=\u001b[39;49m\u001b[38;5;241;43m0\u001b[39;49m\u001b[43m)\u001b[49m\n\u001b[1;32m     58\u001b[0m \u001b[38;5;28;01mif\u001b[39;00m x\u001b[38;5;241m.\u001b[39mis_complex():\n\u001b[1;32m     59\u001b[0m     y \u001b[38;5;241m=\u001b[39m y\u001b[38;5;241m.\u001b[39mreshape(\u001b[38;5;241m2\u001b[39m, \u001b[38;5;241m*\u001b[39mx\u001b[38;5;241m.\u001b[39mshape[: \u001b[38;5;241m-\u001b[39m\u001b[38;5;28mself\u001b[39m\u001b[38;5;241m.\u001b[39mdim], \u001b[38;5;28mself\u001b[39m\u001b[38;5;241m.\u001b[39mdim, \u001b[38;5;241m*\u001b[39mx\u001b[38;5;241m.\u001b[39mshape[\u001b[38;5;241m-\u001b[39m\u001b[38;5;28mself\u001b[39m\u001b[38;5;241m.\u001b[39mdim :])\n",
      "File \u001b[0;32m/mnt/c/Users/t/Documents/GIT/DISSERTATION/LearningRegularizationParameterMaps/venv/lib/python3.10/site-packages/torch/utils/_device.py:78\u001b[0m, in \u001b[0;36mDeviceContext.__torch_function__\u001b[0;34m(self, func, types, args, kwargs)\u001b[0m\n\u001b[1;32m     76\u001b[0m \u001b[38;5;28;01mif\u001b[39;00m func \u001b[38;5;129;01min\u001b[39;00m _device_constructors() \u001b[38;5;129;01mand\u001b[39;00m kwargs\u001b[38;5;241m.\u001b[39mget(\u001b[38;5;124m'\u001b[39m\u001b[38;5;124mdevice\u001b[39m\u001b[38;5;124m'\u001b[39m) \u001b[38;5;129;01mis\u001b[39;00m \u001b[38;5;28;01mNone\u001b[39;00m:\n\u001b[1;32m     77\u001b[0m     kwargs[\u001b[38;5;124m'\u001b[39m\u001b[38;5;124mdevice\u001b[39m\u001b[38;5;124m'\u001b[39m] \u001b[38;5;241m=\u001b[39m \u001b[38;5;28mself\u001b[39m\u001b[38;5;241m.\u001b[39mdevice\n\u001b[0;32m---> 78\u001b[0m \u001b[38;5;28;01mreturn\u001b[39;00m \u001b[43mfunc\u001b[49m\u001b[43m(\u001b[49m\u001b[38;5;241;43m*\u001b[39;49m\u001b[43margs\u001b[49m\u001b[43m,\u001b[49m\u001b[43m \u001b[49m\u001b[38;5;241;43m*\u001b[39;49m\u001b[38;5;241;43m*\u001b[39;49m\u001b[43mkwargs\u001b[49m\u001b[43m)\u001b[49m\n",
      "\u001b[0;31mKeyboardInterrupt\u001b[0m: "
     ]
    }
   ],
   "source": [
    "with torch.no_grad():\n",
    "    torch.cuda.empty_cache()\n",
    "\n",
    "pdhg = start_training(get_config())\n",
    "\n",
    "with torch.no_grad():\n",
    "    torch.cuda.empty_cache()"
   ]
  },
  {
   "cell_type": "code",
   "execution_count": null,
   "metadata": {},
   "outputs": [],
   "source": [
    "with torch.no_grad():\n",
    "    torch.cuda.empty_cache()"
   ]
  },
  {
   "cell_type": "markdown",
   "metadata": {},
   "source": [
    "------\n",
    "\n",
    "### Inference\n",
    "\n",
    "Demo the model"
   ]
  },
  {
   "cell_type": "markdown",
   "metadata": {},
   "source": [
    "#### Test denoising"
   ]
  },
  {
   "cell_type": "code",
   "execution_count": null,
   "metadata": {},
   "outputs": [],
   "source": [
    "# # CODE TO INFER AND SHOW SOME RESULTS HERE\n",
    "\n",
    "\n",
    "\n",
    "# def simple_plot(input_image_tensor_5D, subplot_index, image_name, clean_image_tensor_5D, folder_name, num_rows=2, num_cols=3):\n",
    "#     plot_image_tensor_2D = input_image_tensor_5D.squeeze(0).squeeze(0).squeeze(-1)\n",
    "#     clean_image_tensor_2D = clean_image_tensor_5D.squeeze(0).squeeze(0).squeeze(-1)\n",
    "#     psnr_value = PSNR(clean_image_tensor_2D, plot_image_tensor_2D)\n",
    "#     ssim_value = SSIM(clean_image_tensor_2D, plot_image_tensor_2D)\n",
    "#     plt.subplot(num_rows, num_cols, subplot_index)\n",
    "#     plt.axis('off')\n",
    "#     plt.imshow(plot_image_tensor_2D.to(\"cpu\").detach().numpy(), cmap='gray')\n",
    "#     plt.title(f\"{image_name} PSNR: {psnr_value:.2f} dB\\n{image_name} SSIM: {ssim_value:.2f}\", fontsize=10)\n",
    "#     # Write the image to a file\n",
    "#     save_image(plot_image_tensor_2D, f\"{image_name}\", folder_name)\n",
    "\n",
    "# def get_image_tensor_5D(image):\n",
    "#     image = image.convert(\"L\")\n",
    "#     image_numpy = np.asarray(image)\n",
    "#     image_tensor_4D = convert_to_tensor_4D(image_numpy)\n",
    "#     image_tensor_5D = image_tensor_4D.unsqueeze(0).to(DEVICE)\n",
    "#     return image_tensor_5D\n",
    "\n",
    "# def denoise(pdhg: DynamicImageStaticPrimalDualNN, noisy_image_tensor_5D):\n",
    "#     pdhg.eval()\n",
    "#     with torch.no_grad():\n",
    "#         best_lambda_map = pdhg.get_lambda_cnn(noisy_image_tensor_5D)\n",
    "#     x_denoised_lambda_map_best_tensor_5D = reconstruct_with_PDHG(noisy_image_tensor_5D, best_lambda_map, pdhg.T)\n",
    "#     # x_denoised_lambda_map_best_tensor_5D = torch.clamp(x_denoised_lambda_map_best_tensor_5D, 0, 1)\n",
    "#     with torch.no_grad():\n",
    "#         torch.cuda.empty_cache()\n",
    "#     return best_lambda_map, x_denoised_lambda_map_best_tensor_5D\n",
    "\n",
    "\n",
    "# def brute_force_lambda(noisy_image_tensor_5D, clean_image_tensor_5D, T, min_value=0.01, max_value=0.1, num_values=10):\n",
    "#     # TODO: Brute-force single lambda\n",
    "#     best_psnr = 0\n",
    "#     best_lambda = 0\n",
    "#     lambas = list(np.linspace(min_value, max_value, num_values))\n",
    "#     psnr_values = []\n",
    "#     for lambda_value in lambas:\n",
    "#         with torch.no_grad():\n",
    "#             x_denoised_single_lambda_tensor_5D = reconstruct_with_PDHG(noisy_image_tensor_5D, lambda_value, T)\n",
    "#         psnr_value = PSNR(clean_image_tensor_5D, x_denoised_single_lambda_tensor_5D)\n",
    "#         psnr_value = psnr_value.item()\n",
    "#         # Convert to float\n",
    "#         psnr_value = np.float64(psnr_value)\n",
    "#         if psnr_value > best_psnr:\n",
    "#             best_psnr = psnr_value\n",
    "#             best_lambda = lambda_value\n",
    "#         psnr_values.append(psnr_value)\n",
    "\n",
    "#     # Plot the PSNR values\n",
    "#     plt.plot(lambas, psnr_values)\n",
    "#     plt.xlabel(\"Lambda\")\n",
    "#     plt.ylabel(\"PSNR\")\n",
    "#     plt.title(\"PSNR vs Lambda\")\n",
    "#     plt.show()\n",
    "    \n",
    "#     return best_lambda\n",
    "\n",
    "\n",
    "# def test_denoise(pdhg: DynamicImageStaticPrimalDualNN=None, model_name=\"\", best_lambda=None):\n",
    "#     \"\"\"\n",
    "#     Testing denoising with pre-trained parameters.\n",
    "#     \"\"\"\n",
    "#     clean_image = Image.open(f\"testcases/chest_xray_clean.png\")\n",
    "#     noisy_image = Image.open(f\"testcases/chest_xray_noisy.png\")\n",
    "#     clean_image_tensor_5D = get_image_tensor_5D(clean_image)\n",
    "#     noisy_image_tensor_5D = get_image_tensor_5D(noisy_image)\n",
    "\n",
    "#     if best_lambda is None:\n",
    "#         best_lambda = brute_force_lambda(noisy_image_tensor_5D, clean_image_tensor_5D, T=pdhg.T, min_value=0.01, max_value=1, num_values=100)\n",
    "\n",
    "#     print(f\"Best lambda: {best_lambda}\")\n",
    "\n",
    "#     k_w, k_h = 256, 256\n",
    "\n",
    "#     folder_name = f\"./tmp/images/model_{model_name}-kernel_{k_w}-best_lambda_{str(best_lambda).replace('.', '_')}-time_{datetime.datetime.now().strftime('%Y_%m_%d_%H_%M_%S')}\"\n",
    "#     os.makedirs(folder_name, exist_ok=True)\n",
    "\n",
    "#     plt.figure(figsize=(15, 6)) # Set the size of the plot\n",
    "\n",
    "#     simple_plot(clean_image_tensor_5D, 1, \"clean\", clean_image_tensor_5D, folder_name)\n",
    "#     simple_plot(noisy_image_tensor_5D, 2, \"noisy\", clean_image_tensor_5D, folder_name)\n",
    "\n",
    "#     x_denoised_single_lambda_tensor_5D = reconstruct_with_PDHG(noisy_image_tensor_5D, best_lambda, T=pdhg.T)\n",
    "    \n",
    "#     best_lambda_map, x_denoised_lambda_map_tensor_5D = denoise(pdhg, noisy_image_tensor_5D)\n",
    "\n",
    "#     # Clip to [0, 1]. The calculations may make it slightly below 0 and above 1\n",
    "#     x_denoised_single_lambda_tensor_5D = torch.clamp(x_denoised_single_lambda_tensor_5D, 0, 1)\n",
    "#     x_denoised_lambda_map_tensor_5D = torch.clamp(x_denoised_lambda_map_tensor_5D, 0, 1)\n",
    "\n",
    "#     simple_plot(x_denoised_single_lambda_tensor_5D, 3, f\"single_lambda_best_{str(best_lambda).replace('.', '_')}\", clean_image_tensor_5D, folder_name)\n",
    "#     simple_plot(x_denoised_lambda_map_tensor_5D, 4, \"lambda_map_best_using_function\", clean_image_tensor_5D, folder_name)\n",
    "\n",
    "#     lambda_map_1 = best_lambda_map[:, 0:1, :, :, :]\n",
    "#     lambda_map_2 = best_lambda_map[:, 1:2, :, :, :]\n",
    "#     lambda_map_3 = best_lambda_map[:, 2:3, :, :, :]\n",
    "\n",
    "#     lambda_map_1 = torch.clamp(lambda_map_1, 0, 1)\n",
    "#     lambda_map_2 = torch.clamp(lambda_map_2, 0, 1)\n",
    "#     lambda_map_3 = torch.clamp(lambda_map_3, 0, 1)\n",
    "\n",
    "#     simple_plot(lambda_map_1, 5, \"lambda_map_1\", clean_image_tensor_5D, folder_name)\n",
    "#     simple_plot(lambda_map_3, 6, \"lambda_map_3\", clean_image_tensor_5D, folder_name)\n",
    "\n",
    "#     plt.savefig(f\"{folder_name}/results.png\")\n",
    "\n",
    "#     plt.show();\n",
    "\n",
    "#     with open(f\"{folder_name}/log.txt\", \"w\") as f:\n",
    "#         f.write(f\"Best lambda: {best_lambda}\\n\")\n",
    "#         f.write(f\"PSNR (single lambda): {PSNR(clean_image_tensor_5D.squeeze(0).squeeze(0).squeeze(-1), x_denoised_single_lambda_tensor_5D.squeeze(0).squeeze(0).squeeze(-1))}\\n\")\n",
    "#         f.write(f\"PSNR (lambda map): {PSNR(clean_image_tensor_5D.squeeze(0).squeeze(0).squeeze(-1), x_denoised_lambda_map_tensor_5D.squeeze(0).squeeze(0).squeeze(-1))}\\n\")\n",
    "#         f.write(f\"Config: {get_config()}\\n\")\n",
    "\n",
    "#     with torch.no_grad():\n",
    "#         torch.cuda.empty_cache()\n",
    "\n",
    "# model_dir = \"./tmp_2/model-2024_06_05_23_51_27\"\n",
    "# epoch = 4000\n",
    "# pdhg = torch.load(f\"{model_dir}/model_epoch_{epoch}.pt\")\n",
    "\n",
    "# test_denoise(\n",
    "#     pdhg=pdhg,\n",
    "#     model_name=f\"chest_xray_demo-epoch_{epoch}\",\n",
    "#     best_lambda=0.08\n",
    "# )\n",
    "\n",
    "# with torch.no_grad():\n",
    "#     torch.cuda.empty_cache()"
   ]
  },
  {
   "cell_type": "code",
   "execution_count": null,
   "metadata": {},
   "outputs": [],
   "source": [
    "with torch.no_grad():\n",
    "    torch.cuda.empty_cache()"
   ]
  },
  {
   "cell_type": "code",
   "execution_count": null,
   "metadata": {},
   "outputs": [],
   "source": [
    "# def temp_test():"
   ]
  },
  {
   "cell_type": "markdown",
   "metadata": {},
   "source": [
    "---\n",
    "\n",
    "### Create a video"
   ]
  },
  {
   "cell_type": "code",
   "execution_count": null,
   "metadata": {},
   "outputs": [],
   "source": [
    "# def create_video(model_name, start_epoch=20, end_epoch=10_000, step=20):\n",
    "#     clean_image_path = \"./test_cases/turtle_clean/turtle clean.png\"\n",
    "#     noisy_image_path = \"./test_cases/turtle_noisy/turtle noisy.png\"\n",
    "#     clean_image_tensor_5D = get_image_tensor_5D(clean_image_path)\n",
    "#     noisy_image_tensor_5D = get_image_tensor_5D(noisy_image_path)\n",
    "#     clean_image_tensor_2D = clean_image_tensor_5D.squeeze(0).squeeze(0).squeeze(-1)\n",
    "#     noisy_image_tensor_2D = noisy_image_tensor_5D.squeeze(0).squeeze(0).squeeze(-1)\n",
    "\n",
    "#     psnr_noisy = PSNR(noisy_image_tensor_2D, clean_image_tensor_2D)\n",
    "#     ssim_noisy = SSIM(noisy_image_tensor_2D, clean_image_tensor_2D)\n",
    "\n",
    "\n",
    "\n",
    "#     frames_folder = f\"./tmp/{model_name}\"\n",
    "#     model_folder=f\"./tmp_2/{model_name}\"\n",
    "#     os.makedirs(frames_folder, exist_ok=True)\n",
    "#     os.makedirs(f\"{frames_folder}/denoised\", exist_ok=True)\n",
    "#     os.makedirs(f\"{frames_folder}/lambda_map_1\", exist_ok=True)\n",
    "#     os.makedirs(f\"{frames_folder}/lambda_map_2\", exist_ok=True)\n",
    "#     os.makedirs(f\"{frames_folder}/lambda_map_3\", exist_ok=True)\n",
    "\n",
    "#     with open(f\"./tmp/{model_name}/metrics.csv\", \"w\") as f:\n",
    "#         f.write(f\"Image, PSNR, SSIM\\n\")\n",
    "#         f.write(f\"Noisy, {psnr_noisy:.2f}, {ssim_noisy:.2f}\\n\")\n",
    "\n",
    "#         for epoch in range(start_epoch, end_epoch + 1, step):\n",
    "#             model_name = f\"model_epoch_{epoch}\"\n",
    "#             pdhg = torch.load(f\"{model_folder}/{model_name}.pt\")\n",
    "#             best_lambda_map, x_denoised_lambda_map_best_tensor_5D = denoise(pdhg, noisy_image_tensor_5D)\n",
    "#             x_denoised_lambda_map_best_tensor_5D = torch.clamp(x_denoised_lambda_map_best_tensor_5D, 0, 1)\n",
    "\n",
    "#             x_denoised_lambda_map_best_tensor_2D = x_denoised_lambda_map_best_tensor_5D.squeeze(0).squeeze(0).squeeze(-1)\n",
    "#             psnr_denoised = PSNR(x_denoised_lambda_map_best_tensor_2D, clean_image_tensor_2D)\n",
    "#             ssim_denoised = SSIM(x_denoised_lambda_map_best_tensor_2D, clean_image_tensor_2D)\n",
    "#             f.write(f\"{epoch}, {psnr_denoised:.2f}, {ssim_denoised:.2f}\\n\")\n",
    "\n",
    "#             denoised_image_to_save = Image.fromarray((x_denoised_lambda_map_best_tensor_2D.to(\"cpu\").detach().numpy() * 255).astype(np.uint8))\n",
    "#             denoised_image_to_save.save(f\"{frames_folder}/denoised/{epoch}.png\")\n",
    "\n",
    "#             lambda_map_1 = best_lambda_map[:, 0:1, :, :, :]\n",
    "#             lambda_map_2 = best_lambda_map[:, 1:2, :, :, :]\n",
    "#             lambda_map_3 = best_lambda_map[:, 2:3, :, :, :]\n",
    "#             lambda_map_1 = torch.clamp(lambda_map_1, 0, 1)\n",
    "#             lambda_map_2 = torch.clamp(lambda_map_2, 0, 1)\n",
    "#             lambda_map_3 = torch.clamp(lambda_map_3, 0, 1)\n",
    "\n",
    "#             lambda_map_1_to_save = Image.fromarray((lambda_map_1.squeeze(0).squeeze(0).squeeze(-1).to(\"cpu\").detach().numpy() * 255).astype(np.uint8))\n",
    "#             lambda_map_1_to_save.save(f\"{frames_folder}/lambda_map_1/{epoch}.png\")\n",
    "\n",
    "#             lambda_map_2_to_save = Image.fromarray((lambda_map_2.squeeze(0).squeeze(0).squeeze(-1).to(\"cpu\").detach().numpy() * 255).astype(np.uint8))\n",
    "#             lambda_map_2_to_save.save(f\"{frames_folder}/lambda_map_2/{epoch}.png\")\n",
    "\n",
    "#             lambda_map_3_to_save = Image.fromarray((lambda_map_3.squeeze(0).squeeze(0).squeeze(-1).to(\"cpu\").detach().numpy() * 255).astype(np.uint8))\n",
    "#             lambda_map_3_to_save.save(f\"{frames_folder}/lambda_map_3/{epoch}.png\")\n",
    "        \n",
    "\n",
    "#     # # Create the video\n",
    "#     # frames = []\n",
    "#     # for epoch in range(start_epoch, end_epoch + 1, step):\n",
    "#     #     frames.append(cv2.imread(f\"{frames_folder}/frame_{epoch}.png\"))\n",
    "#     # height, width, layers = frames[0].shape\n",
    "#     # size = (width, height)\n",
    "#     # out = cv2.VideoWriter(f\"{frames_folder}/video.avi\", cv2.VideoWriter_fourcc(*'DIVX'), 1, size)\n",
    "#     # for i in range(len(frames)):\n",
    "#     #     out.write(frames[i])\n",
    "#     # out.release()\n",
    "\n",
    "# create_video(\"model_turtle_2024_06_04_04_19_21\", start_epoch=20, end_epoch=10_000, step=20)"
   ]
  },
  {
   "cell_type": "code",
   "execution_count": null,
   "metadata": {},
   "outputs": [],
   "source": [
    "with torch.no_grad():\n",
    "    torch.cuda.empty_cache()"
   ]
  },
  {
   "cell_type": "code",
   "execution_count": null,
   "metadata": {},
   "outputs": [],
   "source": [
    "# def test_revisualise():\n",
    "\n",
    "#     def vis(image_folder, image_name):\n",
    "#         image_path = f\"{image_folder}/{image_name}.png\"\n",
    "#         image = Image.open(image_path)\n",
    "#         plt.imshow(image, cmap='gray')\n",
    "#         plt.show();\n",
    "\n",
    "#     image_folder = \"tmp/PRESENT/presentation-img_turtle-best_lambda_0_07-kernel_256-model_-trained_on_-time_2024_06_04_22_59_31-epoch_100_000\"\n",
    "#     image_names = [\n",
    "#         \"lambda_map_3\",\n",
    "#         \"single_lambda_best_0_06000000000000001\",\n",
    "#         \"clean\",\n",
    "#     ]\n",
    "\n",
    "#     for image_name in image_names:\n",
    "#         vis(image_folder, image_name)\n",
    "\n",
    "# test_revisualise()"
   ]
  }
 ],
 "metadata": {
  "kernelspec": {
   "display_name": "venv",
   "language": "python",
   "name": "python3"
  },
  "language_info": {
   "codemirror_mode": {
    "name": "ipython",
    "version": 3
   },
   "file_extension": ".py",
   "mimetype": "text/x-python",
   "name": "python",
   "nbconvert_exporter": "python",
   "pygments_lexer": "ipython3",
   "version": "3.10.12"
  }
 },
 "nbformat": 4,
 "nbformat_minor": 2
}
