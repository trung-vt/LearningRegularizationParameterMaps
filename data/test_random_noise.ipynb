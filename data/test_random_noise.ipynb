{
 "cells": [
  {
   "cell_type": "code",
   "execution_count": 104,
   "metadata": {},
   "outputs": [],
   "source": [
    "from skimage.util import random_noise\n",
    "import numpy as np\n",
    "from PIL import Image\n",
    "import img2pdf"
   ]
  },
  {
   "cell_type": "code",
   "execution_count": 105,
   "metadata": {},
   "outputs": [],
   "source": [
    "# Assert that adding random noise with var=0 is the same as the original image\n",
    "def test_random_noise_var_0():\n",
    "    # Create a random image\n",
    "    image = np.random.rand(100, 100)\n",
    "    # Add random noise with var=0\n",
    "    noisy_image = random_noise(image, var=0)\n",
    "    # Assert that the noisy image is the same as the original image\n",
    "    assert np.allclose(image, noisy_image)\n",
    "    print('Success!')"
   ]
  },
  {
   "cell_type": "code",
   "execution_count": 106,
   "metadata": {},
   "outputs": [
    {
     "name": "stdout",
     "output_type": "stream",
     "text": [
      "Success!\n"
     ]
    }
   ],
   "source": [
    "test_random_noise_var_0()"
   ]
  },
  {
   "cell_type": "code",
   "execution_count": 107,
   "metadata": {},
   "outputs": [
    {
     "name": "stdout",
     "output_type": "stream",
     "text": [
      "/mnt/h/GIT/DISSERTATION/LearningRegularizationParameterMaps/data\n"
     ]
    }
   ],
   "source": [
    "!pwd"
   ]
  },
  {
   "cell_type": "code",
   "execution_count": 108,
   "metadata": {},
   "outputs": [],
   "source": [
    "def test_add_noise(path, sigma=0.1, save=False, quality=10):\n",
    "    # Input an image\n",
    "    img_pil = Image.open(path)\n",
    "    img_np = np.array(img_pil)\n",
    "    noisy_img_np = random_noise(img_np, var=sigma**2)\n",
    "    # Convert the noisy image to a PIL image\n",
    "    noisy_img_pil = Image.fromarray((noisy_img_np * 255).astype(np.uint8))\n",
    "    # Display the original and noisy images\n",
    "    img_pil.show()\n",
    "    noisy_img_pil.show()\n",
    "    if save:\n",
    "        extension = path.split('.')[-1]\n",
    "        sigma_str = f\"{sigma:.2f}\".replace('.', '_')\n",
    "        file_name = path.replace(f'.{extension}', f'_sigma_{sigma_str}')\n",
    "        noisy_img_pil.save(f\"{file_name}.png\")\n",
    "        pdf_bytes = img2pdf.convert(f\"{file_name}.png\")\n",
    "        with open(f\"{file_name}.pdf\", \"wb\") as f:\n",
    "            f.write(pdf_bytes)\n",
    "        compressed_file = f\"{file_name}_quality_{quality}\"\n",
    "        noisy_img_pil.save(f\"{compressed_file}.jpg\", quality=quality)\n",
    "        pdf_bytes_compressed = img2pdf.convert(f\"{compressed_file}.jpg\")\n",
    "        with open(f\"{compressed_file}.pdf\", \"wb\") as f:\n",
    "            f.write(pdf_bytes_compressed)"
   ]
  },
  {
   "cell_type": "code",
   "execution_count": 109,
   "metadata": {},
   "outputs": [],
   "source": [
    "# path = \"./turtle_id_2022/turtles-data/data/images_crop_resize_256_greyscale/t001/ELAvEqeXxT.JPG\"\n",
    "path = \"../paper/Dualization/lnfa_a_2069812_f0003_b.jpg\"\n",
    "test_sigma = 0.1\n",
    "quality = 10\n",
    "test_add_noise(\n",
    "    path,\n",
    "    test_sigma,\n",
    "    save=True,\n",
    "    quality=quality\n",
    ")"
   ]
  },
  {
   "cell_type": "code",
   "execution_count": null,
   "metadata": {},
   "outputs": [],
   "source": []
  },
  {
   "cell_type": "code",
   "execution_count": null,
   "metadata": {},
   "outputs": [],
   "source": []
  }
 ],
 "metadata": {
  "kernelspec": {
   "display_name": "venv_2",
   "language": "python",
   "name": "python3"
  },
  "language_info": {
   "codemirror_mode": {
    "name": "ipython",
    "version": 3
   },
   "file_extension": ".py",
   "mimetype": "text/x-python",
   "name": "python",
   "nbconvert_exporter": "python",
   "pygments_lexer": "ipython3",
   "version": "3.10.12"
  }
 },
 "nbformat": 4,
 "nbformat_minor": 2
}
