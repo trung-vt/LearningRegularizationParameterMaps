{
 "cells": [
  {
   "cell_type": "code",
   "execution_count": 1,
   "metadata": {},
   "outputs": [],
   "source": [
    "import torch\n",
    "from timeit import timeit"
   ]
  },
  {
   "cell_type": "code",
   "execution_count": 2,
   "metadata": {},
   "outputs": [],
   "source": [
    "def benchmark_sqrt_before_max():\n",
    "    def sqrt_before_max():\n",
    "        torch.manual_seed(0)\n",
    "        mat = torch.randn(512, 512)\n",
    "        for i in range(1000):\n",
    "            sqrt_mat = torch.sqrt(mat)\n",
    "            max_element = torch.max(sqrt_mat)\n",
    "\n",
    "    def max_before_sqrt():\n",
    "        torch.manual_seed(0)\n",
    "        mat = torch.randn(512, 512)\n",
    "        for i in range(1000):\n",
    "            max_element = torch.max(mat)\n",
    "            sqrt_max_element = torch.sqrt(max_element)\n",
    "\n",
    "    print(f'warmup sqrt_before_max: {timeit(sqrt_before_max, number=100)}')\n",
    "    print('sqrt:', timeit.timeit(sqrt, number=1000))\n",
    "    print('max:', timeit.timeit(max, number=1000))"
   ]
  },
  {
   "cell_type": "code",
   "execution_count": null,
   "metadata": {},
   "outputs": [],
   "source": [
    "benchmark_sqrt_before_max()"
   ]
  }
 ],
 "metadata": {
  "kernelspec": {
   "display_name": "venv_2",
   "language": "python",
   "name": "python3"
  },
  "language_info": {
   "codemirror_mode": {
    "name": "ipython",
    "version": 3
   },
   "file_extension": ".py",
   "mimetype": "text/x-python",
   "name": "python",
   "nbconvert_exporter": "python",
   "pygments_lexer": "ipython3",
   "version": "3.10.12"
  }
 },
 "nbformat": 4,
 "nbformat_minor": 2
}
