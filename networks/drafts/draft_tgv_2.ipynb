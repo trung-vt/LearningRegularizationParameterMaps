{
 "cells": [
  {
   "cell_type": "code",
   "execution_count": 63,
   "metadata": {},
   "outputs": [],
   "source": [
    "import numpy as np"
   ]
  },
  {
   "cell_type": "code",
   "execution_count": 64,
   "metadata": {},
   "outputs": [],
   "source": [
    "import importlib\n",
    "import doctest"
   ]
  },
  {
   "cell_type": "markdown",
   "metadata": {},
   "source": [
    "# Pointwise norm-2 for v and w"
   ]
  },
  {
   "cell_type": "code",
   "execution_count": 71,
   "metadata": {},
   "outputs": [
    {
     "name": "stdout",
     "output_type": "stream",
     "text": [
      "All test cases for pointwise_norm_2_v passed.\n",
      "All test cases for pointwise_norm_2_w passed.\n",
      "test_against_explicit : All tests pass\n",
      "TestResults(failed=0, attempted=16)\n"
     ]
    }
   ],
   "source": [
    "import pointwise_norm_2\n",
    "importlib.reload(pointwise_norm_2)\n",
    "pointwise_norm_2_doctest_result = doctest.testmod(pointwise_norm_2)\n",
    "print(pointwise_norm_2_doctest_result)\n",
    "assert pointwise_norm_2_doctest_result.failed == 0, f\"result.failed={pointwise_norm_2_doctest_result.failed}\""
   ]
  },
  {
   "cell_type": "code",
   "execution_count": 72,
   "metadata": {},
   "outputs": [
    {
     "name": "stdout",
     "output_type": "stream",
     "text": [
      "test_against_explicit : All tests pass\n"
     ]
    }
   ],
   "source": [
    "from pointwise_norm_2 import test_against_explicit\n",
    "test_against_explicit()"
   ]
  },
  {
   "cell_type": "markdown",
   "metadata": {},
   "source": [
    "# Project alpha_1 and alpha_0"
   ]
  },
  {
   "cell_type": "code",
   "execution_count": 73,
   "metadata": {},
   "outputs": [
    {
     "name": "stdout",
     "output_type": "stream",
     "text": [
      "**********************************************************************\n",
      "File \"/mnt/h/GIT/DISSERTATION/LearningRegularizationParameterMaps/networks/drafts/projection_op.py\", line 72, in projection_op.P_alpha0_w\n",
      "Failed example:\n",
      "    np.round(P_alpha0_w(w, alpha0), 2)\n",
      "Exception raised:\n",
      "    Traceback (most recent call last):\n",
      "      File \"/usr/lib/python3.10/doctest.py\", line 1350, in __run\n",
      "        exec(compile(example.source, filename, \"single\",\n",
      "      File \"<doctest projection_op.P_alpha0_w[2]>\", line 1, in <module>\n",
      "        np.round(P_alpha0_w(w, alpha0), 2)\n",
      "      File \"/mnt/h/GIT/DISSERTATION/LearningRegularizationParameterMaps/networks/drafts/projection_op.py\", line 119, in P_alpha0_w\n",
      "        factor = np.max(1, max_over_alpha0)\n",
      "      File \"<__array_function__ internals>\", line 180, in amax\n",
      "      File \"/mnt/h/GIT/DISSERTATION/LearningRegularizationParameterMaps/venv_2/lib/python3.10/site-packages/numpy/core/fromnumeric.py\", line 2793, in amax\n",
      "        return _wrapreduction(a, np.maximum, 'max', axis, None, out,\n",
      "      File \"/mnt/h/GIT/DISSERTATION/LearningRegularizationParameterMaps/venv_2/lib/python3.10/site-packages/numpy/core/fromnumeric.py\", line 86, in _wrapreduction\n",
      "        return ufunc.reduce(obj, axis, dtype, out, **passkwargs)\n",
      "    TypeError: 'numpy.float64' object cannot be interpreted as an integer\n",
      "**********************************************************************\n",
      "File \"/mnt/h/GIT/DISSERTATION/LearningRegularizationParameterMaps/networks/drafts/projection_op.py\", line 96, in projection_op.P_alpha0_w\n",
      "Failed example:\n",
      "    np.round(P_alpha0_w(w, alpha0), 2)\n",
      "Exception raised:\n",
      "    Traceback (most recent call last):\n",
      "      File \"/usr/lib/python3.10/doctest.py\", line 1350, in __run\n",
      "        exec(compile(example.source, filename, \"single\",\n",
      "      File \"<doctest projection_op.P_alpha0_w[5]>\", line 1, in <module>\n",
      "        np.round(P_alpha0_w(w, alpha0), 2)\n",
      "      File \"/mnt/h/GIT/DISSERTATION/LearningRegularizationParameterMaps/networks/drafts/projection_op.py\", line 119, in P_alpha0_w\n",
      "        factor = np.max(1, max_over_alpha0)\n",
      "      File \"<__array_function__ internals>\", line 180, in amax\n",
      "      File \"/mnt/h/GIT/DISSERTATION/LearningRegularizationParameterMaps/venv_2/lib/python3.10/site-packages/numpy/core/fromnumeric.py\", line 2793, in amax\n",
      "        return _wrapreduction(a, np.maximum, 'max', axis, None, out,\n",
      "      File \"/mnt/h/GIT/DISSERTATION/LearningRegularizationParameterMaps/venv_2/lib/python3.10/site-packages/numpy/core/fromnumeric.py\", line 86, in _wrapreduction\n",
      "        return ufunc.reduce(obj, axis, dtype, out, **passkwargs)\n",
      "    TypeError: 'numpy.float64' object cannot be interpreted as an integer\n",
      "**********************************************************************\n",
      "File \"/mnt/h/GIT/DISSERTATION/LearningRegularizationParameterMaps/networks/drafts/projection_op.py\", line 22, in projection_op.P_alpha1_v\n",
      "Failed example:\n",
      "    np.round(P_alpha1_v(v, alpha1), 2)\n",
      "Expected:\n",
      "    array([[[0.96, 1.28],\n",
      "            [0.62, 1.24],\n",
      "            [2.89, 6.93]],\n",
      "           [[2.78, 9.53],\n",
      "            [5.71, 7.62],\n",
      "            [1.24, 1.86]],\n",
      "           [[4.73, 8.86],\n",
      "            [7.5 , 10.  ],\n",
      "            [2.89, 6.93]]])\n",
      "Got:\n",
      "    array([[[1.2, 1.6],\n",
      "            [0.4, 0.8],\n",
      "            [2. , 4.8]],\n",
      "    <BLANKLINE>\n",
      "           [[2.8, 9.6],\n",
      "            [2.4, 3.2],\n",
      "            [0.8, 1.2]],\n",
      "    <BLANKLINE>\n",
      "           [[3.2, 6. ],\n",
      "            [3.6, 4.8],\n",
      "            [2. , 4.8]]])\n",
      "**********************************************************************\n",
      "File \"/mnt/h/GIT/DISSERTATION/LearningRegularizationParameterMaps/networks/drafts/projection_op.py\", line 37, in projection_op.P_alpha1_v\n",
      "Failed example:\n",
      "    np.round(P_alpha1_v(v, alpha1), 2)\n",
      "Expected:\n",
      "    array([[[0.2 , 0.  ],\n",
      "            [0.  , 0.2 ],\n",
      "            [0.6 , 0.8 ]],\n",
      "           [[0.8 , 0.6 ],\n",
      "            [2.5 , 6.  ],\n",
      "            [1.2 , 1.6 ]],\n",
      "           [[1.6 , 1.2 ],\n",
      "            [1.4 , 4.8 ],\n",
      "            [1.8 , 2.4 ]]])\n",
      "Got:\n",
      "    array([[[0.2, 0. ],\n",
      "            [0. , 0.2],\n",
      "            [0.6, 0.8]],\n",
      "    <BLANKLINE>\n",
      "           [[0.8, 0.6],\n",
      "            [1. , 2.4],\n",
      "            [1.2, 1.6]],\n",
      "    <BLANKLINE>\n",
      "           [[1.6, 1.2],\n",
      "            [1.4, 4.8],\n",
      "            [1.8, 2.4]]])\n",
      "**********************************************************************\n",
      "2 items had failures:\n",
      "   2 of   6 in projection_op.P_alpha0_w\n",
      "   2 of   6 in projection_op.P_alpha1_v\n",
      "***Test Failed*** 4 failures.\n",
      "TestResults(failed=4, attempted=12)\n"
     ]
    },
    {
     "ename": "AssertionError",
     "evalue": "result.failed=4",
     "output_type": "error",
     "traceback": [
      "\u001b[0;31m---------------------------------------------------------------------------\u001b[0m",
      "\u001b[0;31mAssertionError\u001b[0m                            Traceback (most recent call last)",
      "Cell \u001b[0;32mIn[73], line 5\u001b[0m\n\u001b[1;32m      3\u001b[0m projection_op_doctest_result \u001b[38;5;241m=\u001b[39m doctest\u001b[38;5;241m.\u001b[39mtestmod(projection_op)\n\u001b[1;32m      4\u001b[0m \u001b[38;5;28mprint\u001b[39m(projection_op_doctest_result)\n\u001b[0;32m----> 5\u001b[0m \u001b[38;5;28;01massert\u001b[39;00m projection_op_doctest_result\u001b[38;5;241m.\u001b[39mfailed \u001b[38;5;241m==\u001b[39m \u001b[38;5;241m0\u001b[39m, \u001b[38;5;124mf\u001b[39m\u001b[38;5;124m\"\u001b[39m\u001b[38;5;124mresult.failed=\u001b[39m\u001b[38;5;132;01m{\u001b[39;00mprojection_op_doctest_result\u001b[38;5;241m.\u001b[39mfailed\u001b[38;5;132;01m}\u001b[39;00m\u001b[38;5;124m\"\u001b[39m\n",
      "\u001b[0;31mAssertionError\u001b[0m: result.failed=4"
     ]
    }
   ],
   "source": [
    "import projection_op\n",
    "importlib.reload(projection_op)\n",
    "projection_op_doctest_result = doctest.testmod(projection_op)\n",
    "print(projection_op_doctest_result)\n",
    "assert projection_op_doctest_result.failed == 0, f\"result.failed={projection_op_doctest_result.failed}\""
   ]
  },
  {
   "cell_type": "markdown",
   "metadata": {},
   "source": [
    "# Finite difference"
   ]
  },
  {
   "cell_type": "code",
   "execution_count": 68,
   "metadata": {},
   "outputs": [
    {
     "data": {
      "text/plain": [
       "<module 'finite_diff' from '/mnt/h/GIT/DISSERTATION/LearningRegularizationParameterMaps/networks/drafts/finite_diff.py'>"
      ]
     },
     "execution_count": 68,
     "metadata": {},
     "output_type": "execute_result"
    }
   ],
   "source": [
    "import finite_diff\n",
    "importlib.reload(finite_diff)"
   ]
  },
  {
   "cell_type": "markdown",
   "metadata": {},
   "source": [
    "# Grad op - Nabla_h and E_h"
   ]
  },
  {
   "cell_type": "code",
   "execution_count": 69,
   "metadata": {},
   "outputs": [
    {
     "data": {
      "text/plain": [
       "<module 'grad_op' from '/mnt/h/GIT/DISSERTATION/LearningRegularizationParameterMaps/networks/drafts/grad_op.py'>"
      ]
     },
     "execution_count": 69,
     "metadata": {},
     "output_type": "execute_result"
    }
   ],
   "source": [
    "import grad_op\n",
    "importlib.reload(grad_op)"
   ]
  },
  {
   "cell_type": "code",
   "execution_count": 70,
   "metadata": {},
   "outputs": [],
   "source": [
    "# import numpy as np\n",
    "\n",
    "# def pointwise_norm_2_v(v):\n",
    "#     \"\"\"\n",
    "#     Calculate the pointwise L2 norm for v.\n",
    "\n",
    "#     Parameters:\n",
    "#     v (numpy.ndarray): A numpy array of shape (n, n, 2)\n",
    "\n",
    "#     Returns:\n",
    "#     numpy.ndarray: A numpy array of shape (n, n) representing the pointwise L2 norm of v.\n",
    "\n",
    "#     Examples:\n",
    "#     >>> v = np.array([\n",
    "#     ...     [[3, 4], [1, 2], [5, 12]],\n",
    "#     ...     [[7, 24], [6, 8], [2, 3]],\n",
    "#     ...     [[8, 15], [9, 12], [5, 12]]\n",
    "#     ... ])\n",
    "#     >>> pointwise_norm_2_v(v)\n",
    "#     array([[ 5.        ,  2.23606798, 13.        ],\n",
    "#            [25.        , 10.        ,  3.60555128],\n",
    "#            [17.        , 15.        , 13.        ]])\n",
    "\n",
    "#     >>> v = np.array([\n",
    "#     ...     [[1, 0], [0, 1], [3, 4]],\n",
    "#     ...     [[4, 3], [5, 12], [6, 8]],\n",
    "#     ...     [[8, 6], [7, 24], [9, 12]]\n",
    "#     ... ])\n",
    "#     >>> pointwise_norm_2_v(v)\n",
    "#     array([[ 1.,  1.,  5.],\n",
    "#            [ 5., 13., 10.],\n",
    "#            [10., 25., 15.]])\n",
    "#     \"\"\"\n",
    "#     n = v.shape[0]\n",
    "#     magnitude_v = np.zeros((n, n))\n",
    "    \n",
    "#     for i in range(n):\n",
    "#         for j in range(n):\n",
    "#             v1 = v[i, j, 0]\n",
    "#             v2 = v[i, j, 1]\n",
    "#             magnitude_v[i, j] = np.sqrt(v1**2 + v2**2)\n",
    "    \n",
    "#     return magnitude_v\n",
    "\n",
    "# def pointwise_norm_2_w(w):\n",
    "#     \"\"\"\n",
    "#     Calculate the pointwise L2 norm for w.\n",
    "\n",
    "#     Parameters:\n",
    "#     w (numpy.ndarray): A numpy array of shape (n, n, 2, 2)\n",
    "\n",
    "#     Returns:\n",
    "#     numpy.ndarray: A numpy array of shape (n, n) representing the pointwise L2 norm of w.\n",
    "\n",
    "#     Examples:\n",
    "#     >>> w = np.array([\n",
    "#     ...     [[[3, 4], [4, 5]], [[6, 8], [8, 9]], [[1, 2], [2, 3]]],\n",
    "#     ...     [[[7, 24], [24, 6]], [[8, 15], [15, 7]], [[9, 1], [1, 8]]],\n",
    "#     ...     [[[4, 3], [3, 5]], [[2, 2], [2, 4]], [[6, 8], [8, 7]]]\n",
    "#     ... ])\n",
    "#     >>> pointwise_norm_2_w(w)\n",
    "#     array([[ 8.1240384 , 15.65247584,  4.24264069],\n",
    "#            [35.17101079, 23.72762104, 12.12435565],\n",
    "#            [ 7.68114575,  5.29150262, 14.59451952]])\n",
    "\n",
    "#     >>> w = np.array([\n",
    "#     ...     [[[1, 0], [0, 2]], [[2, 0], [0, 3]], [[3, 0], [0, 4]]],\n",
    "#     ...     [[[4, 0], [0, 5]], [[5, 0], [0, 6]], [[6, 0], [0, 7]]],\n",
    "#     ...     [[[7, 0], [0, 8]], [[8, 0], [0, 9]], [[9, 0], [0, 10]]]\n",
    "#     ... ])\n",
    "#     >>> pointwise_norm_2_w(w)\n",
    "#     array([[ 2.23606798,  3.60555128,  5.        ],\n",
    "#            [ 6.40312424,  7.81024968,  9.21954446],\n",
    "#            [10.63014581, 12.04159458, 13.45362405]])\n",
    "#     \"\"\"\n",
    "#     n = w.shape[0]\n",
    "#     magnitude_w = np.zeros((n, n))\n",
    "    \n",
    "#     for i in range(n):\n",
    "#         for j in range(n):\n",
    "#             w11 = w[i, j, 0, 0]\n",
    "#             w22 = w[i, j, 1, 1]\n",
    "#             w12 = w[i, j, 0, 1]\n",
    "#             magnitude_w[i, j] = np.sqrt(w11**2 + w22**2 + 2 * w12**2)\n",
    "    \n",
    "#     return magnitude_w\n",
    "\n",
    "# import doctest\n",
    "# doctest.testmod()\n"
   ]
  }
 ],
 "metadata": {
  "kernelspec": {
   "display_name": "venv_2",
   "language": "python",
   "name": "python3"
  },
  "language_info": {
   "codemirror_mode": {
    "name": "ipython",
    "version": 3
   },
   "file_extension": ".py",
   "mimetype": "text/x-python",
   "name": "python",
   "nbconvert_exporter": "python",
   "pygments_lexer": "ipython3",
   "version": "3.10.12"
  }
 },
 "nbformat": 4,
 "nbformat_minor": 2
}
