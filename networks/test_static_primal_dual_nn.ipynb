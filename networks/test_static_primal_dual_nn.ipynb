{
 "cells": [
  {
   "cell_type": "code",
   "execution_count": 1,
   "metadata": {},
   "outputs": [],
   "source": [
    "import torch\n",
    "\n",
    "from static_img_primal_dual_nn import StaticImagePrimalDualNN\n",
    "from unet_3d import UNet3d"
   ]
  },
  {
   "cell_type": "code",
   "execution_count": 2,
   "metadata": {},
   "outputs": [],
   "source": [
    "torch.set_default_device('cuda')"
   ]
  },
  {
   "cell_type": "code",
   "execution_count": 3,
   "metadata": {},
   "outputs": [],
   "source": [
    "unet = UNet3d(\n",
    "    init_filters=64,\n",
    "    n_blocks=4,\n",
    ")"
   ]
  },
  {
   "cell_type": "code",
   "execution_count": 4,
   "metadata": {},
   "outputs": [],
   "source": [
    "model = StaticImagePrimalDualNN(\n",
    "    device='cuda',\n",
    "    cnn_block=unet\n",
    ")"
   ]
  },
  {
   "cell_type": "code",
   "execution_count": 5,
   "metadata": {},
   "outputs": [
    {
     "name": "stdout",
     "output_type": "stream",
     "text": [
      "Input shape: torch.Size([1, 1, 1024, 1024, 1])\n"
     ]
    }
   ],
   "source": [
    "size = 1024\n",
    "in_5d = torch.randn(1, 1, size, size, 1)\n",
    "print(f\"Input shape: {in_5d.shape}\")"
   ]
  },
  {
   "cell_type": "code",
   "execution_count": 6,
   "metadata": {},
   "outputs": [
    {
     "name": "stdout",
     "output_type": "stream",
     "text": [
      "Input x.shape: torch.Size([1, 1, 1024, 1024, 1])\n",
      "Enc 0 x.shape: torch.Size([1, 64, 1024, 1024, 1])\n",
      "Enc 1 x.shape: torch.Size([1, 128, 512, 512, 1])\n",
      "Enc 2 x.shape: torch.Size([1, 256, 256, 256, 1])\n",
      "Enc 3 x.shape: torch.Size([1, 512, 128, 128, 1])\n",
      "Dec 0 x.shape: torch.Size([1, 1024, 64, 64, 1])\n",
      "Dec 1 x.shape: torch.Size([1, 512, 128, 128, 1])\n",
      "Dec 2 x.shape: torch.Size([1, 256, 256, 256, 1])\n",
      "Dec 3 x.shape: torch.Size([1, 128, 512, 512, 1])\n",
      "Output shape from UNet: torch.Size([1, 2, 1024, 1024, 1])\n"
     ]
    }
   ],
   "source": [
    "out_5d_unet = unet(in_5d)\n",
    "print(f\"Output shape from UNet: {out_5d_unet.shape}\")"
   ]
  },
  {
   "cell_type": "code",
   "execution_count": 7,
   "metadata": {},
   "outputs": [
    {
     "name": "stdout",
     "output_type": "stream",
     "text": [
      "x.shape: torch.Size([1, 1, 1024, 1024, 1])\n",
      "Input x.shape: torch.Size([1, 1, 1024, 1024, 1])\n",
      "Enc 0 x.shape: torch.Size([1, 64, 1024, 1024, 1])\n",
      "Enc 1 x.shape: torch.Size([1, 128, 512, 512, 1])\n",
      "Enc 2 x.shape: torch.Size([1, 256, 256, 256, 1])\n",
      "Enc 3 x.shape: torch.Size([1, 512, 128, 128, 1])\n",
      "Dec 0 x.shape: torch.Size([1, 1024, 64, 64, 1])\n",
      "Dec 1 x.shape: torch.Size([1, 512, 128, 128, 1])\n",
      "Dec 2 x.shape: torch.Size([1, 256, 256, 256, 1])\n",
      "Dec 3 x.shape: torch.Size([1, 128, 512, 512, 1])\n",
      "Output shape from model: torch.Size([1, 1, 1024, 1024, 1])\n"
     ]
    }
   ],
   "source": [
    "out_5d_model = model(in_5d)\n",
    "print(f\"Output shape from model: {out_5d_model.shape}\")"
   ]
  },
  {
   "cell_type": "code",
   "execution_count": null,
   "metadata": {},
   "outputs": [],
   "source": []
  }
 ],
 "metadata": {
  "kernelspec": {
   "display_name": "venv_2",
   "language": "python",
   "name": "python3"
  },
  "language_info": {
   "codemirror_mode": {
    "name": "ipython",
    "version": 3
   },
   "file_extension": ".py",
   "mimetype": "text/x-python",
   "name": "python",
   "nbconvert_exporter": "python",
   "pygments_lexer": "ipython3",
   "version": "3.10.12"
  }
 },
 "nbformat": 4,
 "nbformat_minor": 2
}
