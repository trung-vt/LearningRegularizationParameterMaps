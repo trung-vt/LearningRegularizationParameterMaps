{
 "cells": [
  {
   "cell_type": "code",
   "execution_count": 1,
   "metadata": {},
   "outputs": [
    {
     "name": "stdout",
     "output_type": "stream",
     "text": [
      "PSNR:  36.82485491000847\n"
     ]
    }
   ],
   "source": [
    "import numpy as np\n",
    "from PIL import Image\n",
    "from skimage.metrics import structural_similarity, peak_signal_noise_ratio\n",
    "\n",
    "square_clean = \"../../paper/slides/square clean.png\"\n",
    "square_tgv = \"../../paper/slides/square TGV.png\"\n",
    "\n",
    "clean_PIL = Image.open(square_clean)\n",
    "tgv_PIL = Image.open(square_tgv)\n",
    "\n",
    "clean_np = np.array(clean_PIL)\n",
    "tgv_np = np.array(tgv_PIL)\n",
    "\n",
    "psnr = peak_signal_noise_ratio(clean_np, tgv_np)\n",
    "print(\"PSNR: \", psnr)"
   ]
  },
  {
   "cell_type": "code",
   "execution_count": 2,
   "metadata": {},
   "outputs": [
    {
     "name": "stdout",
     "output_type": "stream",
     "text": [
      "Turtle PSNR:  29.002704980768563\n"
     ]
    }
   ],
   "source": [
    "turtle_clean = \"../../data/test_cases/turtle clean.png\"\n",
    "turtle_tv = \"../../data/test_cases/turtle single lambda.png\"\n",
    "\n",
    "turtle_clean_PIL = Image.open(turtle_clean)\n",
    "turtle_tv_PIL = Image.open(turtle_tv)\n",
    "\n",
    "turtle_clean_np = np.array(turtle_clean_PIL)\n",
    "turtle_tv_np = np.array(turtle_tv_PIL)\n",
    "\n",
    "psnr = peak_signal_noise_ratio(turtle_clean_np, turtle_tv_np)\n",
    "print(\"Turtle PSNR: \", psnr)\n"
   ]
  },
  {
   "cell_type": "code",
   "execution_count": 3,
   "metadata": {},
   "outputs": [
    {
     "name": "stdout",
     "output_type": "stream",
     "text": [
      "Turtle TV Map PSNR:  28.784473715901132\n"
     ]
    }
   ],
   "source": [
    "turtle_tv_map = \"../../data/test_cases/turtle lambda map.png\"\n",
    "\n",
    "turtle_tv_map_PIL = Image.open(turtle_tv_map)\n",
    "\n",
    "turtle_tv_map_np = np.array(turtle_tv_map_PIL)\n",
    "\n",
    "psnr = peak_signal_noise_ratio(turtle_clean_np, turtle_tv_map_np)\n",
    "print(\"Turtle TV Map PSNR: \", psnr)\n"
   ]
  }
 ],
 "metadata": {
  "kernelspec": {
   "display_name": "venv_2",
   "language": "python",
   "name": "python3"
  },
  "language_info": {
   "codemirror_mode": {
    "name": "ipython",
    "version": 3
   },
   "file_extension": ".py",
   "mimetype": "text/x-python",
   "name": "python",
   "nbconvert_exporter": "python",
   "pygments_lexer": "ipython3",
   "version": "3.10.12"
  }
 },
 "nbformat": 4,
 "nbformat_minor": 2
}
