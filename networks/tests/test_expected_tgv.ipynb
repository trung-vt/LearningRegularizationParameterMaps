{
 "cells": [
  {
   "cell_type": "code",
   "execution_count": 5,
   "metadata": {},
   "outputs": [
    {
     "name": "stdout",
     "output_type": "stream",
     "text": [
      "PSNR:  36.82485491000847\n"
     ]
    }
   ],
   "source": [
    "import numpy as np\n",
    "from PIL import Image\n",
    "from skimage.metrics import structural_similarity, peak_signal_noise_ratio\n",
    "\n",
    "square_clean = \"../../paper/slides/square clean.png\"\n",
    "square_tgv = \"../../paper/slides/square TGV.png\"\n",
    "\n",
    "clean_PIL = Image.open(square_clean)\n",
    "tgv_PIL = Image.open(square_tgv)\n",
    "\n",
    "clean_np = np.array(clean_PIL)\n",
    "tgv_np = np.array(tgv_PIL)\n",
    "\n",
    "psnr = peak_signal_noise_ratio(clean_np, tgv_np)\n",
    "print(\"PSNR: \", psnr)"
   ]
  }
 ],
 "metadata": {
  "kernelspec": {
   "display_name": "venv_2",
   "language": "python",
   "name": "python3"
  },
  "language_info": {
   "codemirror_mode": {
    "name": "ipython",
    "version": 3
   },
   "file_extension": ".py",
   "mimetype": "text/x-python",
   "name": "python",
   "nbconvert_exporter": "python",
   "pygments_lexer": "ipython3",
   "version": "3.10.12"
  }
 },
 "nbformat": 4,
 "nbformat_minor": 2
}
