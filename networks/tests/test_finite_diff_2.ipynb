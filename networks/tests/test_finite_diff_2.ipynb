{
 "cells": [
  {
   "cell_type": "code",
   "execution_count": 15,
   "metadata": {},
   "outputs": [
    {
     "name": "stdout",
     "output_type": "stream",
     "text": [
      "Adjoint property test results: (-1.1920928955078125e-07, -1.1920928955078125e-07)\n"
     ]
    }
   ],
   "source": [
    "import torch\n",
    "\n",
    "def forward_difference_x(u):\n",
    "    \"\"\"\n",
    "    Computes the forward difference in the x direction.\n",
    "    \n",
    "    >>> u = torch.tensor([[1, 2, 3], [4, 5, 6], [7, 8, 9]], dtype=torch.float32)\n",
    "    >>> forward_difference_x(u)\n",
    "    tensor([[3., 3., 3.],\n",
    "            [3., 3., 3.],\n",
    "            [0., 0., 0.]])\n",
    "    \"\"\"\n",
    "    N1, N2 = u.shape\n",
    "    diff_x = torch.zeros_like(u)\n",
    "    diff_x[:-1, :] = u[1:, :] - u[:-1, :]\n",
    "    return diff_x\n",
    "\n",
    "def forward_difference_y(u):\n",
    "    \"\"\"\n",
    "    Computes the forward difference in the y direction.\n",
    "    \n",
    "    >>> u = torch.tensor([[1, 2, 3], [4, 5, 6], [7, 8, 9]], dtype=torch.float32)\n",
    "    >>> forward_difference_y(u)\n",
    "    tensor([[1., 1., 0.],\n",
    "            [1., 1., 0.],\n",
    "            [1., 1., 0.]])\n",
    "    \"\"\"\n",
    "    N1, N2 = u.shape\n",
    "    diff_y = torch.zeros_like(u)\n",
    "    diff_y[:, :-1] = u[:, 1:] - u[:, :-1]\n",
    "    return diff_y\n",
    "\n",
    "def backward_difference_x(u):\n",
    "    \"\"\"\n",
    "    Computes the backward difference in the x direction.\n",
    "    \n",
    "    >>> u = torch.tensor([[1, 2, 3], [4, 5, 6], [7, 8, 9]], dtype=torch.float32)\n",
    "    >>> backward_difference_x(u)\n",
    "    tensor([[ 1.,  2.,  3.],\n",
    "            [ 3.,  3.,  3.],\n",
    "            [-4., -5., -6.]])\n",
    "    \"\"\"\n",
    "    N1, N2 = u.shape\n",
    "    diff_x = torch.zeros_like(u)\n",
    "    diff_x[0, :] = u[0, :]\n",
    "    diff_x[1:-1, :] = u[1:-1, :] - u[:-2, :]\n",
    "    diff_x[-1, :] = -u[-2, :]\n",
    "    return diff_x\n",
    "\n",
    "def backward_difference_y(u):\n",
    "    \"\"\"\n",
    "    Computes the backward difference in the y direction.\n",
    "    \n",
    "    >>> u = torch.tensor([[1, 2, 3], [4, 5, 6], [7, 8, 9]], dtype=torch.float32)\n",
    "    >>> backward_difference_y(u)\n",
    "    tensor([[ 1.,  1., -2.],\n",
    "            [ 4.,  1., -5.],\n",
    "            [ 7.,  1., -8.]])\n",
    "    \"\"\"\n",
    "    N1, N2 = u.shape\n",
    "    diff_y = torch.zeros_like(u)\n",
    "    diff_y[:, 0] = u[:, 0]\n",
    "    diff_y[:, 1:-1] = u[:, 1:-1] - u[:, :-2]\n",
    "    diff_y[:, -1] = -u[:, -2]\n",
    "    return diff_y\n",
    "\n",
    "def test_adjoint_property():\n",
    "    \"\"\"\n",
    "    Test the adjoint property for forward and backward difference operators.\n",
    "    \n",
    "    >>> adjoint_x, adjoint_y = test_adjoint_property()\n",
    "    >>> assert abs(adjoint_x) < 1e-6, f\"Adjoint property failed for x: {adjoint_x}\"\n",
    "    >>> assert abs(adjoint_y) < 1e-6, f\"Adjoint property failed for y: {adjoint_y}\"\n",
    "    \"\"\"\n",
    "    N1, N2 = 4, 4  # Example dimensions\n",
    "    u = torch.rand((N1, N2))\n",
    "    v = torch.rand((N1, N2))\n",
    "\n",
    "    fwd_x_u = forward_difference_x(u)\n",
    "    bwd_x_v = backward_difference_x(v)\n",
    "    adjoint_x = torch.sum(fwd_x_u * v) + torch.sum(u * bwd_x_v)\n",
    "    \n",
    "    fwd_y_u = forward_difference_y(u)\n",
    "    bwd_y_v = backward_difference_y(v)\n",
    "    adjoint_y = torch.sum(fwd_y_u * v) + torch.sum(u * bwd_y_v)\n",
    "    \n",
    "    return adjoint_x.item(), adjoint_y.item()\n",
    "\n",
    "if __name__ == \"__main__\":\n",
    "    import doctest\n",
    "    doctest.testmod()\n",
    "    print(\"Adjoint property test results:\", test_adjoint_property())\n"
   ]
  },
  {
   "cell_type": "code",
   "execution_count": 16,
   "metadata": {},
   "outputs": [],
   "source": [
    "def test_adjoint_property():\n",
    "    \"\"\"\n",
    "    Test the adjoint property of forward and backward difference operators.\n",
    "    \"\"\"\n",
    "    dx = 1.0\n",
    "    dy = 1.0\n",
    "\n",
    "    # Define two random 2D tensors\n",
    "    u = torch.rand((5, 5), dtype=torch.float32)\n",
    "    v = torch.rand((5, 5), dtype=torch.float32)\n",
    "\n",
    "    # Compute forward differences\n",
    "    Df_x_u = forward_difference_x(u)\n",
    "    Df_y_u = forward_difference_y(u)\n",
    "\n",
    "    # Compute backward differences\n",
    "    Db_x_v = backward_difference_x(v)\n",
    "    Db_y_v = backward_difference_y(v)\n",
    "\n",
    "    # Compute inner products\n",
    "    inner_product_x = torch.sum(Df_x_u * v)\n",
    "    inner_product_y = torch.sum(Df_y_u * v)\n",
    "\n",
    "    adjoint_product_x = -torch.sum(u * Db_x_v)\n",
    "    adjoint_product_y = -torch.sum(u * Db_y_v)\n",
    "\n",
    "    # Check if they are approximately equal\n",
    "    assert torch.allclose(inner_product_x, adjoint_product_x, atol=1e-6), f\"X-direction: {inner_product_x} != {adjoint_product_x}\"\n",
    "    assert torch.allclose(inner_product_y, adjoint_product_y, atol=1e-6), f\"Y-direction: {inner_product_y} != {adjoint_product_y}\"\n",
    "    \n",
    "    print(f\"Test adjoint property successful!\")"
   ]
  },
  {
   "cell_type": "code",
   "execution_count": 17,
   "metadata": {},
   "outputs": [
    {
     "name": "stdout",
     "output_type": "stream",
     "text": [
      "Test adjoint property successful!\n"
     ]
    }
   ],
   "source": [
    "test_adjoint_property()"
   ]
  }
 ],
 "metadata": {
  "kernelspec": {
   "display_name": "venv_2",
   "language": "python",
   "name": "python3"
  },
  "language_info": {
   "codemirror_mode": {
    "name": "ipython",
    "version": 3
   },
   "file_extension": ".py",
   "mimetype": "text/x-python",
   "name": "python",
   "nbconvert_exporter": "python",
   "pygments_lexer": "ipython3",
   "version": "3.10.12"
  }
 },
 "nbformat": 4,
 "nbformat_minor": 2
}
