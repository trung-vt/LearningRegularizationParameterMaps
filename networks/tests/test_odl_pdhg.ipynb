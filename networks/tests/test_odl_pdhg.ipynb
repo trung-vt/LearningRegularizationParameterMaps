{
 "cells": [
  {
   "cell_type": "code",
   "execution_count": 1,
   "metadata": {},
   "outputs": [
    {
     "ename": "IndexError",
     "evalue": "only integers, slices (`:`), ellipsis (`...`), numpy.newaxis (`None`) and integer or boolean arrays are valid indices",
     "output_type": "error",
     "traceback": [
      "\u001b[0;31m---------------------------------------------------------------------------\u001b[0m",
      "\u001b[0;31mIndexError\u001b[0m                                Traceback (most recent call last)",
      "Cell \u001b[0;32mIn[1], line 12\u001b[0m\n\u001b[1;32m      5\u001b[0m \u001b[38;5;66;03m# # Create a space, a phantom, and add noise\u001b[39;00m\n\u001b[1;32m      6\u001b[0m \u001b[38;5;66;03m# space = odl.uniform_discr(min_pt=0, max_pt=1, shape=256, dtype='float32')\u001b[39;00m\n\u001b[1;32m      7\u001b[0m \u001b[38;5;66;03m# phantom = odl.phantom.shepp_logan(space, modified=True)\u001b[39;00m\n\u001b[1;32m      8\u001b[0m \u001b[38;5;66;03m# noisy_phantom = phantom + odl.phantom.white_noise(space) * 0.1\u001b[39;00m\n\u001b[1;32m      9\u001b[0m \n\u001b[1;32m     10\u001b[0m \u001b[38;5;66;03m# Create a 2D space, a phantom, and add noise\u001b[39;00m\n\u001b[1;32m     11\u001b[0m space \u001b[38;5;241m=\u001b[39m odl\u001b[38;5;241m.\u001b[39muniform_discr(min_pt\u001b[38;5;241m=\u001b[39m[\u001b[38;5;241m-\u001b[39m\u001b[38;5;241m20\u001b[39m, \u001b[38;5;241m-\u001b[39m\u001b[38;5;241m20\u001b[39m], max_pt\u001b[38;5;241m=\u001b[39m[\u001b[38;5;241m20\u001b[39m, \u001b[38;5;241m20\u001b[39m], shape\u001b[38;5;241m=\u001b[39m[\u001b[38;5;241m256\u001b[39m, \u001b[38;5;241m256\u001b[39m], dtype\u001b[38;5;241m=\u001b[39m\u001b[38;5;124m'\u001b[39m\u001b[38;5;124mfloat32\u001b[39m\u001b[38;5;124m'\u001b[39m)\n\u001b[0;32m---> 12\u001b[0m phantom \u001b[38;5;241m=\u001b[39m \u001b[43modl\u001b[49m\u001b[38;5;241;43m.\u001b[39;49m\u001b[43mphantom\u001b[49m\u001b[38;5;241;43m.\u001b[39;49m\u001b[43mshepp_logan\u001b[49m\u001b[43m(\u001b[49m\u001b[43mspace\u001b[49m\u001b[43m,\u001b[49m\u001b[43m \u001b[49m\u001b[43mmodified\u001b[49m\u001b[38;5;241;43m=\u001b[39;49m\u001b[38;5;28;43;01mTrue\u001b[39;49;00m\u001b[43m)\u001b[49m\n\u001b[1;32m     13\u001b[0m noisy_phantom \u001b[38;5;241m=\u001b[39m phantom \u001b[38;5;241m+\u001b[39m odl\u001b[38;5;241m.\u001b[39mphantom\u001b[38;5;241m.\u001b[39mwhite_noise(space) \u001b[38;5;241m*\u001b[39m \u001b[38;5;241m0.1\u001b[39m\n\u001b[1;32m     15\u001b[0m \u001b[38;5;66;03m# Display the original and noisy images\u001b[39;00m\n",
      "File \u001b[0;32m/mnt/h/GIT/DISSERTATION/LearningRegularizationParameterMaps/venv_2/lib/python3.10/site-packages/odl/phantom/transmission.py:141\u001b[0m, in \u001b[0;36mshepp_logan\u001b[0;34m(space, modified)\u001b[0m\n\u001b[1;32m    118\u001b[0m \u001b[38;5;250m\u001b[39m\u001b[38;5;124;03m\"\"\"Standard `Shepp-Logan phantom`_ in 2 or 3 dimensions.\u001b[39;00m\n\u001b[1;32m    119\u001b[0m \n\u001b[1;32m    120\u001b[0m \u001b[38;5;124;03mParameters\u001b[39;00m\n\u001b[0;32m   (...)\u001b[0m\n\u001b[1;32m    137\u001b[0m \u001b[38;5;124;03m.. _Shepp-Logan phantom: en.wikipedia.org/wiki/Shepp–Logan_phantom\u001b[39;00m\n\u001b[1;32m    138\u001b[0m \u001b[38;5;124;03m\"\"\"\u001b[39;00m\n\u001b[1;32m    139\u001b[0m ellipses \u001b[38;5;241m=\u001b[39m shepp_logan_ellipses(space\u001b[38;5;241m.\u001b[39mndim, modified)\n\u001b[0;32m--> 141\u001b[0m \u001b[38;5;28;01mreturn\u001b[39;00m \u001b[43mellipse_phantom\u001b[49m\u001b[43m(\u001b[49m\u001b[43mspace\u001b[49m\u001b[43m,\u001b[49m\u001b[43m \u001b[49m\u001b[43mellipses\u001b[49m\u001b[43m)\u001b[49m\n",
      "File \u001b[0;32m/mnt/h/GIT/DISSERTATION/LearningRegularizationParameterMaps/venv_2/lib/python3.10/site-packages/odl/phantom/geometric.py:488\u001b[0m, in \u001b[0;36mellipse_phantom\u001b[0;34m(space, ellipses)\u001b[0m\n\u001b[1;32m    426\u001b[0m \u001b[38;5;250m\u001b[39m\u001b[38;5;124;03m\"\"\"Return a phantom given by ellipses.\u001b[39;00m\n\u001b[1;32m    427\u001b[0m \n\u001b[1;32m    428\u001b[0m \u001b[38;5;124;03mParameters\u001b[39;00m\n\u001b[0;32m   (...)\u001b[0m\n\u001b[1;32m    484\u001b[0m \u001b[38;5;124;03m    Shepp-Logan phantom\u001b[39;00m\n\u001b[1;32m    485\u001b[0m \u001b[38;5;124;03m\"\"\"\u001b[39;00m\n\u001b[1;32m    487\u001b[0m \u001b[38;5;28;01mif\u001b[39;00m space\u001b[38;5;241m.\u001b[39mndim \u001b[38;5;241m==\u001b[39m \u001b[38;5;241m2\u001b[39m:\n\u001b[0;32m--> 488\u001b[0m     \u001b[38;5;28;01mreturn\u001b[39;00m \u001b[43m_ellipse_phantom_2d\u001b[49m\u001b[43m(\u001b[49m\u001b[43mspace\u001b[49m\u001b[43m,\u001b[49m\u001b[43m \u001b[49m\u001b[43mellipses\u001b[49m\u001b[43m)\u001b[49m\n\u001b[1;32m    489\u001b[0m \u001b[38;5;28;01melif\u001b[39;00m space\u001b[38;5;241m.\u001b[39mndim \u001b[38;5;241m==\u001b[39m \u001b[38;5;241m3\u001b[39m:\n\u001b[1;32m    490\u001b[0m     \u001b[38;5;28;01mreturn\u001b[39;00m _ellipse_phantom_3d(space, ellipses)\n",
      "File \u001b[0;32m/mnt/h/GIT/DISSERTATION/LearningRegularizationParameterMaps/venv_2/lib/python3.10/site-packages/odl/phantom/geometric.py:224\u001b[0m, in \u001b[0;36m_ellipse_phantom_2d\u001b[0;34m(space, ellipses)\u001b[0m\n\u001b[1;32m    221\u001b[0m p \u001b[38;5;241m=\u001b[39m np\u001b[38;5;241m.\u001b[39mzeros(space\u001b[38;5;241m.\u001b[39mshape, dtype\u001b[38;5;241m=\u001b[39mspace\u001b[38;5;241m.\u001b[39mdtype)\n\u001b[1;32m    223\u001b[0m \u001b[38;5;66;03m# Create the pixel grid\u001b[39;00m\n\u001b[0;32m--> 224\u001b[0m grid_in \u001b[38;5;241m=\u001b[39m \u001b[43mspace\u001b[49m\u001b[38;5;241;43m.\u001b[39;49m\u001b[43mgrid\u001b[49m\u001b[38;5;241;43m.\u001b[39;49m\u001b[43mmeshgrid\u001b[49m\n\u001b[1;32m    225\u001b[0m minp \u001b[38;5;241m=\u001b[39m space\u001b[38;5;241m.\u001b[39mgrid\u001b[38;5;241m.\u001b[39mmin()\n\u001b[1;32m    226\u001b[0m maxp \u001b[38;5;241m=\u001b[39m space\u001b[38;5;241m.\u001b[39mgrid\u001b[38;5;241m.\u001b[39mmax()\n",
      "File \u001b[0;32m/mnt/h/GIT/DISSERTATION/LearningRegularizationParameterMaps/venv_2/lib/python3.10/site-packages/odl/discr/grid.py:714\u001b[0m, in \u001b[0;36mTensorGrid.meshgrid\u001b[0;34m(self)\u001b[0m\n\u001b[1;32m    683\u001b[0m \u001b[38;5;129m@property\u001b[39m\n\u001b[1;32m    684\u001b[0m \u001b[38;5;28;01mdef\u001b[39;00m \u001b[38;5;21mmeshgrid\u001b[39m(\u001b[38;5;28mself\u001b[39m):\n\u001b[1;32m    685\u001b[0m \u001b[38;5;250m    \u001b[39m\u001b[38;5;124;03m\"\"\"A grid suitable for function evaluation.\u001b[39;00m\n\u001b[1;32m    686\u001b[0m \n\u001b[1;32m    687\u001b[0m \u001b[38;5;124;03m    Returns\u001b[39;00m\n\u001b[0;32m   (...)\u001b[0m\n\u001b[1;32m    712\u001b[0m \u001b[38;5;124;03m           [ 0.,  1., -3.]])\u001b[39;00m\n\u001b[1;32m    713\u001b[0m \u001b[38;5;124;03m    \"\"\"\u001b[39;00m\n\u001b[0;32m--> 714\u001b[0m     \u001b[38;5;28;01mreturn\u001b[39;00m \u001b[43msparse_meshgrid\u001b[49m\u001b[43m(\u001b[49m\u001b[38;5;241;43m*\u001b[39;49m\u001b[38;5;28;43mself\u001b[39;49m\u001b[38;5;241;43m.\u001b[39;49m\u001b[43mcoord_vectors\u001b[49m\u001b[43m)\u001b[49m\n",
      "File \u001b[0;32m/mnt/h/GIT/DISSERTATION/LearningRegularizationParameterMaps/venv_2/lib/python3.10/site-packages/odl/discr/grid.py:71\u001b[0m, in \u001b[0;36msparse_meshgrid\u001b[0;34m(*x)\u001b[0m\n\u001b[1;32m     69\u001b[0m     slc \u001b[38;5;241m=\u001b[39m [\u001b[38;5;28;01mNone\u001b[39;00m] \u001b[38;5;241m*\u001b[39m n\n\u001b[1;32m     70\u001b[0m     slc[ax] \u001b[38;5;241m=\u001b[39m \u001b[38;5;28mslice\u001b[39m(\u001b[38;5;28;01mNone\u001b[39;00m)\n\u001b[0;32m---> 71\u001b[0m     mesh\u001b[38;5;241m.\u001b[39mappend(np\u001b[38;5;241m.\u001b[39mascontiguousarray(\u001b[43mxi\u001b[49m\u001b[43m[\u001b[49m\u001b[43mslc\u001b[49m\u001b[43m]\u001b[49m))\n\u001b[1;32m     73\u001b[0m \u001b[38;5;28;01mreturn\u001b[39;00m \u001b[38;5;28mtuple\u001b[39m(mesh)\n",
      "\u001b[0;31mIndexError\u001b[0m: only integers, slices (`:`), ellipsis (`...`), numpy.newaxis (`None`) and integer or boolean arrays are valid indices"
     ]
    }
   ],
   "source": [
    "import odl\n",
    "import numpy as np\n",
    "import matplotlib.pyplot as plt\n",
    "\n",
    "# # Create a space, a phantom, and add noise\n",
    "# space = odl.uniform_discr(min_pt=0, max_pt=1, shape=256, dtype='float32')\n",
    "# phantom = odl.phantom.shepp_logan(space, modified=True)\n",
    "# noisy_phantom = phantom + odl.phantom.white_noise(space) * 0.1\n",
    "\n",
    "# Create a 2D space, a phantom, and add noise\n",
    "space = odl.uniform_discr(min_pt=[-20, -20], max_pt=[20, 20], shape=[256, 256], dtype='float32')\n",
    "phantom = odl.phantom.shepp_logan(space, modified=True)\n",
    "noisy_phantom = phantom + odl.phantom.white_noise(space) * 0.1\n",
    "\n",
    "# Display the original and noisy images\n",
    "plt.figure()\n",
    "plt.subplot(1, 2, 1)\n",
    "plt.title('Original')\n",
    "plt.imshow(phantom, cmap='gray')\n",
    "plt.subplot(1, 2, 2)\n",
    "plt.title('Noisy')\n",
    "plt.imshow(noisy_phantom, cmap='gray')\n",
    "plt.show()\n",
    "\n",
    "# Define the operators and the TGV functional\n",
    "grad = odl.Gradient(space)\n",
    "op = odl.BroadcastOperator(grad, odl.IdentityOperator(space))\n",
    "\n",
    "# Define the functional components\n",
    "l2_norm = odl.solvers.L2NormSquared(op.domain).translated(noisy_phantom)\n",
    "l1_norm = 0.01 * odl.solvers.GroupL1Norm(grad.range) + 0.1 * odl.solvers.L1Norm(space)\n",
    "\n",
    "# Combine into the total functional\n",
    "tgv = l2_norm + l1_norm\n",
    "\n",
    "# Perform the TGV minimization using the Douglas-Rachford solver\n",
    "x = space.zero()\n",
    "odl.solvers.douglas_rachford_pd(x, f=l2_norm, g=l1_norm, L=op, tau=0.1, sigma=0.1, niter=200)\n",
    "\n",
    "# Display the result\n",
    "plt.figure()\n",
    "plt.title('TGV Denoised')\n",
    "plt.imshow(x, cmap='gray')\n",
    "plt.show()\n"
   ]
  },
  {
   "cell_type": "code",
   "execution_count": 3,
   "metadata": {},
   "outputs": [
    {
     "ename": "IndexError",
     "evalue": "only integers, slices (`:`), ellipsis (`...`), numpy.newaxis (`None`) and integer or boolean arrays are valid indices",
     "output_type": "error",
     "traceback": [
      "\u001b[0;31m---------------------------------------------------------------------------\u001b[0m",
      "\u001b[0;31mIndexError\u001b[0m                                Traceback (most recent call last)",
      "Cell \u001b[0;32mIn[3], line 9\u001b[0m\n\u001b[1;32m      6\u001b[0m space \u001b[38;5;241m=\u001b[39m odl\u001b[38;5;241m.\u001b[39muniform_discr(min_pt\u001b[38;5;241m=\u001b[39m[\u001b[38;5;241m-\u001b[39m\u001b[38;5;241m20\u001b[39m, \u001b[38;5;241m-\u001b[39m\u001b[38;5;241m20\u001b[39m], max_pt\u001b[38;5;241m=\u001b[39m[\u001b[38;5;241m20\u001b[39m, \u001b[38;5;241m20\u001b[39m], shape\u001b[38;5;241m=\u001b[39m[\u001b[38;5;241m256\u001b[39m, \u001b[38;5;241m256\u001b[39m], dtype\u001b[38;5;241m=\u001b[39m\u001b[38;5;124m'\u001b[39m\u001b[38;5;124mfloat32\u001b[39m\u001b[38;5;124m'\u001b[39m)\n\u001b[1;32m      8\u001b[0m \u001b[38;5;66;03m# Create a Shepp-Logan phantom in the space\u001b[39;00m\n\u001b[0;32m----> 9\u001b[0m phantom \u001b[38;5;241m=\u001b[39m \u001b[43modl\u001b[49m\u001b[38;5;241;43m.\u001b[39;49m\u001b[43mphantom\u001b[49m\u001b[38;5;241;43m.\u001b[39;49m\u001b[43mshepp_logan\u001b[49m\u001b[43m(\u001b[49m\u001b[43mspace\u001b[49m\u001b[43m,\u001b[49m\u001b[43m \u001b[49m\u001b[43mmodified\u001b[49m\u001b[38;5;241;43m=\u001b[39;49m\u001b[38;5;28;43;01mTrue\u001b[39;49;00m\u001b[43m)\u001b[49m\n\u001b[1;32m     11\u001b[0m \u001b[38;5;66;03m# Add Gaussian noise to the phantom\u001b[39;00m\n\u001b[1;32m     12\u001b[0m noisy_phantom \u001b[38;5;241m=\u001b[39m phantom \u001b[38;5;241m+\u001b[39m odl\u001b[38;5;241m.\u001b[39mphantom\u001b[38;5;241m.\u001b[39mwhite_noise(space) \u001b[38;5;241m*\u001b[39m \u001b[38;5;241m0.1\u001b[39m\n",
      "File \u001b[0;32m/mnt/h/GIT/DISSERTATION/LearningRegularizationParameterMaps/venv_2/lib/python3.10/site-packages/odl/phantom/transmission.py:141\u001b[0m, in \u001b[0;36mshepp_logan\u001b[0;34m(space, modified)\u001b[0m\n\u001b[1;32m    118\u001b[0m \u001b[38;5;250m\u001b[39m\u001b[38;5;124;03m\"\"\"Standard `Shepp-Logan phantom`_ in 2 or 3 dimensions.\u001b[39;00m\n\u001b[1;32m    119\u001b[0m \n\u001b[1;32m    120\u001b[0m \u001b[38;5;124;03mParameters\u001b[39;00m\n\u001b[0;32m   (...)\u001b[0m\n\u001b[1;32m    137\u001b[0m \u001b[38;5;124;03m.. _Shepp-Logan phantom: en.wikipedia.org/wiki/Shepp–Logan_phantom\u001b[39;00m\n\u001b[1;32m    138\u001b[0m \u001b[38;5;124;03m\"\"\"\u001b[39;00m\n\u001b[1;32m    139\u001b[0m ellipses \u001b[38;5;241m=\u001b[39m shepp_logan_ellipses(space\u001b[38;5;241m.\u001b[39mndim, modified)\n\u001b[0;32m--> 141\u001b[0m \u001b[38;5;28;01mreturn\u001b[39;00m \u001b[43mellipse_phantom\u001b[49m\u001b[43m(\u001b[49m\u001b[43mspace\u001b[49m\u001b[43m,\u001b[49m\u001b[43m \u001b[49m\u001b[43mellipses\u001b[49m\u001b[43m)\u001b[49m\n",
      "File \u001b[0;32m/mnt/h/GIT/DISSERTATION/LearningRegularizationParameterMaps/venv_2/lib/python3.10/site-packages/odl/phantom/geometric.py:488\u001b[0m, in \u001b[0;36mellipse_phantom\u001b[0;34m(space, ellipses)\u001b[0m\n\u001b[1;32m    426\u001b[0m \u001b[38;5;250m\u001b[39m\u001b[38;5;124;03m\"\"\"Return a phantom given by ellipses.\u001b[39;00m\n\u001b[1;32m    427\u001b[0m \n\u001b[1;32m    428\u001b[0m \u001b[38;5;124;03mParameters\u001b[39;00m\n\u001b[0;32m   (...)\u001b[0m\n\u001b[1;32m    484\u001b[0m \u001b[38;5;124;03m    Shepp-Logan phantom\u001b[39;00m\n\u001b[1;32m    485\u001b[0m \u001b[38;5;124;03m\"\"\"\u001b[39;00m\n\u001b[1;32m    487\u001b[0m \u001b[38;5;28;01mif\u001b[39;00m space\u001b[38;5;241m.\u001b[39mndim \u001b[38;5;241m==\u001b[39m \u001b[38;5;241m2\u001b[39m:\n\u001b[0;32m--> 488\u001b[0m     \u001b[38;5;28;01mreturn\u001b[39;00m \u001b[43m_ellipse_phantom_2d\u001b[49m\u001b[43m(\u001b[49m\u001b[43mspace\u001b[49m\u001b[43m,\u001b[49m\u001b[43m \u001b[49m\u001b[43mellipses\u001b[49m\u001b[43m)\u001b[49m\n\u001b[1;32m    489\u001b[0m \u001b[38;5;28;01melif\u001b[39;00m space\u001b[38;5;241m.\u001b[39mndim \u001b[38;5;241m==\u001b[39m \u001b[38;5;241m3\u001b[39m:\n\u001b[1;32m    490\u001b[0m     \u001b[38;5;28;01mreturn\u001b[39;00m _ellipse_phantom_3d(space, ellipses)\n",
      "File \u001b[0;32m/mnt/h/GIT/DISSERTATION/LearningRegularizationParameterMaps/venv_2/lib/python3.10/site-packages/odl/phantom/geometric.py:224\u001b[0m, in \u001b[0;36m_ellipse_phantom_2d\u001b[0;34m(space, ellipses)\u001b[0m\n\u001b[1;32m    221\u001b[0m p \u001b[38;5;241m=\u001b[39m np\u001b[38;5;241m.\u001b[39mzeros(space\u001b[38;5;241m.\u001b[39mshape, dtype\u001b[38;5;241m=\u001b[39mspace\u001b[38;5;241m.\u001b[39mdtype)\n\u001b[1;32m    223\u001b[0m \u001b[38;5;66;03m# Create the pixel grid\u001b[39;00m\n\u001b[0;32m--> 224\u001b[0m grid_in \u001b[38;5;241m=\u001b[39m \u001b[43mspace\u001b[49m\u001b[38;5;241;43m.\u001b[39;49m\u001b[43mgrid\u001b[49m\u001b[38;5;241;43m.\u001b[39;49m\u001b[43mmeshgrid\u001b[49m\n\u001b[1;32m    225\u001b[0m minp \u001b[38;5;241m=\u001b[39m space\u001b[38;5;241m.\u001b[39mgrid\u001b[38;5;241m.\u001b[39mmin()\n\u001b[1;32m    226\u001b[0m maxp \u001b[38;5;241m=\u001b[39m space\u001b[38;5;241m.\u001b[39mgrid\u001b[38;5;241m.\u001b[39mmax()\n",
      "File \u001b[0;32m/mnt/h/GIT/DISSERTATION/LearningRegularizationParameterMaps/venv_2/lib/python3.10/site-packages/odl/discr/grid.py:714\u001b[0m, in \u001b[0;36mTensorGrid.meshgrid\u001b[0;34m(self)\u001b[0m\n\u001b[1;32m    683\u001b[0m \u001b[38;5;129m@property\u001b[39m\n\u001b[1;32m    684\u001b[0m \u001b[38;5;28;01mdef\u001b[39;00m \u001b[38;5;21mmeshgrid\u001b[39m(\u001b[38;5;28mself\u001b[39m):\n\u001b[1;32m    685\u001b[0m \u001b[38;5;250m    \u001b[39m\u001b[38;5;124;03m\"\"\"A grid suitable for function evaluation.\u001b[39;00m\n\u001b[1;32m    686\u001b[0m \n\u001b[1;32m    687\u001b[0m \u001b[38;5;124;03m    Returns\u001b[39;00m\n\u001b[0;32m   (...)\u001b[0m\n\u001b[1;32m    712\u001b[0m \u001b[38;5;124;03m           [ 0.,  1., -3.]])\u001b[39;00m\n\u001b[1;32m    713\u001b[0m \u001b[38;5;124;03m    \"\"\"\u001b[39;00m\n\u001b[0;32m--> 714\u001b[0m     \u001b[38;5;28;01mreturn\u001b[39;00m \u001b[43msparse_meshgrid\u001b[49m\u001b[43m(\u001b[49m\u001b[38;5;241;43m*\u001b[39;49m\u001b[38;5;28;43mself\u001b[39;49m\u001b[38;5;241;43m.\u001b[39;49m\u001b[43mcoord_vectors\u001b[49m\u001b[43m)\u001b[49m\n",
      "File \u001b[0;32m/mnt/h/GIT/DISSERTATION/LearningRegularizationParameterMaps/venv_2/lib/python3.10/site-packages/odl/discr/grid.py:71\u001b[0m, in \u001b[0;36msparse_meshgrid\u001b[0;34m(*x)\u001b[0m\n\u001b[1;32m     69\u001b[0m     slc \u001b[38;5;241m=\u001b[39m [\u001b[38;5;28;01mNone\u001b[39;00m] \u001b[38;5;241m*\u001b[39m n\n\u001b[1;32m     70\u001b[0m     slc[ax] \u001b[38;5;241m=\u001b[39m \u001b[38;5;28mslice\u001b[39m(\u001b[38;5;28;01mNone\u001b[39;00m)\n\u001b[0;32m---> 71\u001b[0m     mesh\u001b[38;5;241m.\u001b[39mappend(np\u001b[38;5;241m.\u001b[39mascontiguousarray(\u001b[43mxi\u001b[49m\u001b[43m[\u001b[49m\u001b[43mslc\u001b[49m\u001b[43m]\u001b[49m))\n\u001b[1;32m     73\u001b[0m \u001b[38;5;28;01mreturn\u001b[39;00m \u001b[38;5;28mtuple\u001b[39m(mesh)\n",
      "\u001b[0;31mIndexError\u001b[0m: only integers, slices (`:`), ellipsis (`...`), numpy.newaxis (`None`) and integer or boolean arrays are valid indices"
     ]
    }
   ],
   "source": [
    "import odl\n",
    "import numpy as np\n",
    "import matplotlib.pyplot as plt\n",
    "\n",
    "# Create a 2D space\n",
    "space = odl.uniform_discr(min_pt=[-20, -20], max_pt=[20, 20], shape=[256, 256], dtype='float32')\n",
    "\n",
    "# Create a Shepp-Logan phantom in the space\n",
    "phantom = odl.phantom.shepp_logan(space, modified=True)\n",
    "\n",
    "# Add Gaussian noise to the phantom\n",
    "noisy_phantom = phantom + odl.phantom.white_noise(space) * 0.1\n",
    "\n",
    "# Display the original and noisy images\n",
    "plt.figure()\n",
    "plt.subplot(1, 2, 1)\n",
    "plt.title('Original')\n",
    "plt.imshow(phantom.asarray(), cmap='gray')\n",
    "plt.subplot(1, 2, 2)\n",
    "plt.title('Noisy')\n",
    "plt.imshow(noisy_phantom.asarray(), cmap='gray')\n",
    "plt.show()\n",
    "\n",
    "# Define the operators and the TGV functional\n",
    "grad = odl.Gradient(space)\n",
    "op = odl.BroadcastOperator(grad, odl.IdentityOperator(space))\n",
    "\n",
    "# Define the functional components\n",
    "l2_norm = odl.solvers.L2NormSquared(op.domain).translated(noisy_phantom)\n",
    "l1_norm = 0.01 * odl.solvers.GroupL1Norm(grad.range) + 0.1 * odl.solvers.L1Norm(space)\n",
    "\n",
    "# Perform the TGV minimization using the Douglas-Rachford solver\n",
    "x = space.zero()\n",
    "odl.solvers.douglas_rachford_pd(x, f=l2_norm, g=l1_norm, L=op, tau=0.1, sigma=0.1, niter=200)\n",
    "\n",
    "# Display the result\n",
    "plt.figure()\n",
    "plt.title('TGV Denoised')\n",
    "plt.imshow(x.asarray(), cmap='gray')\n",
    "plt.show()\n"
   ]
  }
 ],
 "metadata": {
  "kernelspec": {
   "display_name": "venv_2",
   "language": "python",
   "name": "python3"
  },
  "language_info": {
   "codemirror_mode": {
    "name": "ipython",
    "version": 3
   },
   "file_extension": ".py",
   "mimetype": "text/x-python",
   "name": "python",
   "nbconvert_exporter": "python",
   "pygments_lexer": "ipython3",
   "version": "3.10.12"
  }
 },
 "nbformat": 4,
 "nbformat_minor": 2
}
