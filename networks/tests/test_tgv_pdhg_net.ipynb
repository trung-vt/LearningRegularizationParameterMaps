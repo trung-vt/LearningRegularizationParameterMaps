{
 "cells": [
  {
   "cell_type": "code",
   "execution_count": 52,
   "metadata": {},
   "outputs": [],
   "source": [
    "import torch\n",
    "import importlib\n",
    "import doctest"
   ]
  },
  {
   "cell_type": "code",
   "execution_count": 53,
   "metadata": {},
   "outputs": [
    {
     "name": "stdout",
     "output_type": "stream",
     "text": [
      "u.shape: torch.Size([4, 4])\n",
      "**********************************************************************\n",
      "File \"/mnt/h/GIT/DISSERTATION/LearningRegularizationParameterMaps/networks/gradops/gradops_2.py\", line 74, in networks.gradops.gradops_2.dx_backward\n",
      "Failed example:\n",
      "    dx_backward(u)\n",
      "Expected:\n",
      "    tensor([[ 1.,  2.,  3.],\n",
      "            [ 3.,  3.,  3.],\n",
      "            [-4., -5., -6.]])\n",
      "Got:\n",
      "    u.shape: torch.Size([3, 3])\n",
      "    tensor([[ 1.,  2.,  3.],\n",
      "            [ 3.,  3.,  3.],\n",
      "            [-4., -5., -6.]])\n",
      "**********************************************************************\n",
      "File \"/mnt/h/GIT/DISSERTATION/LearningRegularizationParameterMaps/networks/gradops/gradops_2.py\", line 82, in networks.gradops.gradops_2.dx_backward\n",
      "Failed example:\n",
      "    dx_backward(u)\n",
      "Expected:\n",
      "    tensor([[[ 1.,  2.,  3.],\n",
      "             [ 3.,  3.,  3.],\n",
      "             [-4., -5., -6.]]])\n",
      "Got:\n",
      "    u.shape: torch.Size([1, 3, 3])\n",
      "    tensor([[[ 1.,  2.,  3.],\n",
      "             [ 3.,  3.,  3.],\n",
      "             [-4., -5., -6.]]])\n",
      "**********************************************************************\n",
      "File \"/mnt/h/GIT/DISSERTATION/LearningRegularizationParameterMaps/networks/gradops/gradops_2.py\", line 90, in networks.gradops.gradops_2.dx_backward\n",
      "Failed example:\n",
      "    dx_backward(u)\n",
      "Expected:\n",
      "    tensor([[[[ 1.,  2.,  3.],\n",
      "              [ 3.,  3.,  3.],\n",
      "              [-4., -5., -6.]]]])\n",
      "Got:\n",
      "    u.shape: torch.Size([1, 1, 3, 3])\n",
      "    tensor([[[[ 1.,  2.,  3.],\n",
      "              [ 3.,  3.,  3.],\n",
      "              [-4., -5., -6.]]]])\n",
      "**********************************************************************\n",
      "File \"/mnt/h/GIT/DISSERTATION/LearningRegularizationParameterMaps/networks/gradops/gradops_2.py\", line 148, in networks.gradops.gradops_2.test_adjoint_property\n",
      "Failed example:\n",
      "    adjoint_x, adjoint_y = test_adjoint_property()\n",
      "Expected nothing\n",
      "Got:\n",
      "    u.shape: torch.Size([4, 4])\n",
      "**********************************************************************\n",
      "2 items had failures:\n",
      "   3 of   9 in networks.gradops.gradops_2.dx_backward\n",
      "   1 of   3 in networks.gradops.gradops_2.test_adjoint_property\n",
      "***Test Failed*** 4 failures.\n",
      "TestResults(failed=4, attempted=30)\n"
     ]
    }
   ],
   "source": [
    "from networks.gradops import gradops_2\n",
    "importlib.reload(gradops_2)\n",
    "gradops_2_doctest_result = doctest.testmod(gradops_2)\n",
    "print(gradops_2_doctest_result)"
   ]
  },
  {
   "cell_type": "code",
   "execution_count": 54,
   "metadata": {},
   "outputs": [],
   "source": [
    "from networks import tgv_pdhg_net\n",
    "importlib.reload(tgv_pdhg_net)\n",
    "from networks.tgv_pdhg_net import TgvPdhgNet"
   ]
  },
  {
   "cell_type": "code",
   "execution_count": 55,
   "metadata": {},
   "outputs": [
    {
     "name": "stdout",
     "output_type": "stream",
     "text": [
      "convergence_limit: 0.08793310821056366\n"
     ]
    }
   ],
   "source": [
    "net = TgvPdhgNet(\n",
    "    cnn=None,\n",
    "    device=\"cuda\" if torch.cuda.is_available() else \"cpu\",\n",
    "    constraint_activation=\"softplus\",\n",
    "    upper_bound=1.0,\n",
    ")"
   ]
  },
  {
   "cell_type": "code",
   "execution_count": 56,
   "metadata": {},
   "outputs": [],
   "source": [
    "def test_scalar():\n",
    "    alpha0 = 0.1\n",
    "    alpha1 = 0.1\n",
    "    params = (alpha0, alpha1)\n",
    "    u = torch.randn(1, 1, 512, 512)\n",
    "    T = 128\n",
    "    u_T = net(u=u, regularisation_params=params, T=T)\n",
    "    print(f\"u_T.shape = {u_T.shape}\")"
   ]
  },
  {
   "cell_type": "code",
   "execution_count": 57,
   "metadata": {},
   "outputs": [
    {
     "name": "stdout",
     "output_type": "stream",
     "text": [
      "u_T.shape = torch.Size([1, 1, 512, 512])\n"
     ]
    }
   ],
   "source": [
    "test_scalar()"
   ]
  }
 ],
 "metadata": {
  "kernelspec": {
   "display_name": "venv_2",
   "language": "python",
   "name": "python3"
  },
  "language_info": {
   "codemirror_mode": {
    "name": "ipython",
    "version": 3
   },
   "file_extension": ".py",
   "mimetype": "text/x-python",
   "name": "python",
   "nbconvert_exporter": "python",
   "pygments_lexer": "ipython3",
   "version": "3.10.12"
  }
 },
 "nbformat": 4,
 "nbformat_minor": 2
}
