{
 "cells": [
  {
   "cell_type": "code",
   "execution_count": 1,
   "metadata": {},
   "outputs": [],
   "source": [
    "import torch\n",
    "import importlib\n",
    "import doctest"
   ]
  },
  {
   "cell_type": "code",
   "execution_count": 2,
   "metadata": {},
   "outputs": [
    {
     "name": "stdout",
     "output_type": "stream",
     "text": [
      "TestResults(failed=0, attempted=39)\n"
     ]
    }
   ],
   "source": [
    "from networks.gradops import gradops_2\n",
    "importlib.reload(gradops_2)\n",
    "gradops_2_doctest_result = doctest.testmod(gradops_2)\n",
    "print(gradops_2_doctest_result)"
   ]
  },
  {
   "cell_type": "code",
   "execution_count": 3,
   "metadata": {},
   "outputs": [
    {
     "name": "stdout",
     "output_type": "stream",
     "text": [
      "TestResults(failed=0, attempted=14)\n"
     ]
    }
   ],
   "source": [
    "import networks\n",
    "importlib.reload(networks)\n",
    "\n",
    "from networks import tgv_pdhg\n",
    "importlib.reload(tgv_pdhg)\n",
    "\n",
    "from networks import tgv_pdhg_net\n",
    "importlib.reload(tgv_pdhg_net)\n",
    "tgv_pdhg_net_doctest_result = doctest.testmod(tgv_pdhg_net)\n",
    "print(tgv_pdhg_net_doctest_result)\n",
    "\n",
    "from networks.tgv_pdhg_net import TgvPdhgNet"
   ]
  },
  {
   "cell_type": "code",
   "execution_count": 4,
   "metadata": {},
   "outputs": [],
   "source": [
    "net = TgvPdhgNet(\n",
    "    cnn=None,\n",
    "    device=\"cuda\" if torch.cuda.is_available() else \"cpu\",\n",
    "    constraint_activation=\"softplus\",\n",
    "    scale_factor=0.1,\n",
    ")"
   ]
  },
  {
   "cell_type": "code",
   "execution_count": 5,
   "metadata": {},
   "outputs": [
    {
     "name": "stdout",
     "output_type": "stream",
     "text": [
      "u_T.shape = torch.Size([1, 1, 512, 512])\n"
     ]
    }
   ],
   "source": [
    "def test_scalar():\n",
    "    alpha0 = 0.1\n",
    "    alpha1 = 0.1\n",
    "    params = (alpha0, alpha1)\n",
    "    u = torch.randn(1, 1, 512, 512)\n",
    "    T = 128\n",
    "    u_T = net(u=u, regularisation_params=params, T=T)\n",
    "    print(f\"u_T.shape = {u_T.shape}\")\n",
    "    assert u_T.shape == u.shape\n",
    "    \n",
    "test_scalar()"
   ]
  },
  {
   "cell_type": "code",
   "execution_count": 6,
   "metadata": {},
   "outputs": [
    {
     "name": "stdout",
     "output_type": "stream",
     "text": [
      "u_T.shape = torch.Size([1, 1, 512, 512])\n"
     ]
    }
   ],
   "source": [
    "def test_reg_maps():\n",
    "    alpha0 = torch.randn(1, 1, 512, 512)\n",
    "    alpha1 = torch.randn(1, 1, 512, 512)\n",
    "    params = (alpha0, alpha1)\n",
    "    u = torch.randn(1, 1, 512, 512)\n",
    "    T = 128\n",
    "    u_T = net(u=u, regularisation_params=params, T=T)\n",
    "    print(f\"u_T.shape = {u_T.shape}\")\n",
    "    assert u_T.shape == u.shape\n",
    "    \n",
    "test_reg_maps()"
   ]
  },
  {
   "cell_type": "code",
   "execution_count": 7,
   "metadata": {},
   "outputs": [
    {
     "name": "stdout",
     "output_type": "stream",
     "text": [
      "TestResults(failed=0, attempted=5)\n"
     ]
    }
   ],
   "source": [
    "from networks import unet_2d\n",
    "importlib.reload(unet_2d)\n",
    "unet_2d_doctest_result = doctest.testmod(unet_2d)\n",
    "print(unet_2d_doctest_result)"
   ]
  },
  {
   "cell_type": "code",
   "execution_count": 8,
   "metadata": {},
   "outputs": [
    {
     "name": "stdout",
     "output_type": "stream",
     "text": [
      "torch.Size([1, 1, 16, 16])\n",
      "torch.Size([1, 2, 16, 16])\n"
     ]
    }
   ],
   "source": [
    "from networks.unet_2d import UNet2d\n",
    "def test_unet():\n",
    "    unet = UNet2d(init_filters=8, n_blocks=2)\n",
    "    x = torch.randn(1, 1, 16, 16) # 4D, normal use case when training\n",
    "    print(x.shape) # torch.Size([1, 1, 16, 16])\n",
    "    y = unet(x)\n",
    "    print(y.shape) # torch.Size([1, 2, 16, 16])\n",
    "    # x = torch.randn(1, 16, 16) # 3D, for demo and easy testing by hand\n",
    "    # print(x.shape) # torch.Size([6, 6])\n",
    "    # y = unet(x)\n",
    "    # print(y.shape) # torch.Size([6, 6])\n",
    "test_unet()"
   ]
  },
  {
   "cell_type": "code",
   "execution_count": 10,
   "metadata": {},
   "outputs": [
    {
     "name": "stdout",
     "output_type": "stream",
     "text": [
      "reg_maps.shape = torch.Size([2, 512, 512])\n",
      "u_T.shape = torch.Size([1, 1, 512, 512])\n",
      "u_T.shape = torch.Size([1, 1, 512, 512])\n"
     ]
    }
   ],
   "source": [
    "def test_combination():\n",
    "    unet = UNet2d(init_filters=8, n_blocks=2)\n",
    "    pdhg_net = TgvPdhgNet(\n",
    "        cnn=unet,\n",
    "        device=\"cuda\" if torch.cuda.is_available() else \"cpu\",\n",
    "        constraint_activation=\"softplus\",\n",
    "        scale_factor=0.1,\n",
    "    )\n",
    "    u = torch.randn(1, 1, 512, 512).to(pdhg_net.device)\n",
    "    reg_maps = pdhg_net.get_regularisation_param_maps(u)\n",
    "    print(f\"reg_maps.shape = {reg_maps.shape}\")\n",
    "    u_T = pdhg_net(u=u, regularisation_params=reg_maps, T=128)\n",
    "    print(f\"u_T.shape = {u_T.shape}\")\n",
    "    \n",
    "    u_T = pdhg_net(u, T=128)\n",
    "    print(f\"u_T.shape = {u_T.shape}\")\n",
    "    \n",
    "test_combination()"
   ]
  }
 ],
 "metadata": {
  "kernelspec": {
   "display_name": "venv_2",
   "language": "python",
   "name": "python3"
  },
  "language_info": {
   "codemirror_mode": {
    "name": "ipython",
    "version": 3
   },
   "file_extension": ".py",
   "mimetype": "text/x-python",
   "name": "python",
   "nbconvert_exporter": "python",
   "pygments_lexer": "ipython3",
   "version": "3.10.12"
  }
 },
 "nbformat": 4,
 "nbformat_minor": 2
}
