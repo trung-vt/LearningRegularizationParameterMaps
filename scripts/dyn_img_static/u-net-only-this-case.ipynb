{
 "cells": [
  {
   "cell_type": "code",
   "execution_count": 2,
   "metadata": {},
   "outputs": [
    {
     "name": "stdout",
     "output_type": "stream",
     "text": [
      "torch.Size([1, 2, 64, 64, 64])\n"
     ]
    }
   ],
   "source": [
    "import torch\n",
    "import torch.nn as nn\n",
    "\n",
    "class ConvBlock(nn.Module):\n",
    "    def __init__(self, in_channels, out_channels):\n",
    "        super(ConvBlock, self).__init__()\n",
    "        self.conv_block = nn.Sequential(\n",
    "            nn.Conv3d(in_channels, out_channels, kernel_size=3, stride=1, padding=1),\n",
    "            nn.LeakyReLU(negative_slope=0.01),\n",
    "            nn.Conv3d(out_channels, out_channels, kernel_size=3, stride=1, padding=1),\n",
    "            nn.LeakyReLU(negative_slope=0.01)\n",
    "        )\n",
    "\n",
    "    def forward(self, x):\n",
    "        return self.conv_block(x)\n",
    "\n",
    "class Encoder(nn.Module):\n",
    "    def __init__(self):\n",
    "        super(Encoder, self).__init__()\n",
    "        self.enc_blocks = nn.ModuleList([\n",
    "            ConvBlock(1, 16),\n",
    "            ConvBlock(16, 32),\n",
    "            ConvBlock(32, 64)\n",
    "        ])\n",
    "        self.pool = nn.MaxPool3d(kernel_size=1, stride=1, padding=0)\n",
    "\n",
    "    def forward(self, x):\n",
    "        enc_features = []\n",
    "        for block in self.enc_blocks:\n",
    "            x = block(x)\n",
    "            enc_features.append(x)\n",
    "            x = self.pool(x)\n",
    "        return enc_features\n",
    "\n",
    "class Decoder(nn.Module):\n",
    "    def __init__(self):\n",
    "        super(Decoder, self).__init__()\n",
    "        self.upconvs = nn.ModuleList([\n",
    "            nn.Conv3d(64, 32, kernel_size=3, stride=1, padding=1),\n",
    "            nn.Conv3d(32, 16, kernel_size=3, stride=1, padding=1)\n",
    "        ])\n",
    "        self.dec_blocks = nn.ModuleList([\n",
    "            ConvBlock(64, 32),\n",
    "            ConvBlock(32, 16)\n",
    "        ])\n",
    "\n",
    "    def forward(self, x, enc_features):\n",
    "        for i in range(len(self.upconvs)):\n",
    "            x = self.upconvs[i](x)\n",
    "            x = torch.cat((x, enc_features[i]), dim=1)  # concatenate along the channel axis\n",
    "            x = self.dec_blocks[i](x)\n",
    "        return x\n",
    "\n",
    "class UNet(nn.Module):\n",
    "    def __init__(self):\n",
    "        super(UNet, self).__init__()\n",
    "        self.encoder = Encoder()\n",
    "        self.decoder = Decoder()\n",
    "        self.c1x1 = nn.Conv3d(16, 2, kernel_size=1, stride=1, padding=0)\n",
    "\n",
    "    def forward(self, x):\n",
    "        enc_features = self.encoder(x)\n",
    "        x = self.decoder(enc_features[-1], enc_features[::-1][1:])\n",
    "        x = self.c1x1(x)\n",
    "        return x\n",
    "\n",
    "# Example usage\n",
    "model = UNet()\n",
    "input_tensor = torch.randn(1, 1, 64, 64, 64)  # batch size of 1, 1 channel, 64x64x64 volume\n",
    "output = model(input_tensor)\n",
    "print(output.shape)  # should be (1, 2, 64, 64, 64)\n"
   ]
  },
  {
   "cell_type": "code",
   "execution_count": null,
   "metadata": {},
   "outputs": [],
   "source": []
  }
 ],
 "metadata": {
  "kernelspec": {
   "display_name": "venv-2",
   "language": "python",
   "name": "python3"
  },
  "language_info": {
   "codemirror_mode": {
    "name": "ipython",
    "version": 3
   },
   "file_extension": ".py",
   "mimetype": "text/x-python",
   "name": "python",
   "nbconvert_exporter": "python",
   "pygments_lexer": "ipython3",
   "version": "3.10.12"
  }
 },
 "nbformat": 4,
 "nbformat_minor": 2
}
