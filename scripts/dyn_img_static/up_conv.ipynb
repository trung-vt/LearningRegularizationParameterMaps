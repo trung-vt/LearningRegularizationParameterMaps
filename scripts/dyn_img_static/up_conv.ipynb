{
 "cells": [
  {
   "cell_type": "code",
   "execution_count": 1,
   "metadata": {},
   "outputs": [
    {
     "name": "stdout",
     "output_type": "stream",
     "text": [
      "Input shape: torch.Size([1, 128, 64, 64])\n",
      "Output shape: torch.Size([1, 64, 128, 128])\n"
     ]
    }
   ],
   "source": [
    "import torch\n",
    "import torch.nn as nn\n",
    "\n",
    "# Create a sample input tensor with shape (batch_size, channels, height, width)\n",
    "input_tensor = torch.randn(1, 128, 64, 64)  # Example input\n",
    "\n",
    "# Define the ConvTranspose2d layer\n",
    "upconv_layer = nn.ConvTranspose2d(\n",
    "    in_channels=128,  # Number of input channels\n",
    "    out_channels=64,  # Number of output channels\n",
    "    kernel_size=3,  # Size of the convolution kernel\n",
    "    stride=2,  # Stride of the convolution\n",
    "    padding=1,  # Padding type\n",
    "    output_padding=1  # Additional size added to one side of the output shape\n",
    ")\n",
    "\n",
    "# Apply the upconvolution\n",
    "output_tensor = upconv_layer(input_tensor)\n",
    "\n",
    "print(f\"Input shape: {input_tensor.shape}\")\n",
    "print(f\"Output shape: {output_tensor.shape}\")\n"
   ]
  },
  {
   "cell_type": "code",
   "execution_count": null,
   "metadata": {},
   "outputs": [],
   "source": []
  }
 ],
 "metadata": {
  "kernelspec": {
   "display_name": "venv-2",
   "language": "python",
   "name": "python3"
  },
  "language_info": {
   "codemirror_mode": {
    "name": "ipython",
    "version": 3
   },
   "file_extension": ".py",
   "mimetype": "text/x-python",
   "name": "python",
   "nbconvert_exporter": "python",
   "pygments_lexer": "ipython3",
   "version": "3.10.12"
  }
 },
 "nbformat": 4,
 "nbformat_minor": 2
}
