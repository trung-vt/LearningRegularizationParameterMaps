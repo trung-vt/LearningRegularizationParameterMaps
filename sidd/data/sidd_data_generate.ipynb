{
 "cells": [
  {
   "cell_type": "code",
   "execution_count": 4,
   "metadata": {},
   "outputs": [
    {
     "name": "stderr",
     "output_type": "stream",
     "text": [
      "100%|██████████| 320/320 [06:14<00:00,  1.17s/it]\n"
     ]
    }
   ],
   "source": [
    "from data import get_and_save_patches\n",
    "\n",
    "def generate_patches():\n",
    "    base_path=\"../data/sidd\"\n",
    "    dataset_type=\"medium\"\n",
    "    output_folder=\"patches\"\n",
    "    input_path=f\"{base_path}/{dataset_type}/Data\"\n",
    "    output_path=f\"{base_path}/{output_folder}\"\n",
    "\n",
    "    # Took about 5 minutes to generate from 320 images, 32 patches of size 256x256 from each image\n",
    "    get_and_save_patches(input_path, output_path, type=\"GT\", n_patches=32, patch_size=(256, 256), rand_seed=97)\n",
    "\n",
    "generate_patches()"
   ]
  }
 ],
 "metadata": {
  "kernelspec": {
   "display_name": "venv",
   "language": "python",
   "name": "python3"
  },
  "language_info": {
   "codemirror_mode": {
    "name": "ipython",
    "version": 3
   },
   "file_extension": ".py",
   "mimetype": "text/x-python",
   "name": "python",
   "nbconvert_exporter": "python",
   "pygments_lexer": "ipython3",
   "version": "3.10.12"
  }
 },
 "nbformat": 4,
 "nbformat_minor": 2
}
