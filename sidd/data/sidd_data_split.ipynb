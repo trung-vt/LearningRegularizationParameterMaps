{
 "cells": [
  {
   "cell_type": "code",
   "execution_count": 1,
   "metadata": {},
   "outputs": [
    {
     "name": "stdout",
     "output_type": "stream",
     "text": [
      "Data path: images/patches\n",
      "Number of patches folders: 10240\n",
      "Number of training folders: 9000\n",
      "training path: images/training\n"
     ]
    },
    {
     "name": "stderr",
     "output_type": "stream",
     "text": [
      "100%|██████████| 9000/9000 [02:59<00:00, 50.08it/s]\n"
     ]
    },
    {
     "name": "stdout",
     "output_type": "stream",
     "text": [
      "Number of validation folders: 620\n",
      "validation path: images/validation\n"
     ]
    },
    {
     "name": "stderr",
     "output_type": "stream",
     "text": [
      "100%|██████████| 620/620 [00:12<00:00, 49.50it/s]\n"
     ]
    },
    {
     "name": "stdout",
     "output_type": "stream",
     "text": [
      "Number of test folders: 620\n",
      "test path: images/test\n"
     ]
    },
    {
     "name": "stderr",
     "output_type": "stream",
     "text": [
      "100%|██████████| 620/620 [00:12<00:00, 49.16it/s]\n"
     ]
    }
   ],
   "source": [
    "# https://stackoverflow.com/questions/13610074/is-there-a-rule-of-thumb-for-how-to-divide-a-dataset-into-training-and-validatio\n",
    "\n",
    "# I have 10240 patches. I will split into 8000 - 1120 - 1120 for training, validation, and test sets respectively.\n",
    "\n",
    "import os\n",
    "import random\n",
    "from tqdm import tqdm\n",
    "\n",
    "def split_data(train_size, val_size, test_size):\n",
    "    data_path = \"images/patches\"\n",
    "    print(f\"Data path: {data_path}\")\n",
    "    patches_folders = os.listdir(data_path)\n",
    "\n",
    "    # Split them randomly into 9000 - 620 - 620 for training, validation, and test sets respectively.\n",
    "\n",
    "    # Shuffle the patches_folders\n",
    "    random.seed(42) # For reproducibility\n",
    "    random.shuffle(patches_folders)    \n",
    "    \n",
    "    print(f\"Number of patches folders: {len(patches_folders)}\")\n",
    "    assert len(patches_folders) == train_size + val_size + test_size\n",
    "\n",
    "    training_folders = patches_folders[ : train_size]\n",
    "    validation_folders = patches_folders[train_size : train_size + val_size]\n",
    "    test_folders = patches_folders[train_size + val_size : ]\n",
    "\n",
    "    out_folder = \"images\"\n",
    "    def extract_and_save(type: str, folders: list):\n",
    "        print(f\"Number of {type} folders: {len(folders)}\")\n",
    "        out_path = os.path.join(out_folder, type)\n",
    "        os.makedirs(out_path, exist_ok=True)\n",
    "        print(f\"{type} path: {out_path}\")\n",
    "        for folder in tqdm(folders):\n",
    "            os.system(f\"cp -r {os.path.join(data_path, folder)} {out_path}\")\n",
    "\n",
    "    extract_and_save(\"train\", training_folders)\n",
    "    extract_and_save(\"val\", validation_folders)\n",
    "    extract_and_save(\"test\", test_folders)\n",
    "\n",
    "split_data(train_size=9000, val_size=620, test_size=620)"
   ]
  }
 ],
 "metadata": {
  "kernelspec": {
   "display_name": "venv",
   "language": "python",
   "name": "python3"
  },
  "language_info": {
   "codemirror_mode": {
    "name": "ipython",
    "version": 3
   },
   "file_extension": ".py",
   "mimetype": "text/x-python",
   "name": "python",
   "nbconvert_exporter": "python",
   "pygments_lexer": "ipython3",
   "version": "3.10.12"
  }
 },
 "nbformat": 4,
 "nbformat_minor": 2
}
