{
 "cells": [
  {
   "cell_type": "code",
   "execution_count": 4,
   "metadata": {},
   "outputs": [
    {
     "name": "stdout",
     "output_type": "stream",
     "text": [
      "sigma_np = 0.44113463163375854\n",
      "img_noisy = \n",
      "[[1 2 3]\n",
      " [4 3 5]\n",
      " [9 7 9]]\n",
      ".UNet output shape: torch.Size([1, 2, 512, 512, 1])\n",
      "Conv3d output shape: torch.Size([1, 64, 512, 512, 1])\n",
      "DoubleConv output shape: torch.Size([1, 128, 512, 512, 1])\n",
      "MaxPool3d output 1 shape: torch.Size([1, 1, 256, 256, 1])\n",
      "MaxPool3d output 2 shape: torch.Size([1, 128, 256, 256, 1])\n",
      "ConvTranspose3d output shape: torch.Size([1, 512, 64, 64, 1])\n",
      "Upsample output shape: torch.Size([1, 1, 1024, 1024, 1])\n",
      ".\n",
      "----------------------------------------------------------------------\n",
      "Ran 2 tests in 1.265s\n",
      "\n",
      "OK\n"
     ]
    }
   ],
   "source": [
    "!python -m unittest"
   ]
  },
  {
   "cell_type": "code",
   "execution_count": 1,
   "metadata": {},
   "outputs": [
    {
     "name": "stderr",
     "output_type": "stream",
     "text": [
      "\n",
      "----------------------------------------------------------------------\n",
      "Ran 0 tests in 0.000s\n",
      "\n",
      "OK\n"
     ]
    },
    {
     "data": {
      "text/plain": [
       "<unittest.main.TestProgram at 0x7fb4f0207130>"
      ]
     },
     "execution_count": 1,
     "metadata": {},
     "output_type": "execute_result"
    }
   ],
   "source": [
    "import unittest\n",
    "unittest.main(argv=[''], exit=False)\n",
    "# unittest.main()"
   ]
  }
 ],
 "metadata": {
  "kernelspec": {
   "display_name": "venv_2",
   "language": "python",
   "name": "python3"
  },
  "language_info": {
   "codemirror_mode": {
    "name": "ipython",
    "version": 3
   },
   "file_extension": ".py",
   "mimetype": "text/x-python",
   "name": "python",
   "nbconvert_exporter": "python",
   "pygments_lexer": "ipython3",
   "version": "3.10.12"
  }
 },
 "nbformat": 4,
 "nbformat_minor": 2
}
