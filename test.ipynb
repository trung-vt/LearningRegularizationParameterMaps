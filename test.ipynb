{
 "cells": [
  {
   "cell_type": "code",
   "execution_count": 3,
   "metadata": {},
   "outputs": [
    {
     "name": "stdout",
     "output_type": "stream",
     "text": [
      "Before adding noise: img = \n",
      "tensor([[[[0.0039],\n",
      "          [0.0078],\n",
      "          [0.0118]],\n",
      "\n",
      "         [[0.0157],\n",
      "          [0.0196],\n",
      "          [0.0235]],\n",
      "\n",
      "         [[0.0275],\n",
      "          [0.0314],\n",
      "          [0.0353]]]])\n",
      "\n",
      "sigma_np = 0.44113463163375854\n",
      "\n",
      "After adding noise: img_noisy = \n",
      "tensor([[[[0.1524],\n",
      "          [0.0647],\n",
      "          [0.1152]],\n",
      "\n",
      "         [[0.1173],\n",
      "          [0.0000],\n",
      "          [0.0000]],\n",
      "\n",
      "         [[1.0000],\n",
      "          [0.0000],\n",
      "          [0.2389]]]])\n",
      "\n",
      "img_noisy = \n",
      "[[ 38  16  29]\n",
      " [ 29   0   0]\n",
      " [255   0  60]]\n",
      "\n",
      ".Before adding noise: img = \n",
      "tensor([[[[0.],\n",
      "          [0.],\n",
      "          [0.]],\n",
      "\n",
      "         [[0.],\n",
      "          [0.],\n",
      "          [0.]],\n",
      "\n",
      "         [[0.],\n",
      "          [0.],\n",
      "          [0.]]]])\n",
      "\n",
      "sigma_np = 0.44113463163375854\n",
      "\n",
      "After adding noise: img_noisy = \n",
      "tensor([[[[0.1485],\n",
      "          [0.0568],\n",
      "          [0.1034]],\n",
      "\n",
      "         [[0.1016],\n",
      "          [0.0000],\n",
      "          [0.0000]],\n",
      "\n",
      "         [[0.9741],\n",
      "          [0.0000],\n",
      "          [0.2037]]]])\n",
      "\n",
      "img_noisy = \n",
      "[[ 37  14  26]\n",
      " [ 25   0   0]\n",
      " [248   0  51]]\n",
      "\n",
      ".UNet output shape: torch.Size([1, 2, 512, 512, 1])\n",
      "Conv3d output shape: torch.Size([1, 64, 512, 512, 1])\n",
      "DoubleConv output shape: torch.Size([1, 128, 512, 512, 1])\n",
      "MaxPool3d output 1 shape: torch.Size([1, 1, 256, 256, 1])\n",
      "MaxPool3d output 2 shape: torch.Size([1, 128, 256, 256, 1])\n",
      "ConvTranspose3d output shape: torch.Size([1, 512, 64, 64, 1])\n",
      "Upsample output shape: torch.Size([1, 1, 1024, 1024, 1])\n",
      ".\n",
      "----------------------------------------------------------------------\n",
      "Ran 3 tests in 1.300s\n",
      "\n",
      "OK\n"
     ]
    }
   ],
   "source": [
    "!python -m unittest"
   ]
  },
  {
   "cell_type": "code",
   "execution_count": 1,
   "metadata": {},
   "outputs": [
    {
     "name": "stderr",
     "output_type": "stream",
     "text": [
      "\n",
      "----------------------------------------------------------------------\n",
      "Ran 0 tests in 0.000s\n",
      "\n",
      "OK\n"
     ]
    },
    {
     "data": {
      "text/plain": [
       "<unittest.main.TestProgram at 0x7fb4f0207130>"
      ]
     },
     "execution_count": 1,
     "metadata": {},
     "output_type": "execute_result"
    }
   ],
   "source": [
    "import unittest\n",
    "unittest.main(argv=[''], exit=False)\n",
    "# unittest.main()"
   ]
  }
 ],
 "metadata": {
  "kernelspec": {
   "display_name": "venv_2",
   "language": "python",
   "name": "python3"
  },
  "language_info": {
   "codemirror_mode": {
    "name": "ipython",
    "version": 3
   },
   "file_extension": ".py",
   "mimetype": "text/x-python",
   "name": "python",
   "nbconvert_exporter": "python",
   "pygments_lexer": "ipython3",
   "version": "3.10.12"
  }
 },
 "nbformat": 4,
 "nbformat_minor": 2
}
