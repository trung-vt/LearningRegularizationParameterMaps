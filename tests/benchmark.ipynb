{
 "cells": [
  {
   "cell_type": "code",
   "execution_count": null,
   "metadata": {},
   "outputs": [],
   "source": [
    "# # Create a large tensor\n",
    "# tensor = torch.rand(10000, 10000)\n",
    "\n",
    "# # Move the tensor to GPU if available\n",
    "# device = torch.device(\"cuda\" if torch.cuda.is_available() else \"cpu\")\n",
    "# tensor = tensor.to(device)\n",
    "\n",
    "# # Benchmark **2 operation\n",
    "# start_time = time()\n",
    "# squared_tensor = tensor ** 2\n",
    "# end_time = time()\n",
    "# print(\"Time for **2:\", end_time - start_time)\n",
    "\n",
    "# # Benchmark **0.5 operation\n",
    "# start_time = time()\n",
    "# sqrt_tensor = tensor ** 0.5\n",
    "# end_time = time()\n",
    "# print(\"Time for **0.5:\", end_time - start_time)"
   ]
  },
  {
   "cell_type": "code",
   "execution_count": null,
   "metadata": {},
   "outputs": [],
   "source": [
    "# # Create a large tensor\n",
    "# tensor = torch.rand(10000, 10000)\n",
    "\n",
    "# # Move the tensor to GPU if available\n",
    "# device = torch.device(\"cuda\" if torch.cuda.is_available() else \"cpu\")\n",
    "# tensor = tensor.to(device)\n",
    "\n",
    "# # Benchmark **2 operation\n",
    "# start_time = time()\n",
    "# squared_tensor = torch.square(tensor)\n",
    "# end_time = time()\n",
    "# print(\"Time for **2:\", end_time - start_time)\n",
    "\n",
    "# # Benchmark **0.5 operation\n",
    "# start_time = time()\n",
    "# sqrt_tensor = torch.sqrt(tensor)\n",
    "# end_time = time()\n",
    "# print(\"Time for **0.5:\", end_time - start_time)"
   ]
  },
  {
   "cell_type": "code",
   "execution_count": null,
   "metadata": {},
   "outputs": [],
   "source": [
    "# import torch\n",
    "# import time\n",
    "\n",
    "# # Move the tensor to GPU if available\n",
    "# device = torch.device(\"cuda\" if torch.cuda.is_available() else \"cpu\")\n",
    "\n",
    "# # Warm up\n",
    "# torch.manual_seed(0)\n",
    "# tensor = torch.rand(40000, 40000).to(device)\n",
    "# start_time = time.time()\n",
    "# squared_tensor_func = torch.square(tensor)\n",
    "# end_time = time.time()\n",
    "# print(\"Time for Warm up:\", end_time - start_time)\n",
    "\n",
    "\n",
    "# # Benchmark torch.square operation\n",
    "# torch.manual_seed(0)\n",
    "# tensor = torch.rand(40000, 40000).to(device)\n",
    "# start_time = time.time()\n",
    "# squared_tensor_func = torch.square(tensor)\n",
    "# end_time = time.time()\n",
    "# print(\"Time for torch.square:\", end_time - start_time)\n",
    "\n",
    "\n",
    "# # Benchmark **2 operation\n",
    "# torch.manual_seed(0)\n",
    "# tensor = torch.rand(40000, 40000).to(device)\n",
    "# start_time = time.time()\n",
    "# squared_tensor_pow = tensor ** 2\n",
    "# end_time = time.time()\n",
    "# print(\"Time for **2:\", end_time - start_time)"
   ]
  }
 ],
 "metadata": {
  "language_info": {
   "name": "python"
  }
 },
 "nbformat": 4,
 "nbformat_minor": 2
}
