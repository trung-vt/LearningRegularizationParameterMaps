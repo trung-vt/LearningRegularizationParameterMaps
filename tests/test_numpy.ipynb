{
 "cells": [
  {
   "cell_type": "code",
   "execution_count": null,
   "metadata": {},
   "outputs": [],
   "source": [
    "def test_broadcast():\n",
    "    a = np.random.rand(3, 3, 2)\n",
    "    b = np.random.rand(3, 3)\n",
    "    b = b[..., np.newaxis]\n",
    "    return a + b\n",
    "\n",
    "print(test_broadcast())"
   ]
  }
 ],
 "metadata": {
  "language_info": {
   "name": "python"
  }
 },
 "nbformat": 4,
 "nbformat_minor": 2
}
