{
 "cells": [
  {
   "cell_type": "code",
   "execution_count": null,
   "metadata": {},
   "outputs": [],
   "source": [
    "def test_duplicate():\n",
    "    n = 3\n",
    "    a = torch.rand(n, n)\n",
    "    # Change shape to [n, n, 2]\n",
    "    a_3d = a.unsqueeze(-1).expand(-1, -1, 2)\n",
    "    print(a_3d.shape)\n",
    "    assert a_3d.shape == (n, n, 2), f\"Expected shape {(n, n, 2)}, but got {a_3d.shape}\"\n",
    "    assert torch.all(a_3d[..., 0] == a), f\"Expected a_3d[..., 0] == a, but got a_3d[..., 0] != a\"\n",
    "    assert torch.all(a_3d[..., 1] == a), f\"Expected a_3d[..., 1] == a, but got a_3d[..., 1] != a\"\n",
    "\n",
    "test_duplicate()"
   ]
  }
 ],
 "metadata": {
  "language_info": {
   "name": "python"
  }
 },
 "nbformat": 4,
 "nbformat_minor": 2
}
