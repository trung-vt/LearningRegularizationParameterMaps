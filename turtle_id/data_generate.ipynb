{
 "cells": [
  {
   "cell_type": "code",
   "execution_count": 1,
   "metadata": {},
   "outputs": [],
   "source": [
    "# import torch\n",
    "import multiprocessing # to count the number of CPU cores"
   ]
  },
  {
   "cell_type": "code",
   "execution_count": 2,
   "metadata": {},
   "outputs": [],
   "source": [
    "from data.turtle_data_generate import TurtleDataGenerator"
   ]
  },
  {
   "cell_type": "code",
   "execution_count": 3,
   "metadata": {},
   "outputs": [
    {
     "name": "stdout",
     "output_type": "stream",
     "text": [
      "Number of CPU cores: 16\n",
      "CPU-bound tasks, use few threads. num_threads = num_cores = 16\n"
     ]
    }
   ],
   "source": [
    "# Determine the number of CPU cores\n",
    "num_cores = multiprocessing.cpu_count()\n",
    "print(f\"Number of CPU cores: {num_cores}\")\n",
    "\n",
    "# Decide number of threads based on the nature of the tasks\n",
    "# For CPU-bound tasks\n",
    "num_threads = num_cores\n",
    "print(f\"CPU-bound tasks, use few threads. num_threads = num_cores = {num_threads}\")\n",
    "\n",
    "# # For I/O-bound tasks, you might want more threads\n",
    "# # num_threads = min(len(data), num_cores * 2)\n",
    "# num_threads = num_cores * 2\n",
    "# print(f\"I/O-bound tasks, use many threads. num_threads = min(len(data), num_cores * 2) = {num_threads}\")\n"
   ]
  },
  {
   "cell_type": "code",
   "execution_count": 4,
   "metadata": {},
   "outputs": [
    {
     "name": "stdout",
     "output_type": "stream",
     "text": [
      "Using 16 threads\n",
      "Using skimage.util.random_noise to add noise to images\n"
     ]
    }
   ],
   "source": [
    "# manual_seed = 42\n",
    "# torch.manual_seed(manual_seed)\n",
    "data_generator = TurtleDataGenerator(\n",
    "    turtle_data_path='../data/turtle_id_2022/turtles-data/data', \n",
    "    size=512, num_threads=num_threads,\n",
    "    # sigmas=[0.05, 0.15, 0.25],\n",
    "    sigmas=[0.05, 0.10, 0.15, 0.20, 0.25, 0.30],\n",
    ")\n",
    "# data_generator.generate_cropped_and_resized_images()"
   ]
  },
  {
   "cell_type": "code",
   "execution_count": 5,
   "metadata": {},
   "outputs": [
    {
     "name": "stdout",
     "output_type": "stream",
     "text": [
      "Multiprocessing 438 subfolders in 16 threads\n",
      "Processed 8729 images\n"
     ]
    }
   ],
   "source": [
    "data_generator.generate_cropped_and_resized_images()"
   ]
  },
  {
   "cell_type": "code",
   "execution_count": 6,
   "metadata": {},
   "outputs": [],
   "source": [
    "def test_multithreading():\n",
    "    from multiprocessing.dummy import Pool as ThreadPool\n",
    "    num_threads = 32\n",
    "    pool = ThreadPool(num_threads)\n",
    "    results = pool.map(print, range(100000))"
   ]
  },
  {
   "cell_type": "code",
   "execution_count": 7,
   "metadata": {},
   "outputs": [],
   "source": [
    "# test_multithreading()"
   ]
  },
  {
   "cell_type": "code",
   "execution_count": null,
   "metadata": {},
   "outputs": [],
   "source": []
  }
 ],
 "metadata": {
  "kernelspec": {
   "display_name": "venv_2",
   "language": "python",
   "name": "python3"
  },
  "language_info": {
   "codemirror_mode": {
    "name": "ipython",
    "version": 3
   },
   "file_extension": ".py",
   "mimetype": "text/x-python",
   "name": "python",
   "nbconvert_exporter": "python",
   "pygments_lexer": "ipython3",
   "version": "3.10.12"
  }
 },
 "nbformat": 4,
 "nbformat_minor": 2
}
