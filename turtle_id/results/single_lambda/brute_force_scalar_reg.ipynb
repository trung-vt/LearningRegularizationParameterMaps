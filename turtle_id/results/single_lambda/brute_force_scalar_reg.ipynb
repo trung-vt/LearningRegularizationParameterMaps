{
 "cells": [
  {
   "cell_type": "code",
   "execution_count": null,
   "metadata": {},
   "outputs": [],
   "source": [
    "from results.results import ResultGenerator\n",
    "from data.turtle_data_loading import get_file_paths, TurtleDataset\n",
    "\n",
    "import os\n",
    "import torch\n",
    "# from pytorch_msssim import ssim # This cpu SSIM is a bit faster than skimage SSIM while still producing consistent results.\n",
    "from skimage.metrics import peak_signal_noise_ratio # skimage PSNR is surprisingly fast, only a bit slower than ignite cuda PSNR\n",
    "from skimage.metrics import structural_similarity # assumed as standard \n",
    "import numpy as np\n",
    "from pprint import pprint\n",
    "\n",
    "\n",
    "import warnings\n",
    "warnings.filterwarnings(\"ignore\")\n",
    "\n",
    "import sys\n",
    "\n",
    "# Function to suppress stdout and stderr\n",
    "class SuppressOutput:\n",
    "    def __enter__(self):\n",
    "        self._original_stdout = sys.stdout\n",
    "        self._original_stderr = sys.stderr\n",
    "        self._original_stdout_fd = sys.stdout.fileno()\n",
    "        self._original_stderr_fd = sys.stderr.fileno()\n",
    "\n",
    "        self._null_fd = os.open(os.devnull, os.O_RDWR)\n",
    "        os.dup2(self._null_fd, self._original_stdout_fd)\n",
    "        os.dup2(self._null_fd, self._original_stderr_fd)\n",
    "\n",
    "    def __exit__(self, exc_type, exc_val, exc_tb):\n",
    "        os.dup2(self._original_stdout_fd, self._original_stdout_fd)\n",
    "        os.dup2(self._original_stderr_fd, self._original_stderr_fd)\n",
    "        os.close(self._null_fd)\n",
    "        sys.stdout = self._original_stdout\n",
    "        sys.stderr = self._original_stderr"
   ]
  },
  {
   "cell_type": "code",
   "execution_count": null,
   "metadata": {},
   "outputs": [],
   "source": [
    "upper_level = \"../..\"\n",
    "\n",
    "data_path=f\"{upper_level}/../data/turtle_id_2022/turtles-data/data\"\n",
    "\n",
    "result_path = \"../test\"\n",
    "os.makedirs(result_path, exist_ok=True)\n",
    "\n",
    "# \"T\": 128, \"train_num_samples\": 500, \"val_num_samples\": 50, \"resize_square\": 256, \"sigmas\": \"[0.05, 0.1, 0.15, 0.2, 0.25, 0.3]\", \"init_filters\": 32, \"n_blocks\": 3,\n",
    "model_path=f\"{upper_level}/tmp_2/model-turtle_id_2022-2024_06_21_14_31_50/model_epoch_30.pt\"\n",
    "\n",
    "size = 256\n",
    "num_samples = 0 # 0 for all\n",
    "\n",
    "sigmas = [0.05, 0.1, 0.15, 0.2, 0.25, 0.3]\n",
    "\n",
    "default_device = \"cuda\"\n",
    "torch.set_default_device(default_device)"
   ]
  },
  {
   "cell_type": "code",
   "execution_count": null,
   "metadata": {},
   "outputs": [],
   "source": [
    "!pwd"
   ]
  },
  {
   "cell_type": "code",
   "execution_count": null,
   "metadata": {},
   "outputs": [],
   "source": [
    "file_paths = get_file_paths(data_path, \"test\", num_samples, sigmas, size)"
   ]
  },
  {
   "cell_type": "code",
   "execution_count": null,
   "metadata": {},
   "outputs": [],
   "source": [
    "# pprint(file_paths)"
   ]
  },
  {
   "cell_type": "code",
   "execution_count": null,
   "metadata": {},
   "outputs": [],
   "source": [
    "test_dataset = TurtleDataset(data_path, file_paths, default_device)"
   ]
  },
  {
   "cell_type": "code",
   "execution_count": null,
   "metadata": {},
   "outputs": [],
   "source": [
    "def compare(noisy_4d, clean_4d):\n",
    "    clean_np = clean_4d.squeeze(-1).squeeze(0).detach().cpu().numpy()\n",
    "    noisy_np = noisy_4d.squeeze(-1).squeeze(0).detach().cpu().numpy()\n",
    "    \n",
    "    mse_val = ((clean_np - noisy_np) ** 2).mean()\n",
    "    psnr_val = peak_signal_noise_ratio(clean_np, noisy_np, data_range=1)\n",
    "    ssim_val = structural_similarity(clean_np, noisy_np, data_range=1)\n",
    "    \n",
    "    return mse_val, psnr_val, ssim_val"
   ]
  },
  {
   "cell_type": "code",
   "execution_count": null,
   "metadata": {},
   "outputs": [],
   "source": [
    "result_generator = ResultGenerator(\n",
    "    model_path,\n",
    "    min_lambda=0, max_lambda=0.4, num_lambdas=81,\n",
    "    cmp_func=compare, saving_denoised=True,\n",
    "    in_path=data_path, out_path=result_path,\n",
    "    file_paths=file_paths, returning_denoised_PILs=False,\n",
    ")"
   ]
  },
  {
   "cell_type": "code",
   "execution_count": null,
   "metadata": {},
   "outputs": [],
   "source": [
    "with SuppressOutput():\n",
    "    results = result_generator.process_samples(num_threads=16)"
   ]
  },
  {
   "cell_type": "code",
   "execution_count": null,
   "metadata": {},
   "outputs": [],
   "source": [
    "ar = [1, 2, 3]\n",
    "ar_np = np.array(ar)\n",
    "ar_np_2 = np.array(ar_np)\n",
    "print(ar_np)\n",
    "print(ar_np_2)"
   ]
  }
 ],
 "metadata": {
  "kernelspec": {
   "display_name": "venv_2",
   "language": "python",
   "name": "python3"
  },
  "language_info": {
   "codemirror_mode": {
    "name": "ipython",
    "version": 3
   },
   "file_extension": ".py",
   "mimetype": "text/x-python",
   "name": "python",
   "nbconvert_exporter": "python",
   "pygments_lexer": "ipython3",
   "version": "3.10.12"
  }
 },
 "nbformat": 4,
 "nbformat_minor": 2
}
