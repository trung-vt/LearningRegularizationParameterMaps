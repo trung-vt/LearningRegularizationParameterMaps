{
 "cells": [
  {
   "cell_type": "code",
   "execution_count": 1,
   "metadata": {},
   "outputs": [
    {
     "name": "stdout",
     "output_type": "stream",
     "text": [
      "Importing torch ...\n",
      "Imported torch in 8.96 seconds\n",
      "Using new version 2 of turtle_data_generate.py\n"
     ]
    }
   ],
   "source": [
    "import os\n",
    "from pprint import pprint\n",
    "import time\n",
    "import numpy as np\n",
    "# from tqdm import tqdm\n",
    "from tqdm.notebook import tqdm\n",
    "import matplotlib.pyplot as plt\n",
    "import pandas as pd\n",
    "from PIL import Image\n",
    "import img2pdf\n",
    "import plotly.express as px\n",
    "import seaborn as sns\n",
    "\n",
    "print(\"Importing torch ...\")\n",
    "begin = time.time()\n",
    "import torch\n",
    "print(\"Imported torch in {:.2f} seconds\".format(time.time() - begin))\n",
    "\n",
    "import logging\n",
    "logging.basicConfig(level=logging.WARNING)\n",
    "\n",
    "from data.turtle_data_loading import get_file_paths, TurtleDataset"
   ]
  },
  {
   "cell_type": "code",
   "execution_count": 2,
   "metadata": {},
   "outputs": [],
   "source": [
    "default_device = \"cuda\"\n",
    "torch.set_default_device(default_device)"
   ]
  },
  {
   "cell_type": "code",
   "execution_count": 3,
   "metadata": {},
   "outputs": [],
   "source": [
    "from turtle_id_test_config import data_path\n",
    "\n",
    "from turtle_id_test_config import test_scalar_reg_path, test_reg_map_path\n",
    "\n",
    "from turtle_id_test_config import data_path, upper_level\n",
    "import turtle_id_test_config\n",
    "\n",
    "# data_group = \"train\"\n",
    "data_group = \"test\"\n",
    "\n",
    "# https://wandb.ai/wof/turtle_id_2022/runs/cfbkuz9y\n",
    "model_date, epoch = \"06_24_19_56_05\", 50\n",
    "\n",
    "test_reg_map_results_path = f\"{test_reg_map_path}/{model_date}-{epoch}/{data_group}\"\n",
    "\n",
    "model_path=f\"{upper_level}/models/model-turtle_id_2022-2024_{model_date}/model_epoch_{epoch}.pt\""
   ]
  },
  {
   "cell_type": "code",
   "execution_count": 4,
   "metadata": {},
   "outputs": [],
   "source": [
    "num_samples = 1 # 0 for all\n",
    "size = 256\n",
    "# size = 512\n",
    "sigmas = [0.05, 0.1, 0.15, 0.2, 0.25, 0.3]\n",
    "# sigmas = [0.05]"
   ]
  },
  {
   "cell_type": "code",
   "execution_count": 5,
   "metadata": {},
   "outputs": [],
   "source": [
    "# file_paths:dict = get_file_paths(data_path, \"test\", num_samples, sigmas, size)\n",
    "file_paths:dict = {\n",
    "    0: ['images_crop_resize_256_greyscale/t008/PaXakrkxqN.JPG'],\n",
    "    0.05: ['images_crop_resize_256_greyscale_noisy_0_05/t008/PaXakrkxqN.JPG'],\n",
    "    0.1: ['images_crop_resize_256_greyscale_noisy_0_1/t008/PaXakrkxqN.JPG'],\n",
    "    0.15: ['images_crop_resize_256_greyscale_noisy_0_15/t008/PaXakrkxqN.JPG'],\n",
    "    0.2: ['images_crop_resize_256_greyscale_noisy_0_2/t008/PaXakrkxqN.JPG'],\n",
    "    0.25: ['images_crop_resize_256_greyscale_noisy_0_25/t008/PaXakrkxqN.JPG'],\n",
    "    0.3: ['images_crop_resize_256_greyscale_noisy_0_3/t008/PaXakrkxqN.JPG'],\n",
    "}"
   ]
  },
  {
   "cell_type": "code",
   "execution_count": 6,
   "metadata": {},
   "outputs": [],
   "source": [
    "# pprint(file_paths)"
   ]
  },
  {
   "cell_type": "code",
   "execution_count": 7,
   "metadata": {},
   "outputs": [],
   "source": [
    "# file_paths is a dict with keys the sigmas and values the list of file paths\n",
    "# Check that every list has the same length\n",
    "for key in file_paths.keys():\n",
    "    assert len(file_paths[key]) == num_samples"
   ]
  },
  {
   "cell_type": "code",
   "execution_count": 8,
   "metadata": {},
   "outputs": [],
   "source": [
    "# test_dataset = TurtleDataset(data_path, file_paths, default_device)"
   ]
  },
  {
   "cell_type": "code",
   "execution_count": 9,
   "metadata": {},
   "outputs": [],
   "source": [
    "# assert len(test_dataset) == num_samples * len(sigmas), f\"len(test_dataset)={len(test_dataset)} != {num_samples} * {len(sigmas)}\""
   ]
  },
  {
   "cell_type": "code",
   "execution_count": 10,
   "metadata": {},
   "outputs": [],
   "source": [
    "def apply_to_files(func):\n",
    "    results = []\n",
    "    for sigma in tqdm(sigmas):\n",
    "        print(f\"sigma={sigma}\")\n",
    "        for sample_id in tqdm(range(num_samples), \n",
    "                            #   leave=False # remove inner progress bar upon completion (as in \"don't leave it there\")\n",
    "                              ):\n",
    "            file = file_paths[sigma][sample_id]\n",
    "            extension = file.split(\".\")[-1]\n",
    "            file = file.replace(f\".{extension}\", \"\")\n",
    "            res = func(file)\n",
    "            if res is not None:\n",
    "                results.append(res)\n",
    "    return results\n",
    "            "
   ]
  },
  {
   "cell_type": "code",
   "execution_count": 11,
   "metadata": {},
   "outputs": [],
   "source": [
    "def get_best_scalar_reg_result(file:str):\n",
    "    scalar_reg_path = f\"{test_scalar_reg_path}/{file}\"\n",
    "    reg_map_path = f\"{test_reg_map_results_path}/{file}\"\n",
    "    reg_map_path_for_scalar_reg = f\"{reg_map_path}/scalar\"\n",
    "    os.makedirs(reg_map_path_for_scalar_reg, exist_ok=True)\n",
    "    \n",
    "    # Read csv containing results for the current sample using scalar regularization parameter lambda\n",
    "    results_csv = f\"{scalar_reg_path}/results.csv\"\n",
    "    df = pd.read_csv(results_csv)\n",
    "    # Assert there are 81 rows for 81 values of lambda from 0 to 0.4\n",
    "    assert len(df) == 81, f\"len(df)={len(df)} != 81\"\n",
    "    \n",
    "    def get_best_metric(metric:str):\n",
    "        best = df[metric].max()\n",
    "        row = df[df[metric] == best].iloc[0]\n",
    "        _lambda = row[\"lambda\"]\n",
    "        lambda_str = f\"{_lambda:.3f}\".replace(\".\", \"_\")\n",
    "        in_file_name = f\"{scalar_reg_path}/lambda_{lambda_str}\"\n",
    "        in_png_file = f\"{in_file_name}.PNG\"\n",
    "        in_pdf_file = f\"{in_file_name}.pdf\"\n",
    "        \n",
    "        out_file_name = f\"{reg_map_path_for_scalar_reg}/best_{metric}\"\n",
    "        out_png_file = f\"{out_file_name}.png\"\n",
    "        out_pdf_file = f\"{out_file_name}.pdf\"\n",
    "        \n",
    "        # Copy file from in to out\n",
    "        os.system(f\"cp {in_png_file} {out_png_file}\")\n",
    "        os.system(f\"cp {in_pdf_file} {out_pdf_file}\")\n",
    "        row_df = pd.DataFrame([row])\n",
    "        row_df.to_csv(f\"{out_file_name}.csv\", index=False)\n",
    "        \n",
    "    get_best_metric(\"PSNR\")\n",
    "    get_best_metric(\"SSIM\")"
   ]
  },
  {
   "cell_type": "code",
   "execution_count": 12,
   "metadata": {},
   "outputs": [
    {
     "data": {
      "application/vnd.jupyter.widget-view+json": {
       "model_id": "15243e20e1ae44c581b394e154839c52",
       "version_major": 2,
       "version_minor": 0
      },
      "text/plain": [
       "  0%|          | 0/6 [00:00<?, ?it/s]"
      ]
     },
     "metadata": {},
     "output_type": "display_data"
    },
    {
     "name": "stdout",
     "output_type": "stream",
     "text": [
      "sigma=0.05\n"
     ]
    },
    {
     "data": {
      "application/vnd.jupyter.widget-view+json": {
       "model_id": "077a1d96e33f4a21a8c1f0adc2da8a94",
       "version_major": 2,
       "version_minor": 0
      },
      "text/plain": [
       "  0%|          | 0/1 [00:00<?, ?it/s]"
      ]
     },
     "metadata": {},
     "output_type": "display_data"
    },
    {
     "name": "stdout",
     "output_type": "stream",
     "text": [
      "sigma=0.1\n"
     ]
    },
    {
     "data": {
      "application/vnd.jupyter.widget-view+json": {
       "model_id": "2e09f0dd827e493190ecba6dcae35f57",
       "version_major": 2,
       "version_minor": 0
      },
      "text/plain": [
       "  0%|          | 0/1 [00:00<?, ?it/s]"
      ]
     },
     "metadata": {},
     "output_type": "display_data"
    },
    {
     "name": "stdout",
     "output_type": "stream",
     "text": [
      "sigma=0.15\n"
     ]
    },
    {
     "data": {
      "application/vnd.jupyter.widget-view+json": {
       "model_id": "6b97f0c53aed4e6cbea19ea8d48e8eb7",
       "version_major": 2,
       "version_minor": 0
      },
      "text/plain": [
       "  0%|          | 0/1 [00:00<?, ?it/s]"
      ]
     },
     "metadata": {},
     "output_type": "display_data"
    },
    {
     "name": "stdout",
     "output_type": "stream",
     "text": [
      "sigma=0.2\n"
     ]
    },
    {
     "data": {
      "application/vnd.jupyter.widget-view+json": {
       "model_id": "da7d3f2d3b8c4ed994031355f0938d11",
       "version_major": 2,
       "version_minor": 0
      },
      "text/plain": [
       "  0%|          | 0/1 [00:00<?, ?it/s]"
      ]
     },
     "metadata": {},
     "output_type": "display_data"
    },
    {
     "name": "stdout",
     "output_type": "stream",
     "text": [
      "sigma=0.25\n"
     ]
    },
    {
     "data": {
      "application/vnd.jupyter.widget-view+json": {
       "model_id": "c78a793a810e44bfa9d1a6691d6d80ac",
       "version_major": 2,
       "version_minor": 0
      },
      "text/plain": [
       "  0%|          | 0/1 [00:00<?, ?it/s]"
      ]
     },
     "metadata": {},
     "output_type": "display_data"
    },
    {
     "name": "stdout",
     "output_type": "stream",
     "text": [
      "sigma=0.3\n"
     ]
    },
    {
     "data": {
      "application/vnd.jupyter.widget-view+json": {
       "model_id": "b0fdaccfbb2b4c34b90e10861eeecff9",
       "version_major": 2,
       "version_minor": 0
      },
      "text/plain": [
       "  0%|          | 0/1 [00:00<?, ?it/s]"
      ]
     },
     "metadata": {},
     "output_type": "display_data"
    },
    {
     "data": {
      "text/plain": [
       "[]"
      ]
     },
     "execution_count": 12,
     "metadata": {},
     "output_type": "execute_result"
    }
   ],
   "source": [
    "apply_to_files(get_best_scalar_reg_result)"
   ]
  },
  {
   "cell_type": "code",
   "execution_count": 13,
   "metadata": {},
   "outputs": [],
   "source": [
    "def compute_metrics_diff(file:str):\n",
    "    reg_map_path = f\"{test_reg_map_results_path}/{file}\"\n",
    "    reg_map_path_for_scalar_reg = f\"{reg_map_path}/scalar\"\n",
    "    \n",
    "    # Read csv for reg map results\n",
    "    reg_map_csv = f\"{reg_map_path}/metrics.csv\"\n",
    "    df_reg_map = pd.read_csv(reg_map_csv)\n",
    "    \n",
    "    # Read csv for scalar reg results. There best_PSNR and best_SSIM\n",
    "    scalar_reg_psnr_csv = f\"{reg_map_path_for_scalar_reg}/best_PSNR.csv\"\n",
    "    scalar_reg_ssim_csv = f\"{reg_map_path_for_scalar_reg}/best_SSIM.csv\"\n",
    "    df_scalar_reg_psnr = pd.read_csv(scalar_reg_psnr_csv)\n",
    "    df_scalar_reg_ssim = pd.read_csv(scalar_reg_ssim_csv)\n",
    "    \n",
    "    # Get diff\n",
    "    diff_psnr = df_reg_map[\"PSNR\"] - df_scalar_reg_psnr[\"PSNR\"]\n",
    "    diff_ssim = df_reg_map[\"SSIM\"] - df_scalar_reg_ssim[\"SSIM\"]\n",
    "    \n",
    "    # Save diff\n",
    "    diff_csv = f\"{reg_map_path}/diff.csv\"\n",
    "    diff_df = pd.DataFrame({\"diff_PSNR\": diff_psnr, \"diff_SSIM\": diff_ssim})\n",
    "    diff_df.to_csv(diff_csv, index=False)"
   ]
  },
  {
   "cell_type": "code",
   "execution_count": 14,
   "metadata": {},
   "outputs": [
    {
     "data": {
      "application/vnd.jupyter.widget-view+json": {
       "model_id": "cb73bf1ffe39493590eae5757de43041",
       "version_major": 2,
       "version_minor": 0
      },
      "text/plain": [
       "  0%|          | 0/6 [00:00<?, ?it/s]"
      ]
     },
     "metadata": {},
     "output_type": "display_data"
    },
    {
     "name": "stdout",
     "output_type": "stream",
     "text": [
      "sigma=0.05\n"
     ]
    },
    {
     "data": {
      "application/vnd.jupyter.widget-view+json": {
       "model_id": "b3ed163d092c4528b85a5d3e7e1847b4",
       "version_major": 2,
       "version_minor": 0
      },
      "text/plain": [
       "  0%|          | 0/1 [00:00<?, ?it/s]"
      ]
     },
     "metadata": {},
     "output_type": "display_data"
    },
    {
     "name": "stdout",
     "output_type": "stream",
     "text": [
      "sigma=0.1\n"
     ]
    },
    {
     "data": {
      "application/vnd.jupyter.widget-view+json": {
       "model_id": "47f5d8feab594e90b75467a65387ba55",
       "version_major": 2,
       "version_minor": 0
      },
      "text/plain": [
       "  0%|          | 0/1 [00:00<?, ?it/s]"
      ]
     },
     "metadata": {},
     "output_type": "display_data"
    },
    {
     "name": "stdout",
     "output_type": "stream",
     "text": [
      "sigma=0.15\n"
     ]
    },
    {
     "data": {
      "application/vnd.jupyter.widget-view+json": {
       "model_id": "d99b2aa89a34407e9ff5c4384342fd0f",
       "version_major": 2,
       "version_minor": 0
      },
      "text/plain": [
       "  0%|          | 0/1 [00:00<?, ?it/s]"
      ]
     },
     "metadata": {},
     "output_type": "display_data"
    },
    {
     "name": "stdout",
     "output_type": "stream",
     "text": [
      "sigma=0.2\n"
     ]
    },
    {
     "data": {
      "application/vnd.jupyter.widget-view+json": {
       "model_id": "542bcbcdb78040e9adb2eeb1f3b94bf1",
       "version_major": 2,
       "version_minor": 0
      },
      "text/plain": [
       "  0%|          | 0/1 [00:00<?, ?it/s]"
      ]
     },
     "metadata": {},
     "output_type": "display_data"
    },
    {
     "name": "stdout",
     "output_type": "stream",
     "text": [
      "sigma=0.25\n"
     ]
    },
    {
     "data": {
      "application/vnd.jupyter.widget-view+json": {
       "model_id": "fa868e5f5a6b433d967430a32b74da35",
       "version_major": 2,
       "version_minor": 0
      },
      "text/plain": [
       "  0%|          | 0/1 [00:00<?, ?it/s]"
      ]
     },
     "metadata": {},
     "output_type": "display_data"
    },
    {
     "name": "stdout",
     "output_type": "stream",
     "text": [
      "sigma=0.3\n"
     ]
    },
    {
     "data": {
      "application/vnd.jupyter.widget-view+json": {
       "model_id": "897bdb7c3b5449e58723f3d860aac0c4",
       "version_major": 2,
       "version_minor": 0
      },
      "text/plain": [
       "  0%|          | 0/1 [00:00<?, ?it/s]"
      ]
     },
     "metadata": {},
     "output_type": "display_data"
    },
    {
     "data": {
      "text/plain": [
       "[]"
      ]
     },
     "execution_count": 14,
     "metadata": {},
     "output_type": "execute_result"
    }
   ],
   "source": [
    "apply_to_files(compute_metrics_diff)"
   ]
  },
  {
   "cell_type": "code",
   "execution_count": 15,
   "metadata": {},
   "outputs": [],
   "source": [
    "def read_diff(file:str):\n",
    "    reg_map_path = f\"{test_reg_map_results_path}/{file}\"\n",
    "    diff_csv = f\"{reg_map_path}/diff.csv\"\n",
    "    df = pd.read_csv(diff_csv)\n",
    "    assert len(df) == 1\n",
    "    return (df[\"diff_PSNR\"], df[\"diff_SSIM\"])"
   ]
  },
  {
   "cell_type": "code",
   "execution_count": 16,
   "metadata": {},
   "outputs": [],
   "source": [
    "def get_diffs():\n",
    "    diffs = apply_to_files(read_diff)\n",
    "    diffs = np.array(diffs)\n",
    "    diffs_psnr = diffs[:, 0]\n",
    "    diffs_ssim = diffs[:, 1]\n",
    "    return diffs_psnr, diffs_ssim"
   ]
  },
  {
   "cell_type": "code",
   "execution_count": 17,
   "metadata": {},
   "outputs": [
    {
     "data": {
      "application/vnd.jupyter.widget-view+json": {
       "model_id": "d155f98357304d56b596c964f99c0759",
       "version_major": 2,
       "version_minor": 0
      },
      "text/plain": [
       "  0%|          | 0/6 [00:00<?, ?it/s]"
      ]
     },
     "metadata": {},
     "output_type": "display_data"
    },
    {
     "name": "stdout",
     "output_type": "stream",
     "text": [
      "sigma=0.05\n"
     ]
    },
    {
     "data": {
      "application/vnd.jupyter.widget-view+json": {
       "model_id": "8eb44ac6112f4edaacb66013abcadebf",
       "version_major": 2,
       "version_minor": 0
      },
      "text/plain": [
       "  0%|          | 0/1 [00:00<?, ?it/s]"
      ]
     },
     "metadata": {},
     "output_type": "display_data"
    },
    {
     "name": "stdout",
     "output_type": "stream",
     "text": [
      "sigma=0.1\n"
     ]
    },
    {
     "data": {
      "application/vnd.jupyter.widget-view+json": {
       "model_id": "31370fa1dab5487598e4fec7a717c484",
       "version_major": 2,
       "version_minor": 0
      },
      "text/plain": [
       "  0%|          | 0/1 [00:00<?, ?it/s]"
      ]
     },
     "metadata": {},
     "output_type": "display_data"
    },
    {
     "name": "stdout",
     "output_type": "stream",
     "text": [
      "sigma=0.15\n"
     ]
    },
    {
     "data": {
      "application/vnd.jupyter.widget-view+json": {
       "model_id": "5dc7d49a753b438481e2c8f9c1269ee1",
       "version_major": 2,
       "version_minor": 0
      },
      "text/plain": [
       "  0%|          | 0/1 [00:00<?, ?it/s]"
      ]
     },
     "metadata": {},
     "output_type": "display_data"
    },
    {
     "name": "stdout",
     "output_type": "stream",
     "text": [
      "sigma=0.2\n"
     ]
    },
    {
     "data": {
      "application/vnd.jupyter.widget-view+json": {
       "model_id": "3ba7c48b759c4001b3cd1d32109950b9",
       "version_major": 2,
       "version_minor": 0
      },
      "text/plain": [
       "  0%|          | 0/1 [00:00<?, ?it/s]"
      ]
     },
     "metadata": {},
     "output_type": "display_data"
    },
    {
     "name": "stdout",
     "output_type": "stream",
     "text": [
      "sigma=0.25\n"
     ]
    },
    {
     "data": {
      "application/vnd.jupyter.widget-view+json": {
       "model_id": "090d8f257cc94a29b2c726f85750155d",
       "version_major": 2,
       "version_minor": 0
      },
      "text/plain": [
       "  0%|          | 0/1 [00:00<?, ?it/s]"
      ]
     },
     "metadata": {},
     "output_type": "display_data"
    },
    {
     "name": "stdout",
     "output_type": "stream",
     "text": [
      "sigma=0.3\n"
     ]
    },
    {
     "data": {
      "application/vnd.jupyter.widget-view+json": {
       "model_id": "4e9263e2383d4466840964f814516aef",
       "version_major": 2,
       "version_minor": 0
      },
      "text/plain": [
       "  0%|          | 0/1 [00:00<?, ?it/s]"
      ]
     },
     "metadata": {},
     "output_type": "display_data"
    }
   ],
   "source": [
    "diffs_psnr, diffs_ssim = get_diffs()"
   ]
  },
  {
   "cell_type": "code",
   "execution_count": 18,
   "metadata": {},
   "outputs": [],
   "source": [
    "def plot_diffs(diffs, metric:str):\n",
    "    # fig = px.histogram(diffs, title=f\"Distribution of {metric} differences\")\n",
    "    # fig.show()\n",
    "    \n",
    "    plt.figure(figsize=(6, 4))\n",
    "    \n",
    "    # plt.hist(diffs, bins=50)\n",
    "    \n",
    "    sns.histplot(diffs, bins=50, legend=False)\n",
    "\n",
    "    plt.title(f\"Distribution of {metric} differences\")\n",
    "    plt.show();"
   ]
  },
  {
   "cell_type": "code",
   "execution_count": 19,
   "metadata": {},
   "outputs": [
    {
     "data": {
      "image/png": "[encoded data removed]",
      "text/plain": [
       "<Figure size 600x400 with 1 Axes>"
      ]
     },
     "metadata": {},
     "output_type": "display_data"
    }
   ],
   "source": [
    "plot_diffs(diffs_psnr, \"diff_PSNR\")"
   ]
  },
  {
   "cell_type": "code",
   "execution_count": 20,
   "metadata": {},
   "outputs": [
    {
     "data": {
      "image/png": "[encoded data removed]",
      "text/plain": [
       "<Figure size 600x400 with 1 Axes>"
      ]
     },
     "metadata": {},
     "output_type": "display_data"
    }
   ],
   "source": [
    "plot_diffs(diffs_ssim, \"diff_SSIM\")"
   ]
  },
  {
   "cell_type": "code",
   "execution_count": 21,
   "metadata": {},
   "outputs": [],
   "source": [
    "def get_examples():\n",
    "    max_diff_psnr = np.argmax(diffs_psnr)\n",
    "    max_diff_ssim = np.argmax(diffs_ssim)\n",
    "        \n",
    "    min_diff_psnr = np.argmin(diffs_psnr)\n",
    "    min_diff_ssim = np.argmin(diffs_ssim)\n",
    "\n",
    "    print(f\"max_diff_psnr={max_diff_psnr}, max_diff_ssim={max_diff_ssim}, min_diff_psnr={min_diff_psnr}, min_diff_ssim={min_diff_ssim}\")\n",
    "    \n",
    "    assert max_diff_psnr != max_diff_ssim\n",
    "    assert min_diff_psnr != min_diff_ssim    "
   ]
  },
  {
   "cell_type": "code",
   "execution_count": 22,
   "metadata": {},
   "outputs": [
    {
     "name": "stdout",
     "output_type": "stream",
     "text": [
      "max_diff_psnr=1, max_diff_ssim=2, min_diff_psnr=5, min_diff_ssim=0\n"
     ]
    }
   ],
   "source": [
    "get_examples()"
   ]
  },
  {
   "cell_type": "code",
   "execution_count": 23,
   "metadata": {},
   "outputs": [],
   "source": [
    "# # Fix some values\n",
    "# good_psnr = 200\n",
    "# good_ssim = 343\n",
    "# bad = 44\n",
    "# first = 0\n",
    "\n",
    "good_psnr = 0\n",
    "good_ssim = 41\n",
    "bad = 95"
   ]
  },
  {
   "cell_type": "code",
   "execution_count": 24,
   "metadata": {},
   "outputs": [],
   "source": [
    "def get_file_name(idx:int):\n",
    "    sigma_idx = idx % len(sigmas)\n",
    "    sigma = sigmas[sigma_idx]\n",
    "    sample_id = idx // len(sigmas)\n",
    "    file = file_paths[sigma][sample_id]\n",
    "    return file"
   ]
  },
  {
   "cell_type": "code",
   "execution_count": 25,
   "metadata": {},
   "outputs": [],
   "source": [
    "example_file = get_file_name(good_psnr)"
   ]
  },
  {
   "cell_type": "code",
   "execution_count": 26,
   "metadata": {},
   "outputs": [
    {
     "name": "stdout",
     "output_type": "stream",
     "text": [
      "example_file=images_crop_resize_256_greyscale_noisy_0_05/t008/PaXakrkxqN.JPG\n"
     ]
    }
   ],
   "source": [
    "print(f\"example_file={example_file}\")"
   ]
  },
  {
   "cell_type": "code",
   "execution_count": 27,
   "metadata": {},
   "outputs": [],
   "source": [
    "good_psnr_sample_id = good_psnr // num_samples"
   ]
  },
  {
   "cell_type": "code",
   "execution_count": null,
   "metadata": {},
   "outputs": [],
   "source": []
  }
 ],
 "metadata": {
  "kernelspec": {
   "display_name": "venv_2",
   "language": "python",
   "name": "python3"
  },
  "language_info": {
   "codemirror_mode": {
    "name": "ipython",
    "version": 3
   },
   "file_extension": ".py",
   "mimetype": "text/x-python",
   "name": "python",
   "nbconvert_exporter": "python",
   "pygments_lexer": "ipython3",
   "version": "3.10.12"
  }
 },
 "nbformat": 4,
 "nbformat_minor": 2
}
